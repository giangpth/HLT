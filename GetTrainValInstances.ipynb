{
  "nbformat": 4,
  "nbformat_minor": 0,
  "metadata": {
    "colab": {
      "name": "GetTrainValInstances.ipynb",
      "provenance": [],
      "collapsed_sections": []
    },
    "kernelspec": {
      "display_name": "Python 3",
      "name": "python3"
    },
    "language_info": {
      "name": "python"
    },
    "accelerator": "TPU",
    "widgets": {
      "application/vnd.jupyter.widget-state+json": {
        "a369379397d544bdadb4e45bd15b1ee2": {
          "model_module": "@jupyter-widgets/controls",
          "model_name": "HBoxModel",
          "model_module_version": "1.5.0",
          "state": {
            "_view_name": "HBoxView",
            "_dom_classes": [],
            "_model_name": "HBoxModel",
            "_view_module": "@jupyter-widgets/controls",
            "_model_module_version": "1.5.0",
            "_view_count": null,
            "_view_module_version": "1.5.0",
            "box_style": "",
            "layout": "IPY_MODEL_ed09c924261e405bbe390e3123e55410",
            "_model_module": "@jupyter-widgets/controls",
            "children": [
              "IPY_MODEL_f1a63ee67cc144eb89aa3b34e09a2e02",
              "IPY_MODEL_90cefe955cef41b68b2aa69e94498800",
              "IPY_MODEL_05366a147f3f4712a8f453dff2a749ce"
            ]
          }
        },
        "ed09c924261e405bbe390e3123e55410": {
          "model_module": "@jupyter-widgets/base",
          "model_name": "LayoutModel",
          "model_module_version": "1.2.0",
          "state": {
            "_view_name": "LayoutView",
            "grid_template_rows": null,
            "right": null,
            "justify_content": null,
            "_view_module": "@jupyter-widgets/base",
            "overflow": null,
            "_model_module_version": "1.2.0",
            "_view_count": null,
            "flex_flow": null,
            "width": null,
            "min_width": null,
            "border": null,
            "align_items": null,
            "bottom": null,
            "_model_module": "@jupyter-widgets/base",
            "top": null,
            "grid_column": null,
            "overflow_y": null,
            "overflow_x": null,
            "grid_auto_flow": null,
            "grid_area": null,
            "grid_template_columns": null,
            "flex": null,
            "_model_name": "LayoutModel",
            "justify_items": null,
            "grid_row": null,
            "max_height": null,
            "align_content": null,
            "visibility": null,
            "align_self": null,
            "height": null,
            "min_height": null,
            "padding": null,
            "grid_auto_rows": null,
            "grid_gap": null,
            "max_width": null,
            "order": null,
            "_view_module_version": "1.2.0",
            "grid_template_areas": null,
            "object_position": null,
            "object_fit": null,
            "grid_auto_columns": null,
            "margin": null,
            "display": null,
            "left": null
          }
        },
        "f1a63ee67cc144eb89aa3b34e09a2e02": {
          "model_module": "@jupyter-widgets/controls",
          "model_name": "HTMLModel",
          "model_module_version": "1.5.0",
          "state": {
            "_view_name": "HTMLView",
            "style": "IPY_MODEL_0d1f8ba7a42a4e34a681e3ef0297f63f",
            "_dom_classes": [],
            "description": "",
            "_model_name": "HTMLModel",
            "placeholder": "​",
            "_view_module": "@jupyter-widgets/controls",
            "_model_module_version": "1.5.0",
            "value": "Downloading: 100%",
            "_view_count": null,
            "_view_module_version": "1.5.0",
            "description_tooltip": null,
            "_model_module": "@jupyter-widgets/controls",
            "layout": "IPY_MODEL_4dc63a1d8bf744369f9de57a5b8ae53b"
          }
        },
        "90cefe955cef41b68b2aa69e94498800": {
          "model_module": "@jupyter-widgets/controls",
          "model_name": "FloatProgressModel",
          "model_module_version": "1.5.0",
          "state": {
            "_view_name": "ProgressView",
            "style": "IPY_MODEL_5057921e6872423bb1780b9dabbdf081",
            "_dom_classes": [],
            "description": "",
            "_model_name": "FloatProgressModel",
            "bar_style": "success",
            "max": 28,
            "_view_module": "@jupyter-widgets/controls",
            "_model_module_version": "1.5.0",
            "value": 28,
            "_view_count": null,
            "_view_module_version": "1.5.0",
            "orientation": "horizontal",
            "min": 0,
            "description_tooltip": null,
            "_model_module": "@jupyter-widgets/controls",
            "layout": "IPY_MODEL_66bb3d1c3ea8485ba4ad91ec0dfb2441"
          }
        },
        "05366a147f3f4712a8f453dff2a749ce": {
          "model_module": "@jupyter-widgets/controls",
          "model_name": "HTMLModel",
          "model_module_version": "1.5.0",
          "state": {
            "_view_name": "HTMLView",
            "style": "IPY_MODEL_168aa80e0bbf40a4a7816201277edf8f",
            "_dom_classes": [],
            "description": "",
            "_model_name": "HTMLModel",
            "placeholder": "​",
            "_view_module": "@jupyter-widgets/controls",
            "_model_module_version": "1.5.0",
            "value": " 28.0/28.0 [00:00&lt;00:00, 368B/s]",
            "_view_count": null,
            "_view_module_version": "1.5.0",
            "description_tooltip": null,
            "_model_module": "@jupyter-widgets/controls",
            "layout": "IPY_MODEL_0b2d2bf3fd084c79b0e8efa4f7cc22b3"
          }
        },
        "0d1f8ba7a42a4e34a681e3ef0297f63f": {
          "model_module": "@jupyter-widgets/controls",
          "model_name": "DescriptionStyleModel",
          "model_module_version": "1.5.0",
          "state": {
            "_view_name": "StyleView",
            "_model_name": "DescriptionStyleModel",
            "description_width": "",
            "_view_module": "@jupyter-widgets/base",
            "_model_module_version": "1.5.0",
            "_view_count": null,
            "_view_module_version": "1.2.0",
            "_model_module": "@jupyter-widgets/controls"
          }
        },
        "4dc63a1d8bf744369f9de57a5b8ae53b": {
          "model_module": "@jupyter-widgets/base",
          "model_name": "LayoutModel",
          "model_module_version": "1.2.0",
          "state": {
            "_view_name": "LayoutView",
            "grid_template_rows": null,
            "right": null,
            "justify_content": null,
            "_view_module": "@jupyter-widgets/base",
            "overflow": null,
            "_model_module_version": "1.2.0",
            "_view_count": null,
            "flex_flow": null,
            "width": null,
            "min_width": null,
            "border": null,
            "align_items": null,
            "bottom": null,
            "_model_module": "@jupyter-widgets/base",
            "top": null,
            "grid_column": null,
            "overflow_y": null,
            "overflow_x": null,
            "grid_auto_flow": null,
            "grid_area": null,
            "grid_template_columns": null,
            "flex": null,
            "_model_name": "LayoutModel",
            "justify_items": null,
            "grid_row": null,
            "max_height": null,
            "align_content": null,
            "visibility": null,
            "align_self": null,
            "height": null,
            "min_height": null,
            "padding": null,
            "grid_auto_rows": null,
            "grid_gap": null,
            "max_width": null,
            "order": null,
            "_view_module_version": "1.2.0",
            "grid_template_areas": null,
            "object_position": null,
            "object_fit": null,
            "grid_auto_columns": null,
            "margin": null,
            "display": null,
            "left": null
          }
        },
        "5057921e6872423bb1780b9dabbdf081": {
          "model_module": "@jupyter-widgets/controls",
          "model_name": "ProgressStyleModel",
          "model_module_version": "1.5.0",
          "state": {
            "_view_name": "StyleView",
            "_model_name": "ProgressStyleModel",
            "description_width": "",
            "_view_module": "@jupyter-widgets/base",
            "_model_module_version": "1.5.0",
            "_view_count": null,
            "_view_module_version": "1.2.0",
            "bar_color": null,
            "_model_module": "@jupyter-widgets/controls"
          }
        },
        "66bb3d1c3ea8485ba4ad91ec0dfb2441": {
          "model_module": "@jupyter-widgets/base",
          "model_name": "LayoutModel",
          "model_module_version": "1.2.0",
          "state": {
            "_view_name": "LayoutView",
            "grid_template_rows": null,
            "right": null,
            "justify_content": null,
            "_view_module": "@jupyter-widgets/base",
            "overflow": null,
            "_model_module_version": "1.2.0",
            "_view_count": null,
            "flex_flow": null,
            "width": null,
            "min_width": null,
            "border": null,
            "align_items": null,
            "bottom": null,
            "_model_module": "@jupyter-widgets/base",
            "top": null,
            "grid_column": null,
            "overflow_y": null,
            "overflow_x": null,
            "grid_auto_flow": null,
            "grid_area": null,
            "grid_template_columns": null,
            "flex": null,
            "_model_name": "LayoutModel",
            "justify_items": null,
            "grid_row": null,
            "max_height": null,
            "align_content": null,
            "visibility": null,
            "align_self": null,
            "height": null,
            "min_height": null,
            "padding": null,
            "grid_auto_rows": null,
            "grid_gap": null,
            "max_width": null,
            "order": null,
            "_view_module_version": "1.2.0",
            "grid_template_areas": null,
            "object_position": null,
            "object_fit": null,
            "grid_auto_columns": null,
            "margin": null,
            "display": null,
            "left": null
          }
        },
        "168aa80e0bbf40a4a7816201277edf8f": {
          "model_module": "@jupyter-widgets/controls",
          "model_name": "DescriptionStyleModel",
          "model_module_version": "1.5.0",
          "state": {
            "_view_name": "StyleView",
            "_model_name": "DescriptionStyleModel",
            "description_width": "",
            "_view_module": "@jupyter-widgets/base",
            "_model_module_version": "1.5.0",
            "_view_count": null,
            "_view_module_version": "1.2.0",
            "_model_module": "@jupyter-widgets/controls"
          }
        },
        "0b2d2bf3fd084c79b0e8efa4f7cc22b3": {
          "model_module": "@jupyter-widgets/base",
          "model_name": "LayoutModel",
          "model_module_version": "1.2.0",
          "state": {
            "_view_name": "LayoutView",
            "grid_template_rows": null,
            "right": null,
            "justify_content": null,
            "_view_module": "@jupyter-widgets/base",
            "overflow": null,
            "_model_module_version": "1.2.0",
            "_view_count": null,
            "flex_flow": null,
            "width": null,
            "min_width": null,
            "border": null,
            "align_items": null,
            "bottom": null,
            "_model_module": "@jupyter-widgets/base",
            "top": null,
            "grid_column": null,
            "overflow_y": null,
            "overflow_x": null,
            "grid_auto_flow": null,
            "grid_area": null,
            "grid_template_columns": null,
            "flex": null,
            "_model_name": "LayoutModel",
            "justify_items": null,
            "grid_row": null,
            "max_height": null,
            "align_content": null,
            "visibility": null,
            "align_self": null,
            "height": null,
            "min_height": null,
            "padding": null,
            "grid_auto_rows": null,
            "grid_gap": null,
            "max_width": null,
            "order": null,
            "_view_module_version": "1.2.0",
            "grid_template_areas": null,
            "object_position": null,
            "object_fit": null,
            "grid_auto_columns": null,
            "margin": null,
            "display": null,
            "left": null
          }
        },
        "c5cabf9702194108a3faf9741b2fbab9": {
          "model_module": "@jupyter-widgets/controls",
          "model_name": "HBoxModel",
          "model_module_version": "1.5.0",
          "state": {
            "_view_name": "HBoxView",
            "_dom_classes": [],
            "_model_name": "HBoxModel",
            "_view_module": "@jupyter-widgets/controls",
            "_model_module_version": "1.5.0",
            "_view_count": null,
            "_view_module_version": "1.5.0",
            "box_style": "",
            "layout": "IPY_MODEL_ae92d49151b344c7b543c6d549f5ac37",
            "_model_module": "@jupyter-widgets/controls",
            "children": [
              "IPY_MODEL_3c818cd832604f3dbe4da90d08d10a95",
              "IPY_MODEL_070a9412d3fa4d4bbb49089b2682da30",
              "IPY_MODEL_61e9624dc23a43b8a67f4a0dcec46bac"
            ]
          }
        },
        "ae92d49151b344c7b543c6d549f5ac37": {
          "model_module": "@jupyter-widgets/base",
          "model_name": "LayoutModel",
          "model_module_version": "1.2.0",
          "state": {
            "_view_name": "LayoutView",
            "grid_template_rows": null,
            "right": null,
            "justify_content": null,
            "_view_module": "@jupyter-widgets/base",
            "overflow": null,
            "_model_module_version": "1.2.0",
            "_view_count": null,
            "flex_flow": null,
            "width": null,
            "min_width": null,
            "border": null,
            "align_items": null,
            "bottom": null,
            "_model_module": "@jupyter-widgets/base",
            "top": null,
            "grid_column": null,
            "overflow_y": null,
            "overflow_x": null,
            "grid_auto_flow": null,
            "grid_area": null,
            "grid_template_columns": null,
            "flex": null,
            "_model_name": "LayoutModel",
            "justify_items": null,
            "grid_row": null,
            "max_height": null,
            "align_content": null,
            "visibility": null,
            "align_self": null,
            "height": null,
            "min_height": null,
            "padding": null,
            "grid_auto_rows": null,
            "grid_gap": null,
            "max_width": null,
            "order": null,
            "_view_module_version": "1.2.0",
            "grid_template_areas": null,
            "object_position": null,
            "object_fit": null,
            "grid_auto_columns": null,
            "margin": null,
            "display": null,
            "left": null
          }
        },
        "3c818cd832604f3dbe4da90d08d10a95": {
          "model_module": "@jupyter-widgets/controls",
          "model_name": "HTMLModel",
          "model_module_version": "1.5.0",
          "state": {
            "_view_name": "HTMLView",
            "style": "IPY_MODEL_55c52c8330a04d779db9df4693477538",
            "_dom_classes": [],
            "description": "",
            "_model_name": "HTMLModel",
            "placeholder": "​",
            "_view_module": "@jupyter-widgets/controls",
            "_model_module_version": "1.5.0",
            "value": "Downloading: 100%",
            "_view_count": null,
            "_view_module_version": "1.5.0",
            "description_tooltip": null,
            "_model_module": "@jupyter-widgets/controls",
            "layout": "IPY_MODEL_7dffa6f8e0b7499197703fcd1dfb641a"
          }
        },
        "070a9412d3fa4d4bbb49089b2682da30": {
          "model_module": "@jupyter-widgets/controls",
          "model_name": "FloatProgressModel",
          "model_module_version": "1.5.0",
          "state": {
            "_view_name": "ProgressView",
            "style": "IPY_MODEL_1fff0aab02fc45798c5692d82648b3fb",
            "_dom_classes": [],
            "description": "",
            "_model_name": "FloatProgressModel",
            "bar_style": "success",
            "max": 570,
            "_view_module": "@jupyter-widgets/controls",
            "_model_module_version": "1.5.0",
            "value": 570,
            "_view_count": null,
            "_view_module_version": "1.5.0",
            "orientation": "horizontal",
            "min": 0,
            "description_tooltip": null,
            "_model_module": "@jupyter-widgets/controls",
            "layout": "IPY_MODEL_cf8737882f444004b3092ad96e743539"
          }
        },
        "61e9624dc23a43b8a67f4a0dcec46bac": {
          "model_module": "@jupyter-widgets/controls",
          "model_name": "HTMLModel",
          "model_module_version": "1.5.0",
          "state": {
            "_view_name": "HTMLView",
            "style": "IPY_MODEL_67e9d1b8fe7544cc9b34d09880b4b45b",
            "_dom_classes": [],
            "description": "",
            "_model_name": "HTMLModel",
            "placeholder": "​",
            "_view_module": "@jupyter-widgets/controls",
            "_model_module_version": "1.5.0",
            "value": " 570/570 [00:00&lt;00:00, 17.3kB/s]",
            "_view_count": null,
            "_view_module_version": "1.5.0",
            "description_tooltip": null,
            "_model_module": "@jupyter-widgets/controls",
            "layout": "IPY_MODEL_21de22031c2443d89604dd93f117a3aa"
          }
        },
        "55c52c8330a04d779db9df4693477538": {
          "model_module": "@jupyter-widgets/controls",
          "model_name": "DescriptionStyleModel",
          "model_module_version": "1.5.0",
          "state": {
            "_view_name": "StyleView",
            "_model_name": "DescriptionStyleModel",
            "description_width": "",
            "_view_module": "@jupyter-widgets/base",
            "_model_module_version": "1.5.0",
            "_view_count": null,
            "_view_module_version": "1.2.0",
            "_model_module": "@jupyter-widgets/controls"
          }
        },
        "7dffa6f8e0b7499197703fcd1dfb641a": {
          "model_module": "@jupyter-widgets/base",
          "model_name": "LayoutModel",
          "model_module_version": "1.2.0",
          "state": {
            "_view_name": "LayoutView",
            "grid_template_rows": null,
            "right": null,
            "justify_content": null,
            "_view_module": "@jupyter-widgets/base",
            "overflow": null,
            "_model_module_version": "1.2.0",
            "_view_count": null,
            "flex_flow": null,
            "width": null,
            "min_width": null,
            "border": null,
            "align_items": null,
            "bottom": null,
            "_model_module": "@jupyter-widgets/base",
            "top": null,
            "grid_column": null,
            "overflow_y": null,
            "overflow_x": null,
            "grid_auto_flow": null,
            "grid_area": null,
            "grid_template_columns": null,
            "flex": null,
            "_model_name": "LayoutModel",
            "justify_items": null,
            "grid_row": null,
            "max_height": null,
            "align_content": null,
            "visibility": null,
            "align_self": null,
            "height": null,
            "min_height": null,
            "padding": null,
            "grid_auto_rows": null,
            "grid_gap": null,
            "max_width": null,
            "order": null,
            "_view_module_version": "1.2.0",
            "grid_template_areas": null,
            "object_position": null,
            "object_fit": null,
            "grid_auto_columns": null,
            "margin": null,
            "display": null,
            "left": null
          }
        },
        "1fff0aab02fc45798c5692d82648b3fb": {
          "model_module": "@jupyter-widgets/controls",
          "model_name": "ProgressStyleModel",
          "model_module_version": "1.5.0",
          "state": {
            "_view_name": "StyleView",
            "_model_name": "ProgressStyleModel",
            "description_width": "",
            "_view_module": "@jupyter-widgets/base",
            "_model_module_version": "1.5.0",
            "_view_count": null,
            "_view_module_version": "1.2.0",
            "bar_color": null,
            "_model_module": "@jupyter-widgets/controls"
          }
        },
        "cf8737882f444004b3092ad96e743539": {
          "model_module": "@jupyter-widgets/base",
          "model_name": "LayoutModel",
          "model_module_version": "1.2.0",
          "state": {
            "_view_name": "LayoutView",
            "grid_template_rows": null,
            "right": null,
            "justify_content": null,
            "_view_module": "@jupyter-widgets/base",
            "overflow": null,
            "_model_module_version": "1.2.0",
            "_view_count": null,
            "flex_flow": null,
            "width": null,
            "min_width": null,
            "border": null,
            "align_items": null,
            "bottom": null,
            "_model_module": "@jupyter-widgets/base",
            "top": null,
            "grid_column": null,
            "overflow_y": null,
            "overflow_x": null,
            "grid_auto_flow": null,
            "grid_area": null,
            "grid_template_columns": null,
            "flex": null,
            "_model_name": "LayoutModel",
            "justify_items": null,
            "grid_row": null,
            "max_height": null,
            "align_content": null,
            "visibility": null,
            "align_self": null,
            "height": null,
            "min_height": null,
            "padding": null,
            "grid_auto_rows": null,
            "grid_gap": null,
            "max_width": null,
            "order": null,
            "_view_module_version": "1.2.0",
            "grid_template_areas": null,
            "object_position": null,
            "object_fit": null,
            "grid_auto_columns": null,
            "margin": null,
            "display": null,
            "left": null
          }
        },
        "67e9d1b8fe7544cc9b34d09880b4b45b": {
          "model_module": "@jupyter-widgets/controls",
          "model_name": "DescriptionStyleModel",
          "model_module_version": "1.5.0",
          "state": {
            "_view_name": "StyleView",
            "_model_name": "DescriptionStyleModel",
            "description_width": "",
            "_view_module": "@jupyter-widgets/base",
            "_model_module_version": "1.5.0",
            "_view_count": null,
            "_view_module_version": "1.2.0",
            "_model_module": "@jupyter-widgets/controls"
          }
        },
        "21de22031c2443d89604dd93f117a3aa": {
          "model_module": "@jupyter-widgets/base",
          "model_name": "LayoutModel",
          "model_module_version": "1.2.0",
          "state": {
            "_view_name": "LayoutView",
            "grid_template_rows": null,
            "right": null,
            "justify_content": null,
            "_view_module": "@jupyter-widgets/base",
            "overflow": null,
            "_model_module_version": "1.2.0",
            "_view_count": null,
            "flex_flow": null,
            "width": null,
            "min_width": null,
            "border": null,
            "align_items": null,
            "bottom": null,
            "_model_module": "@jupyter-widgets/base",
            "top": null,
            "grid_column": null,
            "overflow_y": null,
            "overflow_x": null,
            "grid_auto_flow": null,
            "grid_area": null,
            "grid_template_columns": null,
            "flex": null,
            "_model_name": "LayoutModel",
            "justify_items": null,
            "grid_row": null,
            "max_height": null,
            "align_content": null,
            "visibility": null,
            "align_self": null,
            "height": null,
            "min_height": null,
            "padding": null,
            "grid_auto_rows": null,
            "grid_gap": null,
            "max_width": null,
            "order": null,
            "_view_module_version": "1.2.0",
            "grid_template_areas": null,
            "object_position": null,
            "object_fit": null,
            "grid_auto_columns": null,
            "margin": null,
            "display": null,
            "left": null
          }
        },
        "9cf82917666245ada5bb0f84e976d269": {
          "model_module": "@jupyter-widgets/controls",
          "model_name": "HBoxModel",
          "model_module_version": "1.5.0",
          "state": {
            "_view_name": "HBoxView",
            "_dom_classes": [],
            "_model_name": "HBoxModel",
            "_view_module": "@jupyter-widgets/controls",
            "_model_module_version": "1.5.0",
            "_view_count": null,
            "_view_module_version": "1.5.0",
            "box_style": "",
            "layout": "IPY_MODEL_df606fa321354f87907c981e438e935c",
            "_model_module": "@jupyter-widgets/controls",
            "children": [
              "IPY_MODEL_ad3a11ddc42f4be0b7b1fccd34914b4d",
              "IPY_MODEL_fe8e5b1b1af64664bb8c9521afb9b8ed",
              "IPY_MODEL_c304c69e35fd4f2abeb6ae08035dca83"
            ]
          }
        },
        "df606fa321354f87907c981e438e935c": {
          "model_module": "@jupyter-widgets/base",
          "model_name": "LayoutModel",
          "model_module_version": "1.2.0",
          "state": {
            "_view_name": "LayoutView",
            "grid_template_rows": null,
            "right": null,
            "justify_content": null,
            "_view_module": "@jupyter-widgets/base",
            "overflow": null,
            "_model_module_version": "1.2.0",
            "_view_count": null,
            "flex_flow": null,
            "width": null,
            "min_width": null,
            "border": null,
            "align_items": null,
            "bottom": null,
            "_model_module": "@jupyter-widgets/base",
            "top": null,
            "grid_column": null,
            "overflow_y": null,
            "overflow_x": null,
            "grid_auto_flow": null,
            "grid_area": null,
            "grid_template_columns": null,
            "flex": null,
            "_model_name": "LayoutModel",
            "justify_items": null,
            "grid_row": null,
            "max_height": null,
            "align_content": null,
            "visibility": null,
            "align_self": null,
            "height": null,
            "min_height": null,
            "padding": null,
            "grid_auto_rows": null,
            "grid_gap": null,
            "max_width": null,
            "order": null,
            "_view_module_version": "1.2.0",
            "grid_template_areas": null,
            "object_position": null,
            "object_fit": null,
            "grid_auto_columns": null,
            "margin": null,
            "display": null,
            "left": null
          }
        },
        "ad3a11ddc42f4be0b7b1fccd34914b4d": {
          "model_module": "@jupyter-widgets/controls",
          "model_name": "HTMLModel",
          "model_module_version": "1.5.0",
          "state": {
            "_view_name": "HTMLView",
            "style": "IPY_MODEL_77bc3ee02e03467b8b2de65def32d62b",
            "_dom_classes": [],
            "description": "",
            "_model_name": "HTMLModel",
            "placeholder": "​",
            "_view_module": "@jupyter-widgets/controls",
            "_model_module_version": "1.5.0",
            "value": "Downloading: 100%",
            "_view_count": null,
            "_view_module_version": "1.5.0",
            "description_tooltip": null,
            "_model_module": "@jupyter-widgets/controls",
            "layout": "IPY_MODEL_12ff74d7d1574f5aae93d78c8537c05a"
          }
        },
        "fe8e5b1b1af64664bb8c9521afb9b8ed": {
          "model_module": "@jupyter-widgets/controls",
          "model_name": "FloatProgressModel",
          "model_module_version": "1.5.0",
          "state": {
            "_view_name": "ProgressView",
            "style": "IPY_MODEL_f2f93313fc984ce494a2eedf4c066765",
            "_dom_classes": [],
            "description": "",
            "_model_name": "FloatProgressModel",
            "bar_style": "success",
            "max": 231508,
            "_view_module": "@jupyter-widgets/controls",
            "_model_module_version": "1.5.0",
            "value": 231508,
            "_view_count": null,
            "_view_module_version": "1.5.0",
            "orientation": "horizontal",
            "min": 0,
            "description_tooltip": null,
            "_model_module": "@jupyter-widgets/controls",
            "layout": "IPY_MODEL_f01fa5278e814385b324148a81d2556d"
          }
        },
        "c304c69e35fd4f2abeb6ae08035dca83": {
          "model_module": "@jupyter-widgets/controls",
          "model_name": "HTMLModel",
          "model_module_version": "1.5.0",
          "state": {
            "_view_name": "HTMLView",
            "style": "IPY_MODEL_2ac37130ea4a4b549c4ba6739c2c66ae",
            "_dom_classes": [],
            "description": "",
            "_model_name": "HTMLModel",
            "placeholder": "​",
            "_view_module": "@jupyter-widgets/controls",
            "_model_module_version": "1.5.0",
            "value": " 226k/226k [00:00&lt;00:00, 904kB/s]",
            "_view_count": null,
            "_view_module_version": "1.5.0",
            "description_tooltip": null,
            "_model_module": "@jupyter-widgets/controls",
            "layout": "IPY_MODEL_8cd98a1384914b26b3183d0bf37f0eab"
          }
        },
        "77bc3ee02e03467b8b2de65def32d62b": {
          "model_module": "@jupyter-widgets/controls",
          "model_name": "DescriptionStyleModel",
          "model_module_version": "1.5.0",
          "state": {
            "_view_name": "StyleView",
            "_model_name": "DescriptionStyleModel",
            "description_width": "",
            "_view_module": "@jupyter-widgets/base",
            "_model_module_version": "1.5.0",
            "_view_count": null,
            "_view_module_version": "1.2.0",
            "_model_module": "@jupyter-widgets/controls"
          }
        },
        "12ff74d7d1574f5aae93d78c8537c05a": {
          "model_module": "@jupyter-widgets/base",
          "model_name": "LayoutModel",
          "model_module_version": "1.2.0",
          "state": {
            "_view_name": "LayoutView",
            "grid_template_rows": null,
            "right": null,
            "justify_content": null,
            "_view_module": "@jupyter-widgets/base",
            "overflow": null,
            "_model_module_version": "1.2.0",
            "_view_count": null,
            "flex_flow": null,
            "width": null,
            "min_width": null,
            "border": null,
            "align_items": null,
            "bottom": null,
            "_model_module": "@jupyter-widgets/base",
            "top": null,
            "grid_column": null,
            "overflow_y": null,
            "overflow_x": null,
            "grid_auto_flow": null,
            "grid_area": null,
            "grid_template_columns": null,
            "flex": null,
            "_model_name": "LayoutModel",
            "justify_items": null,
            "grid_row": null,
            "max_height": null,
            "align_content": null,
            "visibility": null,
            "align_self": null,
            "height": null,
            "min_height": null,
            "padding": null,
            "grid_auto_rows": null,
            "grid_gap": null,
            "max_width": null,
            "order": null,
            "_view_module_version": "1.2.0",
            "grid_template_areas": null,
            "object_position": null,
            "object_fit": null,
            "grid_auto_columns": null,
            "margin": null,
            "display": null,
            "left": null
          }
        },
        "f2f93313fc984ce494a2eedf4c066765": {
          "model_module": "@jupyter-widgets/controls",
          "model_name": "ProgressStyleModel",
          "model_module_version": "1.5.0",
          "state": {
            "_view_name": "StyleView",
            "_model_name": "ProgressStyleModel",
            "description_width": "",
            "_view_module": "@jupyter-widgets/base",
            "_model_module_version": "1.5.0",
            "_view_count": null,
            "_view_module_version": "1.2.0",
            "bar_color": null,
            "_model_module": "@jupyter-widgets/controls"
          }
        },
        "f01fa5278e814385b324148a81d2556d": {
          "model_module": "@jupyter-widgets/base",
          "model_name": "LayoutModel",
          "model_module_version": "1.2.0",
          "state": {
            "_view_name": "LayoutView",
            "grid_template_rows": null,
            "right": null,
            "justify_content": null,
            "_view_module": "@jupyter-widgets/base",
            "overflow": null,
            "_model_module_version": "1.2.0",
            "_view_count": null,
            "flex_flow": null,
            "width": null,
            "min_width": null,
            "border": null,
            "align_items": null,
            "bottom": null,
            "_model_module": "@jupyter-widgets/base",
            "top": null,
            "grid_column": null,
            "overflow_y": null,
            "overflow_x": null,
            "grid_auto_flow": null,
            "grid_area": null,
            "grid_template_columns": null,
            "flex": null,
            "_model_name": "LayoutModel",
            "justify_items": null,
            "grid_row": null,
            "max_height": null,
            "align_content": null,
            "visibility": null,
            "align_self": null,
            "height": null,
            "min_height": null,
            "padding": null,
            "grid_auto_rows": null,
            "grid_gap": null,
            "max_width": null,
            "order": null,
            "_view_module_version": "1.2.0",
            "grid_template_areas": null,
            "object_position": null,
            "object_fit": null,
            "grid_auto_columns": null,
            "margin": null,
            "display": null,
            "left": null
          }
        },
        "2ac37130ea4a4b549c4ba6739c2c66ae": {
          "model_module": "@jupyter-widgets/controls",
          "model_name": "DescriptionStyleModel",
          "model_module_version": "1.5.0",
          "state": {
            "_view_name": "StyleView",
            "_model_name": "DescriptionStyleModel",
            "description_width": "",
            "_view_module": "@jupyter-widgets/base",
            "_model_module_version": "1.5.0",
            "_view_count": null,
            "_view_module_version": "1.2.0",
            "_model_module": "@jupyter-widgets/controls"
          }
        },
        "8cd98a1384914b26b3183d0bf37f0eab": {
          "model_module": "@jupyter-widgets/base",
          "model_name": "LayoutModel",
          "model_module_version": "1.2.0",
          "state": {
            "_view_name": "LayoutView",
            "grid_template_rows": null,
            "right": null,
            "justify_content": null,
            "_view_module": "@jupyter-widgets/base",
            "overflow": null,
            "_model_module_version": "1.2.0",
            "_view_count": null,
            "flex_flow": null,
            "width": null,
            "min_width": null,
            "border": null,
            "align_items": null,
            "bottom": null,
            "_model_module": "@jupyter-widgets/base",
            "top": null,
            "grid_column": null,
            "overflow_y": null,
            "overflow_x": null,
            "grid_auto_flow": null,
            "grid_area": null,
            "grid_template_columns": null,
            "flex": null,
            "_model_name": "LayoutModel",
            "justify_items": null,
            "grid_row": null,
            "max_height": null,
            "align_content": null,
            "visibility": null,
            "align_self": null,
            "height": null,
            "min_height": null,
            "padding": null,
            "grid_auto_rows": null,
            "grid_gap": null,
            "max_width": null,
            "order": null,
            "_view_module_version": "1.2.0",
            "grid_template_areas": null,
            "object_position": null,
            "object_fit": null,
            "grid_auto_columns": null,
            "margin": null,
            "display": null,
            "left": null
          }
        },
        "05a6ffaf22f645148823ef2b63bd6146": {
          "model_module": "@jupyter-widgets/controls",
          "model_name": "HBoxModel",
          "model_module_version": "1.5.0",
          "state": {
            "_view_name": "HBoxView",
            "_dom_classes": [],
            "_model_name": "HBoxModel",
            "_view_module": "@jupyter-widgets/controls",
            "_model_module_version": "1.5.0",
            "_view_count": null,
            "_view_module_version": "1.5.0",
            "box_style": "",
            "layout": "IPY_MODEL_db625b9e5d46496eaec7fcff713bdc60",
            "_model_module": "@jupyter-widgets/controls",
            "children": [
              "IPY_MODEL_0e0c7661cc104d269876ab2fa38a8b91",
              "IPY_MODEL_bad4431f70884697a01c8b3e77c80b51",
              "IPY_MODEL_bca36da1eb6541b6b7e4bee46997d2ab"
            ]
          }
        },
        "db625b9e5d46496eaec7fcff713bdc60": {
          "model_module": "@jupyter-widgets/base",
          "model_name": "LayoutModel",
          "model_module_version": "1.2.0",
          "state": {
            "_view_name": "LayoutView",
            "grid_template_rows": null,
            "right": null,
            "justify_content": null,
            "_view_module": "@jupyter-widgets/base",
            "overflow": null,
            "_model_module_version": "1.2.0",
            "_view_count": null,
            "flex_flow": null,
            "width": null,
            "min_width": null,
            "border": null,
            "align_items": null,
            "bottom": null,
            "_model_module": "@jupyter-widgets/base",
            "top": null,
            "grid_column": null,
            "overflow_y": null,
            "overflow_x": null,
            "grid_auto_flow": null,
            "grid_area": null,
            "grid_template_columns": null,
            "flex": null,
            "_model_name": "LayoutModel",
            "justify_items": null,
            "grid_row": null,
            "max_height": null,
            "align_content": null,
            "visibility": null,
            "align_self": null,
            "height": null,
            "min_height": null,
            "padding": null,
            "grid_auto_rows": null,
            "grid_gap": null,
            "max_width": null,
            "order": null,
            "_view_module_version": "1.2.0",
            "grid_template_areas": null,
            "object_position": null,
            "object_fit": null,
            "grid_auto_columns": null,
            "margin": null,
            "display": null,
            "left": null
          }
        },
        "0e0c7661cc104d269876ab2fa38a8b91": {
          "model_module": "@jupyter-widgets/controls",
          "model_name": "HTMLModel",
          "model_module_version": "1.5.0",
          "state": {
            "_view_name": "HTMLView",
            "style": "IPY_MODEL_b9e33165e5b94848a3f368e6bd7e27f8",
            "_dom_classes": [],
            "description": "",
            "_model_name": "HTMLModel",
            "placeholder": "​",
            "_view_module": "@jupyter-widgets/controls",
            "_model_module_version": "1.5.0",
            "value": "Downloading: 100%",
            "_view_count": null,
            "_view_module_version": "1.5.0",
            "description_tooltip": null,
            "_model_module": "@jupyter-widgets/controls",
            "layout": "IPY_MODEL_0db0c9e26d394a08981e296693bacc4b"
          }
        },
        "bad4431f70884697a01c8b3e77c80b51": {
          "model_module": "@jupyter-widgets/controls",
          "model_name": "FloatProgressModel",
          "model_module_version": "1.5.0",
          "state": {
            "_view_name": "ProgressView",
            "style": "IPY_MODEL_24eb31c02446444eb89d0d3d81d168af",
            "_dom_classes": [],
            "description": "",
            "_model_name": "FloatProgressModel",
            "bar_style": "success",
            "max": 466062,
            "_view_module": "@jupyter-widgets/controls",
            "_model_module_version": "1.5.0",
            "value": 466062,
            "_view_count": null,
            "_view_module_version": "1.5.0",
            "orientation": "horizontal",
            "min": 0,
            "description_tooltip": null,
            "_model_module": "@jupyter-widgets/controls",
            "layout": "IPY_MODEL_511e91b683b34d459ce4d297e399ae24"
          }
        },
        "bca36da1eb6541b6b7e4bee46997d2ab": {
          "model_module": "@jupyter-widgets/controls",
          "model_name": "HTMLModel",
          "model_module_version": "1.5.0",
          "state": {
            "_view_name": "HTMLView",
            "style": "IPY_MODEL_4f9b25939da346b0a546cd7d4bca1833",
            "_dom_classes": [],
            "description": "",
            "_model_name": "HTMLModel",
            "placeholder": "​",
            "_view_module": "@jupyter-widgets/controls",
            "_model_module_version": "1.5.0",
            "value": " 455k/455k [00:00&lt;00:00, 1.06MB/s]",
            "_view_count": null,
            "_view_module_version": "1.5.0",
            "description_tooltip": null,
            "_model_module": "@jupyter-widgets/controls",
            "layout": "IPY_MODEL_5fb647f299664b39813d6991de77e18d"
          }
        },
        "b9e33165e5b94848a3f368e6bd7e27f8": {
          "model_module": "@jupyter-widgets/controls",
          "model_name": "DescriptionStyleModel",
          "model_module_version": "1.5.0",
          "state": {
            "_view_name": "StyleView",
            "_model_name": "DescriptionStyleModel",
            "description_width": "",
            "_view_module": "@jupyter-widgets/base",
            "_model_module_version": "1.5.0",
            "_view_count": null,
            "_view_module_version": "1.2.0",
            "_model_module": "@jupyter-widgets/controls"
          }
        },
        "0db0c9e26d394a08981e296693bacc4b": {
          "model_module": "@jupyter-widgets/base",
          "model_name": "LayoutModel",
          "model_module_version": "1.2.0",
          "state": {
            "_view_name": "LayoutView",
            "grid_template_rows": null,
            "right": null,
            "justify_content": null,
            "_view_module": "@jupyter-widgets/base",
            "overflow": null,
            "_model_module_version": "1.2.0",
            "_view_count": null,
            "flex_flow": null,
            "width": null,
            "min_width": null,
            "border": null,
            "align_items": null,
            "bottom": null,
            "_model_module": "@jupyter-widgets/base",
            "top": null,
            "grid_column": null,
            "overflow_y": null,
            "overflow_x": null,
            "grid_auto_flow": null,
            "grid_area": null,
            "grid_template_columns": null,
            "flex": null,
            "_model_name": "LayoutModel",
            "justify_items": null,
            "grid_row": null,
            "max_height": null,
            "align_content": null,
            "visibility": null,
            "align_self": null,
            "height": null,
            "min_height": null,
            "padding": null,
            "grid_auto_rows": null,
            "grid_gap": null,
            "max_width": null,
            "order": null,
            "_view_module_version": "1.2.0",
            "grid_template_areas": null,
            "object_position": null,
            "object_fit": null,
            "grid_auto_columns": null,
            "margin": null,
            "display": null,
            "left": null
          }
        },
        "24eb31c02446444eb89d0d3d81d168af": {
          "model_module": "@jupyter-widgets/controls",
          "model_name": "ProgressStyleModel",
          "model_module_version": "1.5.0",
          "state": {
            "_view_name": "StyleView",
            "_model_name": "ProgressStyleModel",
            "description_width": "",
            "_view_module": "@jupyter-widgets/base",
            "_model_module_version": "1.5.0",
            "_view_count": null,
            "_view_module_version": "1.2.0",
            "bar_color": null,
            "_model_module": "@jupyter-widgets/controls"
          }
        },
        "511e91b683b34d459ce4d297e399ae24": {
          "model_module": "@jupyter-widgets/base",
          "model_name": "LayoutModel",
          "model_module_version": "1.2.0",
          "state": {
            "_view_name": "LayoutView",
            "grid_template_rows": null,
            "right": null,
            "justify_content": null,
            "_view_module": "@jupyter-widgets/base",
            "overflow": null,
            "_model_module_version": "1.2.0",
            "_view_count": null,
            "flex_flow": null,
            "width": null,
            "min_width": null,
            "border": null,
            "align_items": null,
            "bottom": null,
            "_model_module": "@jupyter-widgets/base",
            "top": null,
            "grid_column": null,
            "overflow_y": null,
            "overflow_x": null,
            "grid_auto_flow": null,
            "grid_area": null,
            "grid_template_columns": null,
            "flex": null,
            "_model_name": "LayoutModel",
            "justify_items": null,
            "grid_row": null,
            "max_height": null,
            "align_content": null,
            "visibility": null,
            "align_self": null,
            "height": null,
            "min_height": null,
            "padding": null,
            "grid_auto_rows": null,
            "grid_gap": null,
            "max_width": null,
            "order": null,
            "_view_module_version": "1.2.0",
            "grid_template_areas": null,
            "object_position": null,
            "object_fit": null,
            "grid_auto_columns": null,
            "margin": null,
            "display": null,
            "left": null
          }
        },
        "4f9b25939da346b0a546cd7d4bca1833": {
          "model_module": "@jupyter-widgets/controls",
          "model_name": "DescriptionStyleModel",
          "model_module_version": "1.5.0",
          "state": {
            "_view_name": "StyleView",
            "_model_name": "DescriptionStyleModel",
            "description_width": "",
            "_view_module": "@jupyter-widgets/base",
            "_model_module_version": "1.5.0",
            "_view_count": null,
            "_view_module_version": "1.2.0",
            "_model_module": "@jupyter-widgets/controls"
          }
        },
        "5fb647f299664b39813d6991de77e18d": {
          "model_module": "@jupyter-widgets/base",
          "model_name": "LayoutModel",
          "model_module_version": "1.2.0",
          "state": {
            "_view_name": "LayoutView",
            "grid_template_rows": null,
            "right": null,
            "justify_content": null,
            "_view_module": "@jupyter-widgets/base",
            "overflow": null,
            "_model_module_version": "1.2.0",
            "_view_count": null,
            "flex_flow": null,
            "width": null,
            "min_width": null,
            "border": null,
            "align_items": null,
            "bottom": null,
            "_model_module": "@jupyter-widgets/base",
            "top": null,
            "grid_column": null,
            "overflow_y": null,
            "overflow_x": null,
            "grid_auto_flow": null,
            "grid_area": null,
            "grid_template_columns": null,
            "flex": null,
            "_model_name": "LayoutModel",
            "justify_items": null,
            "grid_row": null,
            "max_height": null,
            "align_content": null,
            "visibility": null,
            "align_self": null,
            "height": null,
            "min_height": null,
            "padding": null,
            "grid_auto_rows": null,
            "grid_gap": null,
            "max_width": null,
            "order": null,
            "_view_module_version": "1.2.0",
            "grid_template_areas": null,
            "object_position": null,
            "object_fit": null,
            "grid_auto_columns": null,
            "margin": null,
            "display": null,
            "left": null
          }
        },
        "87c69a2738734707893f744e3877a538": {
          "model_module": "@jupyter-widgets/controls",
          "model_name": "HBoxModel",
          "model_module_version": "1.5.0",
          "state": {
            "_view_name": "HBoxView",
            "_dom_classes": [],
            "_model_name": "HBoxModel",
            "_view_module": "@jupyter-widgets/controls",
            "_model_module_version": "1.5.0",
            "_view_count": null,
            "_view_module_version": "1.5.0",
            "box_style": "",
            "layout": "IPY_MODEL_962e346215d04bf3b96bf36df023c1ce",
            "_model_module": "@jupyter-widgets/controls",
            "children": [
              "IPY_MODEL_ff600ba80ac242a08f2038fbaad65b80",
              "IPY_MODEL_e19e50f894fd484e833039f9f668232e",
              "IPY_MODEL_7d0e33c51f9b4e21a7074bb3fb296460"
            ]
          }
        },
        "962e346215d04bf3b96bf36df023c1ce": {
          "model_module": "@jupyter-widgets/base",
          "model_name": "LayoutModel",
          "model_module_version": "1.2.0",
          "state": {
            "_view_name": "LayoutView",
            "grid_template_rows": null,
            "right": null,
            "justify_content": null,
            "_view_module": "@jupyter-widgets/base",
            "overflow": null,
            "_model_module_version": "1.2.0",
            "_view_count": null,
            "flex_flow": null,
            "width": null,
            "min_width": null,
            "border": null,
            "align_items": null,
            "bottom": null,
            "_model_module": "@jupyter-widgets/base",
            "top": null,
            "grid_column": null,
            "overflow_y": null,
            "overflow_x": null,
            "grid_auto_flow": null,
            "grid_area": null,
            "grid_template_columns": null,
            "flex": null,
            "_model_name": "LayoutModel",
            "justify_items": null,
            "grid_row": null,
            "max_height": null,
            "align_content": null,
            "visibility": null,
            "align_self": null,
            "height": null,
            "min_height": null,
            "padding": null,
            "grid_auto_rows": null,
            "grid_gap": null,
            "max_width": null,
            "order": null,
            "_view_module_version": "1.2.0",
            "grid_template_areas": null,
            "object_position": null,
            "object_fit": null,
            "grid_auto_columns": null,
            "margin": null,
            "display": null,
            "left": null
          }
        },
        "ff600ba80ac242a08f2038fbaad65b80": {
          "model_module": "@jupyter-widgets/controls",
          "model_name": "HTMLModel",
          "model_module_version": "1.5.0",
          "state": {
            "_view_name": "HTMLView",
            "style": "IPY_MODEL_0b9733c4f1814aaba73d124b9d9d070e",
            "_dom_classes": [],
            "description": "",
            "_model_name": "HTMLModel",
            "placeholder": "​",
            "_view_module": "@jupyter-widgets/controls",
            "_model_module_version": "1.5.0",
            "value": "Downloading: 100%",
            "_view_count": null,
            "_view_module_version": "1.5.0",
            "description_tooltip": null,
            "_model_module": "@jupyter-widgets/controls",
            "layout": "IPY_MODEL_5dc01c83cca74611b32249956dc67fa8"
          }
        },
        "e19e50f894fd484e833039f9f668232e": {
          "model_module": "@jupyter-widgets/controls",
          "model_name": "FloatProgressModel",
          "model_module_version": "1.5.0",
          "state": {
            "_view_name": "ProgressView",
            "style": "IPY_MODEL_5cc4a95b8ed64a9aa484164a2e94eb3b",
            "_dom_classes": [],
            "description": "",
            "_model_name": "FloatProgressModel",
            "bar_style": "success",
            "max": 536063208,
            "_view_module": "@jupyter-widgets/controls",
            "_model_module_version": "1.5.0",
            "value": 536063208,
            "_view_count": null,
            "_view_module_version": "1.5.0",
            "orientation": "horizontal",
            "min": 0,
            "description_tooltip": null,
            "_model_module": "@jupyter-widgets/controls",
            "layout": "IPY_MODEL_a03098fb45d64761a62db685e2949496"
          }
        },
        "7d0e33c51f9b4e21a7074bb3fb296460": {
          "model_module": "@jupyter-widgets/controls",
          "model_name": "HTMLModel",
          "model_module_version": "1.5.0",
          "state": {
            "_view_name": "HTMLView",
            "style": "IPY_MODEL_a57d70576b8249938af2e74f4b9fd640",
            "_dom_classes": [],
            "description": "",
            "_model_name": "HTMLModel",
            "placeholder": "​",
            "_view_module": "@jupyter-widgets/controls",
            "_model_module_version": "1.5.0",
            "value": " 511M/511M [00:16&lt;00:00, 35.4MB/s]",
            "_view_count": null,
            "_view_module_version": "1.5.0",
            "description_tooltip": null,
            "_model_module": "@jupyter-widgets/controls",
            "layout": "IPY_MODEL_d52c3679d5704810bf33d8159cefcb5b"
          }
        },
        "0b9733c4f1814aaba73d124b9d9d070e": {
          "model_module": "@jupyter-widgets/controls",
          "model_name": "DescriptionStyleModel",
          "model_module_version": "1.5.0",
          "state": {
            "_view_name": "StyleView",
            "_model_name": "DescriptionStyleModel",
            "description_width": "",
            "_view_module": "@jupyter-widgets/base",
            "_model_module_version": "1.5.0",
            "_view_count": null,
            "_view_module_version": "1.2.0",
            "_model_module": "@jupyter-widgets/controls"
          }
        },
        "5dc01c83cca74611b32249956dc67fa8": {
          "model_module": "@jupyter-widgets/base",
          "model_name": "LayoutModel",
          "model_module_version": "1.2.0",
          "state": {
            "_view_name": "LayoutView",
            "grid_template_rows": null,
            "right": null,
            "justify_content": null,
            "_view_module": "@jupyter-widgets/base",
            "overflow": null,
            "_model_module_version": "1.2.0",
            "_view_count": null,
            "flex_flow": null,
            "width": null,
            "min_width": null,
            "border": null,
            "align_items": null,
            "bottom": null,
            "_model_module": "@jupyter-widgets/base",
            "top": null,
            "grid_column": null,
            "overflow_y": null,
            "overflow_x": null,
            "grid_auto_flow": null,
            "grid_area": null,
            "grid_template_columns": null,
            "flex": null,
            "_model_name": "LayoutModel",
            "justify_items": null,
            "grid_row": null,
            "max_height": null,
            "align_content": null,
            "visibility": null,
            "align_self": null,
            "height": null,
            "min_height": null,
            "padding": null,
            "grid_auto_rows": null,
            "grid_gap": null,
            "max_width": null,
            "order": null,
            "_view_module_version": "1.2.0",
            "grid_template_areas": null,
            "object_position": null,
            "object_fit": null,
            "grid_auto_columns": null,
            "margin": null,
            "display": null,
            "left": null
          }
        },
        "5cc4a95b8ed64a9aa484164a2e94eb3b": {
          "model_module": "@jupyter-widgets/controls",
          "model_name": "ProgressStyleModel",
          "model_module_version": "1.5.0",
          "state": {
            "_view_name": "StyleView",
            "_model_name": "ProgressStyleModel",
            "description_width": "",
            "_view_module": "@jupyter-widgets/base",
            "_model_module_version": "1.5.0",
            "_view_count": null,
            "_view_module_version": "1.2.0",
            "bar_color": null,
            "_model_module": "@jupyter-widgets/controls"
          }
        },
        "a03098fb45d64761a62db685e2949496": {
          "model_module": "@jupyter-widgets/base",
          "model_name": "LayoutModel",
          "model_module_version": "1.2.0",
          "state": {
            "_view_name": "LayoutView",
            "grid_template_rows": null,
            "right": null,
            "justify_content": null,
            "_view_module": "@jupyter-widgets/base",
            "overflow": null,
            "_model_module_version": "1.2.0",
            "_view_count": null,
            "flex_flow": null,
            "width": null,
            "min_width": null,
            "border": null,
            "align_items": null,
            "bottom": null,
            "_model_module": "@jupyter-widgets/base",
            "top": null,
            "grid_column": null,
            "overflow_y": null,
            "overflow_x": null,
            "grid_auto_flow": null,
            "grid_area": null,
            "grid_template_columns": null,
            "flex": null,
            "_model_name": "LayoutModel",
            "justify_items": null,
            "grid_row": null,
            "max_height": null,
            "align_content": null,
            "visibility": null,
            "align_self": null,
            "height": null,
            "min_height": null,
            "padding": null,
            "grid_auto_rows": null,
            "grid_gap": null,
            "max_width": null,
            "order": null,
            "_view_module_version": "1.2.0",
            "grid_template_areas": null,
            "object_position": null,
            "object_fit": null,
            "grid_auto_columns": null,
            "margin": null,
            "display": null,
            "left": null
          }
        },
        "a57d70576b8249938af2e74f4b9fd640": {
          "model_module": "@jupyter-widgets/controls",
          "model_name": "DescriptionStyleModel",
          "model_module_version": "1.5.0",
          "state": {
            "_view_name": "StyleView",
            "_model_name": "DescriptionStyleModel",
            "description_width": "",
            "_view_module": "@jupyter-widgets/base",
            "_model_module_version": "1.5.0",
            "_view_count": null,
            "_view_module_version": "1.2.0",
            "_model_module": "@jupyter-widgets/controls"
          }
        },
        "d52c3679d5704810bf33d8159cefcb5b": {
          "model_module": "@jupyter-widgets/base",
          "model_name": "LayoutModel",
          "model_module_version": "1.2.0",
          "state": {
            "_view_name": "LayoutView",
            "grid_template_rows": null,
            "right": null,
            "justify_content": null,
            "_view_module": "@jupyter-widgets/base",
            "overflow": null,
            "_model_module_version": "1.2.0",
            "_view_count": null,
            "flex_flow": null,
            "width": null,
            "min_width": null,
            "border": null,
            "align_items": null,
            "bottom": null,
            "_model_module": "@jupyter-widgets/base",
            "top": null,
            "grid_column": null,
            "overflow_y": null,
            "overflow_x": null,
            "grid_auto_flow": null,
            "grid_area": null,
            "grid_template_columns": null,
            "flex": null,
            "_model_name": "LayoutModel",
            "justify_items": null,
            "grid_row": null,
            "max_height": null,
            "align_content": null,
            "visibility": null,
            "align_self": null,
            "height": null,
            "min_height": null,
            "padding": null,
            "grid_auto_rows": null,
            "grid_gap": null,
            "max_width": null,
            "order": null,
            "_view_module_version": "1.2.0",
            "grid_template_areas": null,
            "object_position": null,
            "object_fit": null,
            "grid_auto_columns": null,
            "margin": null,
            "display": null,
            "left": null
          }
        },
        "41d54a79ffed4886943601f2bf266c8f": {
          "model_module": "@jupyter-widgets/controls",
          "model_name": "HBoxModel",
          "model_module_version": "1.5.0",
          "state": {
            "_view_name": "HBoxView",
            "_dom_classes": [],
            "_model_name": "HBoxModel",
            "_view_module": "@jupyter-widgets/controls",
            "_model_module_version": "1.5.0",
            "_view_count": null,
            "_view_module_version": "1.5.0",
            "box_style": "",
            "layout": "IPY_MODEL_7cb214626b7440fdbc33669f5d2dd348",
            "_model_module": "@jupyter-widgets/controls",
            "children": [
              "IPY_MODEL_547a70390dc04aed879b8bfde47fa38b",
              "IPY_MODEL_3fa9ccbe1ce348b0bf9eda48ec3e3bd9",
              "IPY_MODEL_7d53bf48251640329c68119a73213ae9"
            ]
          }
        },
        "7cb214626b7440fdbc33669f5d2dd348": {
          "model_module": "@jupyter-widgets/base",
          "model_name": "LayoutModel",
          "model_module_version": "1.2.0",
          "state": {
            "_view_name": "LayoutView",
            "grid_template_rows": null,
            "right": null,
            "justify_content": null,
            "_view_module": "@jupyter-widgets/base",
            "overflow": null,
            "_model_module_version": "1.2.0",
            "_view_count": null,
            "flex_flow": null,
            "width": null,
            "min_width": null,
            "border": null,
            "align_items": null,
            "bottom": null,
            "_model_module": "@jupyter-widgets/base",
            "top": null,
            "grid_column": null,
            "overflow_y": null,
            "overflow_x": null,
            "grid_auto_flow": null,
            "grid_area": null,
            "grid_template_columns": null,
            "flex": null,
            "_model_name": "LayoutModel",
            "justify_items": null,
            "grid_row": null,
            "max_height": null,
            "align_content": null,
            "visibility": null,
            "align_self": null,
            "height": null,
            "min_height": null,
            "padding": null,
            "grid_auto_rows": null,
            "grid_gap": null,
            "max_width": null,
            "order": null,
            "_view_module_version": "1.2.0",
            "grid_template_areas": null,
            "object_position": null,
            "object_fit": null,
            "grid_auto_columns": null,
            "margin": null,
            "display": null,
            "left": null
          }
        },
        "547a70390dc04aed879b8bfde47fa38b": {
          "model_module": "@jupyter-widgets/controls",
          "model_name": "HTMLModel",
          "model_module_version": "1.5.0",
          "state": {
            "_view_name": "HTMLView",
            "style": "IPY_MODEL_d868a24bba574f7cab83b2cc0100ff7a",
            "_dom_classes": [],
            "description": "",
            "_model_name": "HTMLModel",
            "placeholder": "​",
            "_view_module": "@jupyter-widgets/controls",
            "_model_module_version": "1.5.0",
            "value": "Downloading: 100%",
            "_view_count": null,
            "_view_module_version": "1.5.0",
            "description_tooltip": null,
            "_model_module": "@jupyter-widgets/controls",
            "layout": "IPY_MODEL_cd0725eb3190427ca11b74ac2e92fdaa"
          }
        },
        "3fa9ccbe1ce348b0bf9eda48ec3e3bd9": {
          "model_module": "@jupyter-widgets/controls",
          "model_name": "FloatProgressModel",
          "model_module_version": "1.5.0",
          "state": {
            "_view_name": "ProgressView",
            "style": "IPY_MODEL_07c5dd13c06f49ab8e0ffbedf420667b",
            "_dom_classes": [],
            "description": "",
            "_model_name": "FloatProgressModel",
            "bar_style": "success",
            "max": 536063208,
            "_view_module": "@jupyter-widgets/controls",
            "_model_module_version": "1.5.0",
            "value": 536063208,
            "_view_count": null,
            "_view_module_version": "1.5.0",
            "orientation": "horizontal",
            "min": 0,
            "description_tooltip": null,
            "_model_module": "@jupyter-widgets/controls",
            "layout": "IPY_MODEL_555155f15cbe4ca683c5e8fdd3d161bb"
          }
        },
        "7d53bf48251640329c68119a73213ae9": {
          "model_module": "@jupyter-widgets/controls",
          "model_name": "HTMLModel",
          "model_module_version": "1.5.0",
          "state": {
            "_view_name": "HTMLView",
            "style": "IPY_MODEL_a1f646b8bc2a4ae6a9b9cbc46193d6db",
            "_dom_classes": [],
            "description": "",
            "_model_name": "HTMLModel",
            "placeholder": "​",
            "_view_module": "@jupyter-widgets/controls",
            "_model_module_version": "1.5.0",
            "value": " 511M/511M [00:37&lt;00:00, 15.2MB/s]",
            "_view_count": null,
            "_view_module_version": "1.5.0",
            "description_tooltip": null,
            "_model_module": "@jupyter-widgets/controls",
            "layout": "IPY_MODEL_ea171acef6bb4b45b81c0ea3fc25ccc8"
          }
        },
        "d868a24bba574f7cab83b2cc0100ff7a": {
          "model_module": "@jupyter-widgets/controls",
          "model_name": "DescriptionStyleModel",
          "model_module_version": "1.5.0",
          "state": {
            "_view_name": "StyleView",
            "_model_name": "DescriptionStyleModel",
            "description_width": "",
            "_view_module": "@jupyter-widgets/base",
            "_model_module_version": "1.5.0",
            "_view_count": null,
            "_view_module_version": "1.2.0",
            "_model_module": "@jupyter-widgets/controls"
          }
        },
        "cd0725eb3190427ca11b74ac2e92fdaa": {
          "model_module": "@jupyter-widgets/base",
          "model_name": "LayoutModel",
          "model_module_version": "1.2.0",
          "state": {
            "_view_name": "LayoutView",
            "grid_template_rows": null,
            "right": null,
            "justify_content": null,
            "_view_module": "@jupyter-widgets/base",
            "overflow": null,
            "_model_module_version": "1.2.0",
            "_view_count": null,
            "flex_flow": null,
            "width": null,
            "min_width": null,
            "border": null,
            "align_items": null,
            "bottom": null,
            "_model_module": "@jupyter-widgets/base",
            "top": null,
            "grid_column": null,
            "overflow_y": null,
            "overflow_x": null,
            "grid_auto_flow": null,
            "grid_area": null,
            "grid_template_columns": null,
            "flex": null,
            "_model_name": "LayoutModel",
            "justify_items": null,
            "grid_row": null,
            "max_height": null,
            "align_content": null,
            "visibility": null,
            "align_self": null,
            "height": null,
            "min_height": null,
            "padding": null,
            "grid_auto_rows": null,
            "grid_gap": null,
            "max_width": null,
            "order": null,
            "_view_module_version": "1.2.0",
            "grid_template_areas": null,
            "object_position": null,
            "object_fit": null,
            "grid_auto_columns": null,
            "margin": null,
            "display": null,
            "left": null
          }
        },
        "07c5dd13c06f49ab8e0ffbedf420667b": {
          "model_module": "@jupyter-widgets/controls",
          "model_name": "ProgressStyleModel",
          "model_module_version": "1.5.0",
          "state": {
            "_view_name": "StyleView",
            "_model_name": "ProgressStyleModel",
            "description_width": "",
            "_view_module": "@jupyter-widgets/base",
            "_model_module_version": "1.5.0",
            "_view_count": null,
            "_view_module_version": "1.2.0",
            "bar_color": null,
            "_model_module": "@jupyter-widgets/controls"
          }
        },
        "555155f15cbe4ca683c5e8fdd3d161bb": {
          "model_module": "@jupyter-widgets/base",
          "model_name": "LayoutModel",
          "model_module_version": "1.2.0",
          "state": {
            "_view_name": "LayoutView",
            "grid_template_rows": null,
            "right": null,
            "justify_content": null,
            "_view_module": "@jupyter-widgets/base",
            "overflow": null,
            "_model_module_version": "1.2.0",
            "_view_count": null,
            "flex_flow": null,
            "width": null,
            "min_width": null,
            "border": null,
            "align_items": null,
            "bottom": null,
            "_model_module": "@jupyter-widgets/base",
            "top": null,
            "grid_column": null,
            "overflow_y": null,
            "overflow_x": null,
            "grid_auto_flow": null,
            "grid_area": null,
            "grid_template_columns": null,
            "flex": null,
            "_model_name": "LayoutModel",
            "justify_items": null,
            "grid_row": null,
            "max_height": null,
            "align_content": null,
            "visibility": null,
            "align_self": null,
            "height": null,
            "min_height": null,
            "padding": null,
            "grid_auto_rows": null,
            "grid_gap": null,
            "max_width": null,
            "order": null,
            "_view_module_version": "1.2.0",
            "grid_template_areas": null,
            "object_position": null,
            "object_fit": null,
            "grid_auto_columns": null,
            "margin": null,
            "display": null,
            "left": null
          }
        },
        "a1f646b8bc2a4ae6a9b9cbc46193d6db": {
          "model_module": "@jupyter-widgets/controls",
          "model_name": "DescriptionStyleModel",
          "model_module_version": "1.5.0",
          "state": {
            "_view_name": "StyleView",
            "_model_name": "DescriptionStyleModel",
            "description_width": "",
            "_view_module": "@jupyter-widgets/base",
            "_model_module_version": "1.5.0",
            "_view_count": null,
            "_view_module_version": "1.2.0",
            "_model_module": "@jupyter-widgets/controls"
          }
        },
        "ea171acef6bb4b45b81c0ea3fc25ccc8": {
          "model_module": "@jupyter-widgets/base",
          "model_name": "LayoutModel",
          "model_module_version": "1.2.0",
          "state": {
            "_view_name": "LayoutView",
            "grid_template_rows": null,
            "right": null,
            "justify_content": null,
            "_view_module": "@jupyter-widgets/base",
            "overflow": null,
            "_model_module_version": "1.2.0",
            "_view_count": null,
            "flex_flow": null,
            "width": null,
            "min_width": null,
            "border": null,
            "align_items": null,
            "bottom": null,
            "_model_module": "@jupyter-widgets/base",
            "top": null,
            "grid_column": null,
            "overflow_y": null,
            "overflow_x": null,
            "grid_auto_flow": null,
            "grid_area": null,
            "grid_template_columns": null,
            "flex": null,
            "_model_name": "LayoutModel",
            "justify_items": null,
            "grid_row": null,
            "max_height": null,
            "align_content": null,
            "visibility": null,
            "align_self": null,
            "height": null,
            "min_height": null,
            "padding": null,
            "grid_auto_rows": null,
            "grid_gap": null,
            "max_width": null,
            "order": null,
            "_view_module_version": "1.2.0",
            "grid_template_areas": null,
            "object_position": null,
            "object_fit": null,
            "grid_auto_columns": null,
            "margin": null,
            "display": null,
            "left": null
          }
        }
      }
    }
  },
  "cells": [
    {
      "cell_type": "code",
      "metadata": {
        "colab": {
          "base_uri": "https://localhost:8080/"
        },
        "id": "S2HgH3HPUTqt",
        "outputId": "db8db6d2-766e-4691-9553-d5f7bddf7b3c"
      },
      "source": [
        "from google.colab import drive\n",
        "drive.mount('/content/drive')"
      ],
      "execution_count": null,
      "outputs": [
        {
          "output_type": "stream",
          "name": "stdout",
          "text": [
            "Mounted at /content/drive\n"
          ]
        }
      ]
    },
    {
      "cell_type": "markdown",
      "metadata": {
        "id": "ERGOSTAd1V0O"
      },
      "source": [
        "## **Some import**"
      ]
    },
    {
      "cell_type": "code",
      "metadata": {
        "id": "4TsHajdckRWq"
      },
      "source": [
        "import numpy as np\n",
        "import pandas as pd\n",
        "import sys\n",
        "import random\n",
        "\n",
        "from tqdm import tqdm\n",
        "\n",
        "import re\n",
        "import string\n",
        "\n",
        "import os\n",
        "\n",
        "import shutil\n",
        "\n",
        "import json"
      ],
      "execution_count": null,
      "outputs": []
    },
    {
      "cell_type": "markdown",
      "metadata": {
        "id": "O1Td3vsW1btF"
      },
      "source": [
        "## **Functions to parse data file**"
      ]
    },
    {
      "cell_type": "code",
      "metadata": {
        "id": "9l4A4k3LlBhB"
      },
      "source": [
        "f_train = '/content/drive/MyDrive/data/simplified-nq-train.jsonl'\n",
        "f_test = '/content/drive/MyDrive/data/simplified-nq-test.jsonl'\n",
        "num_train_samples = 307372\n",
        "num_test_samples = 346"
      ],
      "execution_count": null,
      "outputs": []
    },
    {
      "cell_type": "code",
      "metadata": {
        "id": "H8uh4_lEl2fW"
      },
      "source": [
        "def parseData(set_id, filename=f_train, is_val=False, drop_noanswer_rate = 0.95, drop_null_instances_rate = 0.98, debug=False):\n",
        "    INSTANCE_WORDS_LEN = 500 \n",
        "    STRIDE = 256 \n",
        "    num, count_drop, count_yes_no, count_long, count_short, count_no_answer = 0, 0, 0, 0, 0, 0\n",
        "    list_instances = []\n",
        "    with open(filename) as f:\n",
        "        progress = tqdm(f, total=num_train_samples)  \n",
        "        for sam_count, line in enumerate(progress):\n",
        "            if sam_count >= num_train_samples:\n",
        "                break\n",
        "                \n",
        "            data = json.loads(line)\n",
        "            example_id = str(data['example_id'])\n",
        "            if example_id in set_id:\n",
        "                ans_id = data['annotations'][0]['long_answer']['candidate_index']\n",
        "                if is_val == False and ans_id == -1:\n",
        "                    # only keep 1 - drop_noanswer_rate of the negative sample\n",
        "                    noans_rand = random.uniform(0, 1)\n",
        "                    if noans_rand < drop_noanswer_rate: # drop this sample \n",
        "                        continue\n",
        "\n",
        "                lan_start, lan_stop = -1, -1\n",
        "                san_start, san_stop = -1, -1\n",
        "\n",
        "                is_san = False\n",
        "                is_drop = True # drop if the answer is too long\n",
        "                \n",
        "                num += 1\n",
        "                lan_start = data['long_answer_candidates'][ans_id]['start_token']\n",
        "                lan_stop = data['long_answer_candidates'][ans_id]['end_token']\n",
        "\n",
        "                yes_no = data['annotations'][0]['yes_no_answer']\n",
        "                if yes_no == \"NONE\":\n",
        "                    is_yes_no = False\n",
        "                else:\n",
        "                    is_yes_no = True\n",
        "\n",
        "                list_sans = data['annotations'][0]['short_answers']\n",
        "\n",
        "                san_start, san_stop = lan_stop, lan_start\n",
        "\n",
        "                for san in list_sans:\n",
        "                    this_start, this_stop = san['start_token'], san['end_token']\n",
        "                    if san_start > this_start: # start token should be smallest among short answers' start \n",
        "                        san_start = this_start\n",
        "                    if san_stop < this_stop: # stop token should be largest among short answers' stop\n",
        "                        san_stop = this_stop\n",
        "                \n",
        "                if san_start < san_stop:\n",
        "                    is_san = True\n",
        "        \n",
        "                question = data['question_text'] # question\n",
        "\n",
        "                doc_text = data['document_text']\n",
        "                doc_split = doc_text.split()\n",
        "                \n",
        "                len_ques = len(question.split())\n",
        "                part_len = INSTANCE_WORDS_LEN - len_ques \n",
        "                \n",
        "                num_ins = (len(doc_split) - part_len)//STRIDE + 1\n",
        "\n",
        "                for part_id in range(num_ins + 1):\n",
        "                    part_start = part_id*STRIDE\n",
        "                    part_stop = min(len(doc_split), part_id*STRIDE + part_len)\n",
        "                    \n",
        "                    part_split = doc_split[part_start:part_stop]\n",
        "                    \n",
        "                    part = ' '.join(part_split)\n",
        "                    is_an_inside = False \n",
        "                    # for train file, check answer inside the instance \n",
        "                    if is_san: # if there is short answer for this doc\n",
        "                        if san_start >= part_start and san_stop <= part_stop: # short answer is inside this part \n",
        "                            san_start_ins = san_start - part_start \n",
        "                            san_stop_ins = san_stop - part_start\n",
        "                            target = 'SHORT'\n",
        "                            count_short += 1\n",
        "\n",
        "                            instance = {'example_id': example_id, 'part_id': part_id, 'question': question, 'context': part,\n",
        "                                        'start': san_start_ins, 'stop': san_stop_ins, 'target': target}\n",
        "                            list_instances.append(instance)\n",
        "\n",
        "                            is_an_inside = True\n",
        "                            is_drop = False\n",
        "                            if debug:\n",
        "                                if sam_count%5000 == 31:\n",
        "                                    print(instance)\n",
        "\n",
        "                    elif lan_stop - lan_start <= part_len: # long answer fits inside a part\n",
        "                        if lan_start >= part_start and lan_stop <= part_stop: # long answer is inside this part \n",
        "                            lan_start_ins = lan_start - part_start\n",
        "                            lan_stop_ins = lan_stop - part_start\n",
        "                            target = 'LONG'\n",
        "\n",
        "                            if is_yes_no:\n",
        "                                target = yes_no\n",
        "                                count_yes_no += 1\n",
        "                            else:\n",
        "                                count_long += 1\n",
        "\n",
        "                            instance = {'example_id': example_id, 'part_id': part_id, 'question': question, 'context': part,\n",
        "                                        'start': lan_start_ins, 'stop': lan_stop_ins, 'target': target}\n",
        "                            list_instances.append(instance)\n",
        "                            \n",
        "                            is_an_inside = True\n",
        "                            \n",
        "\n",
        "                            if debug:\n",
        "                                if sam_count%5000 == 31:\n",
        "                                    print(instance)\n",
        "\n",
        "                        is_drop = False\n",
        "\n",
        "                    if not is_an_inside: # the case when no answer is inside this part\n",
        "                        if not is_val:\n",
        "                            null_ins_rand = random.uniform(0, 1)\n",
        "                            if null_ins_rand < drop_null_instances_rate: # drop this instance \n",
        "                                continue\n",
        "                        \n",
        "                        count_no_answer += 1\n",
        "                        instance = {'example_id': example_id, 'part_id': part_id, 'question': question,\n",
        "                                    'context': part, 'start': 0, 'stop': 0, 'target': 'NO_ANSWER'}\n",
        "                        list_instances.append(instance)\n",
        "                        if debug:\n",
        "                            if sam_count%5000 == 31:\n",
        "                                print(instance)\n",
        "                if is_drop:\n",
        "                    count_drop += 1\n",
        "    print(\"\\n\")\n",
        "    print(\"NUM PROCESSED SAMPLES = \", num)\n",
        "    print(\"NUM LONG ANSWER = \", count_long)\n",
        "    print(\"NUM SHORT ANSWER = \", count_short)\n",
        "    print(\"NUM YES NO ANSWER = \", count_yes_no)\n",
        "    print(\"NUM NO ANSWER = \", count_no_answer)\n",
        "    print(\"NUM DROP = \", count_drop)\n",
        "    return list_instances"
      ],
      "execution_count": null,
      "outputs": []
    },
    {
      "cell_type": "code",
      "metadata": {
        "id": "Wcw9BTizBhsh",
        "colab": {
          "base_uri": "https://localhost:8080/",
          "height": 206
        },
        "outputId": "cad042a3-7451-4b92-80cd-10b7f3c729af"
      },
      "source": [
        "df_train_id = pd.read_csv('/content/drive/MyDrive/data/fine_data/train_id.csv', dtype=str)\n",
        "df_train_id.head()"
      ],
      "execution_count": null,
      "outputs": [
        {
          "output_type": "execute_result",
          "data": {
            "text/html": [
              "<div>\n",
              "<style scoped>\n",
              "    .dataframe tbody tr th:only-of-type {\n",
              "        vertical-align: middle;\n",
              "    }\n",
              "\n",
              "    .dataframe tbody tr th {\n",
              "        vertical-align: top;\n",
              "    }\n",
              "\n",
              "    .dataframe thead th {\n",
              "        text-align: right;\n",
              "    }\n",
              "</style>\n",
              "<table border=\"1\" class=\"dataframe\">\n",
              "  <thead>\n",
              "    <tr style=\"text-align: right;\">\n",
              "      <th></th>\n",
              "      <th>example_id</th>\n",
              "    </tr>\n",
              "  </thead>\n",
              "  <tbody>\n",
              "    <tr>\n",
              "      <th>0</th>\n",
              "      <td>-565587030913118459</td>\n",
              "    </tr>\n",
              "    <tr>\n",
              "      <th>1</th>\n",
              "      <td>-6478192410479883355</td>\n",
              "    </tr>\n",
              "    <tr>\n",
              "      <th>2</th>\n",
              "      <td>4635878395292664241</td>\n",
              "    </tr>\n",
              "    <tr>\n",
              "      <th>3</th>\n",
              "      <td>-8606259257137055977</td>\n",
              "    </tr>\n",
              "    <tr>\n",
              "      <th>4</th>\n",
              "      <td>-370350151382095891</td>\n",
              "    </tr>\n",
              "  </tbody>\n",
              "</table>\n",
              "</div>"
            ],
            "text/plain": [
              "             example_id\n",
              "0   -565587030913118459\n",
              "1  -6478192410479883355\n",
              "2   4635878395292664241\n",
              "3  -8606259257137055977\n",
              "4   -370350151382095891"
            ]
          },
          "metadata": {},
          "execution_count": 18
        }
      ]
    },
    {
      "cell_type": "code",
      "metadata": {
        "colab": {
          "base_uri": "https://localhost:8080/"
        },
        "id": "_I3vTX6ACShB",
        "outputId": "f8b4dd88-0e84-4ffe-ddfd-68d8be9cb088"
      },
      "source": [
        "set_train_id = set(df_train_id['example_id'].values.tolist())\n",
        "print(len(set_train_id))"
      ],
      "execution_count": null,
      "outputs": [
        {
          "output_type": "stream",
          "name": "stdout",
          "text": [
            "304299\n"
          ]
        }
      ]
    },
    {
      "cell_type": "code",
      "metadata": {
        "colab": {
          "base_uri": "https://localhost:8080/"
        },
        "id": "CEryF_tdCr_X",
        "outputId": "9f6e644e-0ba5-4eb1-fc51-a411762ee48a"
      },
      "source": [
        "list_instances = parseData(set_train_id, drop_noanswer_rate=0.95, drop_null_instances_rate=0.985, debug=True)"
      ],
      "execution_count": null,
      "outputs": [
        {
          "output_type": "stream",
          "name": "stderr",
          "text": [
            "  0%|          | 91/307372 [00:00<19:49, 258.43it/s]"
          ]
        },
        {
          "output_type": "stream",
          "name": "stdout",
          "text": [
            "{'example_id': '4706363175863681196', 'part_id': 0, 'question': 'when do the eclipse supposed to take place', 'context': 'Solar eclipse of August 21 , 2017 - Wikipedia <H1> Solar eclipse of August 21 , 2017 </H1> Jump to : navigation , search <Table> <Tr> <Th_colspan=\"2\"> Solar eclipse of August 21 , 2017 </Th> </Tr> <Tr> <Td_colspan=\"2\"> Totality as seen from Simpsonville , South Carolina </Td> </Tr> <Tr> <Td_colspan=\"2\"> Map </Td> </Tr> <Tr> <Th_colspan=\"2\"> Type of eclipse </Th> </Tr> <Tr> <Th> Nature </Th> <Td> Total </Td> </Tr> <Tr> <Th> Gamma </Th> <Td> 0.4367 </Td> </Tr> <Tr> <Th> Magnitude </Th> <Td> 1.0306 </Td> </Tr> <Tr> <Th_colspan=\"2\"> Maximum eclipse </Th> </Tr> <Tr> <Th> Duration </Th> <Td> 160 sec ( 2 m 40 s ) </Td> </Tr> <Tr> <Th> </Th> <Td> 37 ° 00 ′ N 87 ° 42 ′ W \\ufeff / \\ufeff 37 ° N 87.7 ° W \\ufeff / 37 ; - 87.7 </Td> </Tr> <Tr> <Th> Max . width of band </Th> <Td> 115 km ( 71 mi ) </Td> </Tr> <Tr> <Th_colspan=\"2\"> Times ( UTC ) </Th> </Tr> <Tr> <Th> ( P1 ) Partial begin </Th> <Td> 15 : 46 : 48 </Td> </Tr> <Tr> <Th> ( U1 ) Total begin </Th> <Td> 16 : 48 : 32 </Td> </Tr> <Tr> <Th> Greatest eclipse </Th> <Td> 18 : 26 : 40 </Td> </Tr> <Tr> <Th> ( U4 ) Total end </Th> <Td> 20 : 01 : 35 </Td> </Tr> <Tr> <Th> ( P4 ) Partial end </Th> <Td> 21 : 04 : 19 </Td> </Tr> <Tr> <Th_colspan=\"2\"> References </Th> </Tr> <Tr> <Th> Saros </Th> <Td> 145 ( 22 of 77 ) </Td> </Tr> <Tr> <Th> Catalog # ( SE5000 ) </Th> <Td> 9546 </Td> </Tr> </Table> <P> The solar eclipse of August 21 , 2017 , dubbed `` The Great American Eclipse \\'\\' by the media , was a total solar eclipse visible within a band across the entire contiguous United States , passing from the Pacific to the Atlantic coasts . As a partial solar eclipse , it was visible on land from Nunavut in northern Canada to as far south as northern South America . In northwestern Europe and Africa , it was partially visible in the late evening . In Asia , it was visible only at the eastern extremity , the Chukchi Peninsula . </P> Play media Video of the eclipse second contact in Simpsonville , South Carolina . Crowd reaction is heard on audio . <P> Prior to this event , no solar eclipse had been visible across the entire contiguous United States since June 8 , 1918 ; not since the February 1979 eclipse had a total eclipse been visible from anywhere in the mainland United States . The path of totality touched 14 states , and the rest of the U.S. had a partial eclipse . The area of the path of totality was about 16 percent of the area of the United States , with most of this area over the ocean , not land . The event \\'s shadow began', 'start': 30, 'stop': 34, 'target': 'SHORT'}\n",
            "{'example_id': '4706363175863681196', 'part_id': 24, 'question': 'when do the eclipse supposed to take place', 'context': 'settlements with affected customers of at least 10 hotels in the state . These settlements included refunds to the customers and fines paid to the DOJ . </P> <H2> Post-eclipse traffic problems ( edit ) </H2> <P> Although traffic to areas within the path of totality was somewhat spread out over the days prior to the eclipse , there were widespread traffic problems across the United States after the event ended . Michael Zeiler , an eclipse cartographer , had estimated that between 1.85 million and 7.4 million people would travel to the path of the eclipse . </P> <P> In Oregon , an estimated one million people were expected to arrive that the Oregon National Guard was called in to help manage traffic in Madras along US 26 and US 97 . Madras Municipal Airport received more than 400 mostly personal planes that queued for hours while waiting to leave after the eclipse . </P> <P> Officials in Idaho , where the totality path crossed the center of the state , began planning for the eclipse a year in advance . The state Transportation Department suspended construction projects along Interstate 15 , which traverses Eastern Idaho , from August 18 -- 22 in order to have all lanes open ; their counterparts in neighboring Utah , where many were expected to travel the 220 miles ( 350 km ) north via the highway from the Salt Lake City metropolitan area , did the same . On the morning of the eclipse , many drivers left before dawn , creating traffic volume along I - 15 normally not seen until morning rush hour ; northbound traffic on the interstate in Box Elder County north of Salt Lake City slowed to 10 -- 15 miles per hour ( 16 -- 24 km / h ) . The Idaho State Police ( ISP ) stationed a patrol car along I - 15 every 15 miles ( 24 km ) between Shelley and the Utah border . </P> Traffic backed up on I - 15 / US 26 south of Idaho Falls <P> After the eclipse , traffic more than doubled along I - 15 southbound , with extensive traffic jams continuing for eight hours as viewers who had traveled north into the totality path from Utah returned there and to points south . The ISP tweeted a picture of bumper - to - bumper traffic stalled on the interstate just south of Idaho Falls . Motorists reported to local news outlets that it was taking them two hours to travel the 47 miles ( 76 km ) from that city to Pocatello to the south , a journey that normally takes 45 minutes . Others reported that it took three hours to travel from Idaho Falls to the closer city of Blackfoot , 30 miles ( 48 km ) farther north of Pocatello . </P> <P> In the rest of the state the impact', 'start': 0, 'stop': 0, 'target': 'NO_ANSWER'}\n"
          ]
        },
        {
          "output_type": "stream",
          "name": "stderr",
          "text": [
            "  2%|▏         | 5170/307372 [00:09<05:55, 850.42it/s]"
          ]
        },
        {
          "output_type": "stream",
          "name": "stdout",
          "text": [
            "{'example_id': '1070150029854587994', 'part_id': 10, 'question': 'when is the last time the chargers made the playoffs', 'context': '<Td> 2005 </Td> <Td> NFL </Td> <Td> AFC </Td> <Td> West </Td> <Td> 3rd </Td> <Td> 9 </Td> <Td> 7 </Td> <Td> 0 </Td> <Td> </Td> <Td> Shawne Merriman ( DROY ) </Td> <Td> Marty Schottenheimer </Td> </Tr> <Tr> <Th> 2006 </Th> <Td> 2006 </Td> <Td> NFL </Td> <Td> AFC </Td> <Td> West </Td> <Td> 1st </Td> <Td> 14 </Td> <Td> </Td> <Td> 0 </Td> <Td> Lost Divisional Playoffs ( Patriots ) 21 -- 24 </Td> <Td> LaDainian Tomlinson ( MVP , OPOY ) </Td> <Td> Marty Schottenheimer </Td> </Tr> <Tr> <Th> 2007 </Th> <Td> 2007 </Td> <Td> NFL </Td> <Td> AFC </Td> <Td> West </Td> <Td> 1st </Td> <Td> 11 </Td> <Td> 5 </Td> <Td> 0 </Td> <Td> Won Wild Card Playoffs ( Titans ) 17 -- 6 Won Divisional Playoffs ( at Colts ) 28 -- 24 Lost AFC Championship ( at Patriots ) 12 -- 21 </Td> <Td> </Td> <Td> Norv Turner </Td> </Tr> <Tr> <Th> 2008 </Th> <Td> 2008 </Td> <Td> NFL </Td> <Td> AFC </Td> <Td> West </Td> <Td> 1st </Td> <Td> 8 </Td> <Td> 8 </Td> <Td> 0 </Td> <Td> Won Wild Card Playoffs ( Colts ) 23 -- 17 ( OT ) Lost Divisional Playoffs ( at Steelers ) 24 -- 35 </Td> <Td> </Td> <Td> Norv Turner </Td> </Tr> <Tr> <Th> 2009 </Th> <Td> 2009 </Td> <Td> NFL </Td> <Td> AFC </Td> <Td> West </Td> <Td> 1st </Td> <Td> 13 </Td> <Td> </Td> <Td> 0 </Td> <Td> Lost Divisional Playoffs ( Jets ) 14 -- 17 </Td> <Td> </Td> <Td> Norv Turner </Td> </Tr> <Tr> <Th> </Th> <Td> </Td> <Td> NFL </Td> <Td> AFC </Td> <Td> West </Td> <Td> 2nd </Td> <Td> 9 </Td> <Td> 7 </Td> <Td> 0 </Td> <Td> </Td> <Td> </Td> <Td> Norv Turner </Td> </Tr> <Tr> <Th> 2011 </Th> <Td> 2011 </Td> <Td> NFL </Td> <Td> AFC </Td> <Td> West </Td> <Td> 2nd </Td> <Td> 8 </Td> <Td> 8 </Td> <Td> 0 </Td> <Td> </Td> <Td> </Td> <Td> Norv Turner </Td> </Tr> <Tr> <Th> 2012 </Th> <Td> 2012 </Td> <Td> NFL </Td> <Td> AFC </Td> <Td> West </Td> <Td> 2nd </Td> <Td> 7 </Td> <Td> 9 </Td> <Td> 0 </Td> <Td> </Td> <Td> </Td> <Td> Norv Turner </Td> </Tr> <Tr> <Th> 2013 </Th> <Td> 2013 </Td> <Td> NFL </Td> <Td> AFC </Td> <Td> West </Td> <Td> 3rd </Td> <Td> 9 </Td> <Td> 7 </Td> <Td> 0 </Td> <Td> Won Wild Card Playoffs ( at Bengals ) 27 -- 10 Lost Divisional Playoffs ( at Broncos ) 17 -- 24 </Td> <Td> Philip Rivers ( CBPOY ) </Td> <Td> Mike McCoy </Td> </Tr> <Tr> <Th> 2014 </Th> <Td> 2014 </Td> <Td> NFL </Td> <Td> AFC </Td> <Td> West </Td> <Td> 3rd </Td> <Td> 9 </Td> <Td> 7 </Td> <Td> 0 </Td> <Td> </Td> <Td> </Td> <Td> Mike McCoy </Td> </Tr> <Tr> <Th> 2015 </Th> <Td> 2015 </Td> <Td> NFL </Td> <Td> AFC </Td> <Td> West </Td> <Td> 4th </Td>', 'start': 373, 'stop': 374, 'target': 'SHORT'}\n",
            "{'example_id': '1070150029854587994', 'part_id': 11, 'question': 'when is the last time the chargers made the playoffs', 'context': '</Td> <Td> Norv Turner </Td> </Tr> <Tr> <Th> </Th> <Td> </Td> <Td> NFL </Td> <Td> AFC </Td> <Td> West </Td> <Td> 2nd </Td> <Td> 9 </Td> <Td> 7 </Td> <Td> 0 </Td> <Td> </Td> <Td> </Td> <Td> Norv Turner </Td> </Tr> <Tr> <Th> 2011 </Th> <Td> 2011 </Td> <Td> NFL </Td> <Td> AFC </Td> <Td> West </Td> <Td> 2nd </Td> <Td> 8 </Td> <Td> 8 </Td> <Td> 0 </Td> <Td> </Td> <Td> </Td> <Td> Norv Turner </Td> </Tr> <Tr> <Th> 2012 </Th> <Td> 2012 </Td> <Td> NFL </Td> <Td> AFC </Td> <Td> West </Td> <Td> 2nd </Td> <Td> 7 </Td> <Td> 9 </Td> <Td> 0 </Td> <Td> </Td> <Td> </Td> <Td> Norv Turner </Td> </Tr> <Tr> <Th> 2013 </Th> <Td> 2013 </Td> <Td> NFL </Td> <Td> AFC </Td> <Td> West </Td> <Td> 3rd </Td> <Td> 9 </Td> <Td> 7 </Td> <Td> 0 </Td> <Td> Won Wild Card Playoffs ( at Bengals ) 27 -- 10 Lost Divisional Playoffs ( at Broncos ) 17 -- 24 </Td> <Td> Philip Rivers ( CBPOY ) </Td> <Td> Mike McCoy </Td> </Tr> <Tr> <Th> 2014 </Th> <Td> 2014 </Td> <Td> NFL </Td> <Td> AFC </Td> <Td> West </Td> <Td> 3rd </Td> <Td> 9 </Td> <Td> 7 </Td> <Td> 0 </Td> <Td> </Td> <Td> </Td> <Td> Mike McCoy </Td> </Tr> <Tr> <Th> 2015 </Th> <Td> 2015 </Td> <Td> NFL </Td> <Td> AFC </Td> <Td> West </Td> <Td> 4th </Td> <Td> </Td> <Td> 12 </Td> <Td> 0 </Td> <Td> </Td> <Td> </Td> <Td> Mike McCoy </Td> </Tr> <Tr> <Th> 2016 </Th> <Td> 2016 </Td> <Td> NFL </Td> <Td> AFC </Td> <Td> West </Td> <Td> 4th </Td> <Td> 5 </Td> <Td> 11 </Td> <Td> 0 </Td> <Td> </Td> <Td> Joey Bosa ( DROY ) </Td> <Td> Mike McCoy </Td> </Tr> <Tr> <Td_colspan=\"12\"> Los Angeles Chargers </Td> </Tr> <Tr> <Th> 2017 </Th> <Td> 2017 </Td> <Td> NFL </Td> <Td> AFC </Td> <Td> West </Td> <Td> 2nd </Td> <Td> 9 </Td> <Td> 7 </Td> <Td> 0 </Td> <Td> </Td> <Td> Keenan Allen ( CBPOY ) </Td> <Td> Anthony Lynn </Td> </Tr> <Tr> <Th_colspan=\"6\"> Total </Th> <Th> 435 </Th> <Th> 438 </Th> <Th> 11 </Th> <Th_colspan=\"3\"> ( 1960 -- 2017 , Regular season only ) </Th> </Tr> <Tr> <Th> 11 </Th> <Th> 17 </Th> <Th> -- </Th> <Th_colspan=\"3\"> ( 1960 -- 2017 , Post-season games only ) </Th> </Tr> <Tr> <Th> 446 </Th> <Th> 455 </Th> <Th> 11 </Th> <Th_colspan=\"3\"> ( 1960 -- 2017 , Total for all games ; 1 AFL Championship , 3 NFL Titles ) </Th> </Tr> </Table> <H2> Footnotes </H2> <Ul> <Li> As a result of the AFL - NFL merger , the league was broken into two conferences ; the AFL teams moved into the American Football Conference . </Li> <Li> This season included the Holy Roller game . </Li> <Li> The Chargers finished ahead of Oakland in the AFC West based on better net points in division games . </Li> <Li> The Chargers finished', 'start': 117, 'stop': 118, 'target': 'SHORT'}\n"
          ]
        },
        {
          "output_type": "stream",
          "name": "stderr",
          "text": [
            "  8%|▊         | 25161/307372 [00:37<05:29, 855.97it/s]"
          ]
        },
        {
          "output_type": "stream",
          "name": "stdout",
          "text": [
            "{'example_id': '5114648852222721674', 'part_id': 1, 'question': 'who did vanessa end up with in gossip girl', 'context': \"as a recurring character , but became series regular after a successful run due to the popularity of their character , but left the series at the end of the fourth season . </P> <P> </P> <H2> Contents </H2> ( hide ) <Ul> <Li> 1 Novel series </Li> <Li> 2 Television series <Ul> <Li> 2.1 Casting </Li> <Li> 2.2 Characterization </Li> <Li> 2.3 Season 1 </Li> <Li> 2.4 Season 2 </Li> <Li> 2.5 Season 3 </Li> <Li> 2.6 Season 4 </Li> <Li> 2.7 Season 6 </Li> </Ul> </Li> <Li> 3 Reception </Li> <Li> 4 References </Li> </Ul> <P> </P> <H2> Novel series ( edit ) </H2> <P> Described as sullen , with a shaved head and black clothing , Vanessa is a budding filmmaker and Constance student on scholarship . Her dream is to one day attend NYU and major in film . Her hippie artist parents live in Vermont but allowed her to move to Williamsburg , Brooklyn to live with her sister Ruby . </P> <P> In the first books , she stays away from Blair Waldorf and Serena van der Woodsen 's social scene , resenting the Upper East Side way of life and preferring the company of Dan Humphrey , her best friend , and her sister Ruby . She has had a huge crush on Dan ever since they met on a fire escape when they were both locked out of a party , but Dan had always been too in love with Serena van der Woodsen to realize it . Dan and Vanessa finally get together in the second book , but break up when Dan cheats on her with a writer named Mystery . </P> <P> Vanessa is very fond of making dark films and spends most of her time filming people and objects . She later becomes friends with Blair Waldorf , and they become short - lived roommates . She takes much from her , becoming more open to the Upper East Side way of life and later semi-adapting to Blair 's sense of fashion ( though she once quipped that she would not be wearing snakeskin Manolos anytime soon ) She begins a relationship with Aaron Rose , Blair 's stepbrother , only to cheat on him with Dan come graduation . </P> <P> Dan and Vanessa once again become a couple , but with Vanessa taking a job as an assistant for Ken Mogul ( and later a babysitter ) and Dan cheating on her yet again with a leggy blond named Bree , they break up . Dan has a period of crisis when he thinks that he is gay after kissing a guy at work , but Vanessa stands by him . She agrees to move in with Rufus Humphrey ( having been kicked out of her apartment by her sister Ruby and her new fiance Piotr ) during the fall when she goes to NYU. Dan turns\", 'start': 461, 'stop': 463, 'target': 'SHORT'}\n",
            "{'example_id': '5114648852222721674', 'part_id': 2, 'question': 'who did vanessa end up with in gossip girl', 'context': \"Dan and Vanessa finally get together in the second book , but break up when Dan cheats on her with a writer named Mystery . </P> <P> Vanessa is very fond of making dark films and spends most of her time filming people and objects . She later becomes friends with Blair Waldorf , and they become short - lived roommates . She takes much from her , becoming more open to the Upper East Side way of life and later semi-adapting to Blair 's sense of fashion ( though she once quipped that she would not be wearing snakeskin Manolos anytime soon ) She begins a relationship with Aaron Rose , Blair 's stepbrother , only to cheat on him with Dan come graduation . </P> <P> Dan and Vanessa once again become a couple , but with Vanessa taking a job as an assistant for Ken Mogul ( and later a babysitter ) and Dan cheating on her yet again with a leggy blond named Bree , they break up . Dan has a period of crisis when he thinks that he is gay after kissing a guy at work , but Vanessa stands by him . She agrees to move in with Rufus Humphrey ( having been kicked out of her apartment by her sister Ruby and her new fiance Piotr ) during the fall when she goes to NYU. Dan turns out to be straight , and they spend the time they have together before college being a real couple . In I Will Aways Love You , it was revealed that Vanessa grew her hair out . </P> <H2> Television series ( edit ) </H2> <H3> Casting ( edit ) </H3> <P> After a recurring role in the short - lived series What About Brian , Yahoo ! stated her `` capitalizing on that minor success '' and eventually earned the role of `` the stunning and unpredictable aspiring filmmaker ensconced in the highly dramatic lives of privileged teenagers on Manhattan 's Upper East Side world '' . Szohr began her stint on Gossip Girl in a recurring role until her promotion to regular status in the show 's fourteenth episode . Szohr said in Nylon magazine : Producers originally did n't want to cast her on Gossip Girl because her straight , shiny hair was too preppy . `` I told my agent , you send every picture of my hair short , curly , black , blonde , I do n't care . '' In Teen Vogue she said the story of how she snagged her breakthrough role on Gossip Girl : `` Two of my friends in L.A. invited me to this Labor Day barbecue , but I really just wanted to stay on the couch with my French bulldog , '' she says . They kept calling , though , so off she went . `` I remember hanging out by the\", 'start': 205, 'stop': 207, 'target': 'SHORT'}\n"
          ]
        },
        {
          "output_type": "stream",
          "name": "stderr",
          "text": [
            " 10%|▉         | 30153/307372 [00:45<05:13, 884.43it/s]"
          ]
        },
        {
          "output_type": "stream",
          "name": "stdout",
          "text": [
            "{'example_id': '-4664379689749477533', 'part_id': 11, 'question': 'what treaty set up the league of nations', 'context': \"intercourse with any part of the world and to use any force that may be necessary ... '' </P> <P> The two principal drafters and architects of the covenant of the League of Nations were the British politician Lord Robert Cecil and the South African statesman Jan Smuts . Smuts ' proposals included the creation of a Council of the great powers as permanent members and a non-permanent selection of the minor states . He also proposed the creation of a Mandate system for captured colonies of the Central Powers during the war . Cecil focused on the administrative side , and proposed annual Council meetings and quadrennial meetings for the Assembly of all members . He also argued for a large and permanent secretariat to carry out the League 's administrative duties . </P> <H3> Establishment ( edit ) </H3> The official opening of the League of Nations , 15 November 1920 <P> At the Paris Peace Conference in 1919 , Wilson , Cecil and Smuts all put forward their draft proposals . After lengthy negotiations between the delegates , the Hurst -- Miller draft was finally produced as a basis for the Covenant . After more negotiation and compromise , the delegates finally approved of the proposal to create the League of Nations ( French : Société des Nations , German : Völkerbund ) on 25 January 1919 . The final Covenant of the League of Nations was drafted by a special commission , and the League was established by Part I of the Treaty of Versailles . On 28 June 1919 , 44 states signed the Covenant , including 31 states which had taken part in the war on the side of the Triple Entente or joined it during the conflict . </P> <P> French women 's rights advocates invited international feminists to participate in a parallel conference to the Paris Conference in hopes that they could gain permission to participate in the official conference . The Inter-Allied Women 's Conference asked to be allowed to submit suggestions to the peace negotiations and commissions and were granted the right to sit on commissions dealing specifically with women and children . Though they asked for enfranchisement and full legal protection under the law equal with men , those rights were ignored . Women won the right to serve in all capacities , including as staff or delegates in the League of Nations organization . They also won a declaration that member nations should prevent trafficking of women and children and should equally support humane conditions for children , women and men labourers . At the Zürich Peace Conference held between 17 -- 19 May 1919 , the women of the WILPF condemned the terms of the Treaty of Versailles for both is punitive measures , as well as its failure to provide for condemnation of violence and exclusion of women from civil and political participation . Upon reading the Rules\", 'start': 256, 'stop': 259, 'target': 'SHORT'}\n",
            "{'example_id': '-4664379689749477533', 'part_id': 12, 'question': 'what treaty set up the league of nations', 'context': \"Treaty of Versailles . On 28 June 1919 , 44 states signed the Covenant , including 31 states which had taken part in the war on the side of the Triple Entente or joined it during the conflict . </P> <P> French women 's rights advocates invited international feminists to participate in a parallel conference to the Paris Conference in hopes that they could gain permission to participate in the official conference . The Inter-Allied Women 's Conference asked to be allowed to submit suggestions to the peace negotiations and commissions and were granted the right to sit on commissions dealing specifically with women and children . Though they asked for enfranchisement and full legal protection under the law equal with men , those rights were ignored . Women won the right to serve in all capacities , including as staff or delegates in the League of Nations organization . They also won a declaration that member nations should prevent trafficking of women and children and should equally support humane conditions for children , women and men labourers . At the Zürich Peace Conference held between 17 -- 19 May 1919 , the women of the WILPF condemned the terms of the Treaty of Versailles for both is punitive measures , as well as its failure to provide for condemnation of violence and exclusion of women from civil and political participation . Upon reading the Rules of Procedure for the League of Nations , Catherine Marshall , a British suffragist , discovered that the guidelines were completely undemocratic and they were modified based on her suggestion . </P> <P> The League would be made up of a General Assembly ( representing all member states ) , an Executive Council ( with membership limited to major powers ) , and a permanent secretariat . Member states were expected to `` respect and preserve as against external aggression '' the territorial integrity of other members and to disarm `` to the lowest point consistent with domestic safety . '' All states were required to submit complaints for arbitration or judicial inquiry before going to war . The Executive Council would create a Permanent Court of International Justice to make judgements on the disputes . </P> <P> Despite Wilson 's efforts to establish and promote the League , for which he was awarded the Nobel Peace Prize in October 1919 , the United States never joined . Senate Republicans led by Henry Cabot Lodge wanted a League with the reservation that only Congress could take the U.S. into war . Lodge gained a majority of Senators . Wilson refused to allow a compromise and the needed 2 / 3 majority was lacking . </P> <P> The League held its first council meeting in Paris on 16 January 1920 , six days after the Versailles Treaty and the Covenant of the League of Nations came into force . On 1 November 1920 , the headquarters of\", 'start': 0, 'stop': 3, 'target': 'SHORT'}\n",
            "{'example_id': '-4664379689749477533', 'part_id': 26, 'question': 'what treaty set up the league of nations', 'context': \"was returned to Germany following a plebiscite , and the Free City of Danzig ( now Gdańsk , Poland ) from 15 November 1920 to 1 September 1939 . </P> <H2> Resolving territorial disputes ( edit ) </H2> <P> The aftermath of the First World War left many issues to be settled , including the exact position of national boundaries and which country particular regions would join . Most of these questions were handled by the victorious Allied powers in bodies such as the Allied Supreme Council . The Allies tended to refer only particularly difficult matters to the League . This meant that , during the early interwar period , the League played little part in resolving the turmoil resulting from the war . The questions the League considered in its early years included those designated by the Paris Peace treaties . </P> <P> As the League developed , its role expanded , and by the middle of the 1920s it had become the centre of international activity . This change can be seen in the relationship between the League and non-members . The United States and Russia , for example , increasingly worked with the League . During the second half of the 1920s , France , Britain and Germany were all using the League of Nations as the focus of their diplomatic activity , and each of their foreign secretaries attended League meetings at Geneva during this period . They also used the League 's machinery to try to improve relations and settle their differences . </P> <H3> Åland islands ( edit ) </H3> Main article : Åland crisis <P> Åland is a collection of around 6,500 islands in the Baltic Sea , midway between Sweden and Finland . The islands are almost exclusively Swedish - speaking , but in 1809 , the Åland Islands , along with Finland , were taken by Imperial Russia . In December 1917 , during the turmoil of the Russian October Revolution , Finland declared its independence , but most of the Ålanders wished to rejoin Sweden . The Finnish government considered the islands to be a part of their new nation , as the Russians had included Åland in the Grand Duchy of Finland , formed in 1809 . By 1920 , the dispute had escalated to the point that there was danger of war . The British government referred the problem to the League 's Council , but Finland would not let the League intervene , as they considered it an internal matter . The League created a small panel to decide if it should investigate the matter and , with an affirmative response , a neutral commission was created . In June 1921 , the League announced its decision : the islands were to remain a part of Finland , but with guaranteed protection of the islanders , including demilitarisation . With Sweden 's reluctant agreement , this became the\", 'start': 0, 'stop': 0, 'target': 'NO_ANSWER'}\n"
          ]
        },
        {
          "output_type": "stream",
          "name": "stderr",
          "text": [
            " 23%|██▎       | 70160/307372 [01:46<05:14, 755.15it/s]"
          ]
        },
        {
          "output_type": "stream",
          "name": "stdout",
          "text": [
            "{'example_id': '3150540880765930232', 'part_id': 7, 'question': 'who is the best nfl receiver of all time', 'context': 'Clark </Td> <Td> Wide receiver </Td> <Td> Washington Redskins ( 1985 -- 1992 ) Arizona / Phoenix Cardinals ( 1993 -- 1994 ) Miami Dolphins ( 1995 ) </Td> <Td> 699 </Td> <Td> 10,856 </Td> <Td> 15.5 </Td> </Tr> <Tr> <Td> 38 </Td> <Td> Stanley Morgan </Td> <Td> Wide receiver </Td> <Td> New England Patriots ( 1977 -- 1989 ) Indianapolis Colts ( 1990 ) </Td> <Td> 557 </Td> <Td> 10,716 </Td> <Td> 19.2 </Td> </Tr> <Tr> <Td> 39 </Td> <Td> Keyshawn Johnson </Td> <Td> Wide receiver </Td> <Td> New York Jets ( 1996 -- 1999 ) Tampa Bay Buccaneers ( 2000 -- 2003 ) Dallas Cowboys ( 2004 -- 2005 ) Carolina Panthers ( 2006 ) </Td> <Td> 814 </Td> <Td> 10,571 </Td> <Td> 13.0 </Td> </Tr> <Tr> <Td> 40 </Td> <Td> Harold Jackson </Td> <Td> Wide receiver </Td> <Td> Los Angeles Rams ( 1968 , 1973 -- 1977 ) Philadelphia Eagles ( 1969 -- 1972 ) New England Patriots ( 1978 -- 1981 ) Minnesota Vikings ( 1982 ) Seattle Seahawks ( 1983 ) </Td> <Td> 579 </Td> <Td> 10,372 </Td> <Td> 17.9 </Td> </Tr> <Tr> <Td> 41 </Td> <Td> Santana Moss </Td> <Td> Wide receiver </Td> <Td> New York Jets ( 2001 -- 2004 ) Washington Redskins ( 2005 -- 2014 ) </Td> <Td> 732 </Td> <Td> 10,283 </Td> <Td> 14.0 </Td> </Tr> <Tr> <Td> 42 </Td> <Td> Lance Alworth </Td> <Td> Wide receiver </Td> <Td> San Diego Chargers ( 1962 -- 1970 ) Dallas Cowboys ( 1971 -- 1972 ) </Td> <Td> 542 </Td> <Td> 10,266 </Td> <Td> 18.9 </Td> </Tr> <Tr> <Td> 43 </Td> <Td> Andre Rison </Td> <Td> Wide receiver </Td> <Td> Indianapolis Colts ( 1989 ) Atlanta Falcons ( 1990 -- 1994 ) Cleveland Browns ( 1995 ) Jacksonville Jaguars ( 1996 ) Green Bay Packers ( 1996 ) Kansas City Chiefs ( 1997 -- 1999 ) Oakland Raiders ( 2000 ) </Td> <Td> 743 </Td> <Td> 10,205 </Td> <Td> 13.7 </Td> </Tr> <Tr> <Td> 44 </Td> <Td> Donald Driver </Td> <Td> Wide receiver </Td> <Td> Green Bay Packers ( 1999 -- 2012 ) </Td> <Td> 743 </Td> <Td> 10,137 </Td> <Td> 13.6 </Td> </Tr> <Tr> <Td> 45 </Td> <Td> Shannon Sharpe </Td> <Td> Tight end </Td> <Td> Denver Broncos ( 1990 -- 1999 , 2002 -- 2003 ) Baltimore Ravens ( 2000 -- 2001 ) </Td> <Td> 815 </Td> <Td> 10,060 </Td> <Td> 12.3 </Td> </Tr> </Table> <H2> Active players with 8,000 -- 9,999 receiving yards ( edit ) </H2> <P> Through end of 2017 season . </P> <Ul> <Li> Antonio Brown , 9,910 </Li> <Li> DeSean Jackson , 9,487 </Li> <Li> Julio Jones , 9,054 </Li> <Li> Demaryius Thomas , 8,653 </Li> <Li> A.J. Green , 8,213 </Li> <Li> Mike Wallace , 8,072 </Li> </Ul> <H2> See also ( edit ) </H2> <Ul> <Li> List of National Football League career receiving touchdowns leaders </Li> <Li> List of National Football League career receptions', 'start': 457, 'stop': 463, 'target': 'LONG'}\n",
            "{'example_id': '3150540880765930232', 'part_id': 8, 'question': 'who is the best nfl receiver of all time', 'context': '542 </Td> <Td> 10,266 </Td> <Td> 18.9 </Td> </Tr> <Tr> <Td> 43 </Td> <Td> Andre Rison </Td> <Td> Wide receiver </Td> <Td> Indianapolis Colts ( 1989 ) Atlanta Falcons ( 1990 -- 1994 ) Cleveland Browns ( 1995 ) Jacksonville Jaguars ( 1996 ) Green Bay Packers ( 1996 ) Kansas City Chiefs ( 1997 -- 1999 ) Oakland Raiders ( 2000 ) </Td> <Td> 743 </Td> <Td> 10,205 </Td> <Td> 13.7 </Td> </Tr> <Tr> <Td> 44 </Td> <Td> Donald Driver </Td> <Td> Wide receiver </Td> <Td> Green Bay Packers ( 1999 -- 2012 ) </Td> <Td> 743 </Td> <Td> 10,137 </Td> <Td> 13.6 </Td> </Tr> <Tr> <Td> 45 </Td> <Td> Shannon Sharpe </Td> <Td> Tight end </Td> <Td> Denver Broncos ( 1990 -- 1999 , 2002 -- 2003 ) Baltimore Ravens ( 2000 -- 2001 ) </Td> <Td> 815 </Td> <Td> 10,060 </Td> <Td> 12.3 </Td> </Tr> </Table> <H2> Active players with 8,000 -- 9,999 receiving yards ( edit ) </H2> <P> Through end of 2017 season . </P> <Ul> <Li> Antonio Brown , 9,910 </Li> <Li> DeSean Jackson , 9,487 </Li> <Li> Julio Jones , 9,054 </Li> <Li> Demaryius Thomas , 8,653 </Li> <Li> A.J. Green , 8,213 </Li> <Li> Mike Wallace , 8,072 </Li> </Ul> <H2> See also ( edit ) </H2> <Ul> <Li> List of National Football League career receiving touchdowns leaders </Li> <Li> List of National Football League career receptions leaders </Li> </Ul> <H2> References ( edit ) </H2> <Ul> <Li> NFL Stats : Milestone Tracker </Li> <Li> Pro-football-reference.com enumeration of career receiving leaders </Li> </Ul> <Table> <Tr> <Th_colspan=\"2\"> ( hide ) <Ul> <Li> </Li> <Li> </Li> <Li> </Li> </Ul> National Football League records and leaders </Th> </Tr> <Tr> <Th> General </Th> <Td> <Ul> <Li> Super Bowl records </Li> <Li> Team playoff records </Li> <Li> Team records </Li> <Li> Individual records </Li> <Li> Games played </Li> <Li> Consecutive games and starts </Li> <Li> 99 - yard pass play </Li> <Li> All - purpose yards </Li> <Li> Scoring </Li> </Ul> </Td> </Tr> <Tr> <Th> Passing </Th> <Td> <Table> <Tr> <Th> Career </Th> <Td> <Ul> <Li> Touchdowns <Ul> <Li> Regular season </Li> <Li> Playoffs </Li> </Ul> </Li> <Li> Yards <Ul> <Li> 5,000 passing yards </Li> </Ul> </Li> <Li> Completions </Li> <Li> Passer rating </Li> <Li> Wins </Li> <Li> Playoff win -- loss records </Li> <Li> Consecutive starts </Li> <Li> Consecutive games with a TD pass </Li> </Ul> </Td> </Tr> <Tr> <Th> Annual </Th> <Td> <Ul> <Li> Touchdowns </Li> <Li> Yards </Li> <Li> Completion percentage </Li> <Li> Rating </Li> </Ul> </Td> </Tr> <Tr> <Th> Game </Th> <Td> <Ul> <Li> Touchdowns </Li> <Li> Perfect passer rating </Li> <Li> 400 passing yards </Li> </Ul> </Td> </Tr> </Table> </Td> </Tr> <Tr> <Th> Rushing </Th> <Td> <Table> <Tr> <Th> Career </Th> <Td> <Ul> <Li> Touchdowns </Li> <Li> Yards </Li> <Li> Attempts </Li> </Ul> </Td> </Tr> <Tr> <Th> Annual </Th> <Td> <Ul> <Li> Touchdowns </Li> <Li> Yards <Ul> <Li> 2,000 - yard club </Li>', 'start': 201, 'stop': 207, 'target': 'LONG'}\n"
          ]
        },
        {
          "output_type": "stream",
          "name": "stderr",
          "text": [
            " 24%|██▍       | 75192/307372 [01:54<04:35, 843.50it/s]"
          ]
        },
        {
          "output_type": "stream",
          "name": "stdout",
          "text": [
            "{'example_id': '-6992942632997814161', 'part_id': 2, 'question': 'who sang tale as old as time beauty and the beast 2017', 'context': \"own , so they hired the more prominent Bryson to be her duet partner . At first Dion was also hesitant to record `` Beauty and the Beast '' because she had just recently been fired from recording the theme song of the animated film An American Tail : Fievel Goes West ( 1991 ) . First heard during the film 's end credits , the single was produced by Walter Afanasieff who also arranged it with Robbie Buchanan , and included on Dion 's self - titled album . The single was accompanied by a music video . Directed by Dominic Orlando , it combined footage of the singers recording the song at The Power Station with excerpts from the film . </P> <P> Both versions of `` Beauty and the Beast '' were very successful , garnering both a Golden Globe and Academy Award for Best Original Song , as well as Grammy Awards for Best Song Written for Visual Media and Best Pop Performance by a Duo or Group with Vocals . The single was also nominated for the Grammy Award for Record of the Year and the Grammy Award for Song of the Year . Lansbury 's performance has been universally lauded by both film and music critics . While the Dion - Bryson version received mixed reviews from critics who felt that it was inferior to Lansbury 's original , the single became a commercial success , peaking at number nine on the Billboard Hot 100 and becoming the better - known of the two renditions . In addition to returning Disney songs to the pop charts after a thirty - year absence , the success of `` Beauty and the Beast '' also launched Dion 's career and established her as a bankable recording artist . After `` Beauty and the Beast '' became the first Disney song to undergo a complete pop transformation , several contemporary artists were inspired to release their own radio - friendly renditions of Disney songs throughout the decade . Considered to be among Disney 's best and most popular songs , `` Beauty and the Beast '' has since been covered by numerous artists . In 2004 , the American Film Institute officially recognized `` Beauty and the Beast '' as one of the greatest songs in film history , ranking it 62nd . </P> <P> The song is also featured in the 2017 live - action adaptation ; sung by Emma Thompson as Mrs. Potts during the film and also as a duet cover version by Ariana Grande and John Legend during the end credits . Grande and Legend 's version of the song is an homage to the cover performed by Dion and Bryson for the 1991 film . </P> <P> </P> <H2> Contents </H2> ( hide ) <Ul> <Li> 1 Writing and recording </Li> <Li> 2 Animation of the Beauty and the Beast\", 'start': 413, 'stop': 415, 'target': 'SHORT'}\n",
            "{'example_id': '-6992942632997814161', 'part_id': 3, 'question': 'who sang tale as old as time beauty and the beast 2017', 'context': \"known of the two renditions . In addition to returning Disney songs to the pop charts after a thirty - year absence , the success of `` Beauty and the Beast '' also launched Dion 's career and established her as a bankable recording artist . After `` Beauty and the Beast '' became the first Disney song to undergo a complete pop transformation , several contemporary artists were inspired to release their own radio - friendly renditions of Disney songs throughout the decade . Considered to be among Disney 's best and most popular songs , `` Beauty and the Beast '' has since been covered by numerous artists . In 2004 , the American Film Institute officially recognized `` Beauty and the Beast '' as one of the greatest songs in film history , ranking it 62nd . </P> <P> The song is also featured in the 2017 live - action adaptation ; sung by Emma Thompson as Mrs. Potts during the film and also as a duet cover version by Ariana Grande and John Legend during the end credits . Grande and Legend 's version of the song is an homage to the cover performed by Dion and Bryson for the 1991 film . </P> <P> </P> <H2> Contents </H2> ( hide ) <Ul> <Li> 1 Writing and recording </Li> <Li> 2 Animation of the Beauty and the Beast and ballroom sequence </Li> <Li> 3 Music and lyrical interpretation </Li> <Li> 4 Reception <Ul> <Li> 4.1 Critical response </Li> <Li> 4.2 Awards and recognition </Li> </Ul> </Li> <Li> 5 Celine Dion and Peabo Bryson version <Ul> <Li> 5.1 Background and recording </Li> <Li> 5.2 Composition </Li> <Li> 5.3 Reception </Li> <Li> 5.4 Music video </Li> <Li> 5.5 Live performances </Li> <Li> 5.6 Personnel </Li> <Li> 5.7 Formats and track listings </Li> <Li> 5.8 Charts and certifications <Ul> <Li> 5.8. 1 Weekly charts </Li> <Li> 5.8. 2 Year - end charts </Li> <Li> 5.8. 3 Certifications and sales </Li> </Ul> </Li> <Li> 5.9 Release history </Li> </Ul> </Li> <Li> 6 Ariana Grande and John Legend version <Ul> <Li> 6.1 Charts </Li> </Ul> </Li> <Li> 7 Covers and use in media </Li> <Li> 8 Impact and legacy <Ul> <Li> 8.1 Parodies </Li> </Ul> </Li> <Li> 9 See also </Li> <Li> 10 References </Li> </Ul> <P> </P> <H2> Writing and recording ( edit ) </H2> At first English actress Angela Lansbury was hesitant to record `` Beauty and the Beast '' because it had been written in a style with which she was unfamiliar ; she ultimately recorded the song in one take . <P> `` Beauty and the Beast '' was written by lyricist Howard Ashman and composer Alan Menken in 1990 . Intending for the song to be `` the height of simplicity '' , the songwriters drew much of its influence from Broadway music . Due to Ashman 's failing health , some of Beauty\", 'start': 157, 'stop': 159, 'target': 'SHORT'}\n",
            "{'example_id': '-6992942632997814161', 'part_id': 97, 'question': 'who sang tale as old as time beauty and the beast 2017', 'context': \"</Li> <Li> Jump up ^ Scott , Tony . `` The Critic '' . Variety . </Li> <Li> Jump up ^ `` SPIN '' . google.com.au . </Li> <Li> Jump up ^ `` The Critic : The Complete Series Animated Views '' . animatedviews.com . </Li> <Li> Jump up ^ Arbeiter , Michael . `` The Best Parodies of Disney Songs from Cartoons '' . Hollywood.com . </Li> <Li> Jump up ^ `` The Critic : It Did n't Stink ! '' . </Li> <Li> Jump up ^ Uhlich , Keith ( February 3 , 2004 ) . `` The Critic : The Complete Series - DVD Review - Slant Magazine '' . Slant Magazine . </Li> <Li> Jump up ^ `` < link rel = '' SHORTCUT ICON '' type = ' image / x-icon ' href = `` http://www.cantstopthemovies.com/wp-content/uploads/2014/10/favicon3.png '' / > < title > The Critic - `` The Pilot '' - Ca n't Stop the Movies `` . Ca n't Stop the Movies . </Li> <Li> Jump up ^ Weintraub , Steve ( November 21 , 2007 ) . `` Stephen Schwartz and Alan Menken Interview -- ENCHANTED '' . Collider.com . Complex Media , Inc . Retrieved August 7 , 2015 . </Li> <Li> Jump up ^ Giere , Carol de ( 2008 ) . Defying Gravity : The Creative Career of Stephen Schwartz , from Godspell to Wicked . United States : Applause Theatre & Cinema . ISBN 9781458414168 . </Li> <Li> Jump up ^ Roberts , Sheila . `` Stephen Schwartz & Alan Menken Interview , Enchanted '' . MoviesOnline . Archived from the original on December 24 , 2007 . Retrieved August 7 , 2015 . </Li> <Li> Jump up ^ Heller , Corrine ( March 21 , 2015 ) . `` Ariana Grande Does Céline Dion Impression , Sings `` Beauty and the Beast '' With Jimmy Fallon -- Watch ! `` . E !. E ! Entertainment Television , LLC . Retrieved May 26 , 2015 . </Li> <Li> Jump up ^ `` Ariana Grande Covers ' Tale As Old As Time ' From ' Beauty & The Beast ' '' . M Magazine . March 29 , 2015 . </Li> <Li> Jump up ^ Keyte , Rhiannon ( March 21 , 2015 ) . `` Ariana Grande 's Celine Dion Impression Will Blow Your Mind ! '' . 2DayFM . </Li> <Li> Jump up ^ `` Ariana Grande impersonated Celine Dion 's ' Beauty and the Beast ' on The Tonight Show with Jimmy Fallon '' . Sugarscape . </Li> <Li> Jump up ^ `` Ariana Grande '' . Billboard . </Li> <Li> Jump up ^ `` Ariana Grande 's killer impression of Celine Dion '' . ninemsn.com.au . </Li> <Li> Jump up ^ `` Ariana Grande Impersonates Celine Dion '' . Access Hollywood . March 21 , 2015 . </Li> <Li> Jump up ^ `` Tale\", 'start': 0, 'stop': 0, 'target': 'NO_ANSWER'}\n"
          ]
        },
        {
          "output_type": "stream",
          "name": "stderr",
          "text": [
            " 26%|██▌       | 80119/307372 [02:01<04:31, 835.84it/s]"
          ]
        },
        {
          "output_type": "stream",
          "name": "stdout",
          "text": [
            "{'example_id': '4069289747244455141', 'part_id': 11, 'question': 'when did man utd last win premier league', 'context': \"also won the Intercontinental Cup after beating Palmeiras 1 -- 0 in Tokyo . Ferguson was subsequently knighted for his services to football . </P> <P> Manchester United won the league again in the 1999 -- 2000 and 2000 -- 01 seasons . The team finished third in 2001 -- 02 , before regaining the title in 2002 -- 03 . They won the 2003 -- 04 FA Cup , beating Millwall 3 -- 0 in the final at the Millennium Stadium in Cardiff to lift the trophy for a record 11th time . In the 2005 -- 06 season , Manchester United failed to qualify for the knockout phase of the UEFA Champions League for the first time in over a decade , but recovered to secure a second - place league finish and victory over Wigan Athletic in the 2006 Football League Cup Final . The club regained the Premier League in the 2006 -- 07 and 2007 -- 08 seasons , and completed the European double by beating Chelsea 6 -- 5 on penalties in the 2008 UEFA Champions League Final in Moscow 's Luzhniki Stadium . Ryan Giggs made a record 759th appearance for the club in this game , overtaking previous record holder Bobby Charlton . In December 2008 , the club won the 2008 FIFA Club World Cup and followed this with the 2008 -- 09 Football League Cup , and its third successive Premier League title . That summer , Cristiano Ronaldo was sold to Real Madrid for a world record £ 80 million . In 2010 , Manchester United defeated Aston Villa 2 -- 1 at Wembley to retain the League Cup , its first successful defence of a knockout cup competition . </P> <P> After finishing as runner - up to Chelsea in the 2009 -- 10 season , United achieved a record 19th league title in 2010 -- 11 , securing the championship with a 1 -- 1 away draw against Blackburn Rovers on 14 May 2011 . This was extended to 20 league titles in 2012 -- 13 , securing the championship with a 3 -- 0 home win against Aston Villa on 22 April 2013 . </P> <H3> 2013 -- Present </H3> <P> On 8 May 2013 , Ferguson announced that he was to retire as manager at the end of the football season , but would remain at the club as a director and club ambassador . The club announced the next day that Everton manager David Moyes would replace him from 1 July , having signed a six - year contract . Ryan Giggs took over as interim player - manager 10 months later , on 22 April 2014 , when Moyes was sacked after a poor season in which the club failed to defend their Premier League title and failed to qualify for the UEFA Champions League for the first time since 1995 -- 96 . They\", 'start': 364, 'stop': 367, 'target': 'SHORT'}\n",
            "{'example_id': '4069289747244455141', 'part_id': 12, 'question': 'when did man utd last win premier league', 'context': \"world record £ 80 million . In 2010 , Manchester United defeated Aston Villa 2 -- 1 at Wembley to retain the League Cup , its first successful defence of a knockout cup competition . </P> <P> After finishing as runner - up to Chelsea in the 2009 -- 10 season , United achieved a record 19th league title in 2010 -- 11 , securing the championship with a 1 -- 1 away draw against Blackburn Rovers on 14 May 2011 . This was extended to 20 league titles in 2012 -- 13 , securing the championship with a 3 -- 0 home win against Aston Villa on 22 April 2013 . </P> <H3> 2013 -- Present </H3> <P> On 8 May 2013 , Ferguson announced that he was to retire as manager at the end of the football season , but would remain at the club as a director and club ambassador . The club announced the next day that Everton manager David Moyes would replace him from 1 July , having signed a six - year contract . Ryan Giggs took over as interim player - manager 10 months later , on 22 April 2014 , when Moyes was sacked after a poor season in which the club failed to defend their Premier League title and failed to qualify for the UEFA Champions League for the first time since 1995 -- 96 . They also failed to qualify for the Europa League , meaning that it was the first time Manchester United had n't qualified for a European competition since 1990 . On 19 May 2014 , it was confirmed that Louis van Gaal would replace Moyes as Manchester United manager on a three - year deal , with Giggs as his assistant . Malcolm Glazer , the patriarch of the Glazer family that owns the club , died on 28 May 2014 . </P> <P> Although Van Gaal 's first season saw United once again qualify for the Champions League through a fourth - place finish in the Premier League , his second season saw United go out of the same tournament in the group stage . United also fell behind in the title race for the third consecutive season , finishing in 5th place , in spite of several expensive signings during Van Gaal 's tenure . However , that same season , Manchester United won the FA Cup for a 12th time . Despite this victory , Van Gaal was sacked as manager just two days later , with José Mourinho appointed in his place on 27 May , signing a three - year contract . That season , United finished in sixth place while winning the EFL Cup for the fifth time and the Europa League for the first time , as well as the FA Community Shield for a record 21st time . Wayne Rooney scored his 250th goal with United , surpassing Sir Bobby\", 'start': 108, 'stop': 111, 'target': 'SHORT'}\n",
            "{'example_id': '4069289747244455141', 'part_id': 35, 'question': 'when did man utd last win premier league', 'context': '<Td> Sam Johnstone ( at Aston Villa until 30 June 2018 ) </Td> </Tr> <Tr> <Td> 38 </Td> <Td> </Td> <Td> DF </Td> <Td> Axel Tuanzebe ( at Aston Villa until 30 June 2018 ) </Td> </Tr> </Table> </Td> </Tr> </Table> <H3> Reserves and academy </H3> Further information : Manchester United F.C. Reserves and Academy <H3> Former players </H3> Further information : List of Manchester United F.C. players and Category : Manchester United F.C. players <H3> Club captains </H3> Further information : List of Manchester United F.C. players § Club captains <H3> Player records </H3> Further information : List of Manchester United F.C. records and statistics <H3> Sir Matt Busby Player of the Year </H3> Further information : Sir Matt Busby Player of the Year <H2> Club officials </H2> <Ul> <Li> Owner : Glazer family via Red Football Shareholder Limited </Li> <Li> Honorary president : Martin Edwards </Li> </Ul> <Dl> <Dt> Manchester United Limited </Dt> </Dl> <Ul> <Li> Co-chairmen : Avram Glazer and Joel Glazer </Li> <Li> Executive vice chairman : Ed Woodward </Li> <Li> Group managing director : Richard Arnold </Li> <Li> Chief financial officer : Cliff Baty </Li> <Li> Non-executive directors : Bryan Glazer , Kevin Glazer , Edward Glazer , Darcie Glazer Kassewitz , Robert Leitão , John Hooks and Manu Sawhney </Li> </Ul> <Dl> <Dt> Manchester United Football Club </Dt> </Dl> <Ul> <Li> Directors : David Gill , Michael Edelson , Sir Bobby Charlton , Sir Alex Ferguson </Li> <Li> Club secretary : John Alexander </Li> <Li> Club ambassadors : Andy Cole , Gary Neville , Bryan Robson , Peter Schmeichel , Bobby Charlton , Alex Ferguson , Park Ji - sung , Dwight Yorke , Nemanja Vidić </Li> </Ul> <Table> <Tr> <Td> <Dl> <Dt> Senior club staff </Dt> </Dl> <Ul> <Li> Director of Group Operations : Alan Dawson MBE </Li> <Li> Director of Communications : Phil Townsend </Li> <Li> Director of Legal and Business Affairs : Patrick Stewart </Li> <Li> Director of Finance and IT : Steve Deaville </Li> <Li> Director of Venue : David French </Li> <Li> Director of Partnerships : Sean Jefferson </Li> <Li> CEO of Media : Phil Lynch </Li> <Li> Ticket office manager : Sam Kelleher </Li> <Li> Safety officer : Charlie Coxon </Li> <Li> Stadium manager : Ian Collins </Li> <Li> Grounds manager : Anthony Sinclair </Li> </Ul> <Dl> <Dt> Coaching staff </Dt> </Dl> <Ul> <Li> Manager : José Mourinho </Li> <Li> Assistant manager : Rui Faria </Li> <Li> Coach : Silvino Louro </Li> <Li> Coach : Ricardo Formosinho </Li> <Li> Goalkeeping coach : Emilio Alvarez </Li> <Li> Fitness coach : Carlos Lalin </Li> <Li> Tactical analyst : Giovanni Cerra </Li> <Li> Head of first - team development : John Murtough </Li> </Ul> <Dl> <Dt> Scouting Staff </Dt> </Dl> <Ul> <Li> Chief scout : Jim Lawlor </Li> <Li> Head of global scouting : Marcel Bout </Li> <Li> Scouts : Gerado Guzmán , Sandro Orlandelli , Tommy Møller Nielsen , Javier Ribalta </Li>', 'start': 0, 'stop': 0, 'target': 'NO_ANSWER'}\n",
            "{'example_id': '4069289747244455141', 'part_id': 38, 'question': 'when did man utd last win premier league', 'context': \"Main article : List of Manchester United F.C. managers <Table> <Tr> <Th> Dates </Th> <Th> Name </Th> <Th> Notes </Th> </Tr> <Tr> <Td> 1878 -- 1892 </Td> <Td> Unknown </Td> <Td> </Td> </Tr> <Tr> <Td> 1892 -- 1900 </Td> <Td> A.H. Albut </Td> <Td> </Td> </Tr> <Tr> <Td> 1900 -- 1903 </Td> <Td> James West </Td> <Td> </Td> </Tr> <Tr> <Td> 1903 -- 1912 </Td> <Td> Ernest Mangnall </Td> <Td> </Td> </Tr> <Tr> <Td> 1912 -- 1914 </Td> <Td> John Bentley </Td> <Td> </Td> </Tr> <Tr> <Td> 1914 -- 1921 </Td> <Td> Jack Robson </Td> <Td> </Td> </Tr> <Tr> <Td> 1921 -- 1926 </Td> <Td> John Chapman </Td> <Td> </Td> </Tr> <Tr> <Td> 1926 -- 1927 </Td> <Td> Lal Hilditch </Td> <Td> Player - manager </Td> </Tr> <Tr> <Td> 1927 -- 1931 </Td> <Td> Herbert Bamlett </Td> <Td> </Td> </Tr> <Tr> <Td> 1931 -- 1932 </Td> <Td> Walter Crickmer </Td> <Td> </Td> </Tr> <Tr> <Td> 1932 -- 1937 </Td> <Td> Scott Duncan </Td> <Td> </Td> </Tr> <Tr> <Td> 1937 -- 1945 </Td> <Td> Walter Crickmer </Td> <Td> </Td> </Tr> <Tr> <Td> 1945 -- 1969 </Td> <Td> Matt Busby </Td> <Td> </Td> </Tr> <Tr> <Td> 1969 -- 1970 </Td> <Td> Wilf McGuinness </Td> <Td> </Td> </Tr> <Tr> <Td> 1970 -- 1971 </Td> <Td> Matt Busby </Td> <Td> </Td> </Tr> <Tr> <Td> 1971 -- 1972 </Td> <Td> Frank O'Farrell </Td> <Td> </Td> </Tr> <Tr> <Td> 1972 -- 1977 </Td> <Td> Tommy Docherty </Td> <Td> </Td> </Tr> <Tr> <Td> 1977 -- 1981 </Td> <Td> Dave Sexton </Td> <Td> </Td> </Tr> <Tr> <Td> 1981 -- 1986 </Td> <Td> Ron Atkinson </Td> <Td> </Td> </Tr> <Tr> <Td> 1986 -- 2013 </Td> <Td> Alex Ferguson </Td> <Td> </Td> </Tr> <Tr> <Td> 2013 -- 2014 </Td> <Td> David Moyes </Td> <Td> </Td> </Tr> <Tr> <Td> 2014 </Td> <Td> Ryan Giggs </Td> <Td> Interim player - manager </Td> </Tr> <Tr> <Td> 2014 -- 2016 </Td> <Td> Louis van Gaal </Td> <Td> </Td> </Tr> <Tr> <Td> 2016 -- </Td> <Td> José Mourinho </Td> <Td> </Td> </Tr> </Table> <H2> Honours </H2> Winners ' and runners - up medals from Manchester United 's UEFA Champions League final appearances in 2008 , 2009 and 2011 <P> Manchester United are one of the most successful clubs in Europe . The club 's first trophy was the Manchester Cup , which it won as Newton Heath LYR in 1886 . In 1908 , the club won its first league title , and won the FA Cup for the first time the following year . Manchester United won the most trophies in the 1990s ; five league titles , four FA Cups , one League Cup , five Charity Shields ( one shared ) , one UEFA Champions League , one UEFA Cup Winners ' Cup , one UEFA Super Cup and one Intercontinental Cup . </P> <P> The club holds the record for most top - division titles ( 20 ) -- including a record 13\", 'start': 0, 'stop': 0, 'target': 'NO_ANSWER'}\n"
          ]
        },
        {
          "output_type": "stream",
          "name": "stderr",
          "text": [
            " 33%|███▎      | 100200/307372 [02:30<04:03, 851.97it/s]"
          ]
        },
        {
          "output_type": "stream",
          "name": "stdout",
          "text": [
            "{'example_id': '687969463584927575', 'part_id': 0, 'question': 'vice president role as president of the senate', 'context': 'Vice president of the United States - wikipedia <H1> Vice president of the United States </H1> Jump to : navigation , search For a list of office - holders , see List of Vice Presidents of the United States . <Table> <Tr> <Th_colspan=\"2\"> Vice President of the United States of America </Th> </Tr> <Tr> <Td_colspan=\"2\"> Vice Presidential seal </Td> </Tr> <Tr> <Td_colspan=\"2\"> Vice Presidential standard </Td> </Tr> <Tr> <Td_colspan=\"2\"> Incumbent Mike Pence since January 20 , 2017 </Td> </Tr> <Tr> <Td_colspan=\"2\"> Executive branch of the U.S. government Office of the Vice President </Td> </Tr> <Tr> <Th> Style </Th> <Td> Mr. Vice President ( Informal ) The Honorable ( Formal ) Mr. President ( When presiding over Senate ) His Excellency ( In international correspondence ) </Td> </Tr> <Tr> <Th> Member of </Th> <Td> Cabinet National Security Council President of the U.S. Senate </Td> </Tr> <Tr> <Th> Residence </Th> <Td> Number One Observatory Circle </Td> </Tr> <Tr> <Th> Seat </Th> <Td> Washington , D.C. </Td> </Tr> <Tr> <Th> Appointer </Th> <Td> Electoral College </Td> </Tr> <Tr> <Th> Term length </Th> <Td> 4 years </Td> </Tr> <Tr> <Th> Constituting instrument </Th> <Td> U.S. Constitution </Td> </Tr> <Tr> <Th> Inaugural holder </Th> <Td> John Adams ( April 21 , 1789 ) </Td> </Tr> <Tr> <Th> Formation </Th> <Td> March 4 , 1789 ( 228 years ago ) ( 1789 - 03 - 04 ) </Td> </Tr> <Tr> <Th> Succession </Th> <Td> First </Td> </Tr> <Tr> <Th> Salary </Th> <Td> $230,700 </Td> </Tr> <Tr> <Th> Website </Th> <Td> WhiteHouse.gov </Td> </Tr> </Table> <P> The Vice President of the United States ( informally referred to as VPOTUS , or Veep ) is a constitutional officer in the legislative branch of the federal government of the United States as the President of the Senate under Article One , Section Three of the U.S. Constitution . </P> <P> The vice president is a statutory member of the National Security Council under the National Security Act of 1947 , and through the 25th Amendment is the highest - ranking official in the presidential line of succession in the executive branch of the federal government . The executive power of both the vice president and the president is granted under Article Two , Section One of the Constitution . The vice president is indirectly elected , together with the president , to a four - year term of office by the people of the United States through the Electoral College . The Office of the Vice President of the United States assists and organizes the vice president \\'s official functions . </P> <P> As the president of the United States Senate , the vice president votes only when it is necessary to break a tie . While Senate customs have created supermajority rules that have diminished this constitutional tie - breaking authority , the vice president still retains the ability to influence legislation ; for example , the Deficit Reduction Act', 'start': 385, 'stop': 400, 'target': 'SHORT'}\n",
            "{'example_id': '687969463584927575', 'part_id': 1, 'question': 'vice president role as president of the senate', 'context': \"</Tr> </Table> <P> The Vice President of the United States ( informally referred to as VPOTUS , or Veep ) is a constitutional officer in the legislative branch of the federal government of the United States as the President of the Senate under Article One , Section Three of the U.S. Constitution . </P> <P> The vice president is a statutory member of the National Security Council under the National Security Act of 1947 , and through the 25th Amendment is the highest - ranking official in the presidential line of succession in the executive branch of the federal government . The executive power of both the vice president and the president is granted under Article Two , Section One of the Constitution . The vice president is indirectly elected , together with the president , to a four - year term of office by the people of the United States through the Electoral College . The Office of the Vice President of the United States assists and organizes the vice president 's official functions . </P> <P> As the president of the United States Senate , the vice president votes only when it is necessary to break a tie . While Senate customs have created supermajority rules that have diminished this constitutional tie - breaking authority , the vice president still retains the ability to influence legislation ; for example , the Deficit Reduction Act of 2005 was passed in the Senate by a tie - breaking vice presidential vote . </P> <P> While the vice president 's only constitutionally prescribed functions aside from presidential succession relate to their role as President of the Senate , the role of the vice president evolved during the 20th century into more of an executive branch position . Currently , the vice president is usually seen as an integral part of a president 's administration and presides over the Senate only on ceremonial occasions or when a tie - breaking vote may be needed . The Constitution does not expressly assign the office to any one branch , causing a dispute among scholars whether it belongs to the executive branch , the legislative branch , or both . The modern view of the vice president as a member of the executive branch is due in part to the assignment of executive duties to the vice president by either the president or Congress . </P> <P> Mike Pence of Indiana is the 48th and current vice president . He assumed office on January 20 , 2017 . </P> <P> </P> <H2> Contents </H2> ( hide ) <Ul> <Li> 1 Origin </Li> <Li> 2 Roles of the vice president <Ul> <Li> 2.1 President of the United States Senate <Ul> <Li> 2.1. 1 Regular duties </Li> <Li> 2.1. 2 Recurring , infrequent duties </Li> </Ul> </Li> <Li> 2.2 Succession and the Twenty - Fifth Amendment </Li> <Li> 2.3 Informal roles <Ul> <Li> 2.3. 1 Office as stepping\", 'start': 129, 'stop': 144, 'target': 'SHORT'}\n",
            "{'example_id': '687969463584927575', 'part_id': 25, 'question': 'vice president role as president of the senate', 'context': \"votes possible . Main article : Electoral College ( United States ) <P> Vice presidents are elected indirectly in the United States . A number of electors , collectively known as the Electoral College , officially select the president and vice president . On Election Day , voters in each of the states and the District of Columbia cast ballots for these electors . Each state is allocated a number of electors , equal to the size of its delegation in both Houses of Congress combined . Generally , the ticket that wins the most votes in a state wins all of that state 's electoral votes and thus has its slate of electors chosen to vote in the Electoral College . </P> <P> The winning slate of electors meet at its state 's capital on the first Monday after the second Wednesday in December , about six weeks after the election , to vote . They then send a record of that vote to Congress . The vote of the electors is opened by the sitting vice president , acting in his capacity as President of the Senate and read aloud to a joint session of the incoming Congress , which was elected at the same time as the president and vice president . </P> <H3> Oath and tenure ( edit ) </H3> <P> Pursuant to the Twentieth Amendment , the vice president 's term of office begins at noon on January 20 of the year following the election . This date , known as Inauguration Day , marks the beginning of the four - year terms of both the president and vice president . </P> <P> Although Article VI requires that the vice president take an oath or affirmation of allegiance to the US Constitution , unlike the president , the United States Constitution does not specify the precise wording of the oath of office for the vice president . Several variants of the oath have been used since 1789 ; the current form , which is also recited by Senators , Representatives and other government officers , has been used since 1884 : </P> <P> I , ( first name last name ) , do solemnly swear ( or affirm ) that I will support and defend the Constitution of the United States against all enemies , foreign and domestic ; that I will bear true faith and allegiance to the same ; that I take this obligation freely , without any mental reservation or purpose of evasion ; and that I will well and faithfully discharge the duties of the office on which I am about to enter . So help me God . </P> <P> The term of office for vice president is four years . While the Twenty - Second Amendment generally restricts the president to two terms , there is no such limitation on the office of vice president , meaning an eligible person could\", 'start': 0, 'stop': 0, 'target': 'NO_ANSWER'}\n"
          ]
        },
        {
          "output_type": "stream",
          "name": "stderr",
          "text": [
            " 41%|████      | 125175/307372 [03:08<04:01, 754.71it/s]"
          ]
        },
        {
          "output_type": "stream",
          "name": "stdout",
          "text": [
            "{'example_id': '-4508291966620018192', 'part_id': 0, 'question': 'where are the highest temperatures on earth recorded', 'context': \"Highest temperature recorded on Earth - wikipedia <H1> Highest temperature recorded on Earth </H1> Furnace Creek Ranch , the location of the highest recording <P> According to the World Meteorological Organization ( WMO ) , the highest confirmed air temperature on Earth was 56.7 ° C ( 134.1 ° F ) in Furnace Creek Ranch , California , located in the Death Valley desert in the United States , on July 10 , 1913 . While measuring air temperature is standard , there are two other main ways that a temperature can be recorded . </P> <H2> Contents </H2> ( hide ) <Ul> <Li> 1 Measurements <Ul> <Li> 1.1 Air and ground temperature </Li> <Li> 1.2 Satellite measurements </Li> </Ul> </Li> <Li> 2 Unverified claims </Li> <Li> 3 See also </Li> <Li> 4 References </Li> </Ul> <H2> Measurements ( edit ) </H2> <H3> Air and ground temperature ( edit ) </H3> <P> The standard measuring conditions for temperature are in the air , 1.5 meters above the ground , and shielded from direct sunlight . From 1922 until 2012 , the WMO record for the highest official temperature on Earth was 57.8 ° C ( 136.0 ° F ) , registered on September 13 , 1922 in ' Aziziya , Libya . In January 2012 , the WMO decertified the 1922 record , citing persuasive evidence that it was a faulty reading recorded in error by an inexperienced observer . Christopher C. Burt , the weather historian writing for Weather Underground who shepherded the Libya reading 's 2012 disqualification , believes that the 1913 Death Valley reading is also `` a myth '' , and is at least 4 to 5 ° F ( 2.2 to 2.8 ° C ) too high . This same conclusion has also been reached by historians Dr. Arnold Court and William Taylor Reid . If the 1913 record were to be decertified , the current highest recorded temperature on Earth would be 54.0 ° C ( 129.2 ° F ) , recorded both in Death Valley on June 20 , 2013 , and in Mitribah , Kuwait on July 21 , 2016 . Temperatures measured directly on the ground may exceed air temperatures by 30 to 50 ° C. The theoretical maximum possible ground surface temperature has been estimated to be between 90 and 100 ° C ( between 194 and 212 ° F ) for dry , darkish soils of low thermal conductivity . While there is no highest confirmed ground temperature , a reading of 93.9 ° C ( 201 ° F ) was allegedly recorded in Furnace Creek Ranch on July 15 , 1972 . </P> <H3> Satellite measurements ( edit ) </H3> <P> Temperature measurements via satellite also tend to capture occurrence of higher records but , due to complications involving satellite 's altitude loss ( a side effect of atmospheric friction ) , these measurements are often considered less reliable than\", 'start': 340, 'stop': 353, 'target': 'SHORT'}\n",
            "{'example_id': '-4508291966620018192', 'part_id': 1, 'question': 'where are the highest temperatures on earth recorded', 'context': \"'s 2012 disqualification , believes that the 1913 Death Valley reading is also `` a myth '' , and is at least 4 to 5 ° F ( 2.2 to 2.8 ° C ) too high . This same conclusion has also been reached by historians Dr. Arnold Court and William Taylor Reid . If the 1913 record were to be decertified , the current highest recorded temperature on Earth would be 54.0 ° C ( 129.2 ° F ) , recorded both in Death Valley on June 20 , 2013 , and in Mitribah , Kuwait on July 21 , 2016 . Temperatures measured directly on the ground may exceed air temperatures by 30 to 50 ° C. The theoretical maximum possible ground surface temperature has been estimated to be between 90 and 100 ° C ( between 194 and 212 ° F ) for dry , darkish soils of low thermal conductivity . While there is no highest confirmed ground temperature , a reading of 93.9 ° C ( 201 ° F ) was allegedly recorded in Furnace Creek Ranch on July 15 , 1972 . </P> <H3> Satellite measurements ( edit ) </H3> <P> Temperature measurements via satellite also tend to capture occurrence of higher records but , due to complications involving satellite 's altitude loss ( a side effect of atmospheric friction ) , these measurements are often considered less reliable than ground - positioned thermometers . The highest recorded temperature taken by a satellite is 66.8 ° C ( 152.2 ° F ) , which was measured in the Flaming Mountains of China in 2008 . Other satellite measurements of ground temperature taken between 2003 and 2009 , taken with the MODIS infrared spectroradiometer on the Aqua satellite , found a maximum temperature of 70.7 ° C ( 159.3 ° F ) , which was recorded in 2005 in the Lut Desert , Iran . The Lut Desert was also found to have the highest maximum temperature in 5 of the 7 years measured ( 2004 , 2005 , 2006 , 2007 and 2009 ) . These measurements reflect averages over a large region and so are lower than the maximum point surface temperature . </P> <H2> Unverified claims ( edit ) </H2> <P> The following are unverified claims of extreme heat over the current world record of 56.7 ° C ( 134.1 ° F ) . </P> <Table> <Tr> <Th> Date </Th> <Th> Temperature ° C / ° F </Th> <Th> Type </Th> <Th> Cause </Th> <Th> Location </Th> <Th> Description </Th> </Tr> <Tr> <Td> July 11 , 1909 </Td> <Td> 57.8 ° C ( 136.0 ° F ) </Td> <Td> Air </Td> <Td> Heat burst </Td> <Td> Cherokee , Oklahoma ( United States ) </Td> <Td> This incident was recorded at 3 : 00AM ( CT ) , and reportedly caused crops to desiccate in the area . </Td> </Tr> <Tr> <Td> July 6 ,\", 'start': 84, 'stop': 97, 'target': 'SHORT'}\n"
          ]
        },
        {
          "output_type": "stream",
          "name": "stderr",
          "text": [
            " 42%|████▏     | 130130/307372 [03:15<04:14, 696.24it/s]"
          ]
        },
        {
          "output_type": "stream",
          "name": "stdout",
          "text": [
            "{'example_id': '495212879734966266', 'part_id': 1, 'question': 'when did harry potter and the deathly hallows part 1 come out', 'context': \"<Th> Release date </Th> <Td> <Ul> <Li> 11 November 2010 ( 2010 - 11 - 11 ) ( Odeon Leicester Square ) </Li> <Li> 19 November 2010 ( 2010 - 11 - 19 ) ( United Kingdom & United States ) </Li> <Li> </Li> <Li> </Li> <Li> </Li> </Ul> </Td> </Tr> <Tr> <Th> Running time </Th> <Td> 146 minutes </Td> </Tr> <Tr> <Th> Country </Th> <Td> <Ul> <Li> United Kingdom </Li> <Li> United States </Li> </Ul> </Td> </Tr> <Tr> <Th> Language </Th> <Td> English </Td> </Tr> <Tr> <Th> Budget </Th> <Td> $250 million ( Shared with Part 2 ) </Td> </Tr> <Tr> <Th> Box office </Th> <Td> $960.3 million </Td> </Tr> </Table> <P> Harry Potter and the Deathly Hallows -- Part 1 is a 2010 British - American fantasy film directed by David Yates and distributed by Warner Bros. Pictures . It is the first of two cinematic parts based on the novel of the same name by J.K. Rowling and features an ensemble cast . The film , which is the seventh and penultimate installment in the Harry Potter film series , was written by Steve Kloves and produced by David Heyman , David Barron , and Rowling . </P> <P> The film stars Daniel Radcliffe as Harry Potter , with Rupert Grint and Emma Watson , respectively , reprising roles as Harry 's best friends Ron Weasley and Hermione Granger . It is the sequel to Harry Potter and the Half - Blood Prince and is followed by the concluding entry , Harry Potter and the Deathly Hallows -- Part 2 . </P> <P> The story follows Harry Potter who has been tasked by Dumbledore with finding and destroying Lord Voldemort 's secret to immortality -- the Horcruxes . Filming began on 19 February 2009 ( 2009 - 02 - 19 ) and was completed on 12 June 2010 ( 2010 - 06 - 12 ) . Part 1 was released in 2D cinemas and IMAX formats worldwide on 19 November 2010 . </P> <P> In the film 's worldwide opening weekend , Part 1 grossed $330 million , the third - highest in the series , and the highest opening of 2010 , as well as the eighth - highest of all time . With a worldwide gross of $960 million , Part 1 is the third - highest - grossing film of 2010 , behind Toy Story 3 and Alice in Wonderland , and the third - highest - grossing Harry Potter film in terms of worldwide totals , behind Deathly Hallows -- Part 2 and Philosopher 's Stone , and the 37th highest - grossing film of all - time . The film received two nominations at the 83rd Academy Awards : Best Visual Effects and Best Art Direction . </P> <P> </P> <H2> Contents </H2> ( hide ) <Ul> <Li> 1 Plot </Li> <Li> 2 Cast </Li> <Li> 3 Production <Ul> <Li>\", 'start': 331, 'stop': 334, 'target': 'SHORT'}\n",
            "{'example_id': '495212879734966266', 'part_id': 2, 'question': 'when did harry potter and the deathly hallows part 1 come out', 'context': \"and the Deathly Hallows -- Part 2 . </P> <P> The story follows Harry Potter who has been tasked by Dumbledore with finding and destroying Lord Voldemort 's secret to immortality -- the Horcruxes . Filming began on 19 February 2009 ( 2009 - 02 - 19 ) and was completed on 12 June 2010 ( 2010 - 06 - 12 ) . Part 1 was released in 2D cinemas and IMAX formats worldwide on 19 November 2010 . </P> <P> In the film 's worldwide opening weekend , Part 1 grossed $330 million , the third - highest in the series , and the highest opening of 2010 , as well as the eighth - highest of all time . With a worldwide gross of $960 million , Part 1 is the third - highest - grossing film of 2010 , behind Toy Story 3 and Alice in Wonderland , and the third - highest - grossing Harry Potter film in terms of worldwide totals , behind Deathly Hallows -- Part 2 and Philosopher 's Stone , and the 37th highest - grossing film of all - time . The film received two nominations at the 83rd Academy Awards : Best Visual Effects and Best Art Direction . </P> <P> </P> <H2> Contents </H2> ( hide ) <Ul> <Li> 1 Plot </Li> <Li> 2 Cast </Li> <Li> 3 Production <Ul> <Li> 3.1 Sets </Li> <Li> 3.2 Costumes </Li> <Li> 3.3 Visual effects </Li> <Li> 3.4 Music </Li> </Ul> </Li> <Li> 4 Distribution <Ul> <Li> 4.1 Marketing </Li> <Li> 4.2 Theatrical release </Li> <Li> 4.3 Home media </Li> </Ul> </Li> <Li> 5 Reception <Ul> <Li> 5.1 Box office </Li> <Li> 5.2 Critical response </Li> <Li> 5.3 Accolades </Li> </Ul> </Li> <Li> 6 See also </Li> <Li> 7 References </Li> <Li> 8 External links </Li> </Ul> <P> </P> <H2> Plot ( edit ) </H2> <P> Minister of Magic Rufus Scrimgeour addresses the wizarding media , and states that the Ministry will remain strong , even as Lord Voldemort gains strength . The Death Eaters have made major gains after Dumbledore 's death , committing mass killings of Muggles and infiltrating the Ministry itself . Harry , Ron , and Hermione set out to complete the mission Dumbledore gave Harry by hunting down and destroying Voldemort 's Horcruxes . Meanwhile , Severus Snape informs Lord Voldemort and the Death Eaters of Harry 's impending departure from Privet Drive . Voldemort commandeers Lucius Malfoy 's wand , as Voldemort 's own wand can not be used to kill Harry because they share the same core . </P> <P> The Order of the Phoenix gather and escort Harry to safety , using Polyjuice Potion to create decoy Harrys for the trip . During their flight they all are ambushed by Death Eaters who kill Mad - Eye Moody and Hedwig , injure George Weasley , and knock out Hagrid . After arriving\", 'start': 75, 'stop': 78, 'target': 'SHORT'}\n",
            "{'example_id': '495212879734966266', 'part_id': 45, 'question': 'when did harry potter and the deathly hallows part 1 come out', 'context': '<Li> Quidditch </Li> </Ul> </Td> </Tr> <Tr> <Th> Related works </Th> <Td> <Ul> <Li> Fantastic Beasts and Where to Find Them </Li> <Li> Quidditch Through the Ages </Li> <Li> The Tales of Beedle the Bard </Li> <Li> Prequel </Li> <Li> Pottermore </Li> <Li> The Cursed Child </Li> <Li> Hogwarts : An Incomplete and Unreliable Guide </Li> <Li> Short Stories from Hogwarts of Power , Politics and Pesky Poltergeists </Li> <Li> Short Stories from Hogwarts of Heroism , Hardship and Dangerous Hobbies </Li> </Ul> </Td> </Tr> <Tr> <Th> Games and toys </Th> <Td> <Ul> <Li> Quidditch World Cup </Li> <Li> Lego Creator : Harry Potter </Li> <Li> Lego Harry Potter : Years 1 -- 4 </Li> <Li> Lego Harry Potter : Years 5 -- 7 </Li> <Li> The Philosopher \\'s Stone </Li> <Li> The Chamber of Secrets </Li> <Li> The Prisoner of Azkaban </Li> <Li> The Goblet of Fire </Li> <Li> The Order of the Phoenix </Li> <Li> The Half - Blood Prince </Li> <Li> The Deathly Hallows -- Part 1 </Li> <Li> The Deathly Hallows -- Part 2 </Li> <Li> Book of Spells </Li> <Li> Book of Potions </Li> <Li> Trading Card Game </Li> <Li> Lego Harry Potter </Li> </Ul> </Td> </Tr> <Tr> <Th> Attractions </Th> <Td> <Ul> <Li> The Wizarding World of Harry Potter <Ul> <Li> Orlando </Li> <Li> Japan </Li> <Li> Hollywood </Li> </Ul> </Li> <Li> <Ul> <Li> Dragon Challenge </Li> <Li> Flight of the Hippogriff </Li> <Li> Harry Potter and the Escape from Gringotts </Li> <Li> Harry Potter and the Forbidden Journey </Li> <Li> Hogwarts Express </Li> </Ul> </Li> <Li> Harry Potter Movie Magic Experience </Li> <Li> Warner Bros. Studio Tour London </Li> </Ul> </Td> </Tr> <Tr> <Th> Fandom </Th> <Td> <Ul> <Li> Harry Potter Alliance </Li> <Li> The Leaky Cauldron </Li> <Li> MuggleNet </Li> <Li> LeakyCon </Li> <Li> Wizard rock </Li> <Li> Wrockstock </Li> <Li> Voldemort : Origins of the Heir </Li> </Ul> </Td> </Tr> <Tr> <Th> Related </Th> <Td> <Ul> <Li> Influences and analogues </Li> <Li> Legal disputes </Li> <Li> Parodies </Li> <Li> Politics </Li> <Li> Religious debates </Li> <Li> Translation </Li> <Li> A Very Potter Musical </Li> <Li> The Harry Potter Lexicon </Li> <Li> The Magical Worlds of Harry Potter </Li> <Li> Potter Puppet Pals </Li> </Ul> </Td> </Tr> <Tr> <Td_colspan=\"2\"> <Ul> <Li> Book </Li> <Li> Category </Li> <Li> Portal </Li> </Ul> </Td> </Tr> </Table> <Table> <Tr> <Th_colspan=\"2\"> <Ul> <Li> </Li> <Li> </Li> <Li> </Li> </Ul> Works by J.K. Rowling </Th> </Tr> <Tr> <Th> Harry Potter series </Th> <Td> <Table> <Tr> <Th> Novels </Th> <Td> <Ul> <Li> Philosopher \\'s Stone ( 1997 ) </Li> <Li> Chamber of Secrets ( 1998 ) </Li> <Li> Prisoner of Azkaban ( 1999 ) </Li> <Li> Goblet of Fire ( 2000 ) </Li> <Li> Order of the Phoenix ( 2003 ) </Li> <Li> Half - Blood Prince ( 2005 ) </Li> <Li> Deathly Hallows ( 2007 ) </Li> </Ul> </Td> </Tr> <Tr> <Th> Related works </Th> <Td>', 'start': 0, 'stop': 0, 'target': 'NO_ANSWER'}\n"
          ]
        },
        {
          "output_type": "stream",
          "name": "stderr",
          "text": [
            " 44%|████▍     | 135090/307372 [03:23<04:07, 695.53it/s]"
          ]
        },
        {
          "output_type": "stream",
          "name": "stdout",
          "text": [
            "{'example_id': '2498612561136094537', 'part_id': 0, 'question': 'when was the last time lsu beat alabama', 'context': 'Alabama -- LSU football rivalry - wikipedia <H1> Alabama -- LSU football rivalry </H1> Jump to : navigation , search <Table> Alabama -- LSU football rivalry <Tr> <Td_colspan=\"2\"> <Table> <Tr> <Td> Alabama Crimson Tide </Td> <Td> LSU Tigers </Td> </Tr> </Table> </Td> </Tr> <Tr> <Th> First meeting </Th> <Td> November 18 , 1895 LSU 12 , Alabama 6 </Td> </Tr> <Tr> <Th> Latest meeting </Th> <Td> November 4 , 2017 Alabama 24 , LSU 10 </Td> </Tr> <Tr> <Th> Next meeting </Th> <Td> November 3 , 2018 </Td> </Tr> <Tr> <Th_colspan=\"2\"> Statistics </Th> </Tr> <Tr> <Th> Meetings total </Th> <Td> 82 </Td> </Tr> <Tr> <Th> All - time series </Th> <Td> Alabama leads , 52 -- 25 -- 5 </Td> </Tr> <Tr> <Th> Largest victory </Th> <Td> Alabama , 47 -- 3 ( 1922 ) </Td> </Tr> <Tr> <Th> Longest win streak </Th> <Td> Alabama , 11 ( 1971 -- 81 ) </Td> </Tr> <Tr> <Th> Current win streak </Th> <Td> Alabama , 7 ( 2012 -- present ) </Td> </Tr> </Table> <P> The Alabama -- LSU football rivalry is an American college football rivalry between the Alabama Crimson Tide football team of the University of Alabama and LSU Tigers football team of Louisiana State University . Both schools are charter members of the Southeastern Conference ( SEC ) , and both universities \\' sports teams have competed in the SEC \\'s Western Division since the conference was split into two divisions in 1992 . Alabama leads the series 52 -- 25 -- 5 . </P> <P> </P> <H2> Contents </H2> ( hide ) <Ul> <Li> 1 Series history </Li> <Li> 2 Game results </Li> <Li> 3 See also </Li> <Li> 4 References </Li> </Ul> <P> </P> <H2> Series history ( edit ) </H2> Sideline picture of Alabama vs LSU on November 5th 2011 <P> The series started in 1895 , with a 12 -- 6 win for LSU in Baton Rouge , Louisiana . The rivalry has been played in Baton Rouge ; New Orleans , Louisiana ; Birmingham , Alabama ; Montgomery , Alabama ; Tuscaloosa , Alabama ; and Mobile , Alabama . </P> <P> The teams began playing each other on an annual basis in 1964 , with Alabama playing its home games at Legion Field in Birmingham , and LSU playing its home games on campus at Tiger Stadium . The series has been marked by long stretches where the home team has struggled . Alabama is 26 -- 9 -- 2 against LSU in Baton Rouge ; they went 16 -- 1 -- 1 from 1965 -- 98 . Alabama has gone 6 -- 11 in games played in Alabama since 1982 . LSU has gone 4 -- 14 -- 1 in games played in Louisiana since 1982 . There have been two overtime games each in Tuscaloosa ( 2005 , 2011 ) and Baton Rouge ( 2008 , 2014 ) respectively ; the road team', 'start': 20, 'stop': 172, 'target': 'LONG'}\n"
          ]
        },
        {
          "output_type": "stream",
          "name": "stderr",
          "text": [
            " 46%|████▌     | 140084/307372 [03:31<07:26, 375.06it/s]"
          ]
        },
        {
          "output_type": "stream",
          "name": "stdout",
          "text": [
            "{'example_id': '3742935087110920859', 'part_id': 8, 'question': 'where was opening scene of sound of music filmed', 'context': \"producer Wolfgang Liebeneiner purchased the film rights for $9,000 ( equivalent to $81,000 in 2017 ) , hired George Hurdalek and Herbert Reinecker to write the screenplay , and Franz Grothe to supervise the soundtrack , which consisted of traditional Austrian folk songs . The Trapp Family was released in West Germany on October 9 , 1956 and became a major success . Two years later , Liebeneiner directed a sequel , The Trapp Family in America , and the two pictures became the most successful films in West Germany during the post-war years . Their popularity extended throughout Europe and South America . </P> <P> In 1956 , Paramount Pictures purchased the United States film rights , intending to produce an English - language version with Audrey Hepburn as Maria . The studio eventually dropped its option , but one of its directors , Vincent J. Donehue , proposed the story as a stage musical for Mary Martin . Producers Richard Halliday and Leland Heyward secured the rights and hired playwrights Howard Lindsay and Russel Crouse , who had won the Pulitzer Prize for State of the Union . They approached Richard Rodgers and Oscar Hammerstein II to compose one song for the musical , but the composers felt the two styles -- traditional Austrian folk songs and their composition -- would not work together . They offered to write a complete new score for the entire production if the producers were willing to wait while they completed work on Flower Drum Song . The producers quickly responded that they would wait as long as necessary . The Sound of Music stage musical opened on November 16 , 1959 at the Lunt - Fontanne Theatre in New York City and ran on Broadway for 1,443 performances , winning six Tony Awards , including Best Musical . In June 1960 , Twentieth Century Fox purchased the film adaptation rights to the stage musical for $1.25 million ( equivalent to $10,300,000 in 2017 ) against ten percent of the gross . </P> <H2> Production ( edit ) </H2> <P> For the film , Richard Rodgers added two new songs , `` I Have Confidence '' and `` Something Good '' , for which he wrote the lyrics as well as the music ( Hammerstein having died in August 1960 ) , while three of the original stage songs were omitted , `` How Can Love Survive '' , `` No Way To Stop It '' and `` An Ordinary Couple '' . Arranger and conductor Irwin Kostal prerecorded the songs with a large orchestra and singers on a stage prior to the start of filming , and later adapted instrumental underscore passages based on the songs . Choreographers Marc Breaux and Dee Dee Wood , who had worked with Andrews on Mary Poppins , worked out all new choreography sequences that incorporated many of the Salzburg locations and settings . The Sound\", 'start': 0, 'stop': 0, 'target': 'NO_ANSWER'}\n",
            "{'example_id': '3742935087110920859', 'part_id': 16, 'question': 'where was opening scene of sound of music filmed', 'context': \"musical arranger Irwin Kostal prerecorded the songs with a large orchestra and singers on a stage prior to the start of filming . In her book , The Sound of Music : The Making of America 's Favorite Movie , Julia Antopol Hirsch says that Kostal used seven children and five adults to record the children 's voices ; the only scene where the child - actors actually sing is when they sing `` The Sound of Music '' on their own after Maria leaves . Charmian Carr refuted the claim that the voices of the child actors were dubbed in the film and on the soundtrack . Carr contended that all of the children who are in the film sing on the track , but four other children were added to most of the songs to give them a fuller sound , they did not replace them as singers . The voices of some of the adult actors had voice doubles , including Peggy Wood and Christopher Plummer . </P> <H3> Filming and post-production ( edit ) </H3> Schloss Leopoldskron , where scenes representing the lakefront terrace and gardens of the von Trapp villa were filmed <P> Principal photography began on March 26 , 1964 at 20th Century Fox studios in Los Angeles , where scenes from Maria 's bedroom and the abbey cloister and graveyard were filmed . The company then flew to Salzburg where filming resumed on April 23 at Mondsee Abbey for the wedding scenes . From April 25 through May 22 , scenes were filmed at the Felsenreitschule , Nonnberg Abbey , Mirabell Palace Gardens , Residence Fountain , and various street locations throughout the Altstadt ( Old Town ) area of the city . Wise faced opposition from city leaders who opposed him staging scenes with swastika banners . They relented after he threatened instead to include actual newsreel footage of crowds cheering Hitler during a visit to the town . On days when it rained -- a constant challenge for the company -- Wise arranged for scenes to be shot at St. Margarethen Chapel and Dürer Studios ( Reverend Mother 's office ) . From May 23 to June 7 , the company worked at Schloss Leopoldskron and an adjacent property called Bertelsmann for scenes representing the lakeside terrace and gardens of the von Trapp villa . From June 9 to 19 , scenes were shot at Frohnburg Palace which represented the front and back façades of the villa . The `` Do - Re-Mi '' picnic scene in the mountains was filmed above the town of Werfen in the Salzach River valley on June 25 and 27 . The opening sequence of Maria on her mountain was filmed from June 28 to July 2 at Mehlweg mountain near the town of Marktschellenberg in Bavaria . The final scene of the von Trapp family escaping over the mountains was filmed on the Obersalzberg in\", 'start': 462, 'stop': 472, 'target': 'SHORT'}\n",
            "{'example_id': '3742935087110920859', 'part_id': 17, 'question': 'where was opening scene of sound of music filmed', 'context': \", scenes were filmed at the Felsenreitschule , Nonnberg Abbey , Mirabell Palace Gardens , Residence Fountain , and various street locations throughout the Altstadt ( Old Town ) area of the city . Wise faced opposition from city leaders who opposed him staging scenes with swastika banners . They relented after he threatened instead to include actual newsreel footage of crowds cheering Hitler during a visit to the town . On days when it rained -- a constant challenge for the company -- Wise arranged for scenes to be shot at St. Margarethen Chapel and Dürer Studios ( Reverend Mother 's office ) . From May 23 to June 7 , the company worked at Schloss Leopoldskron and an adjacent property called Bertelsmann for scenes representing the lakeside terrace and gardens of the von Trapp villa . From June 9 to 19 , scenes were shot at Frohnburg Palace which represented the front and back façades of the villa . The `` Do - Re-Mi '' picnic scene in the mountains was filmed above the town of Werfen in the Salzach River valley on June 25 and 27 . The opening sequence of Maria on her mountain was filmed from June 28 to July 2 at Mehlweg mountain near the town of Marktschellenberg in Bavaria . The final scene of the von Trapp family escaping over the mountains was filmed on the Obersalzberg in the Bavarian Alps . </P> The Sound of Music gazebo at Hellbrunn Palace in Salzburg was moved here from its original location at Schloss Leopoldskron . <P> The cast and crew flew back to Los Angeles and resumed filming at Fox studios on July 6 for all remaining scenes , including those in the villa dining room , ballroom , terrace , living room , and gazebo . Following the last two scenes shot in the gazebo -- for the songs `` Something Good '' and `` You Are Sixteen '' -- principal photography concluded on September 1 , 1964 . A total of eighty - three scenes were filmed in just over five months . Post-production work began on August 25 with three weeks of dialogue dubbing to correct lines that were ruined by various street noises and rain . In October , Christopher Plummer 's singing voice was dubbed by veteran Disney playback singer Bill Lee . The film was then edited by Wise and film editor William Reynolds . Once the film was edited , Irwin Kostal , who orchestrated the musical numbers , underscored the film with background music consisting of variations on Rodgers and Hammerstein 's original songs to amplify or add nuances to the visual images . When dubbing , editing , and scoring were complete , Wise arranged for two sneak - preview showings -- the first one held in Minneapolis on Friday January 15 , 1965 at the Mann Theater , and the second one held the following\", 'start': 206, 'stop': 216, 'target': 'SHORT'}\n"
          ]
        },
        {
          "output_type": "stream",
          "name": "stderr",
          "text": [
            " 49%|████▉     | 150129/307372 [03:47<05:20, 490.60it/s]"
          ]
        },
        {
          "output_type": "stream",
          "name": "stdout",
          "text": [
            "{'example_id': '6586844464296767987', 'part_id': 13, 'question': 'what is the prize for winning the national spelling bee', 'context': \"81st Competition </Td> </Tr> <Tr> <Td> 2009 </Td> <Td> 82nd Competition </Td> </Tr> <Tr> <Td> </Td> <Td> 83rd Competition </Td> </Tr> <Tr> <Td> 2011 </Td> <Td> 84th Competition </Td> </Tr> <Tr> <Td> 2012 </Td> <Td> 85th Competition </Td> </Tr> <Tr> <Td> 2013 </Td> <Td> 86th Competition </Td> </Tr> <Tr> <Td> 2014 </Td> <Td> 87th Competition </Td> </Tr> <Tr> <Td> 2015 </Td> <Td> 88th Competition </Td> </Tr> <Tr> <Td> 2016 </Td> <Td> 89th Competition </Td> </Tr> <Tr> <Td> 2017 </Td> <Td> 90th Competition </Td> </Tr> </Table> <H2> Proposed international Bee ( edit ) </H2> <P> In May 2012 , Scripps announced tentative plans for an international version , in which three - person teams from as many as sixty countries would compete . Although each speller would be able to confer with teammates once during each contest , all spellers would eventually compete and win prizes as individuals . If logistical and financial details can be reached , the event would be officially announced in early 2013 with the first competition to take place the following December . As of 2015 , these plans are on hold . </P> <H2> Champions and winning words ( edit ) </H2> Main article : List of Scripps National Spelling Bee champions <H3> Prizes ( edit ) </H3> <P> The winner of the Scripps National Spelling Bee receives a $40,000 cash prize and an engraved loving cup trophy from Scripps , a $2,500 savings bond , a reference library from Merriam - Webster , $2,600 in reference works and a lifetime membership to Britannica Online Premium from Encyclopædia Britannica , $5,000 cash prize from the Sigma Phi Epsilon Educational Foundation , and an online course and a Nook eReader from K12 Inc . </P> <P> All spellers receive Webster 's Third New International Dictionary , Unabridged on CD - ROM from Merriam - Webster , the Samuel Louis Sugarman Award , which is a $100 U.S. Savings Bond , a cash prize from Scripps , and as of 2015 , a Microsoft Surface 3 with keyboard and stylus . These cash prizes are determined based on the round in which the speller is eliminated . They range from $100 for a speller eliminated before the Quarterfinals to $12,500 for the second - place finisher . In 2014 , the $100 cash prize for all spellers eliminated before the Semi-finals was replaced with educational tools from Microsoft . All other prizes remained unchanged . </P> <H2> Historical format and prizes ( edit ) </H2> <P> For the first three decades of the bee ( 1925 -- 1957 ) , the spelling competition was held on a single day . This presented no problem in the Bee 's early years , which had only nine contestants in 1925 , and did not crack 50 contestants before 1950 . After the 1957 bee took almost 10 hours to complete ( the second - ever tie after the word\", 'start': 213, 'stop': 289, 'target': 'LONG'}\n"
          ]
        },
        {
          "output_type": "stream",
          "name": "stderr",
          "text": [
            " 50%|█████     | 155138/307372 [03:55<04:01, 629.86it/s]"
          ]
        },
        {
          "output_type": "stream",
          "name": "stdout",
          "text": [
            "{'example_id': '5747816612116381690', 'part_id': 8, 'question': \"who got eliminated today in india's next superstar\", 'context': '<Td> 7 </Td> <Td> 14 </Td> <Td> 12 </Td> <Td> 13 </Td> <Td> 6 + 3 = 9 </Td> <Td_colspan=\"7\"> ELIMINATED </Td> <Td> 55 </Td> </Tr> <Tr> <Td> Pranati Rai Prakash </Td> <Td> 7 </Td> <Td> 13 </Td> <Td> 17 </Td> <Td> 14 </Td> <Td> 6 + 3 = 9 </Td> <Td_colspan=\"7\"> ELIMINATED </Td> <Td> 60 </Td> </Tr> <Tr> <Th> 10 </Th> <Td> Jash Bahl </Td> <Td> 10 </Td> <Td> 14 </Td> <Td> 12 </Td> <Td_colspan=\"9\"> ELIMINATED </Td> <Td> 36 </Td> </Tr> <Tr> <Td> Heli Vyas </Td> <Td> 6 </Td> <Td> 12 </Td> <Td> 12 </Td> <Td_colspan=\"9\"> ELIMINATED </Td> <Td> 30 </Td> </Tr> <Tr> <Th> 11 </Th> <Td> Shivank Chaudhary </Td> <Td> 6 </Td> <Td> 12 </Td> <Td_colspan=\"10\"> ELIMINATED </Td> <Td> 18 </Td> </Tr> <Tr> <Td> Sahiba Bhasin </Td> <Td> 7 </Td> <Td> 12 </Td> <Td_colspan=\"10\"> ELIMINATED </Td> <Td> 19 </Td> </Tr> <Tr> <Th> 12 </Th> <Td> Karanraj Sharma </Td> <Td> 6 </Td> <Td_colspan=\"11\"> ELIMINATED </Td> <Td> 6 </Td> </Tr> <Tr> <Td> Laveena Keswani </Td> <Td> 6 </Td> <Td_colspan=\"11\"> ELIMINATED </Td> <Td> 6 </Td> </Tr> </Table> <Dl> <Dd> Indicates the contestant as a boy . </Dd> <Dd> Indicates the contestant as a girl . </Dd> <Dd> Indicates the contestant was immune that week . </Dd> <Dd> Indicates the contestant was eliminated that week . </Dd> <Dd> Indicates the contestant was in the bottom that week . </Dd> <Dd> The contestant was in a non-elimination bottom . </Dd> <Dd> Indicates the contestant is the runner up . </Dd> <Dd> Indicates the contestant won the competition . </Dd> </Dl> <Ul> <Li> In Episode 3 - 4 , the contestants were judged on 10 points . </Li> <Li> In Episode 11 - 12 onwards , the contestants were judged on 10 points on their acting and 5 points on their dance performance . </Li> <Li> In Episode 15 - 16 there were 4 wild - card entries introduced , Harshvardhan Deo , Tapan Singh , Elisha Mayor , and Simran Choudhary . The wild - card entries were not given scores but the other contestants were . The wild - card entries introduced themselves in front of the judges and did a debut acting performance , they did n\\'t have to do dance performances . </Li> <Li> In episode 21 - 22 , there was no elimination . Ashish Mehrotra and Naina Singh were to be eliminated but the judges announced them safe by declaring Week 11 as a Non-Elimination week . Ashish Mehrotra was also advised by Judge Rohit Shetty on how to curb his feelings and not let them overpower his performances </Li> <Li> In episode 23 - 24 Ansh Bagri and Lekha Prajapati got eliminated . Ansh had a low score of 12 and Lekha had a score of 14 . </Li> </Ul> <H2> References ( edit ) </H2> <Ol> <Li> Jump up ^ `` Karan Johar , Rohit Shetty to judge a new talent show \\'\\' . DNA . Chaya Unnikrishnan', 'start': 432, 'stop': 462, 'target': 'LONG'}\n",
            "{'example_id': '5747816612116381690', 'part_id': 9, 'question': \"who got eliminated today in india's next superstar\", 'context': '</Dl> <Ul> <Li> In Episode 3 - 4 , the contestants were judged on 10 points . </Li> <Li> In Episode 11 - 12 onwards , the contestants were judged on 10 points on their acting and 5 points on their dance performance . </Li> <Li> In Episode 15 - 16 there were 4 wild - card entries introduced , Harshvardhan Deo , Tapan Singh , Elisha Mayor , and Simran Choudhary . The wild - card entries were not given scores but the other contestants were . The wild - card entries introduced themselves in front of the judges and did a debut acting performance , they did n\\'t have to do dance performances . </Li> <Li> In episode 21 - 22 , there was no elimination . Ashish Mehrotra and Naina Singh were to be eliminated but the judges announced them safe by declaring Week 11 as a Non-Elimination week . Ashish Mehrotra was also advised by Judge Rohit Shetty on how to curb his feelings and not let them overpower his performances </Li> <Li> In episode 23 - 24 Ansh Bagri and Lekha Prajapati got eliminated . Ansh had a low score of 12 and Lekha had a score of 14 . </Li> </Ul> <H2> References ( edit ) </H2> <Ol> <Li> Jump up ^ `` Karan Johar , Rohit Shetty to judge a new talent show \\'\\' . DNA . Chaya Unnikrishnan . Retrieved November 3 , 2017 . </Li> <Li> Jump up ^ `` Masaba Gupta designs Karan Johar \\'s outfits for India \\'s Next Superstars \\'\\' . Firstpost . IANS . Retrieved November 16 , 2017 . </Li> <Li> Jump up ^ `` Exclusive Aman Gandotra , Natasha Bharadwaj and Shruti Sharma were declared winners of India \\'s Next Superstars \\'\\' . The Indian Express . 2018 - 04 - 07 . Retrieved 2018 - 04 - 08 . </Li> </Ol> <H2> External links ( edit ) </H2> <Ul> <Li> India \\'s Next Superstars Streaming on Hotstar </Li> </Ul> <Table> <Tr> <Th_colspan=\"2\"> <Ul> <Li> </Li> <Li> </Li> <Li> </Li> </Ul> Current broadcasts on Star Plus </Th> </Tr> <Tr> <Th> Currently broadcast </Th> <Td> <Table> <Tr> <Th> Primetime soap opera </Th> <Td> <Ul> <Li> Har Shaakh Pe Ullu Baithaa Hai </Li> <Li> Ikyawann </Li> <Li> Ishqbaaaz </Li> <Li> Krishna Chali London </Li> <Li> Kullfi Kumarr Bajewala </Li> <Li> Mariam Khan - Reporting Live </Li> <Li> Tu Sooraj , Main Saanjh Piyaji </Li> <Li> Ye Hai Mohabbatein </Li> <Li> Yeh Rishta Kya Kehlata Hai </Li> </Ul> </Td> </Tr> <Tr> <Th> Weekend </Th> <Td> <Ul> <Li> Khichdi </Li> </Ul> </Td> </Tr> </Table> </Td> </Tr> </Table> <Table> <Tr> <Th_colspan=\"2\"> <Ul> <Li> </Li> <Li> </Li> <Li> </Li> </Ul> Reality television shows in India </Th> </Tr> <Tr> <Th> Adventure </Th> <Td> <Ul> <Li> Fear Factor India ( Fear Factor : Khatron Ke Khiladi ) </Li> <Li> Survivor India </Li> <Li> Roadies </Li> </Ul> </Td> </Tr> <Tr> <Th> Comedy </Th> <Td> <Ul> <Li>', 'start': 176, 'stop': 206, 'target': 'LONG'}\n"
          ]
        },
        {
          "output_type": "stream",
          "name": "stderr",
          "text": [
            " 54%|█████▎    | 165171/307372 [04:10<03:11, 741.84it/s]"
          ]
        },
        {
          "output_type": "stream",
          "name": "stdout",
          "text": [
            "{'example_id': '-6551565981725074825', 'part_id': 12, 'question': 'who is the home team for the super bowl', 'context': \"the Atlanta Falcons 15 -- 10 , by stopping the Falcons on four consecutive plays after they had a first - down - and - goal situation on the Eagles 9 - yard line during their final drive . They then soundly defeated the Minnesota Vikings 38 -- 7 in the NFC Championship Game . Despite the Vikings scoring on their opening drive , the Eagles defense held them to three punts , two turnovers on downs , two interceptions , and one lost fumble in their remaining drives of the game . Meanwhile , Foles had a great game in which he completed 26 of 33 passes for 353 yards and three touchdowns . </P> <H3> Pregame notes ( edit ) </H3> <P> This game was a rematch of Super Bowl XXXIX . Only one player , Patriots starting quarterback Tom Brady , remained on either roster from that contest . Bill Belichick , the Patriots ' head coach in that contest , also remained in that position . Two Eagles , running back LeGarrette Blount and defensive lineman Chris Long , had been Patriots in 2017 's Super Bowl LI . </P> <P> The Patriots were the designated home team for Super Bowl LII , because the AFC team is the designated home team in even - numbered years and the NFC team in odd - numbered years . As the designated home team , the Patriots chose to wear their road white jerseys with navy blue pants , becoming the sixth team to wear their white jerseys as the home team and the third team to wear white in back - to - back Super Bowls , following the Dallas Cowboys in Super Bowls XII and XIII and again in Super Bowls XXVII and XXVIII . The Eagles therefore wore their standard home uniform of midnight green jerseys with white pants . Twelve of the previous 13 Super Bowls had been won by teams wearing white jerseys . The last team to win a Super Bowl while wearing their home uniforms was the Green Bay Packers in Super Bowl XLV ( who , coincidentally , had also worn green jerseys . ) </P> Operations ( edit ) Security prescreening at the Mall of America before boarding the Metro Blue Line to U.S. Bank Stadium . <P> To coordinate the game and 10 days of events , the National Football League temporarily operated an events office within the Minnesota Vikings office building next to U.S. Bank Stadium . More than 150,000 visitors were expected to attend events associated with the Super Bowl over ten days . Among them were some 5,000 - plus media members ; media day events and press conferences were held at The Mall of America in Bloomington , Minnesota . </P> <P> No sales tax was collected on admission tickets to the game and related events , including parking . </P> <P> To increase security\", 'start': 194, 'stop': 366, 'target': 'LONG'}\n"
          ]
        },
        {
          "output_type": "stream",
          "name": "stderr",
          "text": [
            " 55%|█████▌    | 170151/307372 [04:17<02:34, 888.17it/s]"
          ]
        },
        {
          "output_type": "stream",
          "name": "stdout",
          "text": [
            "{'example_id': '6797737124125700662', 'part_id': 14, 'question': 'when did the country of kenya come into existence', 'context': \"were already home to over a million members of the Kikuyu people , most of whom had no land claims in European terms and lived as itinerant farmers . To protect their interests , the settlers banned the growing of coffee , introduced a hut tax , and the landless were granted less and less land in exchange for their labour . A massive exodus to the cities ensued as their ability to provide a living from the land dwindled . There were 80,000 white settlers living in Kenya in the 1950s . </P> <P> Throughout World War II , Kenya was an important source of manpower and agriculture for the United Kingdom . Kenya itself was the site of fighting between Allied forces and Italian troops in 1940 -- 41 when Italian forces invaded . Wajir and Malindi were bombed as well . </P> <P> In 1952 , Princess Elizabeth and her husband Prince Philip were on holiday at the Treetops Hotel in Kenya when her father , King George VI , died in his sleep . The young princess cut short her trip and returned home immediately to take her throne . She was crowned Queen Elizabeth II at Westminster Abbey in 1953 and as British hunter and conservationist Jim Corbett ( who accompanied the royal couple ) put it , she went up a tree in Africa a princess and came down a queen . </P> Mau Mau uprising ( 1952 -- 1959 ) Further information : Mau Mau Uprising A statue of Dedan Kimathi , a Kenyan rebel leader with the Mau Mau who fought against the British colonial system in the 1950s . <P> From October 1952 to December 1959 , Kenya was in a state of emergency arising from the Mau Mau rebellion against British rule . The Mau Mau , also known as the Kenya Land and Freedom Army , were primarily members of the Kikuyu Group . </P> <P> The governor requested and obtained British and African troops , including the King 's African Rifles . The British began counter-insurgency operations . In May 1953 , General Sir George Erskine took charge as commander - in - chief of the colony 's armed forces , with the personal backing of Winston Churchill . </P> <P> The capture of Warũhiũ Itote ( also known as General China ) on 15 January 1954 and the subsequent interrogation led to a better understanding of the Mau Mau command structure . Operation Anvil opened on 24 April 1954 , after weeks of planning by the army with the approval of the War Council . The operation effectively placed Nairobi under military siege . Nairobi 's occupants were screened and the Mau Mau supporters moved to detention camps . The Home Guard formed the core of the government 's strategy as it was composed of loyalist Africans , not foreign forces such as the British Army and King\", 'start': 0, 'stop': 0, 'target': 'NO_ANSWER'}\n",
            "{'example_id': '6797737124125700662', 'part_id': 16, 'question': 'when did the country of kenya come into existence', 'context': \"to 42 % of the total insurgents . </P> <P> The capture of Dedan Kimathi on 21 October 1956 in Nyeri signified the ultimate defeat of the Mau Mau and essentially ended the military offensive . During this period , substantial governmental changes to land tenure occurred . The most important of these was the Swynnerton Plan , which was used to both reward loyalists and punish Mau Mau . </P> <H3> Independent Kenya ( 1963 ) </H3> The first President and founding father of Kenya , Jomo Kenyatta . <P> The first direct elections for native Kenyans to the Legislative Council took place in 1957 . Despite British hopes of handing power to `` moderate '' local rivals , it was the Kenya African National Union ( KANU ) of Jomo Kenyatta that formed a government . The Colony of Kenya and the Protectorate of Kenya each came to an end on 12 December 1963 with independence being conferred on all of Kenya . The United Kingdom ceded sovereignty over the Colony of Kenya . The Sultan of Zanzibar agreed that simultaneous with independence for the Colony of Kenya , the Sultan would cease to have sovereignty over the Protectorate of Kenya so that all of Kenya would be one sovereign , independent state . In this way , Kenya became an independent country under the Kenya Independence Act 1963 of the United Kingdom . Exactly 12 months later on 12 December 1964 , Kenya became a republic under the name `` Republic of Kenya '' . </P> <P> Concurrently , the Kenyan army fought the Shifta War against ethnic Somali rebels inhabiting the Northern Frontier District , who wanted to join their kin in the Somali Republic to the north . A cease fire was eventually reached with the signature of the Arusha Memorandum in October 1967 , but relative insecurity prevailed through 1969 . To discourage further invasions , Kenya signed a defence pact with Ethiopia in 1969 , which is still in effect . </P> <P> On 12 December 1964 the Republic of Kenya was proclaimed , and Jomo Kenyatta became Kenya 's first president . </P> Moi era ( 1978 -- 2002 ) <P> At Kenyatta 's death in 1978 , Daniel arap Moi became President . Daniel arap Moi retained the Presidency , being unopposed in elections held in 1979 , 1983 ( snap elections ) and 1988 , all of which were held under the single party constitution . The 1983 elections were held a year early , and were a direct result of an abortive military coup attempt on 2 August 1982 . </P> Daniel arap Moi , Kenya 's second President , and George W. Bush , 2001 <P> The abortive coup was masterminded by a low ranked Air Force serviceman , Senior Private Hezekiah Ochuka , and was staged mainly by enlisted men in the Air Force . The putsch was\", 'start': 90, 'stop': 259, 'target': 'LONG'}\n",
            "{'example_id': '6797737124125700662', 'part_id': 67, 'question': 'when did the country of kenya come into existence', 'context': \"in Northern Kenya '' . Africa : Journal of the International African Institute . 56 ( 3 ) : 319 -- 333 . doi : 10.2307 / 1160687 . JSTOR 1160687 . </Li> <Li> Jump up ^ Howell , John ( May 1968 ) . `` An Analysis of Kenyan Foreign Policy '' . The Journal of Modern African Studies . 6 ( 1 ) : 29 -- 48 . doi : 10.1017 / S0022278X00016657 . JSTOR 158675 . </Li> <Li> Jump up ^ Pike , John ( 1992 ) . `` Post-Independence Low Intensity Conflict in Kenya '' . Globalsecurity.org . Retrieved 16 April 2010 . </Li> <Li> Jump up ^ Permanent Mission of the Republic of Kenya to the United Nations ( 2002 ) . `` Kenya at the United Nations '' . Consulate General of Kenya in New York . Archived from the original on 8 June 2009 . Retrieved 15 February 2010 . </Li> <Li> Jump up ^ Society . Nyamora Communications Limited . 1992 . p. 12 . </Li> <Li> Jump up ^ `` Wagalla massacre : Raila Odinga orders Kenya probe '' . BBC . 11 February 2011 . Retrieved 14 November 2013 . </Li> <Li> Jump up ^ Harden , Blaine ( 25 February 1988 ) Many Voters Stay Home as Kenya Drops Secret Ballot in Parliamentary Election , The Washington Post . </Li> <Li> Jump up ^ Moreno , Pedro C. ( ed . ) . `` Kenya '' . Handbook on Religious Liberty Around the World . Charlottesville , VA : The Rutherford Institute . Archived from the original on 29 June 2010 . </Li> <Li> ^ Jump up to : Anderson , David M. ( 2003 ) . `` Kenya 's Elections 2002 -- The Dawning of a New Era ? '' . African Affairs . 102 ( 407 ) : 331 -- 342 . doi : 10.1093 / afraf / adg007 . </Li> <Li> Jump up ^ `` Of Oranges and Bananas : The 2005 Kenya Referendum on the Constitution '' . CMI -- Chr . Michelsen Institute . Retrieved 13 May 2016 . </Li> <Li> Jump up ^ `` Kenya opposition cancels protests '' . BBC News . 12 April 2008 . Archived from the original on 10 January 2008 . </Li> <Li> Jump up ^ Koech , Dennis ( 25 July 2011 ) . `` Red Cross warns of catastrophe in Turkana '' . Kbc.co.ke . Archived from the original on 4 January 2012 . Retrieved 7 August 2011 . </Li> <Li> Jump up ^ `` Kenya : schools close as famine takes hold in Turkana '' . Indcatholicnews.com. 28 July 2011 . Retrieved 7 August 2011 . </Li> <Li> Jump up ^ Gettleman , Jeffrey ( 3 February 2012 ) U.N. Says Famine in Somalia Is Over , but Risks Remain . The New York Times . </Li> <Li> ^ Jump up to : CIA ( 2010\", 'start': 0, 'stop': 0, 'target': 'NO_ANSWER'}\n"
          ]
        },
        {
          "output_type": "stream",
          "name": "stderr",
          "text": [
            " 57%|█████▋    | 175194/307372 [04:25<02:36, 846.89it/s]"
          ]
        },
        {
          "output_type": "stream",
          "name": "stdout",
          "text": [
            "{'example_id': '-1936620480520412765', 'part_id': 0, 'question': \"who sang you'll never walk alone first liverpool or celtic\", 'context': 'You \\'ll Never Walk Alone - wikipedia <H1> You \\'ll Never Walk Alone </H1> For other uses , see You \\'ll Never Walk Alone ( disambiguation ) . <Table> <Tr> <Th_colspan=\"2\"> `` You \\'ll Never Walk Alone \\'\\' </Th> </Tr> <Tr> <Th_colspan=\"2\"> Song </Th> </Tr> <Tr> <Th> Published </Th> <Td> 1945 </Td> </Tr> <Tr> <Th> Genre </Th> <Td> Show tune </Td> </Tr> <Tr> <Th> Composer ( s ) </Th> <Td> Richard Rodgers </Td> </Tr> <Tr> <Th> Lyricist ( s ) </Th> <Td> Oscar Hammerstein II </Td> </Tr> </Table> <P> `` You \\'ll Never Walk Alone \\'\\' is a show tune from the 1945 Rodgers and Hammerstein musical Carousel . In the second act of the musical , Nettie Fowler , the cousin of the protagonist Julie Jordan , sings `` You \\'ll Never Walk Alone \\'\\' to comfort and encourage Julie when her husband , Billy Bigelow , the male lead , commits suicide after a failed robbery attempt . It is reprised in the final scene to encourage a graduation class of which Louise ( Billy and Julie \\'s daughter ) is a member . The now invisible Billy , who has been granted the chance to return to Earth for one day in order to redeem himself , watches the ceremony and is able to silently motivate the unhappy Louise to join in the song . </P> <P> The song is also sung at association football clubs around the world , where it is performed by a massed chorus of supporters on matchday ; this tradition began at Liverpool F.C. in the early 1960s . </P> <P> </P> <H2> Contents </H2> ( hide ) <Ul> <Li> 1 Background </Li> <Li> 2 Subsequent history </Li> <Li> 3 Sporting anthem </Li> <Li> 4 Recorded versions </Li> <Li> 5 References </Li> <Li> 6 External links </Li> </Ul> <P> </P> <H2> Background ( edit ) </H2> <P> Christine Johnson , who created the role of Nettie Fowler , introduced the song in the original Broadway production . Later in the show Jan Clayton , as Julie Jordan , reprised it , with the chorus joining in . </P> <P> In the film , it is first sung by Claramae Turner as Nettie . The weeping Julie Jordan ( Shirley Jones ) tries to sing it but can not ; it is later reprised by Julie and those attending the graduation . </P> <H2> Subsequent History ( edit ) </H2> <P> Besides the recordings of the song on the Carousel cast albums and the film soundtrack , the song has been recorded by many artists , with notable hit versions made by Roy Hamilton , Frank Sinatra , Gerry and the Pacemakers , Judy Garland , Elvis Presley , Johnny Cash , Andy Williams , Johnny Maestro and The Brooklyn Bridge , Olivia Newton - John and Doris Day . Progressive rock group Pink Floyd took a recording by the Liverpool Kop choir', 'start': 229, 'stop': 268, 'target': 'LONG'}\n",
            "{'example_id': '-1936620480520412765', 'part_id': 18, 'question': \"who sang you'll never walk alone first liverpool or celtic\", 'context': \"and Hammerstein </Th> </Tr> <Tr> <Th> Stage musicals </Th> <Td> <Ul> <Li> Oklahoma ! </Li> <Li> Carousel </Li> <Li> Allegro </Li> <Li> South Pacific </Li> <Li> The King and I </Li> <Li> Me and Juliet </Li> <Li> Pipe Dream </Li> <Li> Flower Drum Song </Li> <Li> The Sound of Music </Li> <Li> A Grand Night for Singing </Li> <Li> State Fair </Li> <Li> Cinderella </Li> </Ul> </Td> </Tr> <Tr> <Th> Productions </Th> <Td> <Ul> <Li> I Remember Mama </Li> <Li> Annie Get Your Gun </Li> <Li> Happy Birthday </Li> <Li> John Loves Mary </Li> <Li> Show Boat </Li> <Li> The Happy Time </Li> <Li> Burning Bright </Li> </Ul> </Td> </Tr> <Tr> <Th> Films </Th> <Td> <Ul> <Li> State Fair ( 1945 ) </Li> <Li> Oklahoma ! </Li> <Li> Carousel </Li> <Li> The King and I </Li> <Li> South Pacific </Li> <Li> Flower Drum Song </Li> <Li> State Fair ( 1962 ) </Li> <Li> The Sound of Music </Li> <Li> Cinderella </Li> </Ul> </Td> </Tr> <Tr> <Th> Television </Th> <Td> <Ul> <Li> Cinderella </Li> <Li> The Sound of Music Live ! </Li> </Ul> </Td> </Tr> <Tr> <Th> Songs </Th> <Td> <Ul> <Li> `` Oh , What a Beautiful Mornin ' '' </Li> <Li> `` The Surrey with the Fringe on Top '' </Li> <Li> `` Kansas City '' </Li> <Li> `` I Cai n't Say No '' </Li> <Li> `` Many a New Day '' </Li> <Li> `` It 's a Scandal ! It 's a Outrage ! '' </Li> <Li> `` People Will Say We 're in Love '' </Li> <Li> `` Lonely Room '' </Li> <Li> `` The Farmer and the Cowman '' </Li> <Li> `` All Er Nuthin ' '' </Li> <Li> `` Oklahoma '' </Li> <Li> `` If I Loved You '' </Li> <Li> `` Soliloquy '' </Li> <Li> `` You 'll Never Walk Alone '' </Li> <Li> `` It Might as Well Be Spring '' </Li> <Li> `` That 's for Me '' </Li> <Li> `` A Fellow Needs a Girl '' </Li> <Li> `` So Far '' </Li> <Li> `` Some Enchanted Evening '' </Li> <Li> `` There Is Nothing Like a Dame '' </Li> <Li> `` Bali Ha'i '' </Li> <Li> `` I 'm Gonna Wash That Man Right Outa My Hair '' </Li> <Li> `` I 'm in Love with a Wonderful Guy '' </Li> <Li> `` Younger Than Springtime '' </Li> <Li> `` Happy Talk '' </Li> <Li> `` You 've Got to Be Carefully Taught '' </Li> <Li> `` I Whistle a Happy Tune '' </Li> <Li> `` Hello , Young Lovers '' </Li> <Li> `` Getting to Know You '' </Li> <Li> `` We Kiss in a Shadow '' </Li> <Li> `` Something Wonderful '' </Li> <Li> `` I Have Dreamed '' </Li> <Li> `` Shall We Dance ? '' </Li> <Li> `` No Other Love '' </Li> <Li> `` I Enjoy Being a Girl '' </Li> <Li> `` The\", 'start': 0, 'stop': 0, 'target': 'NO_ANSWER'}\n"
          ]
        },
        {
          "output_type": "stream",
          "name": "stderr",
          "text": [
            " 60%|██████    | 185134/307372 [04:40<02:29, 819.42it/s]"
          ]
        },
        {
          "output_type": "stream",
          "name": "stdout",
          "text": [
            "{'example_id': '-7307624958962961283', 'part_id': 0, 'question': 'who played germany in the world cup 2014', 'context': '2014 FIFA World Cup final - wikipedia <H1> 2014 FIFA World Cup final </H1> Jump to : navigation , search <Table> 2014 FIFA World Cup Final <Tr> <Td_colspan=\"2\"> Germany \\'s Mario Götze scores the match - winning goal in the 113th minute </Td> </Tr> <Tr> <Th> Event </Th> <Td> 2014 FIFA World Cup </Td> </Tr> <Tr> <Td_colspan=\"2\"> <Table> <Tr> <Th> Germany </Th> <Th> Argentina </Th> </Tr> <Tr> <Th> </Th> <Th> </Th> </Tr> <Tr> <Th> </Th> <Th> 0 </Th> </Tr> </Table> </Td> </Tr> <Tr> <Td_colspan=\"2\"> After extra time </Td> </Tr> <Tr> <Th> Date </Th> <Td> 13 July 2014 ( 2014 - 07 - 13 ) </Td> </Tr> <Tr> <Th> Venue </Th> <Td> Maracanã Stadium , Rio de Janeiro </Td> </Tr> <Tr> <Th> Man of the Match </Th> <Td> Mario Götze ( Germany ) </Td> </Tr> <Tr> <Th> Referee </Th> <Td> Nicola Rizzoli ( Italy ) </Td> </Tr> <Tr> <Th> Attendance </Th> <Td> 74,738 </Td> </Tr> <Tr> <Th> Weather </Th> <Td> Partly cloudy 23 ° C ( 73 ° F ) 65 % humidity </Td> </Tr> <Tr> <Td_colspan=\"2\"> ← 2010 2018 → </Td> </Tr> </Table> <P> The 2014 FIFA World Cup Final was a football match that took place on 13 July 2014 at the Maracanã Stadium in Rio de Janeiro , Brazil to determine the 2014 FIFA World Cup champion . Germany defeated Argentina 1 -- 0 in extra time , with the only goal being scored by Mario Götze , who collected André Schürrle \\'s cross from the left on his chest before volleying a high left - footed shot into the net . The match was the third final between the two countries , a World Cup record , after their 1986 and 1990 matches , and billed as the world \\'s best player ( Lionel Messi ) versus the world \\'s best team ( Germany ) . </P> <P> Before the match , Germany had reached the World Cup final seven times ( six times as West Germany from 1954 to 1990 ) , winning three ( 1954 , 1974 , 1990 ) and being runners - up four times ( 1966 , 1982 , 1986 , 2002 ) ; Argentina had reached four finals , winning twice ( 1978 , 1986 ) and placing second twice ( 1930 , 1990 ) . </P> <P> The result marked Germany \\'s fourth World Cup title and their first World championship as a unified nation . The victory meant that three consecutive World Cups have been won by teams from the same continent , following Italy and Spain in 2006 and 2010 respectively , the first time this has happened in World Cup history . It was also the first time that three consecutive World Cup finals were still tied after 90 minutes . The final marked the first time a World Cup in the Americas was not won by a team from the Americas . </P> <P> In the winning German', 'start': 222, 'stop': 223, 'target': 'SHORT'}\n"
          ]
        },
        {
          "output_type": "stream",
          "name": "stderr",
          "text": [
            " 62%|██████▏   | 190168/307372 [04:47<02:15, 864.36it/s]"
          ]
        },
        {
          "output_type": "stream",
          "name": "stdout",
          "text": [
            "{'example_id': '710977160724852095', 'part_id': 0, 'question': 'how many episodes of broad city in season 4', 'context': 'List of Broad City episodes - wikipedia <H1> List of Broad City episodes </H1> Jump to : navigation , search <P> Broad City is an American comedy series that premiered on January 22 , 2014 on Comedy Central . The series was created by and stars Ilana Glazer and Abbi Jacobson as two best friends who navigate everyday life in New York City . </P> <P> </P> <H2> Contents </H2> ( hide ) <Ul> <Li> 1 Series overview </Li> <Li> 2 Episodes <Ul> <Li> 2.1 Season 1 ( 2014 ) </Li> <Li> 2.2 Season 2 ( 2015 ) </Li> <Li> 2.3 Season 3 ( 2016 ) </Li> <Li> 2.4 Season 4 ( 2017 ) </Li> </Ul> </Li> <Li> 3 Ratings </Li> <Li> 4 References </Li> <Li> 5 External links </Li> </Ul> <P> </P> <H2> Series overview ( edit ) </H2> <Table> <Tr> <Th_colspan=\"2\"> Season </Th> <Th_colspan=\"2\"> Episodes </Th> <Th_colspan=\"2\"> Originally aired </Th> </Tr> <Tr> <Th> First aired </Th> <Th> Last aired </Th> </Tr> <Tr> <Td> </Td> <Td_colspan=\"1\"> </Td> <Td_colspan=\"2\"> 10 </Td> <Td_colspan=\"1\"> January 22 , 2014 ( 2014 - 01 - 22 ) </Td> <Td> March 26 , 2014 ( 2014 - 03 - 26 ) </Td> </Tr> <Tr> <Td> </Td> <Td_colspan=\"1\"> </Td> <Td_colspan=\"2\"> 10 </Td> <Td_colspan=\"1\"> January 14 , 2015 ( 2015 - 01 - 14 ) </Td> <Td> March 18 , 2015 ( 2015 - 03 - 18 ) </Td> </Tr> <Tr> <Td> </Td> <Td_colspan=\"1\"> </Td> <Td_colspan=\"2\"> 10 </Td> <Td_colspan=\"1\"> February 17 , 2016 ( 2016 - 02 - 17 ) </Td> <Td> April 20 , 2016 ( 2016 - 04 - 20 ) </Td> </Tr> <Tr> <Td> </Td> <Td_colspan=\"1\"> </Td> <Td_colspan=\"2\"> 10 </Td> <Td_colspan=\"1\"> September 13 , 2017 ( 2017 - 09 - 13 ) </Td> <Td> December 6 , 2017 ( 2017 - 12 - 06 ) </Td> </Tr> </Table> <H2> Episodes ( edit ) </H2> <H3> Season 1 ( 2014 ) ( edit ) </H3> Main article : Broad City ( season 1 ) <Table> <Tr> <Th> No . overall </Th> <Th> No. in season </Th> <Th> Title </Th> <Th> Directed by </Th> <Th> Written by </Th> <Th> Original air date </Th> <Th> Prod . code </Th> <Th> U.S. viewers ( millions ) </Th> </Tr> <Tr> <Th> </Th> <Td> </Td> <Td> `` What a Wonderful World \\'\\' </Td> <Td> Lucia Aniello </Td> <Td> Abbi Jacobson & Ilana Glazer </Td> <Td> January 22 , 2014 ( 2014 - 01 - 22 ) </Td> <Td> 101 </Td> <Td> 0.914 </Td> </Tr> <Tr> <Th> </Th> <Td> </Td> <Td> `` Pu $ $ y Weed \\'\\' </Td> <Td> John Lee </Td> <Td> Abbi Jacobson & Ilana Glazer </Td> <Td> January 29 , 2014 ( 2014 - 01 - 29 ) </Td> <Td> 105 </Td> <Td> 0.867 </Td> </Tr> <Tr> <Th> </Th> <Td> </Td> <Td> `` Working Girls \\'\\' </Td> <Td> Lucia Aniello </Td> <Td> Lucia Aniello & Paul W. Downs </Td> <Td> February 5 , 2014 ( 2014 - 02', 'start': 274, 'stop': 275, 'target': 'SHORT'}\n",
            "{'example_id': '710977160724852095', 'part_id': 1, 'question': 'how many episodes of broad city in season 4', 'context': '20 , 2016 ( 2016 - 04 - 20 ) </Td> </Tr> <Tr> <Td> </Td> <Td_colspan=\"1\"> </Td> <Td_colspan=\"2\"> 10 </Td> <Td_colspan=\"1\"> September 13 , 2017 ( 2017 - 09 - 13 ) </Td> <Td> December 6 , 2017 ( 2017 - 12 - 06 ) </Td> </Tr> </Table> <H2> Episodes ( edit ) </H2> <H3> Season 1 ( 2014 ) ( edit ) </H3> Main article : Broad City ( season 1 ) <Table> <Tr> <Th> No . overall </Th> <Th> No. in season </Th> <Th> Title </Th> <Th> Directed by </Th> <Th> Written by </Th> <Th> Original air date </Th> <Th> Prod . code </Th> <Th> U.S. viewers ( millions ) </Th> </Tr> <Tr> <Th> </Th> <Td> </Td> <Td> `` What a Wonderful World \\'\\' </Td> <Td> Lucia Aniello </Td> <Td> Abbi Jacobson & Ilana Glazer </Td> <Td> January 22 , 2014 ( 2014 - 01 - 22 ) </Td> <Td> 101 </Td> <Td> 0.914 </Td> </Tr> <Tr> <Th> </Th> <Td> </Td> <Td> `` Pu $ $ y Weed \\'\\' </Td> <Td> John Lee </Td> <Td> Abbi Jacobson & Ilana Glazer </Td> <Td> January 29 , 2014 ( 2014 - 01 - 29 ) </Td> <Td> 105 </Td> <Td> 0.867 </Td> </Tr> <Tr> <Th> </Th> <Td> </Td> <Td> `` Working Girls \\'\\' </Td> <Td> Lucia Aniello </Td> <Td> Lucia Aniello & Paul W. Downs </Td> <Td> February 5 , 2014 ( 2014 - 02 - 05 ) </Td> <Td> 103 </Td> <Td> 0.897 </Td> </Tr> <Tr> <Th> </Th> <Td> </Td> <Td> `` The Lockout \\'\\' </Td> <Td> Lucia Aniello </Td> <Td> Abbi Jacobson & Ilana Glazer </Td> <Td> February 12 , 2014 ( 2014 - 02 - 12 ) </Td> <Td> 104 </Td> <Td> 0.793 </Td> </Tr> <Tr> <Th> 5 </Th> <Td> 5 </Td> <Td> `` Fattest Asses \\'\\' </Td> <Td> John Lee </Td> <Td> Abbi Jacobson & Ilana Glazer </Td> <Td> February 19 , 2014 ( 2014 - 02 - 19 ) </Td> <Td> 106 </Td> <Td> 0.784 </Td> </Tr> <Tr> <Th> 6 </Th> <Td> 6 </Td> <Td> `` Stolen Phone \\'\\' </Td> <Td> Lucia Aniello </Td> <Td> Chris Kelly </Td> <Td> February 26 , 2014 ( 2014 - 02 - 26 ) </Td> <Td> 102 </Td> <Td> 0.924 </Td> </Tr> <Tr> <Th> 7 </Th> <Td> 7 </Td> <Td> `` Hurricane Wanda \\'\\' </Td> <Td> John Lee </Td> <Td> Tami Sagher </Td> <Td> March 5 , 2014 ( 2014 - 03 - 05 ) </Td> <Td> 107 </Td> <Td> 0.857 </Td> </Tr> <Tr> <Th> 8 </Th> <Td> 8 </Td> <Td> `` Destination : Wedding \\'\\' </Td> <Td> Nicholas Jasenovec </Td> <Td> Abbi Jacobson & Ilana Glazer </Td> <Td> March 12 , 2014 ( 2014 - 03 - 12 ) </Td> <Td> 108 </Td> <Td> 0.854 </Td> </Tr> <Tr> <Th> 9 </Th> <Td> 9 </Td> <Td> `` Apartment Hunters \\'\\' </Td> <Td> Nicholas Jasenovec </Td> <Td> Tami Sagher </Td> <Td> March 19 , 2014 ( 2014 - 03 - 19', 'start': 18, 'stop': 19, 'target': 'SHORT'}\n"
          ]
        },
        {
          "output_type": "stream",
          "name": "stderr",
          "text": [
            " 65%|██████▌   | 200148/307372 [05:02<02:27, 727.29it/s]"
          ]
        },
        {
          "output_type": "stream",
          "name": "stdout",
          "text": [
            "{'example_id': '7669023380313448789', 'part_id': 15, 'question': 'when the federal government creates a law the produces costs for the states it must', 'context': \"small portion of spending in Function 650 - the general fund transfer of income taxes on Social Security benefits - is considered on - budget and appears in the budget resolution totals . </Td> </Tr> <Tr> <Td> 700 </Td> <Td> Veterans Benefits and Services </Td> <Td> Function 700 covers the programs of the Department of Veterans Affairs ( VA ) , including veterans ' medical care , compensation and pensions , education and rehabilitation benefits , and housing programs . It also includes the Department of Labor 's Veterans ' Employment and Training Service , the United States Court of Appeals for Veterans Claims , and the American Battle Monuments Commission . Almost 90 percent of appropriated funding in Function 700 goes to veterans ' health care . </Td> </Tr> <Tr> <Td> 750 </Td> <Td> Administration of Justice </Td> <Td> The Administration of Justice function consists of federal law enforcement programs , litigation and judicial activities , correctional operations , and state and local justice assistance . Agencies within this function include : the Federal Bureau of Investigation ; the Drug Enforcement Administration ; Border and Transportation Security ; the Bureau of Alcohol , Tobacco , Firearms and Explosives ; the United States Attorneys ; legal divisions within the Department of Justice ; the Legal Services Corporation ; the federal Judiciary ; and the Federal Bureau of Prisons . This function includes several components of the Department of Homeland Security . </Td> </Tr> <Tr> <Td> 800 </Td> <Td> General Government </Td> <Td> This function includes the activities of the White House and the Executive Office of the President , the legislative branch , and programs designed to carry out the legislative and administrative responsibilities of the federal government , including personnel management , fiscal operations , and property control . </Td> </Tr> <Tr> <Td> 900 </Td> <Td> Net Interest </Td> <Td> Function 900 consists primarily of the interest paid by the federal government to private and foreign government holders of U.S. Treasury securities . This amount is slightly offset by interest income received by the federal government on loans and cash balances and by earnings of the National Railroad Retirement Investment Trust . </Td> </Tr> <Tr> <Td> 920 </Td> <Td> Allowances </Td> <Td> This function displays the budgetary effect of proposals that can not easily be distributed across other budget functions . In the past , this function has included funding for emergencies or proposals contingent on certain events . </Td> </Tr> <Tr> <Td> 950 </Td> <Td> Undistributed Offsetting Receipts </Td> <Td> This function comprises major offsetting receipt items that would distort the funding levels of other functional categories if they were distributed to them . </Td> </Tr> </Table> <H2> See also ( edit ) </H2> <Ul> <Li> Office of Management and Budget </Li> <Li> United States public debt </Li> <Li> Budget resolution </Li> <Li> Government financial statements </Li> <Li> Anti-Deficiency Act </Li> <Li> 2015\", 'start': 412, 'stop': 448, 'target': 'LONG'}\n",
            "{'example_id': '7669023380313448789', 'part_id': 16, 'question': 'when the federal government creates a law the produces costs for the states it must', 'context': \"activities of the White House and the Executive Office of the President , the legislative branch , and programs designed to carry out the legislative and administrative responsibilities of the federal government , including personnel management , fiscal operations , and property control . </Td> </Tr> <Tr> <Td> 900 </Td> <Td> Net Interest </Td> <Td> Function 900 consists primarily of the interest paid by the federal government to private and foreign government holders of U.S. Treasury securities . This amount is slightly offset by interest income received by the federal government on loans and cash balances and by earnings of the National Railroad Retirement Investment Trust . </Td> </Tr> <Tr> <Td> 920 </Td> <Td> Allowances </Td> <Td> This function displays the budgetary effect of proposals that can not easily be distributed across other budget functions . In the past , this function has included funding for emergencies or proposals contingent on certain events . </Td> </Tr> <Tr> <Td> 950 </Td> <Td> Undistributed Offsetting Receipts </Td> <Td> This function comprises major offsetting receipt items that would distort the funding levels of other functional categories if they were distributed to them . </Td> </Tr> </Table> <H2> See also ( edit ) </H2> <Ul> <Li> Office of Management and Budget </Li> <Li> United States public debt </Li> <Li> Budget resolution </Li> <Li> Government financial statements </Li> <Li> Anti-Deficiency Act </Li> <Li> 2015 United States federal appropriations </Li> </Ul> <H2> References ( edit ) </H2> <Ol> <Li> Jump up ^ Budget and Accounting Act of 1921 on GPO access Archived October 23 , 2008 , at the Wayback Machine . </Li> <Li> Jump up ^ Budget and Impoundment Control Act of 1974 on GPO access </Li> <Li> Jump up ^ Budget Resolution Explainer , Rudolph Penner , Urban Institute </Li> <Li> Jump up ^ 31 U.S.C. 1105 ( a ) on Cornell Legal Information Institute </Li> <Li> Jump up ^ `` Obama Will Send Fiscal 2014 Budget to Congress April 10 '' . Bloomberg L.P. March 28 , 2013 . </Li> <Li> Jump up ^ `` Executive Office of the President '' . whitehouse.gov. Oct 14 , 2013 . </Li> <Li> Jump up ^ Tollestrup , Jessica . `` The Congressional Appropriations Process : An Introduction '' . Congressional Research Service . Retrieved April 9 , 2013 . </Li> <Li> Jump up ^ `` Status of Appropriations Legislation for Fiscal Year 2012 '' . THOMAS . Library of Congress . Retrieved 15 November 2011 . </Li> <Li> Jump up ^ http://budget.house.gov/budgetprocess/budgetfunctions.htm </Li> </Ol> <H2> External links ( edit ) </H2> <Ul> <Li> Budget Calculator Online calculator that places specific tax or spending numbers in the context of the total U.S. budget . It also compares any spending or revenue item to projected defense spending . ( Center for Economic and Policy Research ) </Li> <Li> The Congressional Budget Process : an Explanation - published by the Senate Budget Committee\", 'start': 156, 'stop': 192, 'target': 'LONG'}\n"
          ]
        },
        {
          "output_type": "stream",
          "name": "stderr",
          "text": [
            " 73%|███████▎  | 225144/307372 [05:48<01:44, 786.26it/s]"
          ]
        },
        {
          "output_type": "stream",
          "name": "stdout",
          "text": [
            "{'example_id': '1772723147071903143', 'part_id': 11, 'question': \"who did joey end up with on dawson's creek\", 'context': \"loses his entire investment , Joey decides that it 's time they worked things out for themselves without her in the middle because it `` is not her fight '' and that it never has been , and never will be . After a heart to heart with Pacey on the dock , Joey brings everyone together to help Dawson make his movie . Joey finally goes to Paris and the final episode of the season ends with her standing before the famous Eiffel Tower . </P> Series finale ( edit ) <P> The final two episodes are set approximately five years after the season finale . Joey is a junior editor living in New York with her writer boyfriend , Christopher ( Jeremy Sisto ) . During this double episode , the five friends return to Capeside for Gail Leery 's third wedding ( but second husband ) . Although she had originally planned to spend the weekend with Christopher , Joey runs scared after finding an engagement ring hidden in the couple 's dresser while she is packing for the trip . </P> <P> The five friends reunite at Pacey 's restaurant to reminisce about the past . Afterwards , Joey drops by Dawson 's house , and the two reestablish their friendship . During Gail 's wedding reception , Joey and Pacey kiss ( reigniting lingering feelings between the two ) , but the moment is interrupted when Jen collapses . It is later discovered that Jen has a deadly heart condition . </P> <P> At the same time , Joey ends her relationship with Christopher and chooses between Dawson and Pacey . Though she loves Dawson , she acknowledges that he is her soulmate who is tied to her childhood , a love that is pure and eternally innocent . She also can not deny she is still in love with Pacey . After Jen 's death , she decides to stop running and confront her feelings for Pacey . </P> <P> In the midst of their romantic entanglements , Joey , Dawson , Jack , and Pacey are brought together at the Ice House , now owned by Pacey , to say goodbye to Jen , who dies from pulmonary congestion . </P> <P> In the epilogue , Joey and Pacey watch Dawson 's semi-autobiographical television series The Creek in their apartment before calling up Dawson together , where they discover he is going to meet his hero , Steven Spielberg . They have renewed their romantic relationship , and the series ends with them as a couple living together in New York . </P> <H2> Notable relationships ( edit ) </H2> <Ul> <Li> Anderson Crawford <Ul> <Li> Fling <Ul> <Li> Beginning : `` Kiss '' ( 1.03 ) </Li> <Li> Broke Up : `` Kiss '' ( 1.03 ) <Ul> <Li> Reason : They did n't continue because she lied about who she was .\", 'start': 385, 'stop': 386, 'target': 'SHORT'}\n",
            "{'example_id': '1772723147071903143', 'part_id': 12, 'question': \"who did joey end up with on dawson's creek\", 'context': \"</P> <P> At the same time , Joey ends her relationship with Christopher and chooses between Dawson and Pacey . Though she loves Dawson , she acknowledges that he is her soulmate who is tied to her childhood , a love that is pure and eternally innocent . She also can not deny she is still in love with Pacey . After Jen 's death , she decides to stop running and confront her feelings for Pacey . </P> <P> In the midst of their romantic entanglements , Joey , Dawson , Jack , and Pacey are brought together at the Ice House , now owned by Pacey , to say goodbye to Jen , who dies from pulmonary congestion . </P> <P> In the epilogue , Joey and Pacey watch Dawson 's semi-autobiographical television series The Creek in their apartment before calling up Dawson together , where they discover he is going to meet his hero , Steven Spielberg . They have renewed their romantic relationship , and the series ends with them as a couple living together in New York . </P> <H2> Notable relationships ( edit ) </H2> <Ul> <Li> Anderson Crawford <Ul> <Li> Fling <Ul> <Li> Beginning : `` Kiss '' ( 1.03 ) </Li> <Li> Broke Up : `` Kiss '' ( 1.03 ) <Ul> <Li> Reason : They did n't continue because she lied about who she was . </Li> </Ul> </Li> </Ul> </Li> </Ul> </Li> <Li> Dawson Leery <Ul> <Li> Kiss <Ul> <Li> `` Detention '' ( 1.07 ) <Ul> <Li> Reason : They were dared to kiss each other despite him being with Jen . </Li> </Ul> </Li> </Ul> </Li> <Li> Boyfriend <Ul> <Li> First Relationship : <Ul> <Li> Beginning : `` Decisions '' ( 1.13 ) </Li> <Li> End : `` The Dance '' ( 2.06 ) </Li> <Li> Reason : After Jack kisses her , she gets confused about who she really is and what she wants . </Li> </Ul> </Li> <Li> Second Relationship : <Ul> <Li> Beginning : `` A Perfect Wedding '' ( 2.18 ) </Li> <Li> End : `` Parental Discretion Advised '' ( 2.22 ) </Li> <Li> Reason : Dawson convinced her to get her father to confess to burning down the ice house and his drug use while she wore a wire . </Li> </Ul> </Li> <Li> Third Relationship <Ul> <Li> Beginning : Coda '' ( 4.23 ) </Li> <Li> End : `` High Anxiety '' ( 5.06 ) </Li> <Li> Reason : Dawson shuts Joey out when his dad dies and eventually tells her it made him lose all interest in getting back with her . </Li> </Ul> </Li> <Li> Fourth Relationship : <Ul> <Li> Beginning : `` The Kids Are Alright '' ( 6.01 ) </Li> <Li> End : `` The Song Remains The Same '' ( 6.02 ) </Li> <Li> Reason : After they sleep together , she finds out he had a\", 'start': 129, 'stop': 130, 'target': 'SHORT'}\n"
          ]
        },
        {
          "output_type": "stream",
          "name": "stderr",
          "text": [
            " 75%|███████▍  | 230081/307372 [05:56<02:19, 552.80it/s]"
          ]
        },
        {
          "output_type": "stream",
          "name": "stdout",
          "text": [
            "{'example_id': '7128920655291034805', 'part_id': 0, 'question': 'when were the moors pushed out of spain', 'context': \"Moors - Wikipedia <H1> Moors </H1> Jump to : navigation , search This article is about a historical group of Muslims . For other uses , see Moor . Castillian ambassadors attempting to convince Moorish Almohad king Abu Hafs Umar al - Murtada to join their alliance ( contemporary depiction from the Cantigas de Santa María ) <P> The term `` Moors '' refers primarily to the Muslim inhabitants of the Maghreb , the Iberian Peninsula , Sicily , and Malta during the Middle Ages . The Moors initially were the Berber autochthones of the Maghreb . The name was later also applied to Arabs . </P> <P> Moors are not a distinct or self - defined people , and the 1911 Encyclopaedia Britannica observed that `` The term ' Moors ' has no real ethnological value . '' Medieval and early modern Europeans variously applied the name to Arabs , North African Berbers , and Muslim Europeans . </P> <P> The term has also been used in Europe in a broader , somewhat derogatory sense to refer to Muslims in general , especially those of Arab or Berber descent , whether living in Spain or North Africa . During the colonial era , the Portuguese introduced the names `` Ceylon Moors '' and `` Indian Moors '' in Sri Lanka , and the Bengali Muslims were also called Moors . </P> <P> In 711 , troops mostly formed by Moors from North Africa led the Umayyad conquest of Hispania . The Iberian peninsula then came to be known in classical Arabic as Al - Andalus , which at its peak included most of Septimania and modern - day Spain and Portugal . </P> <P> In 827 , the Moors occupied Mazara on Sicily , developing it as a port . They eventually consolidated the rest of the island and some of southern Italy . Differences in religion and culture led to a centuries - long conflict with the Christian kingdoms of Europe , which tried to reclaim control of Muslim areas ; this conflict was referred to as the Reconquista . In 1224 the Muslims were expelled from Sicily to the settlement of Lucera , which was destroyed by European Christians in 1300 . </P> <P> The fall of Granada in 1492 marked the end of Muslim rule in Iberia , although a Muslim minority persisted until their expulsion in 1609 . </P> <P> </P> <H2> Contents </H2> ( hide ) <Ul> <Li> 1 Name <Ul> <Li> 1.1 Etymology </Li> <Li> 1.2 Modern meanings </Li> </Ul> </Li> <Li> 2 Moors of the Maghreb </Li> <Li> 3 Moors of Iberia </Li> <Li> 4 Moors of Sicily </Li> <Li> 5 Architecture </Li> <Li> 6 Moors in heraldry </Li> <Li> 7 Population </Li> <Li> 8 Moors in popular culture </Li> <Li> 9 Notable Moors </Li> <Li> 10 Gallery </Li> <Li> 11 See also </Li> <Li> 12 Notes </Li> <Li> 13 References </Li> <Li> 14\", 'start': 376, 'stop': 404, 'target': 'LONG'}\n",
            "{'example_id': '7128920655291034805', 'part_id': 1, 'question': 'when were the moors pushed out of spain', 'context': \"to be known in classical Arabic as Al - Andalus , which at its peak included most of Septimania and modern - day Spain and Portugal . </P> <P> In 827 , the Moors occupied Mazara on Sicily , developing it as a port . They eventually consolidated the rest of the island and some of southern Italy . Differences in religion and culture led to a centuries - long conflict with the Christian kingdoms of Europe , which tried to reclaim control of Muslim areas ; this conflict was referred to as the Reconquista . In 1224 the Muslims were expelled from Sicily to the settlement of Lucera , which was destroyed by European Christians in 1300 . </P> <P> The fall of Granada in 1492 marked the end of Muslim rule in Iberia , although a Muslim minority persisted until their expulsion in 1609 . </P> <P> </P> <H2> Contents </H2> ( hide ) <Ul> <Li> 1 Name <Ul> <Li> 1.1 Etymology </Li> <Li> 1.2 Modern meanings </Li> </Ul> </Li> <Li> 2 Moors of the Maghreb </Li> <Li> 3 Moors of Iberia </Li> <Li> 4 Moors of Sicily </Li> <Li> 5 Architecture </Li> <Li> 6 Moors in heraldry </Li> <Li> 7 Population </Li> <Li> 8 Moors in popular culture </Li> <Li> 9 Notable Moors </Li> <Li> 10 Gallery </Li> <Li> 11 See also </Li> <Li> 12 Notes </Li> <Li> 13 References </Li> <Li> 14 Bibliography </Li> <Li> 15 External links </Li> </Ul> <P> </P> <H2> Name ( edit ) </H2> <H3> Etymology ( edit ) </H3> Further information : Mauri people and Mauretania <P> During the classical period , the Romans interacted with , and later conquered , parts of Mauretania , a state that covered modern northern Morocco , western Algeria , and the Spanish cities Ceuta and Melilla . The Berber tribes of the region were noted in Classical literature as Mauri , which was subsequently rendered as `` Moors '' in English and in related variations in other European languages . Mauri ( Μαῦροι ) is recorded as the native name by Strabo in the early 1st century . This appellation was also adopted into Latin , whereas the Greek name for the tribe was Maurusii ( Μαυρούσιοι ) . The Moors were also mentioned by Tacitus as having revolted against the Roman Empire in 24 AD . </P> <P> The 16th century scholar Leo Africanus ( c. 1494 -- 1554 ) of Al - Andalus identified the Moors as the native Berber inhabitants of the former Roman Africa Province ( Africans ) . He described Moors as one of five main population groups on the continent alongside Egyptians , Abyssinians ( Abassins ) , Arabians and Cafri ( Cafates ) . </P> <H3> Modern meanings ( edit ) </H3> <P> In medieval Romance languages , variations of the Latin word for the Moors ( for instance , Italian and Spanish : moro , French : maure\", 'start': 120, 'stop': 148, 'target': 'LONG'}\n"
          ]
        },
        {
          "output_type": "stream",
          "name": "stderr",
          "text": [
            " 76%|███████▋  | 235056/307372 [06:05<05:23, 223.58it/s]"
          ]
        },
        {
          "output_type": "stream",
          "name": "stdout",
          "text": [
            "{'example_id': '478617815553486450', 'part_id': 6, 'question': 'where does the name green bay packers come from', 'context': \"the playoffs </Li> <Li> 1.8. 3 2010 : Super Bowl XLV championship </Li> <Li> 1.8. 4 2011 : 15 -- 1 season </Li> <Li> 1.8. 5 2012 </Li> <Li> 1.8. 6 2013 : injury to Rodgers </Li> <Li> 1.8. 7 2014 </Li> <Li> 1.8. 8 2015 </Li> <Li> 1.8. 9 2016 </Li> <Li> 1.8. 10 2017 </Li> </Ul> </Li> </Ul> </Li> <Li> 2 Community ownership <Ul> <Li> 2.1 Board of Directors </Li> <Li> 2.2 Green Bay Packers Foundation </Li> </Ul> </Li> <Li> 3 Fan base </Li> <Li> 4 Branding <Ul> <Li> 4.1 Nickname </Li> <Li> 4.2 Team colors </Li> <Li> 4.3 Logo </Li> <Li> 4.4 Uniform variation </Li> </Ul> </Li> <Li> 5 Stadium history </Li> <Li> 6 Statistics and records <Ul> <Li> 6.1 Season - by - season results </Li> <Li> 6.2 Records </Li> <Li> 6.3 Playoff record </Li> </Ul> </Li> <Li> 7 Championships <Ul> <Li> 7.1 League Championships <Ul> <Li> 7.1. 1 NFL Championship by standings </Li> <Li> 7.1. 2 Pre-Super Bowl NFL Championships </Li> <Li> 7.1. 3 Super Bowl Championships </Li> </Ul> </Li> <Li> 7.2 NFC Championships </Li> <Li> 7.3 Division Championships </Li> </Ul> </Li> <Li> 8 Notable players <Ul> <Li> 8.1 Current roster </Li> <Li> 8.2 Pro Football Hall of Fame members </Li> <Li> 8.3 Wisconsin Athletic Hall of Fame </Li> <Li> 8.4 Retired numbers </Li> </Ul> </Li> <Li> 9 Notable coaches <Ul> <Li> 9.1 Current staff </Li> <Li> 9.2 Head coaches </Li> <Li> 9.3 CSVA Sports Film and Video Hall of Famers </Li> </Ul> </Li> <Li> 10 Media <Ul> <Li> 10.1 Radio </Li> <Li> 10.2 Television </Li> </Ul> </Li> <Li> 11 In popular culture </Li> <Li> 12 See also </Li> <Li> 13 References </Li> <Li> 14 External links </Li> </Ul> <H2> History </H2> <H3> Founding </H3> Main article : History of the Green Bay Packers Curly Lambeau , founder , player and first coach of the Packers . <P> The Green Bay Packers were founded on August 11 , 1919 by former high - school football rivals Earl `` Curly '' Lambeau and George Whitney Calhoun . Lambeau solicited funds for uniforms from his employer , the Indian Packing Company . He was given $500 ( $7,100 today ) for uniforms and equipment , on the condition that the team be named for its sponsor . The Green Bay Packers have played in their original city longer than any other team in the NFL . </P> <P> On August 27 , 1921 , the Packers were granted a franchise in the new national pro football league that had been formed the previous year . Financial troubles plagued the team and the franchise was forfeited within the year before Lambeau found new financial backers and regained the franchise the next year . These backers , known as the `` Hungry Five '' , formed the Green Bay Football Corporation . </P> <H3> 1929 -- 1931 : Lambeau 's team arrives </H3> <P> After a near - miss in\", 'start': 312, 'stop': 400, 'target': 'LONG'}\n",
            "{'example_id': '478617815553486450', 'part_id': 7, 'question': 'where does the name green bay packers come from', 'context': \"</Li> <Li> 10.2 Television </Li> </Ul> </Li> <Li> 11 In popular culture </Li> <Li> 12 See also </Li> <Li> 13 References </Li> <Li> 14 External links </Li> </Ul> <H2> History </H2> <H3> Founding </H3> Main article : History of the Green Bay Packers Curly Lambeau , founder , player and first coach of the Packers . <P> The Green Bay Packers were founded on August 11 , 1919 by former high - school football rivals Earl `` Curly '' Lambeau and George Whitney Calhoun . Lambeau solicited funds for uniforms from his employer , the Indian Packing Company . He was given $500 ( $7,100 today ) for uniforms and equipment , on the condition that the team be named for its sponsor . The Green Bay Packers have played in their original city longer than any other team in the NFL . </P> <P> On August 27 , 1921 , the Packers were granted a franchise in the new national pro football league that had been formed the previous year . Financial troubles plagued the team and the franchise was forfeited within the year before Lambeau found new financial backers and regained the franchise the next year . These backers , known as the `` Hungry Five '' , formed the Green Bay Football Corporation . </P> <H3> 1929 -- 1931 : Lambeau 's team arrives </H3> <P> After a near - miss in 1927 , Lambeau 's squad claimed the Packers ' first NFL title in 1929 with an undefeated 12 -- 0 -- 1 campaign , behind a stifling defense which registered eight shutouts . Green Bay would repeat as league champions in 1930 and 1931 , bettering teams from New York , Chicago and throughout the league , with all - time greats and future Hall of Famers Mike Michalske , Johnny ( Blood ) McNally , Cal Hubbard and Green Bay native Arnie Herber . Among the many impressive accomplishments of these years was the Packers ' streak of 29 consecutive home games without defeat , an NFL record which still stands . </P> <H3> 1935 -- 1945 : the Don Hutson era </H3> Don Hutson with the Packers ; his jersey number was the first retired by the Packers ( 1951 ) <P> The arrival of end Don Hutson from Alabama in 1935 gave Lambeau and the Packers the most - feared and dynamic offensive weapon in the game . Credited with inventing pass patterns , Hutson would lead the league in receptions eight seasons and spur the Packers to NFL championships in 1936 , 1939 and 1944 . An iron man , Hutson played both ways , leading the league in interceptions as a safety in 1940 . Hutson claimed 18 NFL records when he retired in 1945 , many of which still stand . In 1951 , his number 14 was the first to be retired by the Packers , and he was\", 'start': 56, 'stop': 144, 'target': 'LONG'}\n",
            "{'example_id': '478617815553486450', 'part_id': 30, 'question': 'where does the name green bay packers come from', 'context': \"2013 , the Packers got to a 5 - 2 start , leading up to a Week 9 match - up against the Bears . It was in that game which the Packers lost Aaron Rodgers to a broken collarbone ; Rodgers would miss the next six games , during which the club would go 2 - 3 - 1 under three different quarterbacks : Seneca Wallace ( injured during first start ) , Scott Tolzien ( benched ) , and Matt Flynn . </P> <P> Despite having a 7 - 7 - 1 record , the Packers were still in a position to win the NFC North division , if they were able to win their final game . With Rodgers returning , the Packers managed to beat the Bears in a Week 9 rematch , 33 - 28 . Finishing at 8 - 7 - 1 , the Packers won their division and were awarded a home playoff game . However , despite Rodgers ' return , the Packers would lose to the San Francisco 49ers 20 - 23 in the first round of the playoffs . </P> 2014 Main article : 2014 Green Bay Packers season <P> The Packers recorded their 700th victory against the Bears in Week 4 . The team went undefeated in its home games , for the first time since the 2011 season ; they also led the league in scoring , with 486 points , the second-most in franchise history . The 2014 season also marked the first time since 2009 that the team had a 4,000 - yard passer , two 1,000 - yard receivers , and a 1,000 - yard rusher . Overall , the team went 12 - 4 , clinching the # 2 seed in the NFC and a fourth consecutive NFC North division title , making the playoffs for the sixth straight season , tying a franchise record . The Packers beat the Cowboys in the divisional round , advancing to the NFC Championship to face the Seattle Seahawks . After leading throughout most of regulation , the Packers lost 28 - 22 in a historic overtime rally by Seattle . </P> <P> Following the season , quarterback Aaron Rodgers was named the league 's Most Valuable Player for the second time . </P> 2015 Main article : 2015 Green Bay Packers season Jordy Nelson , who tore his ACL in the 2015 preseason , and would go on to be the NFL Comeback Player of the Year the following 2016 season upon returning from his injury <P> During Week 2 of the preseason against the Pittsburgh Steelers , wide receiver Jordy Nelson caught an eight - yard pass from Aaron Rodgers , but then fell to the turf without contact . A few days later , it was revealed that Nelson had torn his ACL . He would remain inactive for the rest of the 2015 season\", 'start': 0, 'stop': 0, 'target': 'NO_ANSWER'}\n",
            "{'example_id': '478617815553486450', 'part_id': 33, 'question': 'where does the name green bay packers come from', 'context': \", ending their season . </P> 2016 Main article : 2016 Green Bay Packers season <P> After a 4 -- 6 start to the season , the Packers went on a six - game winning streak to finish the regular season with a 10 -- 6 record . The team clinched the NFC North for the fifth time in six years with their Week 17 win over the Detroit Lions . They routed the fifth - seeded New York Giants , 38 -- 13 , in the wild - card round of the playoffs and upset the top - seeded Dallas Cowboys , 34 -- 31 , in the divisional round of the playoffs , but their season came to an end when they were beaten by the second - seeded Atlanta Falcons in the NFC Championship Game , 44 -- 21 . </P> 2017 Main article : 2017 Green Bay Packers season <P> The Green Bay Packers began the 2017 regular season with a 4 -- 2 record . In a game against the Minnesota Vikings , Aaron Rodgers was driven to the ground after throwing a pass and suffered a broken collarbone . In week 11 of the regular season , the Packers lost to the Baltimore Ravens with a score of 23 -- 0 . This is the first shutout game in Lambeau Field since 2006 , where the Packers lost to the New England Patriots with a score of 35 -- 0 . The Packers would finish the season 7 - 9 , missing the playoffs for the first time since 2008 . </P> <H2> Community ownership </H2> Main article : Green Bay Packers , Inc . The Don Hutson Center <P> The Packers are the only community - owned franchise in American professional sports . Rather than being the property of an individual , partnership , or corporate entity , they are held in 2014 by 360,584 stockholders . No one is allowed to hold more than 200,000 shares , or approximately 4 % of the 5,011,557 shares currently outstanding . It is this broad - based community support and non-profit structure which has kept the team in Green Bay for nearly a century in spite of being the smallest market in all of North American professional sports . </P> <P> The city of Green Bay had a population of only 104,057 as of the 2010 census , and 600,000 in its television market , significantly less than the average NFL figures . The team , however , has long had an extended fan base throughout Wisconsin and parts of the Midwest , thanks in part to playing one pre-season and three regular - season home games each year in Milwaukee through 1995 . It was only when baseball - only Miller Park preempted football there that the Packers ' home slate became played entirely in Green Bay . </P> <P> There have been five stock\", 'start': 0, 'stop': 0, 'target': 'NO_ANSWER'}\n"
          ]
        },
        {
          "output_type": "stream",
          "name": "stderr",
          "text": [
            " 78%|███████▊  | 240176/307372 [06:13<01:48, 618.67it/s]"
          ]
        },
        {
          "output_type": "stream",
          "name": "stdout",
          "text": [
            "{'example_id': '1136650406758304579', 'part_id': 1, 'question': 'what is the point of a semi hollow guitar', 'context': \"jazz bands . This led makers to try a series of designs that focused on amplifying a guitar electrically through a loudspeaker . In 1936 , Gibson made their first production run of electric guitars . These guitars , known as ES - 150s ( Electric Spanish Series ) were the first manufactured semi-acoustic guitars . </P> <P> Gibson based them on a standard production archtop , with f holes on the face of the guitar 's soundbox . This model resembled traditional jazz guitars that were popular at the time . The soundbox on the guitar let limited sound emit from the hollow body of the guitar . These guitars , however , could be electrically amplified via a Charlie Christian pickup , a magnetic single - coil pickup that converted the energy of the vibrating strings into an electrical signal . The clear sound of the pickups made the ES series immediately popular with jazz musicians . The first semi-acoustic guitars are often thought of as an evolutionary step in the progression from acoustic guitars to full electric models . </P> <P> However , Gibson made the ES - 150 several years after Rickenbacker made the first solid - body electric guitar . The ES series was merely an experiment the Gibson company used to test the potential success of electric guitars . The experiment was a successful financial venture , and the ES series is often referred to as the first successful electric guitar . The ES - 150 was followed by the ES - 250 a year later , in what became a long line of semi acoustics for the Gibson company . </P> <P> In 1949 Gibson released two new models : the ES - 175 and ES - 5 . These guitars came standard with built - in electric pickups and are widely considered the first fully electric semi-acoustic guitars . Prior models were not built with pickups ; rather , they came as attachments . As the production and popularity of solid body electric guitars increased , there was still a market of guitar players who wanted to have the traditional look associated with the semi-acoustic guitars of the 1930s but also wanted the versatility and comfort of new solid body guitars . Several models , including the ES - 350T by Gibson , were made in the 1950s to accommodate this growing demand by including a more comfortable version of the archtop model . </P> <P> Gibson and other makers followed these variations with an entirely new type of guitar that featured a block of solid wood between the front and back sections of the guitars cutaway . This guitar still functioned acoustically , but had a smaller resonant cavity inside , which makes less sound emit from the f holes . Gibson first manufactured this variant in 1958 . It is commonly referred to as a semi-hollow body guitar , because of\", 'start': 461, 'stop': 469, 'target': 'SHORT'}\n",
            "{'example_id': '1136650406758304579', 'part_id': 2, 'question': 'what is the point of a semi hollow guitar', 'context': \"ES - 250 a year later , in what became a long line of semi acoustics for the Gibson company . </P> <P> In 1949 Gibson released two new models : the ES - 175 and ES - 5 . These guitars came standard with built - in electric pickups and are widely considered the first fully electric semi-acoustic guitars . Prior models were not built with pickups ; rather , they came as attachments . As the production and popularity of solid body electric guitars increased , there was still a market of guitar players who wanted to have the traditional look associated with the semi-acoustic guitars of the 1930s but also wanted the versatility and comfort of new solid body guitars . Several models , including the ES - 350T by Gibson , were made in the 1950s to accommodate this growing demand by including a more comfortable version of the archtop model . </P> <P> Gibson and other makers followed these variations with an entirely new type of guitar that featured a block of solid wood between the front and back sections of the guitars cutaway . This guitar still functioned acoustically , but had a smaller resonant cavity inside , which makes less sound emit from the f holes . Gibson first manufactured this variant in 1958 . It is commonly referred to as a semi-hollow body guitar , because of the smaller , less open body . </P> <P> Rickenbacker also began making semi-acoustic guitars in 1958 . When the company changed ownership in 1954 , they hired German guitar crafter , Roger Rossmiesl . He developed the 300 series for Rickenbacker , which was a wide semi-acoustic that did not use a traditional f hole . Rather it used a sleeker dash hole on one side of the guitar , the other side had a large pickguard . This model boasted a modern design with a unique Fireglo finish . It quickly became one of Rickenbacker 's most popular series and became a strong competitor to Gibson 's models . </P> <P> In addition to the main model variants of the guitar , Gibson made several small changes to the guitar , including a laminated top for the ES - 175 model and mounted top pickups for general use on all their models , as opposed to Charlie Christian models from the 1930s . While Gibson provided many of the innovations in semi-acoustic guitars from the 1930s to the 1950s , there were also various makes by other companies including a hollow archtop by Gretsch . The 6120 model by Gretsch became very popular as a rockabilly model despite having almost no technical differences from Gibson models . Rickenbacker was also a prominent maker of the semi-hollow body guitar . Gibson , Gretsch , Rickenbacker , and other companies still make semi-acoustic and semi-hollow body guitars , making slight variations on their yearly designs .\", 'start': 205, 'stop': 213, 'target': 'SHORT'}\n"
          ]
        },
        {
          "output_type": "stream",
          "name": "stderr",
          "text": [
            " 81%|████████▏ | 250124/307372 [06:28<01:13, 779.86it/s]"
          ]
        },
        {
          "output_type": "stream",
          "name": "stdout",
          "text": [
            "{'example_id': '6045170630013492137', 'part_id': 0, 'question': 'where did the windows xp background come from', 'context': 'Bliss ( image ) - wikipedia <H1> Bliss ( image ) </H1> Jump to : navigation , search For other uses , see Bliss ( disambiguation ) . <Table> <Tr> <Th_colspan=\"2\"> Bliss </Th> </Tr> <Tr> <Td_colspan=\"2\"> </Td> </Tr> <Tr> <Th> Artist </Th> <Td> Charles O\\'Rear </Td> </Tr> <Tr> <Th> Year </Th> <Td> </Td> </Tr> <Tr> <Th> Type </Th> <Td> Landscape photography </Td> </Tr> <Tr> <Th> Location </Th> <Td> Sonoma County , California , United States </Td> </Tr> <Tr> <Th> Coordinates </Th> <Td> 38 ° 15 ′ 00.5 \\'\\' N 122 ° 24 ′ 38.9 \\'\\' W \\ufeff / \\ufeff 38.250139 ° N 122.410806 ° W \\ufeff / 38.250139 ; - 122.410806 Coordinates : 38 ° 15 ′ 00.5 \\'\\' N 122 ° 24 ′ 38.9 \\'\\' W \\ufeff / \\ufeff 38.250139 ° N 122.410806 ° W \\ufeff / 38.250139 ; - 122.410806 </Td> </Tr> <Tr> <Th> Owner </Th> <Td> Microsoft </Td> </Tr> </Table> <P> Bliss is the name of the default computer wallpaper of Microsoft \\'s Windows XP operating system . It is an unedited photograph of a green hill and blue sky with clouds in the Los Carneros American Viticultural Area of Sonoma County , California , United States . Charles O\\'Rear originally sent it to Corbis in 1996 , and Microsoft bought the rights to the picture in 2000 . </P> <P> </P> <H2> Contents </H2> ( hide ) <Ul> <Li> 1 Overview </Li> <Li> 2 History <Ul> <Li> 2.1 Attempts to recreate </Li> </Ul> </Li> <Li> 3 Reception </Li> <Li> 4 See also </Li> <Li> 5 References </Li> <Li> 6 External links </Li> </Ul> <P> </P> <H2> Overview ( edit ) </H2> <P> Former National Geographic photographer Charles O\\'Rear , a resident of the nearby Napa Valley , took the photo on film with a medium - format camera while on his way to visit his girlfriend in 1996 . While it was widely believed later that the image was digitally manipulated or even created with software such as Adobe Photoshop , O\\'Rear says it never was . He sold it to Corbis for use as a stock photo . Several years later , Microsoft engineers chose a digitized version of the image and licensed it from O\\'Rear . </P> <P> Over the next decade it has been claimed to be the most viewed photograph in the world during that time . Since it was taken , the landscape in it has changed , with grapevines planted on the hill and field in the foreground , making O\\'Rear\\'s image impossible to duplicate for the time being . That has not stopped other photographers from trying , and some of their attempts have been included in art exhibits . </P> <H2> History ( edit ) </H2> Charles O\\'Rear in 2007 . <P> In January 1996 former National Geographic photographer Charles O\\'Rear was on his way from his home in St. Helena , California , in the Napa Valley north of', 'start': 153, 'stop': 223, 'target': 'LONG'}\n"
          ]
        },
        {
          "output_type": "stream",
          "name": "stderr",
          "text": [
            " 83%|████████▎ | 255103/307372 [06:35<01:04, 805.87it/s]"
          ]
        },
        {
          "output_type": "stream",
          "name": "stdout",
          "text": [
            "{'example_id': '-2153209466801675763', 'part_id': 6, 'question': 'when was the first full suspension mountain bike made', 'context': \"Others such as Proflex ( Girvin ) , Whyte and BMW , have made suspension forks that employ four - bar linkage systems instead of relying upon telescopic fork legs , much like BMW 's Duolever . The Suntour Swing Shock fork is based on a coil cantilevered swing set - up , and suspension is given by a coil spring which is located within the steerer tube and can be accessed from the top , technology which was originally used for suspension on early motorcycles . </P> <P> To prevent water and dirt from damaging the suspension , gaiters have been used to cover the fork 's stanchions . However even when properly sealing the stanchions and sliders , the gaiters have to have small openings in them to allow air to move in and out of the cavity between gaiter and stanchion as the fork moves through its travel . Some water and grit may find its way in through these holes , staying trapped inside and accumulating over time . Since modern dust wipers and seals keep out water and dirt adequately enough by themselves , and since gaiter-less stanchions are generally regarded as more aesthetically pleasing , gaiters have fallen out of favor . </P> <H2> Rear suspension ( edit ) </H2> <P> Bicycles with rear suspension typically also have front suspension . Recumbent bicycles with suspension are an exception and often employ rear - only suspension . </P> <P> Mountain bike suspension technology has made great advances since first appearing in the early 1990s . Early full suspension frames were heavy and tended to bounce up and down while a rider pedaled . This movement was called pedal bob , kickback , or monkey motion and took power out of a rider 's pedal stroke -- especially during climbs up steep hills . Input from hard braking efforts also negatively affected early full suspension designs . When a rider hit the brakes , these early suspensions compressed into their travel and lost some of their ability to absorb bumps . This happened in situations where the rear suspension was needed most . When braking efforts cause the suspension to compress it is referred to as brake squat , when braking causes the suspension to extend it is called brake jack . </P> <P> Problems with pedal bob and brake jack began to be controlled in the early 1990s . One of the first successful full suspension bikes was designed by Mert Lawwill , a former motorcycle champion . His bike , the Gary Fisher RS - 1 , was released in 1992 . Its rear suspension adapted the A-arm suspension design from sports car racing , and was the first four - bar linkage in mountain biking . This design reduced the twin problems of unwanted braking and pedaling input to the rear wheel , but the design was n't flawless . Problems remained with suspension\", 'start': 257, 'stop': 259, 'target': 'SHORT'}\n",
            "{'example_id': '-2153209466801675763', 'part_id': 7, 'question': 'when was the first full suspension mountain bike made', 'context': \"the early 1990s . Early full suspension frames were heavy and tended to bounce up and down while a rider pedaled . This movement was called pedal bob , kickback , or monkey motion and took power out of a rider 's pedal stroke -- especially during climbs up steep hills . Input from hard braking efforts also negatively affected early full suspension designs . When a rider hit the brakes , these early suspensions compressed into their travel and lost some of their ability to absorb bumps . This happened in situations where the rear suspension was needed most . When braking efforts cause the suspension to compress it is referred to as brake squat , when braking causes the suspension to extend it is called brake jack . </P> <P> Problems with pedal bob and brake jack began to be controlled in the early 1990s . One of the first successful full suspension bikes was designed by Mert Lawwill , a former motorcycle champion . His bike , the Gary Fisher RS - 1 , was released in 1992 . Its rear suspension adapted the A-arm suspension design from sports car racing , and was the first four - bar linkage in mountain biking . This design reduced the twin problems of unwanted braking and pedaling input to the rear wheel , but the design was n't flawless . Problems remained with suspension action under acceleration , and the RS - 1 could n't use traditional cantilever brakes since the rear axle , and thus rim , moved in relation to the chainstays and seatstays . A lightweight , powerful disc brake was n't developed until the mid-1990s , and the disc brake used on the RS - 1 was its downfall . </P> <P> Horst Leitner began working on the problem of chain torque and its effect on suspension in the mid-1970s with motorcycles . In 1985 Leitner built a prototype mountain bike incorporating what became known later as the `` Horst link '' . The Horst Link is a type of four - bar suspension . Leitner formed a mountain bike and research company , AMP research , that began building full - suspension mountain bikes . In 1990 , AMP introduced the Horst link as a feature of a `` fully independent linkage '' rear suspension for mountain bikes . The AMP B - 3 and B - 4 XC full - suspension bikes featured optional disc brakes and Horst link rear suspension very similar to the Macpherson strut . Note that the sliding piston in the shock absorber represents the fourth `` bar '' in this case . A later model , the B - 5 , was equipped with a revolutionary four - bar front suspension fork , as well as the Horst link in the rear . It featured up to 125 mm ( 5 inches ) of travel on a bicycle weighing\", 'start': 1, 'stop': 3, 'target': 'SHORT'}\n",
            "{'example_id': '-2153209466801675763', 'part_id': 24, 'question': 'when was the first full suspension mountain bike made', 'context': \"mass . </P> <H2> Mountain bikes ( edit ) </H2> Rear suspension of a Trek Fuel 90 , a low single pivot with rocker linkage design . <P> Many newer mountain bikes have a full suspension design . In the past , mountain bikes had a rigid frame and a rigid fork . In the early 1990s , mountain bikes started to have front suspension forks . This made riding on rough terrain easier on a rider 's arms . The first suspension forks had about 11⁄2 to 2 inches ( 38 to 50 mm ) of suspension travel . Soon after , some frame designers came out with a full suspension frame which gave riders a smoother ride throughout the ride . </P> <P> Newer suspension frame and fork designs have reduced weight , increased amount of suspension travel , and improved feel . Many lock out the rear suspension while the rider is pedaling hard or climbing , in order to improve pedaling efficiency . Most suspension frames and forks have about 4 - 6 inches ( 100 -- 150 mm ) of suspension travel . More aggressive suspension frames and forks made for downhill racing and freeriding have as much as 8 or 9 inches ( 200 or 230 mm ) of suspension travel . </P> <P> Many riders still prefer to ride a hardtail frame , and almost all mountain bicycle riders use a suspension fork . Notable suspension fork manufacturers include Marzocchi , Fox Racing Shox , RockShox , and ( to a lesser extent ) X-Fusion , RST , Suntour and Magura . Some bicycle manufacturers ( notably Cannondale and Specialized ) also make their own suspension systems to fully complement and integrate the bike set - up . </P> <H2> Road bikes ( edit ) </H2> <P> Although much less common , some road bicycles do incorporate suspensions , particularly the Soft Tail variety mentioned above . One example is Trek Bicycle Corporation 's s.p.a ( Suspension Performance Advantage ) rear suspension , offered on some of their Pilot models , but the system was removed for the 2008 model year . Virtually all bicycles produced by Alex Moulton bicycles also have very effective full suspension , due to the low unsuspended mass of the small wheels and high pressure tires , a characteristic of the unconventional design of these bicycles . A recent design is the cantilevered ' swing shock ' on some modern hybrid bikes . </P> <H2> Recumbent bikes ( edit ) </H2> The Optima Stinger recumbent with rear suspension <P> Many recumbent bicycles have at least a rear suspension because the rider is usually unable to lift themselves off the seat while riding . Single pivot is usually adequate when the pedaling thrust is horizontal - that is , forwards rather than downwards . This is usually the case provided the bottom bracket is higher than the seat 's base\", 'start': 0, 'stop': 0, 'target': 'NO_ANSWER'}\n"
          ]
        },
        {
          "output_type": "stream",
          "name": "stderr",
          "text": [
            " 85%|████████▍ | 260177/307372 [06:43<01:04, 730.96it/s]"
          ]
        },
        {
          "output_type": "stream",
          "name": "stdout",
          "text": [
            "{'example_id': '4923162857637513684', 'part_id': 0, 'question': 'how many stars is there in the american flag', 'context': 'Flag of the United States - wikipedia <H1> Flag of the United States </H1> Jump to : navigation , search `` American Flag \\'\\' and `` Flag of the USA \\'\\' redirect here . For other uses , see American Flag ( disambiguation ) . For the flag of the Union of South Africa , see Flag of South Africa ( 1928 -- 1994 ) . <Table> United States of America <Tr> <Td_colspan=\"2\"> </Td> </Tr> <Tr> <Td_colspan=\"2\"> </Td> </Tr> <Tr> <Th> Names </Th> <Td> The American flag , The Stars and Stripes ; Red , White , and Blue ; Old Glory ; The Star - Spangled Banner ; US flag ; United States flag </Td> </Tr> <Tr> <Th> Use </Th> <Td> National flag and ensign </Td> </Tr> <Tr> <Th> Proportion </Th> <Td> 10 : 19 </Td> </Tr> <Tr> <Th> Adopted </Th> <Td> <Ul> <Li> June 14 , 1777 ( original 13 - star version ) </Li> <Li> July 4 , 1960 ( current 50 - star version ) </Li> </Ul> </Td> </Tr> <Tr> <Th> Design </Th> <Td> Thirteen horizontal stripes alternating red and white ; in the canton , 50 white stars of alternating numbers of six and five per horizontal row on a blue field </Td> </Tr> <Tr> <Td_colspan=\"2\"> </Td> </Tr> </Table> <P> The flag of the United States of America , often referred to as the American flag , is the national flag of the United States . It consists of thirteen equal horizontal stripes of red ( top and bottom ) alternating with white , with a blue rectangle in the canton ( referred to specifically as the `` union \\'\\' ) bearing fifty small , white , five - pointed stars arranged in nine offset horizontal rows , where rows of six stars ( top and bottom ) alternate with rows of five stars . The 50 stars on the flag represent the 50 states of the United States of America , and the 13 stripes represent the thirteen British colonies that declared independence from the Kingdom of Great Britain , and became the first states in the U.S. Nicknames for the flag include the Stars and Stripes , Old Glory , and the Star - Spangled Banner . </P> <P> </P> <H2> Contents </H2> ( hide ) <Ul> <Li> 1 History <Ul> <Li> 1.1 First flag </Li> <Li> 1.2 The Flag Resolution of 1777 </Li> <Li> 1.3 Designer of the first stars and stripes </Li> <Li> 1.4 Later flag acts </Li> <Li> 1.5 The `` Flower Flag \\'\\' arrives in Asia </Li> <Li> 1.6 Historical progression of designs </Li> </Ul> </Li> <Li> 2 Future of the flag </Li> <Li> 3 Symbolism </Li> <Li> 4 Design <Ul> <Li> 4.1 Creation </Li> <Li> 4.2 Specifications </Li> <Li> 4.3 Colors </Li> <Li> 4.4 The 49 - and 50 - star unions </Li> <Li> 4.5 Decoration </Li> </Ul> </Li> <Li> 5 Display and use <Ul> <Li> 5.1 Flag etiquette', 'start': 277, 'stop': 278, 'target': 'SHORT'}\n",
            "{'example_id': '4923162857637513684', 'part_id': 1, 'question': 'how many stars is there in the american flag', 'context': \"with white , with a blue rectangle in the canton ( referred to specifically as the `` union '' ) bearing fifty small , white , five - pointed stars arranged in nine offset horizontal rows , where rows of six stars ( top and bottom ) alternate with rows of five stars . The 50 stars on the flag represent the 50 states of the United States of America , and the 13 stripes represent the thirteen British colonies that declared independence from the Kingdom of Great Britain , and became the first states in the U.S. Nicknames for the flag include the Stars and Stripes , Old Glory , and the Star - Spangled Banner . </P> <P> </P> <H2> Contents </H2> ( hide ) <Ul> <Li> 1 History <Ul> <Li> 1.1 First flag </Li> <Li> 1.2 The Flag Resolution of 1777 </Li> <Li> 1.3 Designer of the first stars and stripes </Li> <Li> 1.4 Later flag acts </Li> <Li> 1.5 The `` Flower Flag '' arrives in Asia </Li> <Li> 1.6 Historical progression of designs </Li> </Ul> </Li> <Li> 2 Future of the flag </Li> <Li> 3 Symbolism </Li> <Li> 4 Design <Ul> <Li> 4.1 Creation </Li> <Li> 4.2 Specifications </Li> <Li> 4.3 Colors </Li> <Li> 4.4 The 49 - and 50 - star unions </Li> <Li> 4.5 Decoration </Li> </Ul> </Li> <Li> 5 Display and use <Ul> <Li> 5.1 Flag etiquette </Li> <Li> 5.2 Display on vehicles </Li> <Li> 5.3 Display on uniforms </Li> <Li> 5.4 Postage stamps </Li> <Li> 5.5 Display in museums </Li> <Li> 5.6 Places of continuous display </Li> <Li> 5.7 Particular days for display </Li> <Li> 5.8 Display at half - staff </Li> </Ul> </Li> <Li> 6 Folding for storage </Li> <Li> 7 Use in funerals </Li> <Li> 8 Related flags <Ul> <Li> 8.1 Gallery of related flags </Li> </Ul> </Li> <Li> 9 See also <Ul> <Li> 9.1 Article sections </Li> <Li> 9.2 Associated people </Li> <Li> 9.3 Bibliography </Li> </Ul> </Li> <Li> 10 References </Li> <Li> 11 Further reading </Li> <Li> 12 External links </Li> </Ul> <P> </P> <H2> History </H2> See also : Timeline of the flag of the United States <P> The current design of the U.S. flag is its 27th ; the design of the flag has been modified officially 26 times since 1777 . The 48 - star flag was in effect for 47 years until the 49 - star version became official on July 4 , 1959 . The 50 - star flag was ordered by the then president Eisenhower on August 21 , 1959 , and was adopted in July 1960 . It is the longest - used version of the U.S. flag and has been in use for over 57 years . </P> <H3> First flag </H3> Main article : Grand Union Flag <Ul> <Li> <P> The Continental Colors ( aka the `` Grand Union Flag '' ) </P> </Li> <Li> <P> Flag of the\", 'start': 21, 'stop': 22, 'target': 'SHORT'}\n",
            "{'example_id': '4923162857637513684', 'part_id': 58, 'question': 'how many stars is there in the american flag', 'context': \"a formal book - length proposal for vexillolatry was made by William Norman Guthrie in his The Religion of Old Glory ( New York : Doran , l9l9 ) . </Li> <Li> Jump up ^ ( 2 ) This Is Why It 's Legal to Burn the American Flag </Li> <Li> Jump up ^ Arnaldo Testi , Capture the Flag : The Stars and Stripes in American History ( New York University Press , 2010 ) , p. 2 , ISBN 978 - 0 - 8147 - 8322 - 1 . </Li> <Li> Jump up ^ `` 50 Star Flag A half - century ago , new 50 - star American flag debuted in Baltimore -- Baltimore Sun '' . Articles.baltimoresun.com . July 2 , 2010 . Retrieved September 8 , 2013 . </Li> <Li> Jump up ^ Duane Streufert . `` USFlag.org : A website dedicated to the Flag of the United States of America -- Robert G. Heft '' . usflag.org . Retrieved April 19 , 2015 . </Li> <Li> Jump up ^ Sell , Jill ( June 2015 ) . `` Starring Role '' . Ohio magazine . </Li> <Li> ^ Jump up to : Rasmussen , Frederick N. ( July 3 , 2010 ) . `` A half - century ago , new 50 - star American flag debuted in Baltimore '' . The Baltimore Sun . </Li> <Li> Jump up ^ Note that the flag ratio ( B / A in the diagram ) is not absolutely fixed . Although the diagram in Executive Order 10834 gives a ratio of 1.9 , earlier in the order is a list of flag sizes authorized for executive agencies . This list permits eleven specific flag sizes ( specified by height and width ) for such agencies : 20.00 × 38.00 ; 10.00 × 19.00 ; 8.95 × 17.00 ; 7.00 × 11.00 ; 5.00 × 9.50 ; 4.33 × 5.50 ; 3.50 × 6.65 ; 3.00 × 4.00 ; 3.00 × 5.70 ; 2.37 × 4.50 ; and 1.32 × 2.50 . Eight of these sizes conform to the 1.9 ratio , within a small rounding error ( less than 0.01 ) . However , three of the authorized sizes vary significantly : 1.57 ( for 7.00 × 11.00 ) , 1.27 ( for 4.33 × 5.50 ) and 1.33 ( for 3.00 × 4.00 ) . </Li> <Li> Jump up ^ Ex . Ord . No. 10834 , August 21 , 1959 , 24 F.R. 6865 ( governing flags `` manufactured or purchased for the use of executive agencies '' , Section 22 ) . Section 32 explains that , `` As used in this order , the term ' executive agencies ' means the executive departments and independent establishments in the executive branch of the Government , including wholly owned Government corporations . '' </Li> <Li> Jump up ^ Architect of the Capitol : `` Flag\", 'start': 0, 'stop': 0, 'target': 'NO_ANSWER'}\n",
            "{'example_id': '4923162857637513684', 'part_id': 69, 'question': 'how many stars is there in the american flag', 'context': 'Vietnam War </Li> <Li> Post-Cold War ( 1991 -- 2008 ) </Li> <Li> War on Terror <Ul> <Li> War in Afghanistan </Li> <Li> Iraq War </Li> </Ul> </Li> <Li> Recent events ( 2008 -- present ) </Li> </Ul> </Td> </Tr> <Tr> <Th> By topic </Th> <Td> <Ul> <Li> Outline of U.S. history </Li> <Li> Demographic </Li> <Li> Discoveries </Li> <Li> Economic <Ul> <Li> debt ceiling </Li> </Ul> </Li> <Li> Inventions <Ul> <Li> before 1890 </Li> <Li> 1890 -- 1945 </Li> <Li> 1946 -- 91 </Li> <Li> after 1991 </Li> </Ul> </Li> <Li> Military </Li> <Li> Postal </Li> <Li> Technological and industrial </Li> </Ul> </Td> </Tr> </Table> </Td> </Tr> <Tr> <Th> Geography </Th> <Td> <Table> <Tr> <Td_colspan=\"2\"> <Ul> <Li> Territory <Ul> <Li> counties </Li> <Li> federal district </Li> <Li> federal enclaves </Li> <Li> Indian reservations </Li> <Li> insular zones </Li> <Li> minor outlying islands </Li> <Li> populated places </Li> <Li> states </Li> </Ul> </Li> <Li> Earthquakes </Li> <Li> Extreme points </Li> <Li> Islands </Li> <Li> Mountains <Ul> <Li> peaks </Li> <Li> ranges </Li> <Li> Appalachian </Li> <Li> Rocky </Li> </Ul> </Li> <Li> National Park Service <Ul> <Li> National Parks </Li> </Ul> </Li> <Li> Regions <Ul> <Li> East Coast </Li> <Li> West Coast </Li> <Li> Great Plains </Li> <Li> Gulf </Li> <Li> Mid-Atlantic </Li> <Li> Midwestern </Li> <Li> New England </Li> <Li> Pacific </Li> <Li> Central </Li> <Li> Eastern </Li> <Li> Northern </Li> <Li> Northeastern </Li> <Li> Northwestern </Li> <Li> Southern </Li> <Li> Southeastern </Li> <Li> Southwestern </Li> <Li> Western </Li> </Ul> </Li> <Li> Longest rivers <Ul> <Li> Arkansas </Li> <Li> Colorado </Li> <Li> Columbia </Li> <Li> Mississippi </Li> <Li> Missouri </Li> <Li> Red ( South ) </Li> <Li> Rio Grande </Li> <Li> Yukon </Li> </Ul> </Li> <Li> Time </Li> <Li> Water supply and sanitation </Li> </Ul> </Td> </Tr> </Table> </Td> </Tr> <Tr> <Th> Politics </Th> <Td> <Table> <Tr> <Td_colspan=\"2\"> <Table> <Tr> <Th> Federal </Th> <Td> <Table> <Tr> <Th> Executive </Th> <Td> <Ul> <Li> Cabinet </Li> <Li> Civil service </Li> <Li> Executive departments </Li> <Li> Executive Office </Li> <Li> Independent agencies </Li> <Li> Law enforcement </Li> <Li> President of the United States </Li> <Li> Public policy </Li> </Ul> </Td> </Tr> <Tr> <Th> Legislative </Th> <Td> <Ul> <Li> House of Representatives <Ul> <Li> current members </Li> <Li> Speaker </Li> </Ul> </Li> <Li> Senate <Ul> <Li> current members </Li> <Li> President pro tempore </Li> <Li> Vice President </Li> </Ul> </Li> </Ul> </Td> </Tr> <Tr> <Th> Judicial </Th> <Td> <Ul> <Li> Courts of appeals </Li> <Li> District courts </Li> <Li> Supreme Court </Li> </Ul> </Td> </Tr> <Tr> <Th> Law </Th> <Td> <Ul> <Li> Bill of Rights <Ul> <Li> civil liberties </Li> </Ul> </Li> <Li> Code of Federal Regulations </Li> <Li> Constitution <Ul> <Li> federalism </Li> <Li> preemption </Li> <Li> separation of powers </Li> </Ul> </Li> <Li> Federal Reporter </Li> <Li> United States Code </Li> <Li> United States Reports </Li> </Ul> </Td> </Tr> <Tr> <Th> Intelligence </Th> <Td> <Ul> <Li> Central Intelligence Agency </Li> <Li> Defense Intelligence', 'start': 0, 'stop': 0, 'target': 'NO_ANSWER'}\n",
            "{'example_id': '4923162857637513684', 'part_id': 76, 'question': 'how many stars is there in the american flag', 'context': 'Florida </Li> <Li> Georgia </Li> <Li> Hawaii </Li> <Li> Idaho </Li> <Li> Illinois </Li> <Li> Indiana </Li> <Li> Iowa </Li> <Li> Kansas </Li> <Li> Kentucky </Li> <Li> Louisiana </Li> <Li> Maine </Li> <Li> Maryland </Li> <Li> Massachusetts </Li> <Li> Michigan </Li> <Li> Minnesota </Li> <Li> Mississippi </Li> <Li> Missouri </Li> <Li> Montana </Li> <Li> Nebraska </Li> <Li> Nevada </Li> <Li> New Hampshire </Li> <Li> New Jersey </Li> <Li> New Mexico </Li> <Li> New York </Li> <Li> North Carolina </Li> <Li> North Dakota </Li> <Li> Ohio </Li> <Li> Oklahoma </Li> <Li> Oregon </Li> <Li> Pennsylvania </Li> <Li> Rhode Island </Li> <Li> South Carolina </Li> <Li> South Dakota </Li> <Li> Tennessee </Li> <Li> Texas </Li> <Li> Utah </Li> <Li> Vermont </Li> <Li> Virginia </Li> <Li> Washington </Li> <Li> West Virginia </Li> <Li> Wisconsin </Li> <Li> Wyoming </Li> </Ul> </Td> </Tr> <Tr> <Th> Federal district </Th> <Td> Washington , D.C. </Td> </Tr> <Tr> <Th> Insular areas </Th> <Td> <Ul> <Li> American Samoa </Li> <Li> Guam </Li> <Li> Northern Mariana Islands </Li> <Li> Puerto Rico </Li> <Li> U.S. Virgin Islands </Li> </Ul> </Td> </Tr> <Tr> <Th> Outlying Islands </Th> <Td> <Ul> <Li> Johnson Atoll </Li> <Li> Midway Atoll </Li> <Li> Navassa Island </Li> <Li> Palmyra Atoll </Li> <Li> Wake Island </Li> </Ul> </Td> </Tr> <Tr> <Th> Historic </Th> <Td> <Ul> <Li> CSA </Li> <Li> Cuba </Li> <Li> Philippines ( Commonwealth ) </Li> <Li> California Republic </Li> <Li> Panama Canal Zone </Li> <Li> Texas ( Republic ) </Li> <Li> TTPI </Li> <Li> USCA Ryukyu Islands </Li> <Li> Vermont Republic </Li> <Li> West Florida ( Republic ) </Li> </Ul> </Td> </Tr> <Tr> <Td_colspan=\"2\"> <Ul> <Li> Book </Li> <Li> Category </Li> <Li> Portal </Li> </Ul> </Td> </Tr> </Table> <Table> <Tr> <Th_colspan=\"2\"> <Ul> <Li> </Li> <Li> </Li> <Li> </Li> </Ul> `` Six flags over Texas \\'\\' </Th> </Tr> <Tr> <Td_colspan=\"2\"> <Ul> <Li> French Texas </Li> <Li> Spanish Texas </Li> <Li> Mexican Texas </Li> <Li> Republic of Texas </Li> <Li> Confederate States </Li> <Li> United States </Li> </Ul> </Td> </Tr> </Table> <Table> <Tr> <Th_colspan=\"2\"> <Ul> <Li> </Li> <Li> </Li> <Li> </Li> </Ul> National flags and coats of arms </Th> </Tr> <Tr> <Th> National flags </Th> <Td> <Ul> <Li> Sovereign states </Li> <Li> Dependent territories </Li> <Li> Timeline </Li> </Ul> </Td> </Tr> <Tr> <Th> National coats of arms </Th> <Td> <Ul> <Li> Sovereign states </Li> <Li> Dependent territories </Li> </Ul> </Td> </Tr> <Tr> <Td_colspan=\"2\"> <Ul> <Li> Heraldry portal </Li> </Ul> </Td> </Tr> </Table> Retrieved from `` https://en.wikipedia.org/w/index.php?title=Flag_of_the_United_States&oldid=841195879 \\'\\' Categories : <Ul> <Li> Flags of the United States </Li> <Li> National flags </Li> <Li> National symbols of the United States </Li> <Li> Flags introduced in 1777 </Li> </Ul> Hidden categories : <Ul> <Li> CS1 : Julian -- Gregorian uncertainty </Li> <Li> All articles with dead external links </Li> <Li> Articles with dead external links from April 2017 </Li> <Li> Webarchive template wayback links </Li> <Li> CS1 maint : BOT : original - url status unknown </Li> <Li> CS1 maint : Extra text', 'start': 0, 'stop': 0, 'target': 'NO_ANSWER'}\n"
          ]
        },
        {
          "output_type": "stream",
          "name": "stderr",
          "text": [
            " 88%|████████▊ | 270169/307372 [06:58<00:46, 806.85it/s]"
          ]
        },
        {
          "output_type": "stream",
          "name": "stdout",
          "text": [
            "{'example_id': '-7551214705282176526', 'part_id': 2, 'question': 'when is series 3 of 800 words being aired', 'context': \"</Li> </Ul> </Li> <Li> 6 Viewership <Ul> <Li> 6.1 Season 1 ( 2015 ) </Li> <Li> 6.2 Season 2 ( 2016 -- 17 ) </Li> <Li> 6.3 Season 3 ( 2017 ) </Li> </Ul> </Li> <Li> 7 Remake </Li> <Li> 8 References </Li> <Li> 9 External links </Li> </Ul> <P> </P> <H2> Production ( edit ) </H2> <P> The series was first announced on 29 October 2014 with the Channel Seven 2015 highlights . The CEO of South Pacific Pictures , Kelly Martin said `` Seven loved the scripts from the start and we 're thrilled to have this project underway . It enables South Pacific Pictures to broaden our horizons and it 'll open up some great opportunities for our local actors and crew . '' Of the series ' tone , the Program Chief of Seven , Tim Ross stated , `` If you think this show has a bit of the same feel and vibe as Packed to the Rafters , you 're dead right -- and we make no apologies for that . '' Filming for the series began on 2 March 2015 . </P> <P> On 19 October 2015 , the Seven Network and South Pacific Pictures renewed the show for a second season . It premiered on 23 August 2016 in Australia . On January 24 , 2017 , the Seven Network announced that the series had been renewed for a third season . It screened from 12 September 2017 with a mid-season finale after 8 episodes . </P> <P> In December of 2017 , the Seven network announced the show has been renewed for a fourth season . </P> <H2> Plot ( edit ) </H2> <P> George Turner is a popular columnist for a top selling Sydney newspaper , writing a weekly column which he insists must be exactly 800 words . After his wife dies , he buys - over the internet and unseen - a house in a ( fictional ) small New Zealand seaside town called Weld , where his parents took him on holiday as a child . He then has to break the news to his two teenage children , Shay and Arlo . But the colourful and inquisitive locals in Weld ensure Turner 's dream of a fresh start does not go exactly to plan . </P> <H2> Cast ( edit ) </H2> <Ul> <Li> Erik Thomson as George Turner </Li> <Li> Melina Vidler as Shay Turner </Li> <Li> Benson Jack Anthony as Arlo Turner </Li> <Li> Rick Donald as Woody ; an Australian expat builder who moved to Weld for the surf . </Li> <Li> Bridie Carter as Jan ; George 's former boss and editor in Sydney </Li> <Li> Emma Leonard as Tracey ; an Australian expat and Shay and Arlo 's form teacher at Weld High School . </Li> <Li> Michelle Langstone as Fiona ; the owner - operator of the Weld Boat Club and\", 'start': 242, 'stop': 246, 'target': 'SHORT'}\n"
          ]
        },
        {
          "output_type": "stream",
          "name": "stderr",
          "text": [
            " 90%|████████▉ | 275162/307372 [07:06<00:40, 800.34it/s]"
          ]
        },
        {
          "output_type": "stream",
          "name": "stdout",
          "text": [
            "{'example_id': '-9144689914720422706', 'part_id': 0, 'question': \"who wrote and sang when i'm 64\", 'context': 'When I \\'m Sixty - Four - wikipedia <H1> When I \\'m Sixty - Four </H1> `` When I \\'m 64 \\'\\' redirects here . For the 2004 television film , see When I \\'m 64 ( film ) . <P> </P> <Table> <Tr> <Th_colspan=\"2\"> `` When I \\'m Sixty - Four \\'\\' </Th> </Tr> <Tr> <Td_colspan=\"2\"> The 1996 US jukebox single release of the song , as the B - side to `` Lucy in the Sky with Diamonds \\'\\' </Td> </Tr> <Tr> <Th_colspan=\"2\"> Song by the Beatles </Th> </Tr> <Tr> <Th_colspan=\"2\"> from the album Sgt . Pepper \\'s Lonely Hearts Club Band </Th> </Tr> <Tr> <Th> Released </Th> <Td> 26 May 1967 </Td> </Tr> <Tr> <Th> Recorded </Th> <Td> 6 -- 21 December 1966 , EMI Studios , London </Td> </Tr> <Tr> <Th> Genre </Th> <Td> <Ul> <Li> Pop </Li> <Li> music hall </Li> </Ul> </Td> </Tr> <Tr> <Th> Length </Th> <Td> 2 : 37 </Td> </Tr> <Tr> <Th> Label </Th> <Td> Parlophone </Td> </Tr> <Tr> <Th> Songwriter ( s ) </Th> <Td> Lennon -- McCartney </Td> </Tr> <Tr> <Th> Producer ( s ) </Th> <Td> George Martin </Td> </Tr> </Table> <P> `` When I \\'m Sixty - Four \\'\\' is a song by the Beatles , written by Paul McCartney ( credited to Lennon -- McCartney ) and released in 1967 on their album Sgt . Pepper \\'s Lonely Hearts Club Band . </P> <H2> Contents </H2> <Ul> <Li> 1 Composition </Li> <Li> 2 Instrumentation </Li> <Li> 3 Recording </Li> <Li> 4 Release </Li> <Li> 5 Personnel </Li> <Li> 6 Cover versions </Li> <Li> 7 Cultural references </Li> <Li> 8 Notes </Li> <Li> 9 References </Li> <Li> 10 External links </Li> </Ul> <H2> Composition ( edit ) </H2> <P> The song is sung by a young man to his lover , and is about his plans of their growing old together . Although the theme is ageing , it was one of the first songs McCartney wrote , when he was 16 . It was in the Beatles \\' setlist in their early days as a song to perform when their amplifiers broke down or the electricity went off . Both George Martin and Mark Lewisohn speculated that McCartney may have thought of the song when recording began for Sgt . Pepper in December 1966 because his father turned 64 earlier that year . </P> <P> Lennon said of the song , `` Paul wrote it in the Cavern days . We just stuck a few more words on it like \\' grandchildren on your knee \\' and \\' Vera , Chuck and Dave \\' ... this was just one that was quite a hit with us . \\'\\' . </P> <H2> Instrumentation ( edit ) </H2> <P> A clarinet trio ( two B ♭ clarinets and a bass clarinet ) is featured prominently in the song . Scored by Martin , he said they were added at McCartney \\'s', 'start': 193, 'stop': 237, 'target': 'LONG'}\n",
            "{'example_id': '-9144689914720422706', 'part_id': 8, 'question': \"who wrote and sang when i'm 64\", 'context': '</Li> <Li> Sgt . Pepper \\'s Lonely Hearts Club Band ( film ) </Li> <Li> Sgt . Pepper \\'s Lonely Hearts Club Band ( soundtrack ) </Li> <Li> It Was Twenty Years Ago Today </Li> <Li> Sgt . Pepper \\'s Lonely Hearts Club Band on the Road </Li> <Li> Yellow Submarine ( film ) </Li> <Li> `` Tina in the Sky with Diamonds \\'\\' </Li> </Ul> </Td> </Tr> <Tr> <Td_colspan=\"2\"> <Ul> <Li> Please Please Me </Li> <Li> With the Beatles </Li> <Li> A Hard Day \\'s Night </Li> <Li> Beatles for Sale </Li> <Li> Help ! </Li> <Li> Rubber Soul </Li> <Li> Revolver </Li> <Li> Sgt . Pepper \\'s Lonely Hearts Club Band </Li> <Li> Magical Mystery Tour </Li> <Li> The Beatles ( White Album ) </Li> <Li> Yellow Submarine </Li> <Li> Abbey Road </Li> <Li> Let It Be </Li> <Li> Past Masters </Li> </Ul> </Td> </Tr> </Table> <Table> <Tr> <Th_colspan=\"2\"> <Ul> <Li> </Li> <Li> </Li> <Li> </Li> </Ul> The Beatles </Th> </Tr> <Tr> <Td_colspan=\"2\"> <Ul> <Li> John Lennon </Li> <Li> Paul McCartney </Li> <Li> George Harrison </Li> <Li> Ringo Starr </Li> </Ul> <Ul> <Li> Stuart Sutcliffe </Li> <Li> Pete Best </Li> </Ul> </Td> </Tr> <Tr> <Th> History </Th> <Td> <Ul> <Li> The Quarrymen </Li> <Li> In Hamburg </Li> <Li> At The Cavern Club </Li> <Li> Decca audition </Li> <Li> Beatlemania in the United Kingdom </Li> <Li> North American releases </Li> <Li> In the United States </Li> <Li> `` More popular than Jesus \\'\\' </Li> <Li> In Bangor </Li> <Li> In India </Li> <Li> Break - up </Li> <Li> Murder of John Lennon </Li> <Li> Anthology </Li> <Li> Line - ups </Li> <Li> Religious views </Li> <Li> Timeline </Li> </Ul> </Td> </Tr> <Tr> <Th> Live performances </Th> <Td> <Ul> <Li> 1960 Johnny Gentle Tour </Li> <Li> Winter 1963 Helen Shapiro UK Tour </Li> <Li> 1963 Roy Orbison Tour </Li> <Li> 1964 world tour </Li> <Li> 1965 European tour </Li> <Li> 1965 US tour </Li> <Li> 1965 UK tour </Li> <Li> 1966 tour of Germany , Japan and the Philippines </Li> <Li> 1966 US tour </Li> <Li> Rooftop concert </Li> <Li> List of live performances </Li> </Ul> </Td> </Tr> <Tr> <Th> Associated places </Th> <Td> <Ul> <Li> 34 Montagu Square , Marylebone </Li> <Li> Abbey Road , London </Li> <Li> Abbey Road Studios </Li> <Li> The Bag O\\'Nails </Li> <Li> Beatlemania Hamburg </Li> <Li> Beatles Ashram </Li> <Li> Beatles - Platz </Li> <Li> The Beatles Story </Li> <Li> Blue Angel </Li> <Li> The Casbah Coffee Club </Li> <Li> Candlestick Park </Li> <Li> The Cavern Club </Li> <Li> Cavern Mecca </Li> <Li> Egri Road Beatles Múzeum </Li> <Li> Kaiserkeller </Li> <Li> Kinfauns </Li> <Li> 3 Savile Row </Li> <Li> The Scotch of St. James </Li> <Li> Shea Stadium </Li> <Li> Stanley Street </Li> <Li> Star - Club </Li> <Li> Strawberry Field </Li> <Li> Tittenhurst Park </Li> <Li> The Top Ten Club </Li> <Li> Wigmore Street </Li> <Li> Yellow Submarine sculpture </Li> </Ul> </Td> </Tr> <Tr>', 'start': 0, 'stop': 0, 'target': 'NO_ANSWER'}\n"
          ]
        },
        {
          "output_type": "stream",
          "name": "stderr",
          "text": [
            " 91%|█████████ | 280159/307372 [07:14<00:37, 718.03it/s]"
          ]
        },
        {
          "output_type": "stream",
          "name": "stdout",
          "text": [
            "{'example_id': '-2451547781743155006', 'part_id': 0, 'question': 'who is the longest serving prisoner in the uk', 'context': \"List of prisoners with whole - life orders - wikipedia <H1> List of prisoners with whole - life orders </H1> Jump to : navigation , search <Table> <Tr> <Td> </Td> <Td> This article needs additional citations for verification . Please help improve this article by adding citations to reliable sources . Unsourced material may be challenged and removed . ( September 2009 ) ( Learn how and when to remove this template message ) </Td> </Tr> </Table> <P> This is a list of prisoners who have received a whole - life order through some mechanism in jurisdictions of the United Kingdom . It has been reportedly issued in approximately 100 cases since its introduction in 1983 , although a significant percentage of these prisoners have since died in custody , or had their sentences reduced on appeal . There are now believed to be at least 68 prisoners currently serving whole life sentences in England and Wales . These include some of Britain 's most notorious criminals , including the `` Yorkshire Ripper '' Peter Sutcliffe . </P> <P> A number of these prisoners , including Moors murderers Ian Brady and Myra Hindley , have died in prison since being sentenced . </P> <P> There are also a number of prisoners , including police killer David Bieber , whose sentences have been reduced on appeal . </P> <P> However , some of Britain 's most notorious murderers are not among those serving whole - life sentences . These include convicted child killers Roy Whiting and Ian Huntley . However , both murderers have been issued 40 - year minimum terms by the High Court , which means that they are likely to remain imprisoned for most if not all of their remaining lives , while many other less notorious prisoners are in a similar position due to the length of their minimum terms and the age they will be when they can be considered for parole . </P> <P> </P> <H2> Contents </H2> ( hide ) <Ul> <Li> 1 Imposed by Home Secretaries </Li> <Li> 2 Sentenced by judges </Li> <Li> 3 Quashed whole - life orders </Li> <Li> 4 See also </Li> <Li> 5 References </Li> </Ul> <P> </P> <H2> Imposed by home Secretaries ( edit ) </H2> <P> Successive Home Secretaries are known to have imposed whole life orders for at least 23 murderers between 1983 and 2002 ( note , this list is incomplete ) : </P> <Table> <Tr> <Th> Name </Th> <Th> Nickname </Th> <Th> Year </Th> <Th> Died </Th> <Th> Notes </Th> </Tr> <Tr> <Th> John Straffen </Th> <Td> </Td> <Td> 1952 </Td> <Td> 2007 </Td> <Td> Britain 's longest serving prisoner , who spent 55 years in prison until his death . Straffen was convicted of murdering two pre-teen girls in July 1951 . The following year , he escaped for a four - hour period and was convicted of murdering another girl during this\", 'start': 430, 'stop': 432, 'target': 'SHORT'}\n",
            "{'example_id': '-2451547781743155006', 'part_id': 1, 'question': 'who is the longest serving prisoner in the uk', 'context': \"Huntley . However , both murderers have been issued 40 - year minimum terms by the High Court , which means that they are likely to remain imprisoned for most if not all of their remaining lives , while many other less notorious prisoners are in a similar position due to the length of their minimum terms and the age they will be when they can be considered for parole . </P> <P> </P> <H2> Contents </H2> ( hide ) <Ul> <Li> 1 Imposed by Home Secretaries </Li> <Li> 2 Sentenced by judges </Li> <Li> 3 Quashed whole - life orders </Li> <Li> 4 See also </Li> <Li> 5 References </Li> </Ul> <P> </P> <H2> Imposed by home Secretaries ( edit ) </H2> <P> Successive Home Secretaries are known to have imposed whole life orders for at least 23 murderers between 1983 and 2002 ( note , this list is incomplete ) : </P> <Table> <Tr> <Th> Name </Th> <Th> Nickname </Th> <Th> Year </Th> <Th> Died </Th> <Th> Notes </Th> </Tr> <Tr> <Th> John Straffen </Th> <Td> </Td> <Td> 1952 </Td> <Td> 2007 </Td> <Td> Britain 's longest serving prisoner , who spent 55 years in prison until his death . Straffen was convicted of murdering two pre-teen girls in July 1951 . The following year , he escaped for a four - hour period and was convicted of murdering another girl during this short spell at large , although he long proclaimed his innocence . Straffen was reprieved from a death sentence owing to learning difficulties , and instead remained in prison for the rest of his life . He died , aged 77 , at Frankland prison in November 2007 . For the final five years of his life , he was the oldest prisoner known to be serving a whole life - tariff , following the death of Archibald Hall . </Td> </Tr> <Tr> <Th> Ian Brady </Th> <Td> Moors murderer </Td> <Td> 1966 </Td> <Td> 2017 </Td> <Td> One of the Moors Murderers who was convicted , in May 1966 , of murdering three children between 1963 and 1965 . He was convicted just six months after the abolition of the death penalty , and less than two years after final executions in Britain . His trial judge said it was unlikely that Brady could ever be rehabilitated and considered for parole . <P> With accomplice Myra Hindley , he buried the children in shallow graves on Saddleworth Moor . From 1985 until his death he was held in a mental hospital and was on long - term hunger strike , which led to him being force - fed through a tube . In 2001 , he published a book on serial killing . The body of one of his victims , 12 - year - old Keith Bennett , remains undiscovered on the Moor , despite Brady 's and Hindley 's own heavily guarded efforts\", 'start': 174, 'stop': 176, 'target': 'SHORT'}\n",
            "{'example_id': '-2451547781743155006', 'part_id': 4, 'question': 'who is the longest serving prisoner in the uk', 'context': \"suggested that Hindley was rehabilitating in prison and had found religion and rejected Brady and her past , but her tariff was increased to 30 years in 1988 and , finally , to a whole - life tariff two years later , although she was not informed of the whole - life tariff until 1994 . Hindley 's supporters , including penal reformer Lord Longford , journalist David Astor and prison governor Peter Timms , claimed that the increase in Hindley 's sentence was the response of a succession of Home Secretaries to public opinion , as there was widespread public opposition to Hindley ever being released . Relatives of the Moors Murders victims were at the centre of a campaign to keep Hindley imprisoned and several of them vowed to kill her if she was ever paroled . </P> <P> Hindley subsequently made three appeals against the whole life tariff , but each appeal was unsuccessful she died in jail at the age of 60 in November 2002 , less than two weeks before a law lords ' ruling which could potentially have secured her freedom . Her case prompted more debate than that of any other prisoner of notoriety , with some high - profile backing from the House of Lords , but vitriol from the press and the public , as well as the families of her victims . Lord Longford , who died just over a year before Hindley , regularly condemned the media for their `` exploitation '' of Ann West , mother of one of the victims , who gave regular newspaper and television interviews to argue against any suggestion of release from prison , and vowed to kill Hindley if she ever was released . </P> <P> Her death left only Rosemary West ( jailed for life for 10 murders in 1995 ) as a confirmed female prisoner serving a whole - life tariff , until the addition of Joanne Dennehy , in 2014 . </P> </Td> </Tr> <Tr> <Th> Donald Neilson </Th> <Td> Black Panther </Td> <Td> 1976 </Td> <Td> 2011 </Td> <Td> The Black Panther , nicknamed for wearing a black balaclava , shot dead three postmasters during robberies in various areas of the country , then abducted a 17 - year - old heiress from her Shropshire home . He attempted to ransom the heiress , but her body was found two months later in a drain in Staffordshire , being convicted in July 1976 after being caught when two police officers he took hostage overpowered him in December 1975 . In 2008 , Neilson lost an appeal to have his tariff reduced to 30 years . He remained in prison until his death three years later , having served 35 years . </Td> </Tr> <Tr> <Th> Trevor Hardy </Th> <Td> The Beast of Manchester </Td> <Td> 1976 </Td> <Td> 2012 </Td> <Td> Trevor Joseph Hardy murdered three teenage girls between\", 'start': 0, 'stop': 0, 'target': 'NO_ANSWER'}\n",
            "{'example_id': '-2451547781743155006', 'part_id': 51, 'question': 'who is the longest serving prisoner in the uk', 'context': \"whole - life orders ( edit ) </H2> <Ul> <Li> Patrick Magee , who bombed the Grand Hotel in Brighton which killed five and nearly killed his intended target Margaret Thatcher and her cabinet was convicted in 1985 of five counts of murder and several explosive and terrorism offences as well , with a recommendation that he serve 35 years in prison , which was increased later to whole life by Michael Howard . He was however released after 14 years , served in mainland British prisons in 1999 as part of the Good Friday Agreement . </Li> <Li> Joe O'Connell , Eddie Butler , Hugh Doherty and Harry Duggan were members of a so - called IRA ' active Service Unit ' that terrorised London in the early 1970s killing at least 16 people , injuring many others and planning more attacks . They were caught after they took an elderly couple hostage in their flat in Marylebone while attempting to escape police pursuit and surrendered after 6 days . They were later each given whole life tariffs by the home secretary , however they were released as part of the Good Friday Agreement . During their trial they admitted to the Woolwich and Birmingham Pub Bombings which others were convicted of and served time for . </Li> <Li> Ronald William Barton was convicted of murdering his 14 - year - old step - daughter Keighley Barton in October 1986 , in what was believed as an attempt on Barton 's part to stop Keighley from testifying against him for child abuse and to gain revenge of her mother . He had several previous convictions for gross indecency against Keighley and sexual assault against other teenage girls , one of which he had been in prison for . After his conviction he was handed a minimum term of 25 years , but the Lord Chief Justice then recommended that life must mean life , which the home secretary agreed with . The term was reset in 1997 to the original 25 years , which was reduced again to 23 years in 2006 . </Li> <Li> Thomas Quigley and Paul Kavanagh were both convicted of two murders in a bomb attack in 1981 by the Chelsea Barracks which also injured 39 people . They were both sentenced to 35 years in prison each in 1985 and were told in 1996 by the home secretary Michael Howard that they were to receive whole life tariffs , however the order was reversed by the Belfast High Court in 1997 after an appeal by the two men and they were released under the Good Friday Agreement . </Li> <Li> David Wynne Roberts was convicted of murdering a pensioner who was a friend of his grandmothers in Anglesey , Wales when he was 14 in 1969 and served seven years in youth detention before being released in 1976 and moving to the North West of\", 'start': 0, 'stop': 0, 'target': 'NO_ANSWER'}\n",
            "{'example_id': '-2451547781743155006', 'part_id': 52, 'question': 'who is the longest serving prisoner in the uk', 'context': 'from testifying against him for child abuse and to gain revenge of her mother . He had several previous convictions for gross indecency against Keighley and sexual assault against other teenage girls , one of which he had been in prison for . After his conviction he was handed a minimum term of 25 years , but the Lord Chief Justice then recommended that life must mean life , which the home secretary agreed with . The term was reset in 1997 to the original 25 years , which was reduced again to 23 years in 2006 . </Li> <Li> Thomas Quigley and Paul Kavanagh were both convicted of two murders in a bomb attack in 1981 by the Chelsea Barracks which also injured 39 people . They were both sentenced to 35 years in prison each in 1985 and were told in 1996 by the home secretary Michael Howard that they were to receive whole life tariffs , however the order was reversed by the Belfast High Court in 1997 after an appeal by the two men and they were released under the Good Friday Agreement . </Li> <Li> David Wynne Roberts was convicted of murdering a pensioner who was a friend of his grandmothers in Anglesey , Wales when he was 14 in 1969 and served seven years in youth detention before being released in 1976 and moving to the North West of England . In 1985 , he went to Blackpool where he met a staff from a hotel in Ambleside , Cumbria and stayed with them until he disappeared in early 1986 when the body of the hotel owner was discovered in a cottage , where she was stabbed and strangled with her own scarf . He gave himself in to police in London within a month after the crime and was convicted of murder where his tariff was set at 18 years , which was increased by the home secretary in 1988 and then changed to 22 years in 2005 on appeal . </Li> <Li> Howard Hughes , who was convicted in July 1996 of the Murder of Sophie Hook in Llandudno 12 months earlier . He denied the murder of Sophie , of Great Budworth , Cheshire , who was seven years old when she died , but was found guilty of rape and murder at Chester Crown Court and jailed for life with a recommendation that he should never be released . Two subsequent appeals against his conviction were rejected . In November 2002 , Hughes was one of four convicted child murderers who received 50 - year minimum terms imposed by the then Home Secretary David Blunkett shortly before politicians were stripped of their powers to decide minimum terms for life sentence prisoners . However , the 50 - year minimum term meant that Hughes would not be able to apply for parole until he was 80 years old . </Li> <Li> Timothy', 'start': 0, 'stop': 0, 'target': 'NO_ANSWER'}\n"
          ]
        },
        {
          "output_type": "stream",
          "name": "stderr",
          "text": [
            "100%|██████████| 307372/307372 [07:56<00:00, 644.61it/s]\n"
          ]
        },
        {
          "output_type": "stream",
          "name": "stdout",
          "text": [
            "\n",
            "\n",
            "NUM PROCESSED SAMPLES =  158292\n",
            "NUM LONG ANSWER =  55853\n",
            "NUM SHORT ANSWER =  168904\n",
            "NUM YES NO ANSWER =  4429\n",
            "NUM NO ANSWER =  107250\n",
            "NUM DROP =  7301\n"
          ]
        }
      ]
    },
    {
      "cell_type": "code",
      "metadata": {
        "colab": {
          "base_uri": "https://localhost:8080/",
          "height": 206
        },
        "id": "bmI5k0gFSP6I",
        "outputId": "0cc4ed98-2809-48fb-ba20-ce299b642279"
      },
      "source": [
        "random.shuffle(list_instances)\n",
        "list_instances_df = pd.DataFrame(list_instances)\n",
        "list_instances_df.head()"
      ],
      "execution_count": null,
      "outputs": [
        {
          "output_type": "execute_result",
          "data": {
            "text/html": [
              "<div>\n",
              "<style scoped>\n",
              "    .dataframe tbody tr th:only-of-type {\n",
              "        vertical-align: middle;\n",
              "    }\n",
              "\n",
              "    .dataframe tbody tr th {\n",
              "        vertical-align: top;\n",
              "    }\n",
              "\n",
              "    .dataframe thead th {\n",
              "        text-align: right;\n",
              "    }\n",
              "</style>\n",
              "<table border=\"1\" class=\"dataframe\">\n",
              "  <thead>\n",
              "    <tr style=\"text-align: right;\">\n",
              "      <th></th>\n",
              "      <th>example_id</th>\n",
              "      <th>part_id</th>\n",
              "      <th>question</th>\n",
              "      <th>context</th>\n",
              "      <th>start</th>\n",
              "      <th>stop</th>\n",
              "      <th>target</th>\n",
              "    </tr>\n",
              "  </thead>\n",
              "  <tbody>\n",
              "    <tr>\n",
              "      <th>0</th>\n",
              "      <td>-4279301782730399041</td>\n",
              "      <td>1</td>\n",
              "      <td>who sings lead vocals on love will keep us alive</td>\n",
              "      <td>their `` Hell Freezes Over '' reunion tour , w...</td>\n",
              "      <td>14</td>\n",
              "      <td>17</td>\n",
              "      <td>SHORT</td>\n",
              "    </tr>\n",
              "    <tr>\n",
              "      <th>1</th>\n",
              "      <td>-7304168693209096798</td>\n",
              "      <td>2</td>\n",
              "      <td>who plays the little boy in the sixth sense</td>\n",
              "      <td>at the age of four , when his mother took him ...</td>\n",
              "      <td>275</td>\n",
              "      <td>449</td>\n",
              "      <td>LONG</td>\n",
              "    </tr>\n",
              "    <tr>\n",
              "      <th>2</th>\n",
              "      <td>693096848741056682</td>\n",
              "      <td>0</td>\n",
              "      <td>when was the last episode of pretty little lia...</td>\n",
              "      <td>List of Pretty Little Liars episodes - wikiped...</td>\n",
              "      <td>442</td>\n",
              "      <td>446</td>\n",
              "      <td>SHORT</td>\n",
              "    </tr>\n",
              "    <tr>\n",
              "      <th>3</th>\n",
              "      <td>-4939544960366533655</td>\n",
              "      <td>2</td>\n",
              "      <td>who played justin starr on shake it up</td>\n",
              "      <td>and `` Wild Christmas '' for School 's Out ! C...</td>\n",
              "      <td>199</td>\n",
              "      <td>294</td>\n",
              "      <td>LONG</td>\n",
              "    </tr>\n",
              "    <tr>\n",
              "      <th>4</th>\n",
              "      <td>-6724353270824878554</td>\n",
              "      <td>2</td>\n",
              "      <td>who provided the voice of the geico insurance ...</td>\n",
              "      <td>Forward &lt;/Li&gt; &lt;Li&gt; 24 Surprising &lt;Ul&gt; &lt;Li&gt; 24....</td>\n",
              "      <td>306</td>\n",
              "      <td>309</td>\n",
              "      <td>SHORT</td>\n",
              "    </tr>\n",
              "  </tbody>\n",
              "</table>\n",
              "</div>"
            ],
            "text/plain": [
              "             example_id  part_id  ... stop target\n",
              "0  -4279301782730399041        1  ...   17  SHORT\n",
              "1  -7304168693209096798        2  ...  449   LONG\n",
              "2    693096848741056682        0  ...  446  SHORT\n",
              "3  -4939544960366533655        2  ...  294   LONG\n",
              "4  -6724353270824878554        2  ...  309  SHORT\n",
              "\n",
              "[5 rows x 7 columns]"
            ]
          },
          "metadata": {},
          "execution_count": 21
        }
      ]
    },
    {
      "cell_type": "code",
      "metadata": {
        "id": "152yJQKrTN4W"
      },
      "source": [
        "list_instances_df.to_csv('/content/drive/MyDrive/data/fine_data/train_instance_256.csv', index=False, \n",
        "                         columns=['example_id', 'part_id', 'question', 'context', 'start', 'stop', 'target'])"
      ],
      "execution_count": null,
      "outputs": []
    },
    {
      "cell_type": "markdown",
      "metadata": {
        "id": "eh5HP6l79Myv"
      },
      "source": [
        "## **Handle validation set**"
      ]
    },
    {
      "cell_type": "code",
      "metadata": {
        "colab": {
          "base_uri": "https://localhost:8080/",
          "height": 206
        },
        "id": "pPJZN3PQ9RRj",
        "outputId": "226ccf96-b183-425a-947b-05426bbfa54a"
      },
      "source": [
        "df_val_id = pd.read_csv('/content/drive/MyDrive/data/fine_data/val_id.csv', dtype=str)\n",
        "df_val_id.head()"
      ],
      "execution_count": null,
      "outputs": [
        {
          "output_type": "execute_result",
          "data": {
            "text/html": [
              "<div>\n",
              "<style scoped>\n",
              "    .dataframe tbody tr th:only-of-type {\n",
              "        vertical-align: middle;\n",
              "    }\n",
              "\n",
              "    .dataframe tbody tr th {\n",
              "        vertical-align: top;\n",
              "    }\n",
              "\n",
              "    .dataframe thead th {\n",
              "        text-align: right;\n",
              "    }\n",
              "</style>\n",
              "<table border=\"1\" class=\"dataframe\">\n",
              "  <thead>\n",
              "    <tr style=\"text-align: right;\">\n",
              "      <th></th>\n",
              "      <th>example_id</th>\n",
              "    </tr>\n",
              "  </thead>\n",
              "  <tbody>\n",
              "    <tr>\n",
              "      <th>0</th>\n",
              "      <td>-4415223548557328381</td>\n",
              "    </tr>\n",
              "    <tr>\n",
              "      <th>1</th>\n",
              "      <td>-706775569507012323</td>\n",
              "    </tr>\n",
              "    <tr>\n",
              "      <th>2</th>\n",
              "      <td>-8247431609310444236</td>\n",
              "    </tr>\n",
              "    <tr>\n",
              "      <th>3</th>\n",
              "      <td>178097630653295544</td>\n",
              "    </tr>\n",
              "    <tr>\n",
              "      <th>4</th>\n",
              "      <td>7206764020223190386</td>\n",
              "    </tr>\n",
              "  </tbody>\n",
              "</table>\n",
              "</div>"
            ],
            "text/plain": [
              "             example_id\n",
              "0  -4415223548557328381\n",
              "1   -706775569507012323\n",
              "2  -8247431609310444236\n",
              "3    178097630653295544\n",
              "4   7206764020223190386"
            ]
          },
          "metadata": {},
          "execution_count": 12
        }
      ]
    },
    {
      "cell_type": "code",
      "metadata": {
        "colab": {
          "base_uri": "https://localhost:8080/"
        },
        "id": "dh0HhGkqMqpT",
        "outputId": "c30bb3ef-8da6-4c97-9769-0128e1eefe91"
      },
      "source": [
        "set_val_id = set(df_val_id['example_id'].values.tolist())\n",
        "print(len(set_val_id))"
      ],
      "execution_count": null,
      "outputs": [
        {
          "output_type": "stream",
          "name": "stdout",
          "text": [
            "3075\n"
          ]
        }
      ]
    },
    {
      "cell_type": "code",
      "metadata": {
        "colab": {
          "base_uri": "https://localhost:8080/"
        },
        "id": "jp2YG4uBNGU_",
        "outputId": "7da72bd7-cc0b-47f8-d006-3a882d500944"
      },
      "source": [
        "list_val_instances = parseData(set_val_id, is_val=True, debug=True)"
      ],
      "execution_count": null,
      "outputs": [
        {
          "output_type": "stream",
          "name": "stderr",
          "text": [
            "100%|██████████| 307372/307372 [04:41<00:00, 1090.02it/s]"
          ]
        },
        {
          "output_type": "stream",
          "name": "stdout",
          "text": [
            "\n",
            "\n",
            "NUM PROCESSED SAMPLES =  3075\n",
            "NUM LONG ANSWER =  3958\n",
            "NUM SHORT ANSWER =  2211\n",
            "NUM YES NO ANSWER =  56\n",
            "NUM NO ANSWER =  135977\n",
            "NUM DROP =  76\n"
          ]
        },
        {
          "output_type": "stream",
          "name": "stderr",
          "text": [
            "\n"
          ]
        }
      ]
    },
    {
      "cell_type": "code",
      "metadata": {
        "colab": {
          "base_uri": "https://localhost:8080/",
          "height": 424
        },
        "id": "70-MDtNcQ6_B",
        "outputId": "374824f6-6882-4ae2-be79-bb5eee2c4c94"
      },
      "source": [
        "# random.shuffle(list_val_instances)\n",
        "list_val_instances_df = pd.DataFrame(list_val_instances)\n",
        "list_val_instances_df.head(100)"
      ],
      "execution_count": null,
      "outputs": [
        {
          "output_type": "execute_result",
          "data": {
            "text/html": [
              "<div>\n",
              "<style scoped>\n",
              "    .dataframe tbody tr th:only-of-type {\n",
              "        vertical-align: middle;\n",
              "    }\n",
              "\n",
              "    .dataframe tbody tr th {\n",
              "        vertical-align: top;\n",
              "    }\n",
              "\n",
              "    .dataframe thead th {\n",
              "        text-align: right;\n",
              "    }\n",
              "</style>\n",
              "<table border=\"1\" class=\"dataframe\">\n",
              "  <thead>\n",
              "    <tr style=\"text-align: right;\">\n",
              "      <th></th>\n",
              "      <th>example_id</th>\n",
              "      <th>part_id</th>\n",
              "      <th>question</th>\n",
              "      <th>context</th>\n",
              "      <th>start</th>\n",
              "      <th>stop</th>\n",
              "      <th>target</th>\n",
              "    </tr>\n",
              "  </thead>\n",
              "  <tbody>\n",
              "    <tr>\n",
              "      <th>0</th>\n",
              "      <td>4158175306918787233</td>\n",
              "      <td>0</td>\n",
              "      <td>the most common system of land title in australia</td>\n",
              "      <td>Torrens title - wikipedia &lt;H1&gt; Torrens title &lt;...</td>\n",
              "      <td>408</td>\n",
              "      <td>410</td>\n",
              "      <td>SHORT</td>\n",
              "    </tr>\n",
              "    <tr>\n",
              "      <th>1</th>\n",
              "      <td>4158175306918787233</td>\n",
              "      <td>1</td>\n",
              "      <td>the most common system of land title in australia</td>\n",
              "      <td>conversion &lt;/Li&gt; &lt;Li&gt; Action to quiet title &lt;/...</td>\n",
              "      <td>216</td>\n",
              "      <td>218</td>\n",
              "      <td>SHORT</td>\n",
              "    </tr>\n",
              "    <tr>\n",
              "      <th>2</th>\n",
              "      <td>4158175306918787233</td>\n",
              "      <td>2</td>\n",
              "      <td>the most common system of land title in australia</td>\n",
              "      <td>&lt;/Ul&gt; Higher category : Law and Common law &lt;/T...</td>\n",
              "      <td>24</td>\n",
              "      <td>26</td>\n",
              "      <td>SHORT</td>\n",
              "    </tr>\n",
              "    <tr>\n",
              "      <th>3</th>\n",
              "      <td>4158175306918787233</td>\n",
              "      <td>3</td>\n",
              "      <td>the most common system of land title in australia</td>\n",
              "      <td>other interests , including credit interests (...</td>\n",
              "      <td>0</td>\n",
              "      <td>0</td>\n",
              "      <td>NO_ANSWER</td>\n",
              "    </tr>\n",
              "    <tr>\n",
              "      <th>4</th>\n",
              "      <td>4158175306918787233</td>\n",
              "      <td>4</td>\n",
              "      <td>the most common system of land title in australia</td>\n",
              "      <td>the principle of `` title by registration '' (...</td>\n",
              "      <td>0</td>\n",
              "      <td>0</td>\n",
              "      <td>NO_ANSWER</td>\n",
              "    </tr>\n",
              "    <tr>\n",
              "      <th>...</th>\n",
              "      <td>...</td>\n",
              "      <td>...</td>\n",
              "      <td>...</td>\n",
              "      <td>...</td>\n",
              "      <td>...</td>\n",
              "      <td>...</td>\n",
              "      <td>...</td>\n",
              "    </tr>\n",
              "    <tr>\n",
              "      <th>95</th>\n",
              "      <td>-1957133654292017851</td>\n",
              "      <td>62</td>\n",
              "      <td>will xbox 360 disc work on xbox one</td>\n",
              "      <td>&lt;Td&gt; XBLA &lt;/Td&gt; &lt;Td&gt; &lt;/Td&gt; &lt;Td&gt; 000000002015 -...</td>\n",
              "      <td>0</td>\n",
              "      <td>0</td>\n",
              "      <td>NO_ANSWER</td>\n",
              "    </tr>\n",
              "    <tr>\n",
              "      <th>96</th>\n",
              "      <td>-1957133654292017851</td>\n",
              "      <td>63</td>\n",
              "      <td>will xbox 360 disc work on xbox one</td>\n",
              "      <td>Perfect Dark Zero &lt;/Td&gt; &lt;Td&gt; Microsoft Studios...</td>\n",
              "      <td>0</td>\n",
              "      <td>0</td>\n",
              "      <td>NO_ANSWER</td>\n",
              "    </tr>\n",
              "    <tr>\n",
              "      <th>97</th>\n",
              "      <td>-1957133654292017851</td>\n",
              "      <td>64</td>\n",
              "      <td>will xbox 360 disc work on xbox one</td>\n",
              "      <td>in the Vault of EA Access . &lt;/Td&gt; &lt;/Tr&gt; &lt;Tr&gt; &lt;...</td>\n",
              "      <td>0</td>\n",
              "      <td>0</td>\n",
              "      <td>NO_ANSWER</td>\n",
              "    </tr>\n",
              "    <tr>\n",
              "      <th>98</th>\n",
              "      <td>-1957133654292017851</td>\n",
              "      <td>65</td>\n",
              "      <td>will xbox 360 disc work on xbox one</td>\n",
              "      <td>Squad &lt;/Td&gt; &lt;Td&gt; System 3 Software Limited &lt;/T...</td>\n",
              "      <td>0</td>\n",
              "      <td>0</td>\n",
              "      <td>NO_ANSWER</td>\n",
              "    </tr>\n",
              "    <tr>\n",
              "      <th>99</th>\n",
              "      <td>-1957133654292017851</td>\n",
              "      <td>66</td>\n",
              "      <td>will xbox 360 disc work on xbox one</td>\n",
              "      <td>Enix &lt;/Td&gt; &lt;Td&gt; XBLA &lt;/Td&gt; &lt;Td&gt; &lt;/Td&gt; &lt;Td&gt; 000...</td>\n",
              "      <td>0</td>\n",
              "      <td>0</td>\n",
              "      <td>NO_ANSWER</td>\n",
              "    </tr>\n",
              "  </tbody>\n",
              "</table>\n",
              "<p>100 rows × 7 columns</p>\n",
              "</div>"
            ],
            "text/plain": [
              "              example_id  part_id  ... stop     target\n",
              "0    4158175306918787233        0  ...  410      SHORT\n",
              "1    4158175306918787233        1  ...  218      SHORT\n",
              "2    4158175306918787233        2  ...   26      SHORT\n",
              "3    4158175306918787233        3  ...    0  NO_ANSWER\n",
              "4    4158175306918787233        4  ...    0  NO_ANSWER\n",
              "..                   ...      ...  ...  ...        ...\n",
              "95  -1957133654292017851       62  ...    0  NO_ANSWER\n",
              "96  -1957133654292017851       63  ...    0  NO_ANSWER\n",
              "97  -1957133654292017851       64  ...    0  NO_ANSWER\n",
              "98  -1957133654292017851       65  ...    0  NO_ANSWER\n",
              "99  -1957133654292017851       66  ...    0  NO_ANSWER\n",
              "\n",
              "[100 rows x 7 columns]"
            ]
          },
          "metadata": {},
          "execution_count": 15
        }
      ]
    },
    {
      "cell_type": "code",
      "metadata": {
        "id": "wjtzfeRFRM3F"
      },
      "source": [
        "list_val_instances_df.to_csv('/content/drive/MyDrive/data/fine_data/val_instance_192.csv', index=False, \n",
        "                         columns=['example_id', 'part_id', 'question', 'context', 'start', 'stop', 'target'])"
      ],
      "execution_count": null,
      "outputs": []
    },
    {
      "cell_type": "markdown",
      "metadata": {
        "id": "6DJ2AbIjHme4"
      },
      "source": [
        "## **Handle squad dataset**"
      ]
    },
    {
      "cell_type": "code",
      "metadata": {
        "id": "0BB86pNiHlyQ"
      },
      "source": [
        "squad_train = '/content/drive/MyDrive/data/train-v2.0.json'"
      ],
      "execution_count": null,
      "outputs": []
    },
    {
      "cell_type": "code",
      "metadata": {
        "id": "ZKcPOfsyHsrD"
      },
      "source": [
        "def squad_json_to_dataframe_train(input_file_path, record_path = ['data','paragraphs','qas','answers'],\n",
        "                           verbose = 1):\n",
        "    \"\"\"\n",
        "    input_file_path: path to the squad json file.\n",
        "    record_path: path to deepest level in json file default value is\n",
        "    ['data','paragraphs','qas','answers']\n",
        "    verbose: 0 to suppress it default is 1\n",
        "    \"\"\"\n",
        "    if verbose:\n",
        "        print(\"Reading the json file\")    \n",
        "    file = json.loads(open(input_file_path).read())\n",
        "    if verbose:\n",
        "        print(\"processing...\")\n",
        "    # parsing different level's in the json file\n",
        "    js = pd.io.json.json_normalize(file , record_path )\n",
        "    m = pd.io.json.json_normalize(file, record_path[:-1])\n",
        "    r = pd.io.json.json_normalize(file,record_path[:-2])\n",
        "    \n",
        "    #combining it into single dataframe\n",
        "    idx = np.repeat(r['context'].values, r.qas.str.len())\n",
        "    ndx  = np.repeat(m['id'].values,m['answers'].str.len())\n",
        "    m['context'] = idx\n",
        "    js['q_idx'] = ndx\n",
        "    main = pd.concat([ m[['id','question','context']].set_index('id'),js.set_index('q_idx')],1,sort=False).reset_index()\n",
        "    main['c_id'] = main['context'].factorize()[0]\n",
        "    if verbose:\n",
        "        print(\"shape of the dataframe is {}\".format(main.shape))\n",
        "        print(\"Done\")\n",
        "    return main"
      ],
      "execution_count": null,
      "outputs": []
    },
    {
      "cell_type": "markdown",
      "metadata": {
        "id": "6VZzXXAb1kwU"
      },
      "source": [
        "## **Functions to tokenize data**"
      ]
    },
    {
      "cell_type": "code",
      "metadata": {
        "id": "_kGwP_0jmA-W"
      },
      "source": [
        "AnswerType = {\n",
        "    'NO_ANSWER': 0,\n",
        "    'YES': 1,\n",
        "    'NO': 2,\n",
        "    'SHORT' : 3,\n",
        "    'LONG' : 4\n",
        "}\n",
        "\n",
        "def find_ans_loc(context, ans, ans_start, context_words): \n",
        "    new_loc = 0\n",
        "    for c in context[0:int(ans_start)]:\n",
        "        if c.isspace():\n",
        "            new_loc += 1\n",
        "\n",
        "    new_length = 1\n",
        "    for c in ans:\n",
        "        if c.isspace():\n",
        "            new_length += 1\n",
        "\n",
        "    # print(ans, context_words[new_loc:new_loc + new_length])\n",
        "    return new_loc, new_length\n",
        "\n",
        "def preprocess_lan_data(data, tokenizer): # without target \n",
        "    progress = tqdm(data, total=len(data))\n",
        "    x1 = []\n",
        "    x2 = []\n",
        "    x3 = []\n",
        "    y = []\n",
        "    for one_sam in progress:\n",
        "        tokenized_sam = tokenizer.encode_plus(one_sam['question'], one_sam['context'], \n",
        "                                              padding='max_length',\n",
        "                                              truncation=True,\n",
        "                                              max_length=512,\n",
        "                                              add_special_tokens=True)\n",
        "        x1.append(tf.cast(tokenized_sam['input_ids'], tf.int32))\n",
        "        x2.append(tf.cast(tokenized_sam['token_type_ids'], tf.int32))\n",
        "        x3.append(tf.cast(tokenized_sam['attention_mask'], tf.int32))\n",
        "\n",
        "        # y.append([one_sam['start'], one_sam['stop'], AnswerType[one_sam['target']]])\n",
        "        y.append([one_sam['start'], one_sam['stop']])\n",
        "    return x1, x2, x3, y\n",
        "\n",
        "def preprocess_squad(df, tokenizer):\n",
        "    x1 = []\n",
        "    x2 = []\n",
        "    x3 = []\n",
        "    y = []\n",
        "    for index, row in tqdm(df.iterrows(), total=df.shape[0]):\n",
        "        context = row['context']\n",
        "        question = row['question']\n",
        "        question = question[0:len(question) - 1] # drop the question mark\n",
        "\n",
        "        if len(context.split()) >= 500 - len(question.split()):\n",
        "            # drop too large context\n",
        "            continue\n",
        "        \n",
        "        # print(question, context)\n",
        "        tokenized_sam = tokenizer.encode_plus(question, context, \n",
        "                                              padding='max_length',\n",
        "                                              truncation=True,\n",
        "                                              max_length=512,\n",
        "                                              add_special_tokens=True)\n",
        "        \n",
        "        x1.append(tf.cast(tokenized_sam['input_ids'], tf.int32))\n",
        "        x2.append(tf.cast(tokenized_sam['token_type_ids'], tf.int32))\n",
        "        x3.append(tf.cast(tokenized_sam['attention_mask'], tf.int32))\n",
        "\n",
        "        no_ans = row['no_answer']\n",
        "        if no_ans:\n",
        "            # in case of no answer, start = 0, stop = 0, AnswerType = 0\n",
        "            # y.append([0, 0, 0])\n",
        "            y.append([0, 0])\n",
        "        else:\n",
        "            ans = row['text']\n",
        "            # print(ans)\n",
        "            lower_ans = ans.lower()\n",
        "            context_words = context.split()\n",
        "            if lower_ans == 'no': # for yes, no question, start = 1 and stop = end of the context \n",
        "                start = 1\n",
        "                stop = len(context_words) - 1\n",
        "                target = 2\n",
        "                # target = 0 # not consider target while train squad\n",
        "                # y.append([start, stop, target])\n",
        "                y.append([start, stop])\n",
        "\n",
        "            else: # for normal question\n",
        "                ans_start = int(row['answer_start'])\n",
        "                loc, length = find_ans_loc(context, ans, ans_start, context_words)\n",
        "                start = loc\n",
        "                stop = loc + length \n",
        "                target = 3 # consider as short answer \n",
        "                # target = 0 # not consider target while train squad \n",
        "                # y.append([start, stop, target])\n",
        "                y.append([start, stop])\n",
        "\n",
        "    if len(x1) != len(y):\n",
        "        print(\"ERROR: Length of data mismatched\")\n",
        "        return\n",
        "    return x1, x2, x3, y"
      ],
      "execution_count": null,
      "outputs": []
    },
    {
      "cell_type": "markdown",
      "metadata": {
        "id": "sa0nd5BBlf-7"
      },
      "source": [
        "## **Functions to get strategy**"
      ]
    },
    {
      "cell_type": "code",
      "metadata": {
        "id": "GOdy9b68nrIN"
      },
      "source": [
        "def get_strategy():\n",
        "    try:\n",
        "        tpu_cluster_resolver = tf.distribute.cluster_resolver.TPUClusterResolver()  # TPU detection\n",
        "        print('Running on TPU ', tpu_cluster_resolver.cluster_spec().as_dict()['worker'])\n",
        "        tf.config.experimental_connect_to_cluster(tpu_cluster_resolver)\n",
        "        tf.tpu.experimental.initialize_tpu_system(tpu_cluster_resolver)\n",
        "        strategy = tf.distribute.experimental.TPUStrategy(tpu_cluster_resolver)\n",
        "    except ValueError as e:\n",
        "        print(e)\n",
        "        print('No TPU detected')\n",
        "        tpu = None\n",
        "        strategy = tf.distribute.get_strategy()\n",
        "    return strategy"
      ],
      "execution_count": null,
      "outputs": []
    },
    {
      "cell_type": "markdown",
      "metadata": {
        "id": "ESoqGguLnRgi"
      },
      "source": [
        "## **Exact match callback**"
      ]
    },
    {
      "cell_type": "markdown",
      "metadata": {
        "id": "__DdK10Jlrto"
      },
      "source": [
        "## **Functions to modify tokenizer and build model**"
      ]
    },
    {
      "cell_type": "code",
      "metadata": {
        "colab": {
          "base_uri": "https://localhost:8080/",
          "height": 180,
          "referenced_widgets": [
            "a369379397d544bdadb4e45bd15b1ee2",
            "ed09c924261e405bbe390e3123e55410",
            "f1a63ee67cc144eb89aa3b34e09a2e02",
            "90cefe955cef41b68b2aa69e94498800",
            "05366a147f3f4712a8f453dff2a749ce",
            "0d1f8ba7a42a4e34a681e3ef0297f63f",
            "4dc63a1d8bf744369f9de57a5b8ae53b",
            "5057921e6872423bb1780b9dabbdf081",
            "66bb3d1c3ea8485ba4ad91ec0dfb2441",
            "168aa80e0bbf40a4a7816201277edf8f",
            "0b2d2bf3fd084c79b0e8efa4f7cc22b3",
            "c5cabf9702194108a3faf9741b2fbab9",
            "ae92d49151b344c7b543c6d549f5ac37",
            "3c818cd832604f3dbe4da90d08d10a95",
            "070a9412d3fa4d4bbb49089b2682da30",
            "61e9624dc23a43b8a67f4a0dcec46bac",
            "55c52c8330a04d779db9df4693477538",
            "7dffa6f8e0b7499197703fcd1dfb641a",
            "1fff0aab02fc45798c5692d82648b3fb",
            "cf8737882f444004b3092ad96e743539",
            "67e9d1b8fe7544cc9b34d09880b4b45b",
            "21de22031c2443d89604dd93f117a3aa",
            "9cf82917666245ada5bb0f84e976d269",
            "df606fa321354f87907c981e438e935c",
            "ad3a11ddc42f4be0b7b1fccd34914b4d",
            "fe8e5b1b1af64664bb8c9521afb9b8ed",
            "c304c69e35fd4f2abeb6ae08035dca83",
            "77bc3ee02e03467b8b2de65def32d62b",
            "12ff74d7d1574f5aae93d78c8537c05a",
            "f2f93313fc984ce494a2eedf4c066765",
            "f01fa5278e814385b324148a81d2556d",
            "2ac37130ea4a4b549c4ba6739c2c66ae",
            "8cd98a1384914b26b3183d0bf37f0eab",
            "05a6ffaf22f645148823ef2b63bd6146",
            "db625b9e5d46496eaec7fcff713bdc60",
            "0e0c7661cc104d269876ab2fa38a8b91",
            "bad4431f70884697a01c8b3e77c80b51",
            "bca36da1eb6541b6b7e4bee46997d2ab",
            "b9e33165e5b94848a3f368e6bd7e27f8",
            "0db0c9e26d394a08981e296693bacc4b",
            "24eb31c02446444eb89d0d3d81d168af",
            "511e91b683b34d459ce4d297e399ae24",
            "4f9b25939da346b0a546cd7d4bca1833",
            "5fb647f299664b39813d6991de77e18d"
          ]
        },
        "id": "d9kfaF54qcnu",
        "outputId": "bd7d6e2c-a434-4727-9842-840ff2379de7"
      },
      "source": [
        "model_name = 'bert-base-uncased'\n",
        "# special_tokens_dict = {'additional_special_tokens': ['<Table>','</Table>', '</P>', '<P>'], \n",
        "#                        'unk_token': ['<Tr>', '<Td>', '</Td>', '</Tr>','</Li>', '<Li>', '<Ul>', '</Ul>', '<H2>', '</H2>', '<H3>', '</H3>']}\n",
        "\n",
        "tokenizer = AutoTokenizer.from_pretrained(model_name)\n",
        "# encoder = TFBertModel.from_pretrained(model_name)\n",
        "\n",
        "tags = ['<Dd>', '<Dl>', '<Dt>', '<H1>', '<H2>', '<H3>', '<Li>', '<Ol>', '<P>', '<Table>', '<Td>', '<Th>', '<Tr>', '<Ul>',\n",
        "        '</Dd>', '</Dl>', '</Dt>', '</H1>', '</H2>', '</H3>', '</Li>', '</Ol>', '</P>', '</Table>', '</Td>', '</Th>', '</Tr>', '</Ul>',\n",
        "        '<Th_colspan=', '</Th_colspan=', '``', '\\'\\'', '--']\n",
        "\n",
        "special_tokens_dict = {'additional_special_tokens': tags}\n",
        "\n",
        "num_added_toks = tokenizer.add_special_tokens(special_tokens_dict)\n",
        "print(num_added_toks)\n",
        "print(len(tokenizer))\n",
        "\n",
        "# encoder.resize_token_embeddings(len(tokenizer))"
      ],
      "execution_count": null,
      "outputs": [
        {
          "output_type": "display_data",
          "data": {
            "application/vnd.jupyter.widget-view+json": {
              "model_id": "a369379397d544bdadb4e45bd15b1ee2",
              "version_minor": 0,
              "version_major": 2
            },
            "text/plain": [
              "Downloading:   0%|          | 0.00/28.0 [00:00<?, ?B/s]"
            ]
          },
          "metadata": {}
        },
        {
          "output_type": "display_data",
          "data": {
            "application/vnd.jupyter.widget-view+json": {
              "model_id": "c5cabf9702194108a3faf9741b2fbab9",
              "version_minor": 0,
              "version_major": 2
            },
            "text/plain": [
              "Downloading:   0%|          | 0.00/570 [00:00<?, ?B/s]"
            ]
          },
          "metadata": {}
        },
        {
          "output_type": "display_data",
          "data": {
            "application/vnd.jupyter.widget-view+json": {
              "model_id": "9cf82917666245ada5bb0f84e976d269",
              "version_minor": 0,
              "version_major": 2
            },
            "text/plain": [
              "Downloading:   0%|          | 0.00/226k [00:00<?, ?B/s]"
            ]
          },
          "metadata": {}
        },
        {
          "output_type": "display_data",
          "data": {
            "application/vnd.jupyter.widget-view+json": {
              "model_id": "05a6ffaf22f645148823ef2b63bd6146",
              "version_minor": 0,
              "version_major": 2
            },
            "text/plain": [
              "Downloading:   0%|          | 0.00/455k [00:00<?, ?B/s]"
            ]
          },
          "metadata": {}
        },
        {
          "output_type": "stream",
          "name": "stdout",
          "text": [
            "33\n",
            "30555\n"
          ]
        }
      ]
    },
    {
      "cell_type": "code",
      "metadata": {
        "id": "PpBY4taGnvZ9"
      },
      "source": [
        "def create_model(tokenizer):\n",
        "\n",
        "    encoder = TFBertModel.from_pretrained(model_name)\n",
        "    encoder.resize_token_embeddings(len(tokenizer))\n",
        "\n",
        "    # NUM_TARGET = 5\n",
        "    class MyQAModel(tf.keras.Model):\n",
        "        def __init__(self, *inputs, **kwargs):\n",
        "            super().__init__(*inputs, **kwargs)            \n",
        "            self.bert = encoder\n",
        "\n",
        "            self.dropout_start = tf.keras.layers.Dropout(0.2)\n",
        "            self.dropout_stop = tf.keras.layers.Dropout(0.2)\n",
        "            # self.dropout_target = tf.keras.layers.Dropout(0.2)\n",
        "\n",
        "            self.start_logits = tf.keras.layers.Dense(1, use_bias=False)\n",
        "            self.stop_logits = tf.keras.layers.Dense(1, use_bias=False)\n",
        "            \n",
        "            # self.target = tf.keras.layers.Dense(NUM_TARGET, use_bias=False)\n",
        "\n",
        "        def call(self, inputs, **kwargs):\n",
        "            bert_res=self.bert(inputs[0], \n",
        "                               token_type_ids=inputs[1], \n",
        "                               attention_mask=inputs[2])\n",
        "            \n",
        "            dropout_res1 = self.dropout_start(bert_res[0])\n",
        "\n",
        "            start_logits = tf.squeeze(self.start_logits(dropout_res1), -1)\n",
        "\n",
        "            dropout_res2 = self.dropout_stop(bert_res[0])\n",
        "\n",
        "            stop_logits = tf.squeeze(self.stop_logits(dropout_res2), -1)\n",
        "\n",
        "            # dropout_res3 = self.dropout_target(bert_res[1])\n",
        "            \n",
        "            # targets = self.target(dropout_res3)\n",
        "            \n",
        "            # paddings = tf.constant([[0, 0,], [0, 512-NUM_TARGET]])\n",
        "            # targets = tf.pad(targets, paddings)\n",
        "            \n",
        "            # res = tf.stack([start_logits, stop_logits, targets], axis=1)\n",
        "            res = tf.stack([start_logits, stop_logits], axis=1)\n",
        "            return res\n",
        "        \n",
        "    model = MyQAModel()\n",
        "    return model "
      ],
      "execution_count": null,
      "outputs": []
    },
    {
      "cell_type": "code",
      "metadata": {
        "colab": {
          "base_uri": "https://localhost:8080/",
          "height": 156,
          "referenced_widgets": [
            "87c69a2738734707893f744e3877a538",
            "962e346215d04bf3b96bf36df023c1ce",
            "ff600ba80ac242a08f2038fbaad65b80",
            "e19e50f894fd484e833039f9f668232e",
            "7d0e33c51f9b4e21a7074bb3fb296460",
            "0b9733c4f1814aaba73d124b9d9d070e",
            "5dc01c83cca74611b32249956dc67fa8",
            "5cc4a95b8ed64a9aa484164a2e94eb3b",
            "a03098fb45d64761a62db685e2949496",
            "a57d70576b8249938af2e74f4b9fd640",
            "d52c3679d5704810bf33d8159cefcb5b"
          ]
        },
        "id": "KRCZGEml5zoZ",
        "outputId": "e2239966-1c6b-4637-9984-87e192f588ab"
      },
      "source": [
        "# myQAModel = create_model(tokenizer)"
      ],
      "execution_count": null,
      "outputs": [
        {
          "output_type": "display_data",
          "data": {
            "application/vnd.jupyter.widget-view+json": {
              "model_id": "87c69a2738734707893f744e3877a538",
              "version_minor": 0,
              "version_major": 2
            },
            "text/plain": [
              "Downloading:   0%|          | 0.00/511M [00:00<?, ?B/s]"
            ]
          },
          "metadata": {}
        },
        {
          "output_type": "stream",
          "name": "stderr",
          "text": [
            "Some layers from the model checkpoint at bert-base-uncased were not used when initializing TFBertModel: ['mlm___cls', 'nsp___cls']\n",
            "- This IS expected if you are initializing TFBertModel from the checkpoint of a model trained on another task or with another architecture (e.g. initializing a BertForSequenceClassification model from a BertForPreTraining model).\n",
            "- This IS NOT expected if you are initializing TFBertModel from the checkpoint of a model that you expect to be exactly identical (initializing a BertForSequenceClassification model from a BertForSequenceClassification model).\n",
            "All the layers of TFBertModel were initialized from the model checkpoint at bert-base-uncased.\n",
            "If your task is similar to the task the model of the checkpoint was trained on, you can already use TFBertModel for predictions without further training.\n"
          ]
        }
      ]
    },
    {
      "cell_type": "markdown",
      "metadata": {
        "id": "O5FxI3eumAaB"
      },
      "source": [
        "# **Training process**"
      ]
    },
    {
      "cell_type": "markdown",
      "metadata": {
        "id": "MjqG_4acmRcl"
      },
      "source": [
        "**Get data from squad dataset** "
      ]
    },
    {
      "cell_type": "code",
      "metadata": {
        "colab": {
          "base_uri": "https://localhost:8080/"
        },
        "id": "w-fVmPQ-zPJO",
        "outputId": "7d50dd87-06a1-46b5-fe05-d6135b038af4"
      },
      "source": [
        "train_squad = squad_json_to_dataframe_train(input_file_path=squad_train)"
      ],
      "execution_count": null,
      "outputs": [
        {
          "output_type": "stream",
          "name": "stdout",
          "text": [
            "Reading the json file\n",
            "processing...\n"
          ]
        },
        {
          "output_type": "stream",
          "name": "stderr",
          "text": [
            "/usr/local/lib/python3.7/dist-packages/ipykernel_launcher.py:15: FutureWarning: pandas.io.json.json_normalize is deprecated, use pandas.json_normalize instead\n",
            "  from ipykernel import kernelapp as app\n",
            "/usr/local/lib/python3.7/dist-packages/ipykernel_launcher.py:16: FutureWarning: pandas.io.json.json_normalize is deprecated, use pandas.json_normalize instead\n",
            "  app.launch_new_instance()\n",
            "/usr/local/lib/python3.7/dist-packages/ipykernel_launcher.py:17: FutureWarning: pandas.io.json.json_normalize is deprecated, use pandas.json_normalize instead\n"
          ]
        },
        {
          "output_type": "stream",
          "name": "stdout",
          "text": [
            "shape of the dataframe is (130319, 6)\n",
            "Done\n"
          ]
        }
      ]
    },
    {
      "cell_type": "code",
      "metadata": {
        "id": "N0S5WGHVzRzW"
      },
      "source": [
        "null_text = train_squad.isnull()['text']\n",
        "train_squad['no_answer'] = null_text"
      ],
      "execution_count": null,
      "outputs": []
    },
    {
      "cell_type": "code",
      "metadata": {
        "colab": {
          "base_uri": "https://localhost:8080/",
          "height": 424
        },
        "id": "oczF-NbWesa5",
        "outputId": "f3f7d3b1-9c64-4b88-96d8-313c162bff1d"
      },
      "source": [
        "train_squad.sample(frac=1)"
      ],
      "execution_count": null,
      "outputs": [
        {
          "output_type": "execute_result",
          "data": {
            "text/html": [
              "<div>\n",
              "<style scoped>\n",
              "    .dataframe tbody tr th:only-of-type {\n",
              "        vertical-align: middle;\n",
              "    }\n",
              "\n",
              "    .dataframe tbody tr th {\n",
              "        vertical-align: top;\n",
              "    }\n",
              "\n",
              "    .dataframe thead th {\n",
              "        text-align: right;\n",
              "    }\n",
              "</style>\n",
              "<table border=\"1\" class=\"dataframe\">\n",
              "  <thead>\n",
              "    <tr style=\"text-align: right;\">\n",
              "      <th></th>\n",
              "      <th>index</th>\n",
              "      <th>question</th>\n",
              "      <th>context</th>\n",
              "      <th>text</th>\n",
              "      <th>answer_start</th>\n",
              "      <th>c_id</th>\n",
              "      <th>no_answer</th>\n",
              "    </tr>\n",
              "  </thead>\n",
              "  <tbody>\n",
              "    <tr>\n",
              "      <th>124817</th>\n",
              "      <td>57328196b3a91d1900202ddf</td>\n",
              "      <td>How many heart attacks did Eisenhower have bet...</td>\n",
              "      <td>The last three years of Eisenhower's second te...</td>\n",
              "      <td>seven</td>\n",
              "      <td>700.0</td>\n",
              "      <td>18199</td>\n",
              "      <td>False</td>\n",
              "    </tr>\n",
              "    <tr>\n",
              "      <th>117475</th>\n",
              "      <td>5730d756b7151e1900c0156a</td>\n",
              "      <td>In what year was ministerial government starte...</td>\n",
              "      <td>In 1974 ministerial government was introduced ...</td>\n",
              "      <td>1974</td>\n",
              "      <td>3.0</td>\n",
              "      <td>17075</td>\n",
              "      <td>False</td>\n",
              "    </tr>\n",
              "    <tr>\n",
              "      <th>10239</th>\n",
              "      <td>5ad39601604f3c001a3fe772</td>\n",
              "      <td>In which case did the Constitution establish a...</td>\n",
              "      <td>Courts check both the executive branch and the...</td>\n",
              "      <td>NaN</td>\n",
              "      <td>NaN</td>\n",
              "      <td>1652</td>\n",
              "      <td>True</td>\n",
              "    </tr>\n",
              "    <tr>\n",
              "      <th>112394</th>\n",
              "      <td>573217e8e17f3d140042267d</td>\n",
              "      <td>What type of vessels were part of a major role...</td>\n",
              "      <td>U.S. submarines, as well as some British and D...</td>\n",
              "      <td>submarines</td>\n",
              "      <td>5.0</td>\n",
              "      <td>16481</td>\n",
              "      <td>False</td>\n",
              "    </tr>\n",
              "    <tr>\n",
              "      <th>45605</th>\n",
              "      <td>57109269a58dae1900cd6a57</td>\n",
              "      <td>Were bruits or newspapers allegedly a better s...</td>\n",
              "      <td>The Café Procope was established in Paris in 1...</td>\n",
              "      <td>bruits</td>\n",
              "      <td>409.0</td>\n",
              "      <td>7285</td>\n",
              "      <td>False</td>\n",
              "    </tr>\n",
              "    <tr>\n",
              "      <th>...</th>\n",
              "      <td>...</td>\n",
              "      <td>...</td>\n",
              "      <td>...</td>\n",
              "      <td>...</td>\n",
              "      <td>...</td>\n",
              "      <td>...</td>\n",
              "      <td>...</td>\n",
              "    </tr>\n",
              "    <tr>\n",
              "      <th>113726</th>\n",
              "      <td>5acd8d4907355d001abf46fa</td>\n",
              "      <td>Who maintains most barren land in Ireland?</td>\n",
              "      <td>As with most of Europe, prehistoric Britain an...</td>\n",
              "      <td>NaN</td>\n",
              "      <td>NaN</td>\n",
              "      <td>16668</td>\n",
              "      <td>True</td>\n",
              "    </tr>\n",
              "    <tr>\n",
              "      <th>110732</th>\n",
              "      <td>5ace96bf32bba1001ae4ab4f</td>\n",
              "      <td>What is the standard for determining current-c...</td>\n",
              "      <td>The printed circuit board industry defines hea...</td>\n",
              "      <td>NaN</td>\n",
              "      <td>NaN</td>\n",
              "      <td>16277</td>\n",
              "      <td>True</td>\n",
              "    </tr>\n",
              "    <tr>\n",
              "      <th>36178</th>\n",
              "      <td>570b241bec8fbc190045b85f</td>\n",
              "      <td>To what time did the Council require the date ...</td>\n",
              "      <td>The Council of Trent approved a plan in 1563 f...</td>\n",
              "      <td>325</td>\n",
              "      <td>210.0</td>\n",
              "      <td>6015</td>\n",
              "      <td>False</td>\n",
              "    </tr>\n",
              "    <tr>\n",
              "      <th>110572</th>\n",
              "      <td>572fb4cfb2c2fd1400568383</td>\n",
              "      <td>What's the abbreviation for immersion silver p...</td>\n",
              "      <td>Other platings used are OSP (organic surface p...</td>\n",
              "      <td>IAg</td>\n",
              "      <td>76.0</td>\n",
              "      <td>16260</td>\n",
              "      <td>False</td>\n",
              "    </tr>\n",
              "    <tr>\n",
              "      <th>83597</th>\n",
              "      <td>57287bee2ca10214002da3c9</td>\n",
              "      <td>In what century did the Chola Empire emerge?</td>\n",
              "      <td>From the 8th to the 10th century, three dynast...</td>\n",
              "      <td>11th century</td>\n",
              "      <td>789.0</td>\n",
              "      <td>12517</td>\n",
              "      <td>False</td>\n",
              "    </tr>\n",
              "  </tbody>\n",
              "</table>\n",
              "<p>130319 rows × 7 columns</p>\n",
              "</div>"
            ],
            "text/plain": [
              "                           index  ... no_answer\n",
              "124817  57328196b3a91d1900202ddf  ...     False\n",
              "117475  5730d756b7151e1900c0156a  ...     False\n",
              "10239   5ad39601604f3c001a3fe772  ...      True\n",
              "112394  573217e8e17f3d140042267d  ...     False\n",
              "45605   57109269a58dae1900cd6a57  ...     False\n",
              "...                          ...  ...       ...\n",
              "113726  5acd8d4907355d001abf46fa  ...      True\n",
              "110732  5ace96bf32bba1001ae4ab4f  ...      True\n",
              "36178   570b241bec8fbc190045b85f  ...     False\n",
              "110572  572fb4cfb2c2fd1400568383  ...     False\n",
              "83597   57287bee2ca10214002da3c9  ...     False\n",
              "\n",
              "[130319 rows x 7 columns]"
            ]
          },
          "metadata": {},
          "execution_count": 19
        }
      ]
    },
    {
      "cell_type": "markdown",
      "metadata": {
        "id": "DQ0Ub5D_mIwi"
      },
      "source": [
        "**Get data from file train** "
      ]
    },
    {
      "cell_type": "code",
      "metadata": {
        "colab": {
          "base_uri": "https://localhost:8080/"
        },
        "id": "c0sDcwtkmjYY",
        "outputId": "e3dc0282-3438-4edc-c245-483e1916bba9"
      },
      "source": [
        "list_train, list_val = parseData(f_train, drop_noanswer_rate = 0.9, drop_null_instances_rate = 0.98, split = 0.9, debug=False)"
      ],
      "execution_count": null,
      "outputs": [
        {
          "output_type": "stream",
          "name": "stdout",
          "text": [
            "Parsing training file\n"
          ]
        },
        {
          "output_type": "stream",
          "name": "stderr",
          "text": [
            "100%|██████████| 44943/44943 [01:02<00:00, 721.36it/s]\n"
          ]
        },
        {
          "output_type": "stream",
          "name": "stdout",
          "text": [
            "\n",
            "\n",
            "NUM TOO LONG ANSWER DROPPED SAMPLE =  973\n",
            "NUM POS SAMPLE =  58456\n",
            "NUM NEG SAMPLE =  32385\n"
          ]
        }
      ]
    },
    {
      "cell_type": "code",
      "metadata": {
        "id": "M8oM3eg1ZftP"
      },
      "source": [
        "import csv\n",
        "\n",
        "with open('/content/drive/MyDrive/data/train_file.csv') as f:\n",
        "    list_train = [{k: v for k, v in row.items()}\n",
        "        for row in csv.DictReader(f, skipinitialspace=True)]\n",
        "\n",
        "with open('/content/drive/MyDrive/data/val_file.csv') as f:\n",
        "    list_val = [{k: v for k, v in row.items()}\n",
        "        for row in csv.DictReader(f, skipinitialspace=True)]"
      ],
      "execution_count": null,
      "outputs": []
    },
    {
      "cell_type": "code",
      "metadata": {
        "id": "4Zp7FYrn3K9y"
      },
      "source": [
        "for ins in list_train: \n",
        "    ins['part_id'] = int(ins['part_id'])\n",
        "    ins['start'] = int(ins['start'])\n",
        "    ins['stop'] = int(ins['stop'])\n",
        "\n",
        "for ins in list_val:\n",
        "    ins['part_id'] = int(ins['part_id'])\n",
        "    ins['start'] = int(ins['start'])\n",
        "    ins['stop'] = int(ins['stop'])"
      ],
      "execution_count": null,
      "outputs": []
    },
    {
      "cell_type": "code",
      "metadata": {
        "colab": {
          "base_uri": "https://localhost:8080/"
        },
        "id": "zD_I_mbVaKlP",
        "outputId": "1e2b3a86-5964-4e99-9450-4d2107dc63f9"
      },
      "source": [
        "# print(list_train[0:10])"
      ],
      "execution_count": null,
      "outputs": [
        {
          "output_type": "stream",
          "name": "stdout",
          "text": [
            "[{'': '51628', 'example_id': '-9001692823671863906', 'part_id': 181, 'question': 'where do the kansas and missouri rivers meet', 'context': \"- 08 - 03 . Archived from the original on September 17 , 2008 . Retrieved 2010 - 10 - 08 . </Li> <Li> Jump up ^ `` Upper Missouri '' . Freshwater Ecoregions of the World . August 26 , 2010 . Archived from the original on October 5 , 2011 . Retrieved October 8 , 2010 . </Li> <Li> Jump up ^ `` Middle Missouri '' . Freshwater Ecoregions of the World . August 26 , 2010 . Archived from the original on October 5 , 2011 . Retrieved October 8 , 2010 . </Li> <Li> Jump up ^ `` Central Prairie '' . Freshwater Ecoregions of the World . August 26 , 2010 . Archived from the original on October 5 , 2011 . Retrieved October 8 , 2010 . </Li> <Li> Jump up ^ Booth , Mary ( April 2006 ) . `` Dead in the Water '' . Environmental Working Group . Retrieved 2010 - 10 - 17 . </Li> <Li> Jump up ^ Singer , pp. 80 -- 85 </Li> <Li> ^ Jump up to : Kendle , Earl R. ( 1970 - 11 - 09 ) . `` The Effects of Channelization in the Missouri River on Fish and Fish - Food Organisms '' . Nebraska Game and Parks Commission . Digital Commons @ University of Nebraska , Lincoln . Retrieved 2010 - 10 - 20 . </Li> <Li> Jump up ^ `` Executive Summary '' . U.S. Fish and Wildlife Service Biological Opinion on the Operation of the Missouri River Main Stem Reservoir System , Operation and Maintenance of the Missouri River Bank Stabilization and Navigation Project , and Operation of the Kansas River Reservoir System . U.S. Army Corps of Engineers . Retrieved 2011 - 01 - 19 . </Li> <Li> Jump up ^ `` Missouri River tops annual rating of threatened waterways '' . U.S. Water News . May 2001 . Archived from the original on 2001 - 06 - 08 . Retrieved 2014 - 03 - 11 . </Li> <Li> Jump up ^ `` Missouri River Planning Report '' . National Research Council . 2010 . Retrieved 2011 - 07 - 22 . </Li> <Li> Jump up ^ `` Missouri River Planning Report in Brief '' . Division on Earth & Life Studies . National Research Council . 2010 . Retrieved 2011 - 07 - 22 . </Li> <Li> Jump up ^ `` Today 's Missouri River : A North Dakota Perspective '' ( PDF ) . North Dakota State Water Commission . 2008 . Archived from the original ( PDF ) on October 12 , 2011 . Retrieved January 16 , 2012 . </Li> <Li> Jump up ^ `` Lewis and Clark National Historic Trail '' . U.S. National Park Service . Retrieved 2010 - 10 - 11 . </Li> <Li> Jump up ^ `` Lewis and Clark National Historic Trail '' ( PDF ) . National Parks Conservation Association\", 'start': 0, 'stop': 0, 'target': 'NO_ANSWER'}, {'': '10599', 'example_id': '-8675049079536550298', 'part_id': 0, 'question': 'who played in planet of the apes 2001', 'context': 'Planet of the Apes ( 2001 film ) - wikipedia <H1> Planet of the Apes ( 2001 film ) </H1> Jump to : navigation , search <Table> <Tr> <Th_colspan=\"2\"> Planet of the Apes </Th> </Tr> <Tr> <Td_colspan=\"2\"> Theatrical release poster </Td> </Tr> <Tr> <Th> Directed by </Th> <Td> Tim Burton </Td> </Tr> <Tr> <Th> Produced by </Th> <Td> <Ul> <Li> Richard D. Zanuck </Li> </Ul> </Td> </Tr> <Tr> <Th> Screenplay by </Th> <Td> <Ul> <Li> William Broyles , Jr . </Li> <Li> Lawrence Konner </Li> <Li> Mark Rosenthal </Li> </Ul> </Td> </Tr> <Tr> <Th> Based on </Th> <Td> Planet of the Apes by Pierre Boulle </Td> </Tr> <Tr> <Th> Starring </Th> <Td> <Ul> <Li> Mark Wahlberg </Li> <Li> Tim Roth </Li> <Li> Helena Bonham Carter </Li> <Li> Michael Clarke Duncan </Li> <Li> Paul Giamatti </Li> <Li> Estella Warren </Li> </Ul> </Td> </Tr> <Tr> <Th> Music by </Th> <Td> Danny Elfman </Td> </Tr> <Tr> <Th> Cinematography </Th> <Td> Philippe Rousselot </Td> </Tr> <Tr> <Th> Edited by </Th> <Td> <Ul> <Li> Chris Lebenzon </Li> <Li> Joel Negron </Li> </Ul> </Td> </Tr> <Tr> <Th> Production company </Th> <Td> The Zanuck Company </Td> </Tr> <Tr> <Th> Distributed by </Th> <Td> 20th Century Fox </Td> </Tr> <Tr> <Th> Release date </Th> <Td> <Ul> <Li> July 27 , 2001 ( 2001 - 07 - 27 ) </Li> <Li> </Li> <Li> </Li> <Li> </Li> <Li> </Li> </Ul> </Td> </Tr> <Tr> <Th> Running time </Th> <Td> 120 minutes </Td> </Tr> <Tr> <Th> Country </Th> <Td> United States </Td> </Tr> <Tr> <Th> Language </Th> <Td> English </Td> </Tr> <Tr> <Th> Budget </Th> <Td> $100 million </Td> </Tr> <Tr> <Th> Box office </Th> <Td> $362.2 million </Td> </Tr> </Table> <P> Planet of the Apes is a 2001 American science fiction film directed by Tim Burton and starring Mark Wahlberg , Tim Roth , Helena Bonham Carter , Michael Clarke Duncan , Paul Giamatti , and Estella Warren . The sixth film produced in the Planet of the Apes franchise , it was loosely adapted from Pierre Boulle \\'s 1963 novel of the same name and the 1968 film version . It tells the story of astronaut Leo Davidson crash - landing on a planet inhabited by intelligent apes . The apes treat humans as slaves , but with the help of an ape named Ari , Leo starts a rebellion . </P> <P> Development for a Planet of the Apes remake started as far back as 1988 with Adam Rifkin . His project nearly reached the pre-production stage before being canceled . Terry Hayes \\'s script , titled Return of the Apes , would have starred Arnold Schwarzenegger , under the direction of Phillip Noyce . Oliver Stone , Don Murphy , and Jane Hamsher were set to produce . Creative differences ensued between Hayes and financier / distributor 20th Century Fox . Chris Columbus , Sam Hamm , James Cameron , Peter Jackson , and the Hughes brothers later became involved', 'start': 297, 'stop': 317, 'target': 'SHORT'}, {'': '41492', 'example_id': '-4530620403968409612', 'part_id': 215, 'question': 'how many world series championships do the yankees have', 'context': '</Dd> <Dd> 36 Johnny Mize </Dd> <Dd> 40 Ewell Blackwell </Dd> <Dd> 41 Joe Collins </Dd> </Dl> </Td> </Tr> <Tr> <Td_colspan=\"2\"> <Dl> <Dt> Manager </Dt> <Dd> 37 Casey Stengel </Dd> </Dl> <Dl> <Dt> Coaches </Dt> <Dd> 2 Frankie Crosetti </Dd> <Dd> 31 Jim Turner </Dd> <Dd> 33 Bill Dickey </Dd> </Dl> </Td> </Tr> <Tr> <Td_colspan=\"2\"> <Dl> <Dd> Regular season </Dd> <Dd> Dodgers -- Yankees rivalry </Dd> <Dd> Subway Series </Dd> </Dl> </Td> </Tr> </Table> <Table> <Tr> <Th_colspan=\"2\"> <Ul> <Li> </Li> <Li> </Li> <Li> </Li> </Ul> New York Yankees 1953 World Series champions </Th> </Tr> <Tr> <Td_colspan=\"2\"> <Dl> <Dd> 1 Billy Martin </Dd> <Dd> 7 Mickey Mantle </Dd> <Dd> 8 Yogi Berra </Dd> <Dd> 9 Hank Bauer </Dd> <Dd> 10 Phil Rizzuto </Dd> <Dd> 11 Johnny Sain </Dd> <Dd> 12 Gil McDougald </Dd> <Dd> 14 Gene Woodling </Dd> <Dd> 15 Joe Collins </Dd> <Dd> 16 Whitey Ford </Dd> <Dd> 17 Vic Raschi </Dd> <Dd> 18 Jim McDonald </Dd> <Dd> 21 Bob Kuzava </Dd> <Dd> 22 Allie Reynolds </Dd> <Dd> 24 Tom Gorman </Dd> <Dd> 25 Irv Noren </Dd> <Dd> 29 Charlie Silvera </Dd> <Dd> 30 Ed Lopat </Dd> <Dd> 36 Johnny Mize </Dd> <Dd> 38 Art Schallock </Dd> <Dd> 45 Don Bollweg </Dd> </Dl> </Td> </Tr> <Tr> <Td_colspan=\"2\"> <Dl> <Dt> Manager </Dt> <Dd> 37 Casey Stengel </Dd> </Dl> <Dl> <Dt> Coaches </Dt> <Dd> 2 Frankie Crosetti </Dd> <Dd> 31 Jim Turner </Dd> <Dd> 32 Ralph Houk </Dd> <Dd> 33 Bill Dickey </Dd> </Dl> </Td> </Tr> <Tr> <Td_colspan=\"2\"> <Dl> <Dd> Regular season </Dd> <Dd> Dodgers -- Yankees rivalry </Dd> <Dd> Subway Series </Dd> </Dl> </Td> </Tr> </Table> <Table> <Tr> <Th_colspan=\"2\"> <Ul> <Li> </Li> <Li> </Li> <Li> </Li> </Ul> New York Yankees 1956 World Series champions </Th> </Tr> <Tr> <Td_colspan=\"2\"> <Dl> <Dd> 1 Billy Martin </Dd> <Dd> 6 Andy Carey </Dd> <Dd> 7 Mickey Mantle ( AL MVP ) </Dd> <Dd> 8 Yogi Berra </Dd> <Dd> 9 Hank Bauer </Dd> <Dd> 12 Gil McDougald </Dd> <Dd> 14 Bill Skowron </Dd> <Dd> 15 Joe Collins </Dd> <Dd> 16 Whitey Ford </Dd> <Dd> 17 Enos Slaughter </Dd> <Dd> 18 Don Larsen ( World Series MVP ) </Dd> <Dd> 19 Bob Turley </Dd> <Dd> 22 Mickey McDermott </Dd> <Dd> 23 Tommy Byrne </Dd> <Dd> 28 Tom Morgan </Dd> <Dd> 29 Charlie Silvera </Dd> <Dd> 30 Rip Coleman </Dd> <Dd> 32 Elston Howard </Dd> <Dd> 36 Norm Siebern </Dd> <Dd> 39 George Wilson </Dd> <Dd> 41 Bob Cerv </Dd> <Dd> 42 Jerry Coleman </Dd> <Dd> 47 Tom Sturdivant </Dd> <Dd> 53 Johnny Kucks </Dd> <Dd> 55 Bob Grim </Dd> </Dl> </Td> </Tr> <Tr> <Td_colspan=\"2\"> <Dl> <Dt> Manager </Dt> <Dd> 37 Casey Stengel </Dd> </Dl> <Dl> <Dt> Coaches </Dt> <Dd> 2 Frankie Crosetti </Dd> <Dd> 31 Jim Turner </Dd> <Dd> 33 Bill Dickey </Dd> </Dl> </Td> </Tr> <Tr> <Td_colspan=\"2\"> <Dl> <Dd> Regular season </Dd> <Dd> Dodgers -- Yankees rivalry </Dd> <Dd> Subway Series </Dd> </Dl> </Td> </Tr> </Table> <Table> <Tr> <Th_colspan=\"2\"> <Ul> <Li> </Li> <Li> </Li> <Li> </Li> </Ul>', 'start': 0, 'stop': 0, 'target': 'NO_ANSWER'}, {'': '32093', 'example_id': '7165785900330117526', 'part_id': 26, 'question': \"the main character in wycherley's the country wife\", 'context': \"Kynaston played female roles in the 1660s . <P> Pinchwife was played by the elderly Michael Mohun , who was best known for playing menacing villains , such as Volpone and Iago . Mrs. Pinchwife was Elizabeth Boutell or Bowtel , a young actress who had `` a childish look . Her voice was weak , tho ' very mellow ; she generally acted the young innocent lady whom all the heroes are mad in love with '' . Boutell 's previous recorded roles had in fact all been unmarried as well as innocent girls , and Margery was her first married role . Matching Boutell and Mohun as a couple would emphasise `` her youth and innocence against Mohun 's age and violence '' . The other husband to be cuckolded by Horner , Sir Jaspar Fidget , was played by another elderly actor , William Cartwright , best known for comic parts such as Falstaff . This casting suggests that Sir Jaspar was played as a straightforwardly comic part , while Pinchwife would be `` alarming as well as funny '' . </P> <P> The male leads Horner and Harcourt were played by the contrasted actors Charles Hart and Edward Kynaston ( or Kenaston ) . The forcefully masculine 45 - year - old Hart `` was celebrated for superman roles , notably the arrogant , bloodthirsty Almanzor in John Dryden 's Conquest of Granada '' , and also for playing rakish comedy heroes with nonchalance and charisma . Many critics credit the personalities and skills of Hart and Nell Gwyn with creating , as much as any playwright did , the famous flirting / bantering Restoration comedy couple . The beautiful androgynous Kynaston , probably in his early thirties , was a different kind of hero . He had started his career in 1660 as the outstanding Restoration female impersonator -- `` the prettiest woman in the whole house '' -- before real women entered the profession in the fall of 1660 . ( The 2004 movie Stage Beauty is loosely based on Kynaston 's career . ) </P> <P> John Harold Wilson argues that the famously virile stage presence of Hart as Horner must be taken into account when interpreting the play . As personified by Hart , Horner will have won women not so much through clever trickery as `` the old - fashioned way '' , by being `` dangerously attractive '' , and it is only fools like Sir Jaspar Fidget who really believe him harmless . Harcourt / Kynaston , although by 1675 a well - regarded and skilful actor of male roles , would clearly have been overshadowed by Horner / Hart . The actresses associated with each hero must also have tended to make the Horner plot more striking on the stage than the true - love plot . Horner 's primary mistress Lady Fidget , spokeswoman for `` the virtuous gang\", 'start': 189, 'stop': 192, 'target': 'SHORT'}, {'': '8156', 'example_id': '2935459139869207730', 'part_id': 16, 'question': 'who won the rousey vs tate 2 fight', 'context': \"in the second bout . </P> <P> Rousey declared that she would prepare for the best Miesha Tate possible in their rematch . </P> <H3> Rousey vs. Tate 2 ( edit ) </H3> <P> In their rematch at UFC 168 on December 28 , 2013 , Rousey defeated Tate by submission at 0 : 58 in round 3 . Tate managed to escape several of Rousey 's submission holds in the first two rounds , thus making her the first to ever reach the second and third round against Rousey . </P> <H2> Impact ( edit ) </H2> Rousey and Tate featured in promotional art for EA Sports UFC <P> Tate and Rousey 's rivalry is credited with bringing women 's mixed martial arts to the Ultimate Fighting Championship , with UFC president Dana White confirming this during a 2012 interview . </P> <P> In 2013 , EA Sports announced that Rousey and Tate were the first - ever female fighters selected for inclusion in a UFC video game . The two also appeared together on ESPN 's SportsCenter while promoting their rematch . In an interview with Yahoo ! , Rousey stated , `` I think people will look back at this as one of the monumental rivalries '' , and as `` one of those things that really cemented women 's MMA . '' </P> <P> In November 2015 , Holly Holm defeated Rousey for the UFC Bantamweight Championship . Tate won the title from Holm the following March , but lost it to Amanda Nunes in July 2016 . Following a loss to Raquel Pennington at UFC 205 in November 2016 , Tate announced her retirement from mixed martial arts . A month later in December , Rousey attempted to take the title from Nunes but was defeated . </P> <H2> References ( edit ) </H2> <Ol> <Li> ^ Jump up to : Martin , Damon ( February 28 , 2012 ) . `` Ronda Rousey Has No Other Option but Victory '' . mmaweekly.com . Retrieved June 1 , 2013 . </Li> <Li> ^ Jump up to : Sargent , Robert ( November 21 , 2011 ) . `` Women 's MMA Report : Olympian Rousey wins quickly , eyes challenges at 135 pounds '' . MMAjunkie.com . Retrieved June 1 , 2013 . </Li> <Li> ^ Jump up to : `` Miesha Tate '' . UFC.com . Retrieved June 1 , 2013 . </Li> <Li> ^ Jump up to : `` ' All Access ' video : White says Rousey would likely be first female UFC fighter '' . MMAjunkie.com . August 9 , 2012 . Retrieved June 1 , 2013 . </Li> <Li> Jump up ^ Bohn , Mike ( March 7 , 2016 ) . `` Miesha Tate Is Finally on Top -- But Can She Beat Ronda Rousey ? '' . Rolling Stone . Retrieved March 7 , 2016 . </Li> <Li> Jump up\", 'start': 46, 'stop': 47, 'target': 'SHORT'}, {'': '78754', 'example_id': '-2555388365837659627', 'part_id': 5, 'question': 'what metal is on top of the washington monument', 'context': \"m ) tall column and a 55 - foot ( 16.8 m ) tall pyramidion . Its walls are 15 feet ( 4.6 m ) thick at its base and 1 ⁄ feet ( 0.46 m ) thick at their top . The marble pyramidion has thin walls only 7 inches ( 18 cm ) thick supported by six arches , two between opposite walls that cross at the center of the pyramidion and four smaller corner arches . The top of the pyramidion is a large marble capstone with a small aluminum pyramid at its apex with inscriptions on all four sides . The lowest 150 feet ( 45.7 m ) of the walls , constructed during the first phase 1848 -- 54 , are composed of a pile of bluestone gneiss rubble stones ( not finished stones ) held together by a large amount of mortar with a facade of semi-finished marble stones about 1 ⁄ feet ( 0.4 m ) thick . The upper 350 feet ( 106.7 m ) of the walls , constructed during the second phase 1880 -- 84 , are composed of finished marble surface stones , half of which project into the walls , partially backed by finished granite stones . </P> <P> The interior is occupied by iron stairs that spiral up the walls with an elevator in the center , both supported by eight iron columns , which do not support the stone structure . The stairs contain fifty sections , most on the north and south walls , with many long landings stretching between them along the east and west walls . These landings allowed many inscribed memorial stones of various materials and sizes to be easily viewed while the stairs were accessible ( until 1976 ) plus one memorial stone between stairs that is difficult to view . The pyramidion has eight observation windows , two per side , and eight red aircraft warning lights , two per side . Two aluminum lightning rods connected via the elevator support columns to ground water protect the monument . The monument 's present foundation is 37 feet ( 11.3 m ) thick , consisting of half of its original bluestone gneiss rubble encased in concrete . At the northeast corner of the foundation , 21 feet ( 6.4 m ) below ground , is the marble cornerstone , including a zinc case filled with memorabilia . Fifty American flags fly 24 hours a day on a large circle of flag poles centered on the monument . In 2001 a temporary screening facility was added to the entrance to prevent a terrorist attack . In 2011 an earthquake slightly damaged the monument , mostly the pyramidion . </P> <P> </P> <H2> Contents </H2> ( hide ) <Ul> <Li> 1 History <Ul> <Li> 1.1 Rationale </Li> <Li> 1.2 Proposals for a memorial </Li> <Li> 1.3 Design </Li> <Li> 1.4 Construction <Ul> <Li> 1.4.\", 'start': 92, 'stop': 93, 'target': 'SHORT'}, {'': '59098', 'example_id': '3596386200410911282', 'part_id': 1, 'question': 'the origins of the concerto can be found in', 'context': \"when to remove this template message ) </Td> </Tr> </Table> ( Learn how and when to remove this template message ) </Td> </Tr> </Table> Frederick the Great playing a flute concerto in Sanssouci , C.P.E. Bach at the piano , Johann Joachim Quantz is leaning on the wall to the right ; by Adolph Menzel , 1852 <P> A concerto ( / kənˈtʃɛərtoʊ / ; plural concertos , or concerti from the Italian plural ) is a musical composition usually composed in three movements , in which , usually , one solo instrument ( for instance , a piano , violin , cello or flute ) is accompanied by an orchestra or concert band . It is accepted that its characteristics and definition have changed over time . In the 17th century , sacred works for voices and orchestra were typically called concertos , as reflected by J.S. Bach 's usage of the title `` concerto '' for many of the works that we know as cantatas . </P> <P> </P> <H2> Contents </H2> ( hide ) <Ul> <Li> 1 Etymology </Li> <Li> 2 Early - Baroque concerto </Li> <Li> 3 Late - Baroque concerto </Li> <Li> 4 Classical concerto <Ul> <Li> 4.1 Violin concertos </Li> <Li> 4.2 Cello concertos </Li> <Li> 4.3 Keyboard concertos </Li> <Li> 4.4 Concertos for other instruments </Li> </Ul> </Li> <Li> 5 Romantic concerto <Ul> <Li> 5.1 Violin concertos </Li> <Li> 5.2 Cello concertos </Li> <Li> 5.3 Piano concertos </Li> </Ul> </Li> <Li> 6 20th - century concerto <Ul> <Li> 6.1 Violin concertos </Li> <Li> 6.2 Cello concertos </Li> <Li> 6.3 Piano concertos </Li> <Li> 6.4 Concertos for other instruments </Li> <Li> 6.5 Concertos for orchestra or concert band </Li> </Ul> </Li> <Li> 7 Concertos for two or more instruments </Li> <Li> 8 See also </Li> <Li> 9 References </Li> <Li> 10 Sources </Li> <Li> 11 External links </Li> </Ul> <P> </P> <H2> Etymology ( edit ) </H2> <P> The word concerto comes from Italian ; its etymology is uncertain , but it seems to originate from the conjunction of two Latin words : conserere ( meaning to tie , to join , to weave ) and certamen ( competition , fight ) . The idea is that the two parts in a concerto -- the soloist and the orchestra or concert band -- alternate between episodes of opposition , cooperation , and independence to create a sense of flow . </P> <P> The concerto , as understood in this modern way , arose in the Baroque period , in parallel to the concerto grosso , which contrasted a small group of instruments called a concertino with the rest of the orchestra , called the ripieno . The popularity of the concerto grosso form declined after the Baroque period , and the genre was not revived until the 20th century . The solo concerto , however , has remained a vital musical force from its inception\", 'start': 420, 'stop': 423, 'target': 'SHORT'}, {'': '51926', 'example_id': '-6844922244706994053', 'part_id': 2, 'question': \"where does crater lake's water come from\", 'context': 'km ) </Td> </Tr> <Tr> <Th> Average depth </Th> <Td> 1,148 ft ( 350 m ) </Td> </Tr> <Tr> <Th> Max . depth </Th> <Td> 1,949 ft ( 594 m ) </Td> </Tr> <Tr> <Th> Water volume </Th> <Td> 4.49 cu mi ( 18.7 km ) </Td> </Tr> <Tr> <Th> Residence time </Th> <Td> 157 years </Td> </Tr> <Tr> <Th> Shore length </Th> <Td> 21.8 mi ( 35.1 km ) </Td> </Tr> <Tr> <Th> Surface elevation </Th> <Td> 6,178 ft ( 1,883 m ) </Td> </Tr> <Tr> <Th_colspan=\"2\"> </Th> </Tr> <Tr> <Th> Islands </Th> <Td> Wizard Island Phantom Ship </Td> </Tr> <Tr> <Td_colspan=\"2\"> Shore length is not a well - defined measure . </Td> </Tr> </Table> Panoramic view of Crater Lake -- Spring 2016 <P> Crater Lake ( Klamath : giiwas ) is a caldera lake in south - central Oregon in the western United States . It is the main feature of Crater Lake National Park and is famous for its deep blue color and water clarity . The lake partly fills a nearly 2,148 - foot ( 655 m ) - deep caldera that was formed around 7,700 ( ± 150 ) years ago by the collapse of the volcano Mount Mazama . There are no rivers flowing into or out of the lake ; the evaporation is compensated for by rain and snowfall at a rate such that the total amount of water is replaced every 250 years . With a depth of 1,949 feet ( 594 m ) , the lake is the deepest in the United States . In the world , it ranks ninth for maximum depth , and third for mean ( average ) depth . </P> <P> Crater Lake is also known for the `` Old Man of the Lake \\'\\' , a full - sized tree which is now a stump that has been bobbing vertically in the lake for over a century . The low temperature of the water has slowed the decomposition of the wood , hence the longevity of the bobbing tree . </P> <P> Two islands are in Crater Lake : Wizard Island , formed from a cinder cone that erupted after Crater Lake began to fill with water , and the smaller Phantom Ship , which has seven trees living on it . There are also colonies of violet - green swallows and several varieties of wildflowers and lichens living there . </P> <P> While having no indigenous fish population , the lake was stocked from 1888 to 1941 with a variety of fish . Several species have formed self - sustaining populations . Since 2002 , one of the state \\'s regular - issue license plate designs has featured Crater Lake . The commemorative Oregon State Quarter , which was released by the United States Mint in 2005 , features an image of Crater Lake on its reverse . </P> <P> </P> <H2> Contents </H2> ( hide )', 'start': 223, 'stop': 226, 'target': 'SHORT'}, {'': '3271', 'example_id': '5462330102000307281', 'part_id': 7, 'question': 'what kind of dog is turner and hooch', 'context': \", the Toulouse and the Bordeaux , types which were bred depending on the region of France and the jobs it was required to do . The ancestral Dogue de Bordeaux had various coat colors , such as brindle and a majority of white markings that carried fully up the legs . It had scissor bites in some regions , undershot in others ; a big head or a small head , a large body or a small body ; very inconsistent in type . Another controversial aspect was the mask , red ( brown ) , none or black . The Dogue de Bordeaux of Bordeaux of the time also sported cropped ears . Regardless , it had a general type similar to today 's Dogue de Bordeaux . </P> <H3> Breeding ( edit ) </H3> Dogue de Bordeaux <P> In 1863 , the first canine exhibition was held at the `` Jardin d'Acclimatation '' in Paris , France . The winner of the Dogue de Bordeaux was a female named Magentas . The Dogue de Bordeaux was then given the name of the capital of its region of origin , today 's Dogue de Bordeaux . </P> <P> During the 1960s , a group of breeders of the Dogue de Bordeaux in France , headed by Raymond Triquet , worked on the rebuilding of the foundation of the breed . In 1970 , a new standard was written for the breed , with the most recent update in 1995 . This standard is the basis of the standard written for the AKC in 2005 . </P> <P> Although the Dogue de Bordeaux first arrived in the USA in the 1890s for the show ring , the first documented Dogues de Bordeaux of modern times appeared in 1959 , Fidelle de Fenelon ; and in 1968 , Rugby de la Maison des Arbres . Between 1969 and 1980 , imported Dogues de Bordeaux in the USA were scarce , limited to a few breeders who worked closely with the French Dogue de Bordeaux Club , the SADB . The breed was first `` officially '' introduced to American purebred enthusiasts in an article written in 1982 and by the American anthropologist , Dr. Carl Semencic for `` Dog World '' magazine . That article , entitled `` Introducing the Dogue de Bordeaux '' , was followed by chapters dedicated to the Dogue in Semencic 's books on dogs , published by T.F.H. Publications of Neptune , New Jersey . When Semencic 's first article on the breed was published , there were no Bordeaux Dogues in the United States . There were 600 examples left in the world , mostly in France , the Netherlands and East Berlin , and the breed 's numbers were on the decline . Much later , in 1989 , the typical American family saw the Dogue de Bordeaux for the first time on the big\", 'start': 482, 'stop': 485, 'target': 'SHORT'}, {'': '5845', 'example_id': '7795182197673906376', 'part_id': 12, 'question': 'skin loss that is confined to epidermal tissue is called a', 'context': \"10 mm in diameter at the widest point . </Li> <Li> Patch : A patch is a large macule equal to or greater than either 5 or 10 mm across , depending on one 's definition of a macule . Patches may have some subtle surface change , such as a fine scale or wrinkling , but although the consistency of the surface is changed , the lesion itself is not palpable . </Li> <Li> Papule : A papule is a circumscribed , solid elevation of skin with no visible fluid , varying in size from a pinhead to less than either 5 or 10 mm in diameter at the widest point . </Li> <Li> Plaque : A plaque has been described as a broad papule , or confluence of papules equal to or greater than 1 cm , or alternatively as an elevated , plateau - like lesion that is greater in its diameter than in its depth . </Li> <Li> Nodule : A nodule is morphologically similar to a papule in that it is also a palpaple spherical lesion less than 1 cm in diameter . However , it is differentiated by being centered deeper in the dermis or subcutis . </Li> <Li> Tumour : Similar to a nodule but larger than 1 cm in diameter . </Li> <Li> Vesicle : A vesicle is small blister , a circumscribed , fluid - containing , epidermal elevation generally considered less than either 5 or 10 mm in diameter at the widest point . The fluid is clear serous fluid . </Li> <Li> Bulla : A bulla is a large blister , a rounded or irregularly shaped blister containing serous or seropurulent fluid , equal to or greater than either 5 or 10 mm , depending on one 's definition of a vesicle . </Li> </Ul> <P> </P> <Ul> <Li> Pustule : A pustule is a small elevation of the skin containing cloudy or purulent material ( pus ) usually consisting of necrotic inflammatory cells . These can be either white or red . </Li> <Li> Cyst : A cyst is an epithelial - lined cavity containing liquid , semi-solid , or solid material . </Li> <Li> Erosion : An erosion is a discontinuity of the skin exhibiting incomplete loss of the epidermis , a lesion that is moist , circumscribed , and usually depressed . </Li> <Li> Ulcer : An ulcer is a discontinuity of the skin exhibiting complete loss of the epidermis and often portions of the dermis and even subcutaneous fat . </Li> <Li> Fissure : A fissure is a crack in the skin that is usually narrow but deep . </Li> <Li> Wheal : A wheal is a rounded or flat - topped , pale red papule or plaque that is characteristically evanescent , disappearing within 24 to 48 hours . The temporary raised bubble of taut skin on the site of a properly -\", 'start': 367, 'stop': 368, 'target': 'SHORT'}]\n"
          ]
        }
      ]
    },
    {
      "cell_type": "markdown",
      "metadata": {
        "id": "GKMMSmcPwDNK"
      },
      "source": [
        "**Tokenize data** "
      ]
    },
    {
      "cell_type": "code",
      "metadata": {
        "colab": {
          "base_uri": "https://localhost:8080/"
        },
        "id": "kqFB2W_2mnOP",
        "outputId": "d036d487-9f0e-4474-a7cc-95bfd65fe4e7"
      },
      "source": [
        "random.shuffle(list_train)\n",
        "x_train1, x_train2, x_train3, y_train = preprocess_lan_data(list_train, tokenizer)\n",
        "x_val1, x_val2, x_val3, y_val = preprocess_lan_data(list_val, tokenizer)"
      ],
      "execution_count": null,
      "outputs": [
        {
          "output_type": "stream",
          "name": "stderr",
          "text": [
            "100%|██████████| 81761/81761 [04:57<00:00, 275.05it/s]\n",
            "100%|██████████| 9080/9080 [00:33<00:00, 268.24it/s]\n"
          ]
        }
      ]
    },
    {
      "cell_type": "code",
      "metadata": {
        "colab": {
          "base_uri": "https://localhost:8080/"
        },
        "id": "rIe8RDikILtV",
        "outputId": "4bc938b8-c5e0-4331-dbce-58439a9507bf"
      },
      "source": [
        "x1_squad, x2_squad, x3_squad, y_squad = preprocess_squad(train_squad, tokenizer)"
      ],
      "execution_count": null,
      "outputs": [
        {
          "output_type": "stream",
          "name": "stderr",
          "text": [
            "100%|██████████| 130319/130319 [03:58<00:00, 546.29it/s]\n"
          ]
        }
      ]
    },
    {
      "cell_type": "markdown",
      "metadata": {
        "id": "ki3DmhkNr5JI"
      },
      "source": [
        "**Run this to make traning data, but if train with only squad skip this cell and run the cell below**"
      ]
    },
    {
      "cell_type": "code",
      "metadata": {
        "id": "9aG1PnF1mqdh"
      },
      "source": [
        "x_train1 = tf.convert_to_tensor(x_train1)\n",
        "x_train2 = tf.convert_to_tensor(x_train2)\n",
        "x_train3 = tf.convert_to_tensor(x_train3)\n",
        "\n",
        "y_train = tf.convert_to_tensor(y_train)\n",
        "\n",
        "\n",
        "x_val1 = tf.convert_to_tensor(x_val1)\n",
        "x_val2 = tf.convert_to_tensor(x_val2)\n",
        "x_val3 = tf.convert_to_tensor(x_val3)\n",
        "\n",
        "y_val= tf.convert_to_tensor(y_val)"
      ],
      "execution_count": null,
      "outputs": []
    },
    {
      "cell_type": "markdown",
      "metadata": {
        "id": "qgN2lZn62lOn"
      },
      "source": [
        "**Run this if train with only squad dataset**"
      ]
    },
    {
      "cell_type": "code",
      "metadata": {
        "id": "Wb7r_K0d2gCP"
      },
      "source": [
        "x1_squad = tf.convert_to_tensor(x1_squad)\n",
        "x2_squad = tf.convert_to_tensor(x2_squad)\n",
        "x3_squad = tf.convert_to_tensor(x3_squad)\n",
        "\n",
        "y_squad = tf.convert_to_tensor(y_squad)"
      ],
      "execution_count": null,
      "outputs": []
    },
    {
      "cell_type": "markdown",
      "metadata": {
        "id": "q0XfgdAr1rux"
      },
      "source": [
        "**Create model and compile**"
      ]
    },
    {
      "cell_type": "code",
      "metadata": {
        "colab": {
          "base_uri": "https://localhost:8080/",
          "height": 868,
          "referenced_widgets": [
            "41d54a79ffed4886943601f2bf266c8f",
            "7cb214626b7440fdbc33669f5d2dd348",
            "547a70390dc04aed879b8bfde47fa38b",
            "3fa9ccbe1ce348b0bf9eda48ec3e3bd9",
            "7d53bf48251640329c68119a73213ae9",
            "d868a24bba574f7cab83b2cc0100ff7a",
            "cd0725eb3190427ca11b74ac2e92fdaa",
            "07c5dd13c06f49ab8e0ffbedf420667b",
            "555155f15cbe4ca683c5e8fdd3d161bb",
            "a1f646b8bc2a4ae6a9b9cbc46193d6db",
            "ea171acef6bb4b45b81c0ea3fc25ccc8"
          ]
        },
        "collapsed": true,
        "id": "ZwAB0TTloD7r",
        "outputId": "95543c89-53bc-44b2-ae39-c4fe88ea088f"
      },
      "source": [
        "strategy = get_strategy()\n",
        "weight_path = '/content/drive/MyDrive/data/models/model11-data-after-squad/weights-14-0.529.h5'\n",
        "weight_path = ''\n",
        "with strategy.scope():\n",
        "    myQAModel = create_model(tokenizer)\n",
        "\n",
        "    if os.path.isfile(weight_path):\n",
        "        myQAModel.predict([x_train1[0:1], x_train2[0:1], x_train3[0:1]])\n",
        "        myQAModel.load_weights(weight_path)\n",
        "\n",
        "    # for layer in myQAModel.bert.layers:\n",
        "    #     print(layer.name)\n",
        "    #     for w in layer.weights:\n",
        "    #         # only train layer_._5 of bert model \n",
        "    #         # if 'layer_._5' not in w.name:\n",
        "    #             # print(\"Freeze layer \", w.name)\n",
        "    #         w._trainable = False\n",
        "\n",
        "    opt = tf.keras.optimizers.Adam(learning_rate=0.00001)\n",
        "    # opt = tf.keras.optimizers.SGD(learning_rate=0.01)\n",
        "    lossSCE = tf.keras.losses.SparseCategoricalCrossentropy(from_logits=True)\n",
        "    metricSCA = tf.keras.metrics.SparseCategoricalAccuracy()\n",
        "    myQAModel.compile(optimizer=opt, loss=[lossSCE, lossSCE], metrics=[metricSCA], run_eagerly=False)"
      ],
      "execution_count": null,
      "outputs": [
        {
          "output_type": "stream",
          "name": "stderr",
          "text": [
            "INFO:absl:Entering into master device scope: /job:worker/replica:0/task:0/device:CPU:0\n"
          ]
        },
        {
          "output_type": "stream",
          "name": "stdout",
          "text": [
            "Running on TPU  ['10.127.223.26:8470']\n",
            "INFO:tensorflow:Clearing out eager caches\n"
          ]
        },
        {
          "output_type": "stream",
          "name": "stderr",
          "text": [
            "INFO:tensorflow:Clearing out eager caches\n"
          ]
        },
        {
          "output_type": "stream",
          "name": "stdout",
          "text": [
            "INFO:tensorflow:Initializing the TPU system: grpc://10.127.223.26:8470\n"
          ]
        },
        {
          "output_type": "stream",
          "name": "stderr",
          "text": [
            "INFO:tensorflow:Initializing the TPU system: grpc://10.127.223.26:8470\n"
          ]
        },
        {
          "output_type": "stream",
          "name": "stdout",
          "text": [
            "INFO:tensorflow:Finished initializing TPU system.\n"
          ]
        },
        {
          "output_type": "stream",
          "name": "stderr",
          "text": [
            "INFO:tensorflow:Finished initializing TPU system.\n",
            "WARNING:absl:`tf.distribute.experimental.TPUStrategy` is deprecated, please use  the non experimental symbol `tf.distribute.TPUStrategy` instead.\n"
          ]
        },
        {
          "output_type": "stream",
          "name": "stdout",
          "text": [
            "INFO:tensorflow:Found TPU system:\n"
          ]
        },
        {
          "output_type": "stream",
          "name": "stderr",
          "text": [
            "INFO:tensorflow:Found TPU system:\n"
          ]
        },
        {
          "output_type": "stream",
          "name": "stdout",
          "text": [
            "INFO:tensorflow:*** Num TPU Cores: 8\n"
          ]
        },
        {
          "output_type": "stream",
          "name": "stderr",
          "text": [
            "INFO:tensorflow:*** Num TPU Cores: 8\n"
          ]
        },
        {
          "output_type": "stream",
          "name": "stdout",
          "text": [
            "INFO:tensorflow:*** Num TPU Workers: 1\n"
          ]
        },
        {
          "output_type": "stream",
          "name": "stderr",
          "text": [
            "INFO:tensorflow:*** Num TPU Workers: 1\n"
          ]
        },
        {
          "output_type": "stream",
          "name": "stdout",
          "text": [
            "INFO:tensorflow:*** Num TPU Cores Per Worker: 8\n"
          ]
        },
        {
          "output_type": "stream",
          "name": "stderr",
          "text": [
            "INFO:tensorflow:*** Num TPU Cores Per Worker: 8\n"
          ]
        },
        {
          "output_type": "stream",
          "name": "stdout",
          "text": [
            "INFO:tensorflow:*** Available Device: _DeviceAttributes(/job:localhost/replica:0/task:0/device:CPU:0, CPU, 0, 0)\n"
          ]
        },
        {
          "output_type": "stream",
          "name": "stderr",
          "text": [
            "INFO:tensorflow:*** Available Device: _DeviceAttributes(/job:localhost/replica:0/task:0/device:CPU:0, CPU, 0, 0)\n"
          ]
        },
        {
          "output_type": "stream",
          "name": "stdout",
          "text": [
            "INFO:tensorflow:*** Available Device: _DeviceAttributes(/job:worker/replica:0/task:0/device:CPU:0, CPU, 0, 0)\n"
          ]
        },
        {
          "output_type": "stream",
          "name": "stderr",
          "text": [
            "INFO:tensorflow:*** Available Device: _DeviceAttributes(/job:worker/replica:0/task:0/device:CPU:0, CPU, 0, 0)\n"
          ]
        },
        {
          "output_type": "stream",
          "name": "stdout",
          "text": [
            "INFO:tensorflow:*** Available Device: _DeviceAttributes(/job:worker/replica:0/task:0/device:TPU:0, TPU, 0, 0)\n"
          ]
        },
        {
          "output_type": "stream",
          "name": "stderr",
          "text": [
            "INFO:tensorflow:*** Available Device: _DeviceAttributes(/job:worker/replica:0/task:0/device:TPU:0, TPU, 0, 0)\n"
          ]
        },
        {
          "output_type": "stream",
          "name": "stdout",
          "text": [
            "INFO:tensorflow:*** Available Device: _DeviceAttributes(/job:worker/replica:0/task:0/device:TPU:1, TPU, 0, 0)\n"
          ]
        },
        {
          "output_type": "stream",
          "name": "stderr",
          "text": [
            "INFO:tensorflow:*** Available Device: _DeviceAttributes(/job:worker/replica:0/task:0/device:TPU:1, TPU, 0, 0)\n"
          ]
        },
        {
          "output_type": "stream",
          "name": "stdout",
          "text": [
            "INFO:tensorflow:*** Available Device: _DeviceAttributes(/job:worker/replica:0/task:0/device:TPU:2, TPU, 0, 0)\n"
          ]
        },
        {
          "output_type": "stream",
          "name": "stderr",
          "text": [
            "INFO:tensorflow:*** Available Device: _DeviceAttributes(/job:worker/replica:0/task:0/device:TPU:2, TPU, 0, 0)\n"
          ]
        },
        {
          "output_type": "stream",
          "name": "stdout",
          "text": [
            "INFO:tensorflow:*** Available Device: _DeviceAttributes(/job:worker/replica:0/task:0/device:TPU:3, TPU, 0, 0)\n"
          ]
        },
        {
          "output_type": "stream",
          "name": "stderr",
          "text": [
            "INFO:tensorflow:*** Available Device: _DeviceAttributes(/job:worker/replica:0/task:0/device:TPU:3, TPU, 0, 0)\n"
          ]
        },
        {
          "output_type": "stream",
          "name": "stdout",
          "text": [
            "INFO:tensorflow:*** Available Device: _DeviceAttributes(/job:worker/replica:0/task:0/device:TPU:4, TPU, 0, 0)\n"
          ]
        },
        {
          "output_type": "stream",
          "name": "stderr",
          "text": [
            "INFO:tensorflow:*** Available Device: _DeviceAttributes(/job:worker/replica:0/task:0/device:TPU:4, TPU, 0, 0)\n"
          ]
        },
        {
          "output_type": "stream",
          "name": "stdout",
          "text": [
            "INFO:tensorflow:*** Available Device: _DeviceAttributes(/job:worker/replica:0/task:0/device:TPU:5, TPU, 0, 0)\n"
          ]
        },
        {
          "output_type": "stream",
          "name": "stderr",
          "text": [
            "INFO:tensorflow:*** Available Device: _DeviceAttributes(/job:worker/replica:0/task:0/device:TPU:5, TPU, 0, 0)\n"
          ]
        },
        {
          "output_type": "stream",
          "name": "stdout",
          "text": [
            "INFO:tensorflow:*** Available Device: _DeviceAttributes(/job:worker/replica:0/task:0/device:TPU:6, TPU, 0, 0)\n"
          ]
        },
        {
          "output_type": "stream",
          "name": "stderr",
          "text": [
            "INFO:tensorflow:*** Available Device: _DeviceAttributes(/job:worker/replica:0/task:0/device:TPU:6, TPU, 0, 0)\n"
          ]
        },
        {
          "output_type": "stream",
          "name": "stdout",
          "text": [
            "INFO:tensorflow:*** Available Device: _DeviceAttributes(/job:worker/replica:0/task:0/device:TPU:7, TPU, 0, 0)\n"
          ]
        },
        {
          "output_type": "stream",
          "name": "stderr",
          "text": [
            "INFO:tensorflow:*** Available Device: _DeviceAttributes(/job:worker/replica:0/task:0/device:TPU:7, TPU, 0, 0)\n"
          ]
        },
        {
          "output_type": "stream",
          "name": "stdout",
          "text": [
            "INFO:tensorflow:*** Available Device: _DeviceAttributes(/job:worker/replica:0/task:0/device:TPU_SYSTEM:0, TPU_SYSTEM, 0, 0)\n"
          ]
        },
        {
          "output_type": "stream",
          "name": "stderr",
          "text": [
            "INFO:tensorflow:*** Available Device: _DeviceAttributes(/job:worker/replica:0/task:0/device:TPU_SYSTEM:0, TPU_SYSTEM, 0, 0)\n"
          ]
        },
        {
          "output_type": "stream",
          "name": "stdout",
          "text": [
            "INFO:tensorflow:*** Available Device: _DeviceAttributes(/job:worker/replica:0/task:0/device:XLA_CPU:0, XLA_CPU, 0, 0)\n"
          ]
        },
        {
          "output_type": "stream",
          "name": "stderr",
          "text": [
            "INFO:tensorflow:*** Available Device: _DeviceAttributes(/job:worker/replica:0/task:0/device:XLA_CPU:0, XLA_CPU, 0, 0)\n"
          ]
        },
        {
          "output_type": "display_data",
          "data": {
            "application/vnd.jupyter.widget-view+json": {
              "model_id": "41d54a79ffed4886943601f2bf266c8f",
              "version_minor": 0,
              "version_major": 2
            },
            "text/plain": [
              "Downloading:   0%|          | 0.00/511M [00:00<?, ?B/s]"
            ]
          },
          "metadata": {}
        },
        {
          "output_type": "stream",
          "name": "stderr",
          "text": [
            "Some layers from the model checkpoint at bert-base-uncased were not used when initializing TFBertModel: ['nsp___cls', 'mlm___cls']\n",
            "- This IS expected if you are initializing TFBertModel from the checkpoint of a model trained on another task or with another architecture (e.g. initializing a BertForSequenceClassification model from a BertForPreTraining model).\n",
            "- This IS NOT expected if you are initializing TFBertModel from the checkpoint of a model that you expect to be exactly identical (initializing a BertForSequenceClassification model from a BertForSequenceClassification model).\n",
            "All the layers of TFBertModel were initialized from the model checkpoint at bert-base-uncased.\n",
            "If your task is similar to the task the model of the checkpoint was trained on, you can already use TFBertModel for predictions without further training.\n"
          ]
        }
      ]
    },
    {
      "cell_type": "markdown",
      "metadata": {
        "id": "Bd6D5iGMmsKr"
      },
      "source": [
        "**Callback list for training** "
      ]
    },
    {
      "cell_type": "code",
      "metadata": {
        "id": "qu5O0aQ1oG4J"
      },
      "source": [
        "save_locally = tf.train.CheckpointOptions(experimental_io_device='/job:localhost')\n",
        "\n",
        "\n",
        "filepath=\"/content/drive/MyDrive/data/models/current/weights-{epoch:02d}-{val_sparse_categorical_accuracy:.3f}.h5\"\n",
        "checkpoint_dir = os.path.dirname(filepath)\n",
        "checkpoint = tf.keras.callbacks.ModelCheckpoint(filepath, \n",
        "                                                monitor='val_sparse_categorical_accuracy', \n",
        "                                                verbose=2, \n",
        "                                                save_best_only=True, \n",
        "                                                mode='max',\n",
        "                                                save_weights_only=True,\n",
        "                                                options=save_locally)\n",
        "\n",
        "earlyStop = tf.keras.callbacks.EarlyStopping(monitor='val_sparse_categorical_accuracy', patience=10)"
      ],
      "execution_count": null,
      "outputs": []
    },
    {
      "cell_type": "markdown",
      "metadata": {
        "id": "2Ctvy5H01y9x"
      },
      "source": [
        "**Train with squad data only**"
      ]
    },
    {
      "cell_type": "code",
      "metadata": {
        "colab": {
          "base_uri": "https://localhost:8080/"
        },
        "collapsed": true,
        "id": "n6kKJQXLoboX",
        "outputId": "5432954a-32d0-4547-eae3-2a3647f77181"
      },
      "source": [
        "history = myQAModel.fit(x=[x1_squad, x2_squad, x3_squad],\n",
        "                        y=y_squad,\n",
        "                        batch_size=64,\n",
        "                        callbacks=[checkpoint, earlyStop], \n",
        "                        epochs= 100, \n",
        "                        validation_split = 0.1)"
      ],
      "execution_count": null,
      "outputs": [
        {
          "metadata": {
            "tags": null
          },
          "name": "stdout",
          "output_type": "stream",
          "text": [
            "Epoch 1/100\n"
          ]
        },
        {
          "metadata": {
            "tags": null
          },
          "name": "stderr",
          "output_type": "stream",
          "text": [
            "INFO:absl:TPU has inputs with dynamic shapes: [<tf.Tensor 'Const:0' shape=() dtype=int32>, <tf.Tensor 'cond_8/Identity:0' shape=(None, 512) dtype=int32>, <tf.Tensor 'cond_8/Identity_1:0' shape=(None, 512) dtype=int32>, <tf.Tensor 'cond_8/Identity_2:0' shape=(None, 512) dtype=int32>, <tf.Tensor 'cond_8/Identity_3:0' shape=(None, 2) dtype=int32>]\n"
          ]
        },
        {
          "metadata": {
            "tags": null
          },
          "name": "stdout",
          "output_type": "stream",
          "text": [
            "WARNING:tensorflow:Gradients do not exist for variables ['tf_bert_model/bert/pooler/dense/kernel:0', 'tf_bert_model/bert/pooler/dense/bias:0'] when minimizing the loss.\n"
          ]
        },
        {
          "metadata": {
            "tags": null
          },
          "name": "stderr",
          "output_type": "stream",
          "text": [
            "WARNING:tensorflow:Gradients do not exist for variables ['tf_bert_model/bert/pooler/dense/kernel:0', 'tf_bert_model/bert/pooler/dense/bias:0'] when minimizing the loss.\n",
            "INFO:absl:TPU has inputs with dynamic shapes: [<tf.Tensor 'Const:0' shape=() dtype=int32>, <tf.Tensor 'cond_8/Identity:0' shape=(None, 512) dtype=int32>, <tf.Tensor 'cond_8/Identity_1:0' shape=(None, 512) dtype=int32>, <tf.Tensor 'cond_8/Identity_2:0' shape=(None, 512) dtype=int32>, <tf.Tensor 'cond_8/Identity_3:0' shape=(None, 2) dtype=int32>]\n"
          ]
        },
        {
          "metadata": {
            "tags": null
          },
          "name": "stdout",
          "output_type": "stream",
          "text": [
            "WARNING:tensorflow:Gradients do not exist for variables ['tf_bert_model/bert/pooler/dense/kernel:0', 'tf_bert_model/bert/pooler/dense/bias:0'] when minimizing the loss.\n"
          ]
        },
        {
          "metadata": {
            "tags": null
          },
          "name": "stderr",
          "output_type": "stream",
          "text": [
            "WARNING:tensorflow:Gradients do not exist for variables ['tf_bert_model/bert/pooler/dense/kernel:0', 'tf_bert_model/bert/pooler/dense/bias:0'] when minimizing the loss.\n"
          ]
        },
        {
          "metadata": {
            "tags": null
          },
          "name": "stdout",
          "output_type": "stream",
          "text": [
            "1833/1833 [==============================] - ETA: 0s - loss: 3.0091 - sparse_categorical_accuracy: 0.3521"
          ]
        },
        {
          "metadata": {
            "tags": null
          },
          "name": "stderr",
          "output_type": "stream",
          "text": [
            "INFO:absl:TPU has inputs with dynamic shapes: [<tf.Tensor 'Const:0' shape=() dtype=int32>, <tf.Tensor 'cond_8/Identity:0' shape=(None, 512) dtype=int32>, <tf.Tensor 'cond_8/Identity_1:0' shape=(None, 512) dtype=int32>, <tf.Tensor 'cond_8/Identity_2:0' shape=(None, 512) dtype=int32>, <tf.Tensor 'cond_8/Identity_3:0' shape=(None, 2) dtype=int32>]\n"
          ]
        },
        {
          "output_type": "stream",
          "name": "stdout",
          "text": [
            "1833/1833 [==============================] - 652s 307ms/step - loss: 3.0091 - sparse_categorical_accuracy: 0.3521 - val_loss: 2.6656 - val_sparse_categorical_accuracy: 0.3261\n",
            "\n",
            "Epoch 00001: val_sparse_categorical_accuracy improved from -inf to 0.32611, saving model to /content/drive/MyDrive/data/models/current/weights-01-0.326.h5\n",
            "Epoch 2/100\n",
            "1833/1833 [==============================] - 495s 270ms/step - loss: 2.2444 - sparse_categorical_accuracy: 0.3978 - val_loss: 2.4212 - val_sparse_categorical_accuracy: 0.3449\n",
            "\n",
            "Epoch 00002: val_sparse_categorical_accuracy improved from 0.32611 to 0.34495, saving model to /content/drive/MyDrive/data/models/current/weights-02-0.345.h5\n",
            "Epoch 3/100\n",
            "1833/1833 [==============================] - 495s 270ms/step - loss: 1.8406 - sparse_categorical_accuracy: 0.4524 - val_loss: 2.1225 - val_sparse_categorical_accuracy: 0.3988\n",
            "\n",
            "Epoch 00003: val_sparse_categorical_accuracy improved from 0.34495 to 0.39883, saving model to /content/drive/MyDrive/data/models/current/weights-03-0.399.h5\n",
            "Epoch 4/100\n",
            "1833/1833 [==============================] - 495s 270ms/step - loss: 1.5675 - sparse_categorical_accuracy: 0.5021 - val_loss: 2.1368 - val_sparse_categorical_accuracy: 0.4019\n",
            "\n",
            "Epoch 00004: val_sparse_categorical_accuracy improved from 0.39883 to 0.40190, saving model to /content/drive/MyDrive/data/models/current/weights-04-0.402.h5\n",
            "Epoch 5/100\n",
            "1833/1833 [==============================] - 496s 270ms/step - loss: 1.3737 - sparse_categorical_accuracy: 0.5428 - val_loss: 2.3358 - val_sparse_categorical_accuracy: 0.3760\n",
            "\n",
            "Epoch 00005: val_sparse_categorical_accuracy did not improve from 0.40190\n",
            "Epoch 6/100\n",
            "1833/1833 [==============================] - 495s 270ms/step - loss: 1.2199 - sparse_categorical_accuracy: 0.5799 - val_loss: 2.2276 - val_sparse_categorical_accuracy: 0.4366\n",
            "\n",
            "Epoch 00006: val_sparse_categorical_accuracy improved from 0.40190 to 0.43656, saving model to /content/drive/MyDrive/data/models/current/weights-06-0.437.h5\n",
            "Epoch 7/100\n",
            "1833/1833 [==============================] - 496s 270ms/step - loss: 1.1086 - sparse_categorical_accuracy: 0.6087 - val_loss: 2.3551 - val_sparse_categorical_accuracy: 0.3906\n",
            "\n",
            "Epoch 00007: val_sparse_categorical_accuracy did not improve from 0.43656\n",
            "Epoch 8/100\n",
            "1833/1833 [==============================] - 495s 270ms/step - loss: 1.0074 - sparse_categorical_accuracy: 0.6376 - val_loss: 2.2725 - val_sparse_categorical_accuracy: 0.4409\n",
            "\n",
            "Epoch 00008: val_sparse_categorical_accuracy improved from 0.43656 to 0.44090, saving model to /content/drive/MyDrive/data/models/current/weights-08-0.441.h5\n",
            "Epoch 9/100\n",
            "1833/1833 [==============================] - 495s 270ms/step - loss: 0.9368 - sparse_categorical_accuracy: 0.6566 - val_loss: 2.3293 - val_sparse_categorical_accuracy: 0.4551\n",
            "\n",
            "Epoch 00009: val_sparse_categorical_accuracy improved from 0.44090 to 0.45510, saving model to /content/drive/MyDrive/data/models/current/weights-09-0.455.h5\n",
            "Epoch 10/100\n",
            "1833/1833 [==============================] - 496s 270ms/step - loss: 0.8677 - sparse_categorical_accuracy: 0.6783 - val_loss: 2.4007 - val_sparse_categorical_accuracy: 0.4633\n",
            "\n",
            "Epoch 00010: val_sparse_categorical_accuracy improved from 0.45510 to 0.46335, saving model to /content/drive/MyDrive/data/models/current/weights-10-0.463.h5\n",
            "Epoch 11/100\n",
            "1833/1833 [==============================] - 496s 271ms/step - loss: 0.7525 - sparse_categorical_accuracy: 0.7178 - val_loss: 2.6860 - val_sparse_categorical_accuracy: 0.4633\n",
            "\n",
            "Epoch 00012: val_sparse_categorical_accuracy did not improve from 0.46335\n",
            "Epoch 13/100\n",
            "1833/1833 [==============================] - 496s 271ms/step - loss: 0.7099 - sparse_categorical_accuracy: 0.7334 - val_loss: 2.6026 - val_sparse_categorical_accuracy: 0.4628\n",
            "\n",
            "Epoch 00013: val_sparse_categorical_accuracy did not improve from 0.46335\n",
            "Epoch 14/100\n",
            "1833/1833 [==============================] - 497s 271ms/step - loss: 0.6679 - sparse_categorical_accuracy: 0.7473 - val_loss: 2.7014 - val_sparse_categorical_accuracy: 0.4772\n",
            "\n",
            "Epoch 00014: val_sparse_categorical_accuracy improved from 0.46335 to 0.47724, saving model to /content/drive/MyDrive/data/models/current/weights-14-0.477.h5\n",
            "Epoch 15/100\n",
            "1833/1833 [==============================] - 496s 271ms/step - loss: 0.6266 - sparse_categorical_accuracy: 0.7632 - val_loss: 2.8245 - val_sparse_categorical_accuracy: 0.4506\n",
            "\n",
            "Epoch 00015: val_sparse_categorical_accuracy did not improve from 0.47724\n",
            "Epoch 16/100\n",
            "1833/1833 [==============================] - 496s 271ms/step - loss: 0.5788 - sparse_categorical_accuracy: 0.7810 - val_loss: 2.8034 - val_sparse_categorical_accuracy: 0.4809\n",
            "\n",
            "Epoch 00016: val_sparse_categorical_accuracy improved from 0.47724 to 0.48089, saving model to /content/drive/MyDrive/data/models/current/weights-16-0.481.h5\n",
            "Epoch 17/100\n",
            "1833/1833 [==============================] - 497s 271ms/step - loss: 0.5454 - sparse_categorical_accuracy: 0.7951 - val_loss: 2.8704 - val_sparse_categorical_accuracy: 0.4607\n",
            "\n",
            "Epoch 00017: val_sparse_categorical_accuracy did not improve from 0.48089\n",
            "Epoch 18/100\n",
            "1833/1833 [==============================] - 496s 271ms/step - loss: 0.5034 - sparse_categorical_accuracy: 0.8107 - val_loss: 3.0125 - val_sparse_categorical_accuracy: 0.4740\n",
            "\n",
            "Epoch 00018: val_sparse_categorical_accuracy did not improve from 0.48089\n",
            "Epoch 19/100\n",
            "1833/1833 [==============================] - 496s 271ms/step - loss: 0.4675 - sparse_categorical_accuracy: 0.8266 - val_loss: 2.9836 - val_sparse_categorical_accuracy: 0.4730\n",
            "\n",
            "Epoch 00019: val_sparse_categorical_accuracy did not improve from 0.48089\n",
            "Epoch 20/100\n",
            "1833/1833 [==============================] - 496s 271ms/step - loss: 0.4384 - sparse_categorical_accuracy: 0.8382 - val_loss: 3.0467 - val_sparse_categorical_accuracy: 0.4609\n",
            "\n",
            "Epoch 00020: val_sparse_categorical_accuracy did not improve from 0.48089\n",
            "Epoch 21/100\n",
            "1833/1833 [==============================] - 496s 271ms/step - loss: 0.3956 - sparse_categorical_accuracy: 0.8549 - val_loss: 3.3084 - val_sparse_categorical_accuracy: 0.4592\n",
            "\n",
            "Epoch 00021: val_sparse_categorical_accuracy did not improve from 0.48089\n",
            "Epoch 22/100\n",
            "1833/1833 [==============================] - 496s 271ms/step - loss: 0.3635 - sparse_categorical_accuracy: 0.8674 - val_loss: 3.0954 - val_sparse_categorical_accuracy: 0.4610\n",
            "\n",
            "Epoch 00022: val_sparse_categorical_accuracy did not improve from 0.48089\n",
            "Epoch 23/100\n",
            "1833/1833 [==============================] - 496s 271ms/step - loss: 0.3315 - sparse_categorical_accuracy: 0.8802 - val_loss: 3.4654 - val_sparse_categorical_accuracy: 0.4133\n",
            "\n",
            "Epoch 00023: val_sparse_categorical_accuracy did not improve from 0.48089\n",
            "Epoch 24/100\n",
            "1833/1833 [==============================] - 496s 271ms/step - loss: 0.3049 - sparse_categorical_accuracy: 0.8908 - val_loss: 3.3489 - val_sparse_categorical_accuracy: 0.4607\n",
            "\n",
            "Epoch 00024: val_sparse_categorical_accuracy did not improve from 0.48089\n",
            "Epoch 25/100\n",
            "1833/1833 [==============================] - 496s 271ms/step - loss: 0.2755 - sparse_categorical_accuracy: 0.9019 - val_loss: 3.2215 - val_sparse_categorical_accuracy: 0.4424\n",
            "\n",
            "Epoch 00025: val_sparse_categorical_accuracy did not improve from 0.48089\n",
            "Epoch 26/100\n",
            "1833/1833 [==============================] - 496s 271ms/step - loss: 0.2549 - sparse_categorical_accuracy: 0.9101 - val_loss: 3.4921 - val_sparse_categorical_accuracy: 0.4558\n",
            "\n",
            "Epoch 00026: val_sparse_categorical_accuracy did not improve from 0.48089\n"
          ]
        }
      ]
    },
    {
      "cell_type": "markdown",
      "metadata": {
        "id": "qDqTXRCunDVX"
      },
      "source": [
        "**Train with data**"
      ]
    },
    {
      "cell_type": "code",
      "metadata": {
        "id": "amqXX8H9nCUI",
        "colab": {
          "base_uri": "https://localhost:8080/"
        },
        "collapsed": true,
        "outputId": "51d3328b-e5bb-48f8-f5ea-a5468ad5f219"
      },
      "source": [
        "history = myQAModel.fit(x=[x_train1, x_train2, x_train3],\n",
        "                        y=y_train,\n",
        "                        batch_size=64,\n",
        "                        callbacks=[checkpoint, earlyStop], \n",
        "                        epochs=100, \n",
        "                        validation_data=([x_val1, x_val2, x_val3], y_val), \n",
        "                        validation_batch_size=64)"
      ],
      "execution_count": null,
      "outputs": [
        {
          "output_type": "stream",
          "name": "stdout",
          "text": [
            "Epoch 1/100\n"
          ]
        },
        {
          "output_type": "stream",
          "name": "stderr",
          "text": [
            "INFO:absl:TPU has inputs with dynamic shapes: [<tf.Tensor 'Const:0' shape=() dtype=int32>, <tf.Tensor 'cond_8/Identity:0' shape=(None, 512) dtype=int32>, <tf.Tensor 'cond_8/Identity_1:0' shape=(None, 512) dtype=int32>, <tf.Tensor 'cond_8/Identity_2:0' shape=(None, 512) dtype=int32>, <tf.Tensor 'cond_8/Identity_3:0' shape=(None, 2) dtype=int32>]\n"
          ]
        },
        {
          "output_type": "stream",
          "name": "stdout",
          "text": [
            "WARNING:tensorflow:Gradients do not exist for variables ['tf_bert_model/bert/pooler/dense/kernel:0', 'tf_bert_model/bert/pooler/dense/bias:0'] when minimizing the loss.\n"
          ]
        },
        {
          "output_type": "stream",
          "name": "stderr",
          "text": [
            "WARNING:tensorflow:Gradients do not exist for variables ['tf_bert_model/bert/pooler/dense/kernel:0', 'tf_bert_model/bert/pooler/dense/bias:0'] when minimizing the loss.\n",
            "INFO:absl:TPU has inputs with dynamic shapes: [<tf.Tensor 'Const:0' shape=() dtype=int32>, <tf.Tensor 'cond_8/Identity:0' shape=(None, 512) dtype=int32>, <tf.Tensor 'cond_8/Identity_1:0' shape=(None, 512) dtype=int32>, <tf.Tensor 'cond_8/Identity_2:0' shape=(None, 512) dtype=int32>, <tf.Tensor 'cond_8/Identity_3:0' shape=(None, 2) dtype=int32>]\n"
          ]
        },
        {
          "output_type": "stream",
          "name": "stdout",
          "text": [
            "WARNING:tensorflow:Gradients do not exist for variables ['tf_bert_model/bert/pooler/dense/kernel:0', 'tf_bert_model/bert/pooler/dense/bias:0'] when minimizing the loss.\n"
          ]
        },
        {
          "output_type": "stream",
          "name": "stderr",
          "text": [
            "WARNING:tensorflow:Gradients do not exist for variables ['tf_bert_model/bert/pooler/dense/kernel:0', 'tf_bert_model/bert/pooler/dense/bias:0'] when minimizing the loss.\n"
          ]
        },
        {
          "output_type": "stream",
          "name": "stdout",
          "text": [
            "1278/1278 [==============================] - ETA: 0s - loss: 4.2576 - sparse_categorical_accuracy: 0.3550"
          ]
        },
        {
          "output_type": "stream",
          "name": "stderr",
          "text": [
            "INFO:absl:TPU has inputs with dynamic shapes: [<tf.Tensor 'Const:0' shape=() dtype=int32>, <tf.Tensor 'cond_8/Identity:0' shape=(None, 512) dtype=int32>, <tf.Tensor 'cond_8/Identity_1:0' shape=(None, 512) dtype=int32>, <tf.Tensor 'cond_8/Identity_2:0' shape=(None, 512) dtype=int32>, <tf.Tensor 'cond_8/Identity_3:0' shape=(None, 2) dtype=int32>]\n"
          ]
        },
        {
          "output_type": "stream",
          "name": "stdout",
          "text": [
            "\b\b\b\b\b\b\b\b\b\b\b\b\b\b\b\b\b\b\b\b\b\b\b\b\b\b\b\b\b\b\b\b\b\b\b\b\b\b\b\b\b\b\b\b\b\b\b\b\b\b\b\b\b\b\b\b\b\b\b\b\b\b\b\b\b\b\b\b\b\b\b\b\b\b\b\b\b\b\b\b\b\b\b\b\b\b\b\b\b\b\b\b\b\b\b\b\b\b\b\b\b\b\b\b\b\r1278/1278 [==============================] - 507s 326ms/step - loss: 4.2576 - sparse_categorical_accuracy: 0.3550 - val_loss: 3.9936 - val_sparse_categorical_accuracy: 0.3503\n",
            "\n",
            "Epoch 00001: val_sparse_categorical_accuracy improved from -inf to 0.35033, saving model to /content/drive/MyDrive/data/models/current/weights-01-0.350.h5\n",
            "Epoch 2/100\n",
            "1278/1278 [==============================] - 346s 270ms/step - loss: 3.7462 - sparse_categorical_accuracy: 0.3585 - val_loss: 3.6830 - val_sparse_categorical_accuracy: 0.3516\n",
            "\n",
            "Epoch 00002: val_sparse_categorical_accuracy improved from 0.35033 to 0.35160, saving model to /content/drive/MyDrive/data/models/current/weights-02-0.352.h5\n",
            "Epoch 3/100\n",
            "1278/1278 [==============================] - 347s 271ms/step - loss: 3.4430 - sparse_categorical_accuracy: 0.3615 - val_loss: 3.5910 - val_sparse_categorical_accuracy: 0.3523\n",
            "\n",
            "Epoch 00003: val_sparse_categorical_accuracy improved from 0.35160 to 0.35231, saving model to /content/drive/MyDrive/data/models/current/weights-03-0.352.h5\n",
            "Epoch 4/100\n",
            "1278/1278 [==============================] - 346s 271ms/step - loss: 3.2088 - sparse_categorical_accuracy: 0.3660 - val_loss: 3.5763 - val_sparse_categorical_accuracy: 0.3540\n",
            "\n",
            "Epoch 00004: val_sparse_categorical_accuracy improved from 0.35231 to 0.35396, saving model to /content/drive/MyDrive/data/models/current/weights-04-0.354.h5\n",
            "Epoch 5/100\n",
            "1278/1278 [==============================] - 347s 271ms/step - loss: 3.0093 - sparse_categorical_accuracy: 0.3715 - val_loss: 3.6044 - val_sparse_categorical_accuracy: 0.3550\n",
            "\n",
            "Epoch 00005: val_sparse_categorical_accuracy improved from 0.35396 to 0.35501, saving model to /content/drive/MyDrive/data/models/current/weights-05-0.355.h5\n",
            "Epoch 6/100\n",
            "1278/1278 [==============================] - 346s 271ms/step - loss: 2.8281 - sparse_categorical_accuracy: 0.3780 - val_loss: 3.6862 - val_sparse_categorical_accuracy: 0.3539\n",
            "\n",
            "Epoch 00006: val_sparse_categorical_accuracy did not improve from 0.35501\n",
            "Epoch 7/100\n",
            "1278/1278 [==============================] - 346s 271ms/step - loss: 2.6662 - sparse_categorical_accuracy: 0.3851 - val_loss: 3.7220 - val_sparse_categorical_accuracy: 0.3472\n",
            "\n",
            "Epoch 00007: val_sparse_categorical_accuracy did not improve from 0.35501\n",
            "Epoch 8/100\n",
            "1278/1278 [==============================] - 347s 271ms/step - loss: 2.5267 - sparse_categorical_accuracy: 0.3929 - val_loss: 3.8214 - val_sparse_categorical_accuracy: 0.3453\n",
            "\n",
            "Epoch 00008: val_sparse_categorical_accuracy did not improve from 0.35501\n",
            "Epoch 9/100\n",
            "1278/1278 [==============================] - 347s 271ms/step - loss: 2.4061 - sparse_categorical_accuracy: 0.4007 - val_loss: 3.9694 - val_sparse_categorical_accuracy: 0.3445\n",
            "\n",
            "Epoch 00009: val_sparse_categorical_accuracy did not improve from 0.35501\n",
            "Epoch 10/100\n",
            "1278/1278 [==============================] - 347s 271ms/step - loss: 2.3010 - sparse_categorical_accuracy: 0.4085 - val_loss: 4.0176 - val_sparse_categorical_accuracy: 0.3478\n",
            "\n",
            "Epoch 00010: val_sparse_categorical_accuracy did not improve from 0.35501\n",
            "Epoch 11/100\n",
            "1278/1278 [==============================] - 346s 271ms/step - loss: 2.2020 - sparse_categorical_accuracy: 0.4164 - val_loss: 4.1711 - val_sparse_categorical_accuracy: 0.3404\n",
            "\n",
            "Epoch 00011: val_sparse_categorical_accuracy did not improve from 0.35501\n",
            "Epoch 12/100\n",
            "1278/1278 [==============================] - 347s 271ms/step - loss: 2.1189 - sparse_categorical_accuracy: 0.4266 - val_loss: 4.2220 - val_sparse_categorical_accuracy: 0.3435\n",
            "\n",
            "Epoch 00012: val_sparse_categorical_accuracy did not improve from 0.35501\n",
            "Epoch 13/100\n",
            "1278/1278 [==============================] - 347s 271ms/step - loss: 2.0408 - sparse_categorical_accuracy: 0.4342 - val_loss: 4.4127 - val_sparse_categorical_accuracy: 0.3347\n",
            "\n",
            "Epoch 00013: val_sparse_categorical_accuracy did not improve from 0.35501\n",
            "Epoch 14/100\n",
            "1278/1278 [==============================] - 346s 271ms/step - loss: 1.9768 - sparse_categorical_accuracy: 0.4438 - val_loss: 4.5340 - val_sparse_categorical_accuracy: 0.3449\n",
            "\n",
            "Epoch 00014: val_sparse_categorical_accuracy did not improve from 0.35501\n",
            "Epoch 15/100\n",
            "1278/1278 [==============================] - 347s 271ms/step - loss: 1.9118 - sparse_categorical_accuracy: 0.4518 - val_loss: 4.6034 - val_sparse_categorical_accuracy: 0.3450\n",
            "\n",
            "Epoch 00015: val_sparse_categorical_accuracy did not improve from 0.35501\n"
          ]
        }
      ]
    },
    {
      "cell_type": "code",
      "metadata": {
        "id": "hqfkZgNmteUK"
      },
      "source": [
        "list_val_df = pd.DataFrame(list_val)\n",
        "val_file = '/content/drive/MyDrive/data/val_file.csv'\n",
        "list_val_df.to_csv(val_file)"
      ],
      "execution_count": null,
      "outputs": []
    },
    {
      "cell_type": "code",
      "metadata": {
        "id": "CbX1ngqeuDyU"
      },
      "source": [
        "list_train_df = pd.DataFrame(list_train)\n",
        "train_file = '/content/drive/MyDrive/data/train_file.csv'\n",
        "list_train_df.to_csv(train_file)"
      ],
      "execution_count": null,
      "outputs": []
    },
    {
      "cell_type": "markdown",
      "metadata": {
        "id": "b2a_gq5113uT"
      },
      "source": [
        "**Visualize the training history**"
      ]
    },
    {
      "cell_type": "code",
      "metadata": {
        "colab": {
          "base_uri": "https://localhost:8080/",
          "height": 312
        },
        "id": "-ujUYlPF1OYH",
        "outputId": "690cda2c-6ea8-4194-8a0c-61c6e1bfffdb"
      },
      "source": [
        "print(history.history.keys())\n",
        "# summarize history for accuracy\n",
        "plt.plot(history.history['sparse_categorical_accuracy'])\n",
        "plt.plot(history.history['val_sparse_categorical_accuracy'])\n",
        "plt.title('model accuracy')\n",
        "plt.ylabel('accuracy')\n",
        "plt.xlabel('epoch')\n",
        "plt.legend(['train', 'val'], loc='upper left')\n",
        "plt.show()"
      ],
      "execution_count": null,
      "outputs": [
        {
          "output_type": "stream",
          "name": "stdout",
          "text": [
            "dict_keys(['loss', 'sparse_categorical_accuracy', 'val_loss', 'val_sparse_categorical_accuracy'])\n"
          ]
        },
        {
          "output_type": "display_data",
          "data": {
            "image/png": "[encoded data removed]",
            "text/plain": [
              "<Figure size 432x288 with 1 Axes>"
            ]
          },
          "metadata": {
            "needs_background": "light"
          }
        }
      ]
    },
    {
      "cell_type": "code",
      "metadata": {
        "colab": {
          "base_uri": "https://localhost:8080/",
          "height": 295
        },
        "id": "A7HuAjiw1Qic",
        "outputId": "7110b515-e265-48ff-d341-dd2c2ea97223"
      },
      "source": [
        "plt.plot(history.history['loss'])\n",
        "plt.plot(history.history['val_loss'])\n",
        "plt.title('model loss')\n",
        "plt.ylabel('loss')\n",
        "plt.xlabel('epoch')\n",
        "plt.legend(['train', 'test'], loc='upper left')\n",
        "plt.show()"
      ],
      "execution_count": null,
      "outputs": [
        {
          "output_type": "display_data",
          "data": {
            "image/png": "[encoded data removed]",
            "text/plain": [
              "<Figure size 432x288 with 1 Axes>"
            ]
          },
          "metadata": {
            "needs_background": "light"
          }
        }
      ]
    },
    {
      "cell_type": "code",
      "metadata": {
        "id": "GrX-EZNeWqQz"
      },
      "source": [
        "# Check exact match \n",
        "def checkStatistic (model, x_eval, y_val):\n",
        "    res = model.predict(x_eval)\n",
        "\n",
        "    TN_start = 0 # no answer \n",
        "    TP_start = 0 # answer is correct\n",
        "    FN_start = 0 # there is answer but predict = 0\n",
        "    FP_start = 0 # wrong answer\n",
        "\n",
        "    P = 0\n",
        "    N = 0\n",
        "\n",
        "    TN_stop = 0 # no answer \n",
        "    TP_stop = 0 # answer is correct\n",
        "    FN_stop = 0 # there is answer but predict = 0\n",
        "    FP_stop = 0 # wrong answer\n",
        "\n",
        "    TN_target = 0 # no answer \n",
        "    TP_target = 0 # answer is correct\n",
        "    FN_target = 0 # there is answer but predict = 0\n",
        "    FP_target = 0 # wrong answer\n",
        "\n",
        "    for idx in range (res.shape[0]):  \n",
        "        start_logits = tf.nn.softmax(res[idx][0])\n",
        "        stop_logits = tf.nn.softmax(res[idx][1])\n",
        "        target = tf.nn.softmax(res[idx][2])\n",
        "\n",
        "        start_token = tf.cast(tf.argmax(start_logits), tf.int32)\n",
        "        stop_token = tf.cast(tf.argmax(stop_logits), tf.int32)\n",
        "        target = tf.cast(tf.argmax(stop_logits), tf.int32)\n",
        "\n",
        "        start_gt = y_val[idx][0]\n",
        "        stop_gt = y_val[idx][1]\n",
        "        target_gt = y_val[idx][2]\n",
        "\n",
        "        if start_gt != 0 and stop_gt != 0 and target_gt != 0:\n",
        "            P += 1\n",
        "        else:\n",
        "            N += 1\n",
        "\n",
        "        # print(start_gt.numpy(), start_token.numpy(), stop_gt.numpy(), stop_token.numpy())\n",
        "\n",
        "        if start_token == start_gt:\n",
        "            if start_gt == 0:\n",
        "                TN_start += 1\n",
        "            else:\n",
        "                TP_start += 1\n",
        "        else:\n",
        "            if start_gt == 0:\n",
        "                FP_start +=1 \n",
        "            else: \n",
        "                FN_start +=1 \n",
        "        \n",
        "        if stop_token == stop_gt:\n",
        "            if stop_gt == 0:\n",
        "                TN_stop += 1\n",
        "            else:\n",
        "                TP_stop += 1\n",
        "        else:\n",
        "            if stop_gt == 0:\n",
        "                FP_stop += 1\n",
        "            else:\n",
        "                FN_stop += 1\n",
        "        \n",
        "        if target == target_gt:\n",
        "            if target_gt == 0:\n",
        "                TN_target += 1\n",
        "            else:\n",
        "                TP_target += 1\n",
        "        else:\n",
        "            if stop_gt == 0:\n",
        "                FP_target += 1\n",
        "            else:\n",
        "                FN_target += 1\n",
        "    \n",
        "    print(\"START:\")\n",
        "    print(\"TP: \", TP_start)\n",
        "    print(\"TN: \", TN_start)\n",
        "    print(\"FP: \", FP_start)\n",
        "    print(\"FN: \", FN_start)\n",
        "\n",
        "    print(\"STOP:\")\n",
        "    print(\"TP: \", TP_stop)\n",
        "    print(\"TN: \", TN_stop)\n",
        "    print(\"FP: \", FP_stop)\n",
        "    print(\"FN: \", FN_stop)\n",
        "\n",
        "    print(\"TARGET:\")\n",
        "    print(\"TP: \", TP_target)\n",
        "    print(\"TN: \", TN_target)\n",
        "    print(\"FP: \", FP_target)\n",
        "    print(\"FN: \", FN_target)\n",
        "\n",
        "\n",
        "    print(\"POS: \", P)\n",
        "    print(\"NEG: \", N)"
      ],
      "execution_count": null,
      "outputs": []
    },
    {
      "cell_type": "code",
      "metadata": {
        "colab": {
          "base_uri": "https://localhost:8080/"
        },
        "id": "O5EMrLp6A-ZG",
        "outputId": "e45142f2-b28c-4d0a-9b73-65d628e43c1e"
      },
      "source": [
        "strategy = get_strategy()\n",
        "weight_path = '/content/drive/MyDrive/data/models/current/weights-06-0.529.h5'\n",
        "# weight_path = ''\n",
        "with strategy.scope():\n",
        "    myQAModel = create_model(tokenizer)\n",
        "\n",
        "    if os.path.isfile(weight_path):\n",
        "        myQAModel.predict([x_train1[0:1], x_train2[0:1], x_train3[0:1]])\n",
        "        myQAModel.load_weights(weight_path)\n",
        "\n",
        "    # for layer in myQAModel.bert.layers:\n",
        "    #     print(layer.name)\n",
        "    #     for w in layer.weights:\n",
        "    #         # only train layer_._5 of bert model \n",
        "    #         # if 'layer_._5' not in w.name:\n",
        "    #             # print(\"Freeze layer \", w.name)\n",
        "    #         w._trainable = False\n",
        "\n",
        "    # opt = tf.keras.optimizers.Adam(learning_rate=0.00005)\n",
        "    opt = tf.keras.optimizers.SGD(learning_rate=0.01)\n",
        "    lossSCE = tf.keras.losses.SparseCategoricalCrossentropy(from_logits=True)\n",
        "    metricSCA = tf.keras.metrics.SparseCategoricalAccuracy()\n",
        "    myQAModel.compile(optimizer=opt, loss=lossSCE, metrics=[metricSCA], run_eagerly=False)"
      ],
      "execution_count": null,
      "outputs": [
        {
          "output_type": "stream",
          "name": "stdout",
          "text": [
            "Running on TPU  ['10.44.151.34:8470']\n",
            "INFO:tensorflow:Clearing out eager caches\n"
          ]
        },
        {
          "output_type": "stream",
          "name": "stderr",
          "text": [
            "INFO:tensorflow:Clearing out eager caches\n"
          ]
        },
        {
          "output_type": "stream",
          "name": "stdout",
          "text": [
            "WARNING:tensorflow:TPU system grpc://10.44.151.34:8470 has already been initialized. Reinitializing the TPU can cause previously created variables on TPU to be lost.\n"
          ]
        },
        {
          "output_type": "stream",
          "name": "stderr",
          "text": [
            "WARNING:tensorflow:TPU system grpc://10.44.151.34:8470 has already been initialized. Reinitializing the TPU can cause previously created variables on TPU to be lost.\n"
          ]
        },
        {
          "output_type": "stream",
          "name": "stdout",
          "text": [
            "INFO:tensorflow:Initializing the TPU system: grpc://10.44.151.34:8470\n"
          ]
        },
        {
          "output_type": "stream",
          "name": "stderr",
          "text": [
            "INFO:tensorflow:Initializing the TPU system: grpc://10.44.151.34:8470\n"
          ]
        },
        {
          "output_type": "stream",
          "name": "stdout",
          "text": [
            "INFO:tensorflow:Finished initializing TPU system.\n"
          ]
        },
        {
          "output_type": "stream",
          "name": "stderr",
          "text": [
            "INFO:tensorflow:Finished initializing TPU system.\n",
            "WARNING:absl:`tf.distribute.experimental.TPUStrategy` is deprecated, please use  the non experimental symbol `tf.distribute.TPUStrategy` instead.\n"
          ]
        },
        {
          "output_type": "stream",
          "name": "stdout",
          "text": [
            "INFO:tensorflow:Found TPU system:\n"
          ]
        },
        {
          "output_type": "stream",
          "name": "stderr",
          "text": [
            "INFO:tensorflow:Found TPU system:\n"
          ]
        },
        {
          "output_type": "stream",
          "name": "stdout",
          "text": [
            "INFO:tensorflow:*** Num TPU Cores: 8\n"
          ]
        },
        {
          "output_type": "stream",
          "name": "stderr",
          "text": [
            "INFO:tensorflow:*** Num TPU Cores: 8\n"
          ]
        },
        {
          "output_type": "stream",
          "name": "stdout",
          "text": [
            "INFO:tensorflow:*** Num TPU Workers: 1\n"
          ]
        },
        {
          "output_type": "stream",
          "name": "stderr",
          "text": [
            "INFO:tensorflow:*** Num TPU Workers: 1\n"
          ]
        },
        {
          "output_type": "stream",
          "name": "stdout",
          "text": [
            "INFO:tensorflow:*** Num TPU Cores Per Worker: 8\n"
          ]
        },
        {
          "output_type": "stream",
          "name": "stderr",
          "text": [
            "INFO:tensorflow:*** Num TPU Cores Per Worker: 8\n"
          ]
        },
        {
          "output_type": "stream",
          "name": "stdout",
          "text": [
            "INFO:tensorflow:*** Available Device: _DeviceAttributes(/job:localhost/replica:0/task:0/device:CPU:0, CPU, 0, 0)\n"
          ]
        },
        {
          "output_type": "stream",
          "name": "stderr",
          "text": [
            "INFO:tensorflow:*** Available Device: _DeviceAttributes(/job:localhost/replica:0/task:0/device:CPU:0, CPU, 0, 0)\n"
          ]
        },
        {
          "output_type": "stream",
          "name": "stdout",
          "text": [
            "INFO:tensorflow:*** Available Device: _DeviceAttributes(/job:worker/replica:0/task:0/device:CPU:0, CPU, 0, 0)\n"
          ]
        },
        {
          "output_type": "stream",
          "name": "stderr",
          "text": [
            "INFO:tensorflow:*** Available Device: _DeviceAttributes(/job:worker/replica:0/task:0/device:CPU:0, CPU, 0, 0)\n"
          ]
        },
        {
          "output_type": "stream",
          "name": "stdout",
          "text": [
            "INFO:tensorflow:*** Available Device: _DeviceAttributes(/job:worker/replica:0/task:0/device:TPU:0, TPU, 0, 0)\n"
          ]
        },
        {
          "output_type": "stream",
          "name": "stderr",
          "text": [
            "INFO:tensorflow:*** Available Device: _DeviceAttributes(/job:worker/replica:0/task:0/device:TPU:0, TPU, 0, 0)\n"
          ]
        },
        {
          "output_type": "stream",
          "name": "stdout",
          "text": [
            "INFO:tensorflow:*** Available Device: _DeviceAttributes(/job:worker/replica:0/task:0/device:TPU:1, TPU, 0, 0)\n"
          ]
        },
        {
          "output_type": "stream",
          "name": "stderr",
          "text": [
            "INFO:tensorflow:*** Available Device: _DeviceAttributes(/job:worker/replica:0/task:0/device:TPU:1, TPU, 0, 0)\n"
          ]
        },
        {
          "output_type": "stream",
          "name": "stdout",
          "text": [
            "INFO:tensorflow:*** Available Device: _DeviceAttributes(/job:worker/replica:0/task:0/device:TPU:2, TPU, 0, 0)\n"
          ]
        },
        {
          "output_type": "stream",
          "name": "stderr",
          "text": [
            "INFO:tensorflow:*** Available Device: _DeviceAttributes(/job:worker/replica:0/task:0/device:TPU:2, TPU, 0, 0)\n"
          ]
        },
        {
          "output_type": "stream",
          "name": "stdout",
          "text": [
            "INFO:tensorflow:*** Available Device: _DeviceAttributes(/job:worker/replica:0/task:0/device:TPU:3, TPU, 0, 0)\n"
          ]
        },
        {
          "output_type": "stream",
          "name": "stderr",
          "text": [
            "INFO:tensorflow:*** Available Device: _DeviceAttributes(/job:worker/replica:0/task:0/device:TPU:3, TPU, 0, 0)\n"
          ]
        },
        {
          "output_type": "stream",
          "name": "stdout",
          "text": [
            "INFO:tensorflow:*** Available Device: _DeviceAttributes(/job:worker/replica:0/task:0/device:TPU:4, TPU, 0, 0)\n"
          ]
        },
        {
          "output_type": "stream",
          "name": "stderr",
          "text": [
            "INFO:tensorflow:*** Available Device: _DeviceAttributes(/job:worker/replica:0/task:0/device:TPU:4, TPU, 0, 0)\n"
          ]
        },
        {
          "output_type": "stream",
          "name": "stdout",
          "text": [
            "INFO:tensorflow:*** Available Device: _DeviceAttributes(/job:worker/replica:0/task:0/device:TPU:5, TPU, 0, 0)\n"
          ]
        },
        {
          "output_type": "stream",
          "name": "stderr",
          "text": [
            "INFO:tensorflow:*** Available Device: _DeviceAttributes(/job:worker/replica:0/task:0/device:TPU:5, TPU, 0, 0)\n"
          ]
        },
        {
          "output_type": "stream",
          "name": "stdout",
          "text": [
            "INFO:tensorflow:*** Available Device: _DeviceAttributes(/job:worker/replica:0/task:0/device:TPU:6, TPU, 0, 0)\n"
          ]
        },
        {
          "output_type": "stream",
          "name": "stderr",
          "text": [
            "INFO:tensorflow:*** Available Device: _DeviceAttributes(/job:worker/replica:0/task:0/device:TPU:6, TPU, 0, 0)\n"
          ]
        },
        {
          "output_type": "stream",
          "name": "stdout",
          "text": [
            "INFO:tensorflow:*** Available Device: _DeviceAttributes(/job:worker/replica:0/task:0/device:TPU:7, TPU, 0, 0)\n"
          ]
        },
        {
          "output_type": "stream",
          "name": "stderr",
          "text": [
            "INFO:tensorflow:*** Available Device: _DeviceAttributes(/job:worker/replica:0/task:0/device:TPU:7, TPU, 0, 0)\n"
          ]
        },
        {
          "output_type": "stream",
          "name": "stdout",
          "text": [
            "INFO:tensorflow:*** Available Device: _DeviceAttributes(/job:worker/replica:0/task:0/device:TPU_SYSTEM:0, TPU_SYSTEM, 0, 0)\n"
          ]
        },
        {
          "output_type": "stream",
          "name": "stderr",
          "text": [
            "INFO:tensorflow:*** Available Device: _DeviceAttributes(/job:worker/replica:0/task:0/device:TPU_SYSTEM:0, TPU_SYSTEM, 0, 0)\n"
          ]
        },
        {
          "output_type": "stream",
          "name": "stdout",
          "text": [
            "INFO:tensorflow:*** Available Device: _DeviceAttributes(/job:worker/replica:0/task:0/device:XLA_CPU:0, XLA_CPU, 0, 0)\n"
          ]
        },
        {
          "output_type": "stream",
          "name": "stderr",
          "text": [
            "INFO:tensorflow:*** Available Device: _DeviceAttributes(/job:worker/replica:0/task:0/device:XLA_CPU:0, XLA_CPU, 0, 0)\n",
            "Some layers from the model checkpoint at bert-base-uncased were not used when initializing TFBertModel: ['nsp___cls', 'mlm___cls']\n",
            "- This IS expected if you are initializing TFBertModel from the checkpoint of a model trained on another task or with another architecture (e.g. initializing a BertForSequenceClassification model from a BertForPreTraining model).\n",
            "- This IS NOT expected if you are initializing TFBertModel from the checkpoint of a model that you expect to be exactly identical (initializing a BertForSequenceClassification model from a BertForSequenceClassification model).\n",
            "All the layers of TFBertModel were initialized from the model checkpoint at bert-base-uncased.\n",
            "If your task is similar to the task the model of the checkpoint was trained on, you can already use TFBertModel for predictions without further training.\n",
            "INFO:absl:TPU has inputs with dynamic shapes: [<tf.Tensor 'Const:0' shape=() dtype=int32>, <tf.Tensor 'cond_8/Identity:0' shape=(None, 512) dtype=int32>, <tf.Tensor 'cond_8/Identity_1:0' shape=(None, 512) dtype=int32>, <tf.Tensor 'cond_8/Identity_2:0' shape=(None, 512) dtype=int32>]\n",
            "INFO:absl:TPU has inputs with dynamic shapes: [<tf.Tensor 'Const:0' shape=() dtype=int32>, <tf.Tensor 'cond_8/Identity:0' shape=(None, 512) dtype=int32>, <tf.Tensor 'cond_8/Identity_1:0' shape=(None, 512) dtype=int32>, <tf.Tensor 'cond_8/Identity_2:0' shape=(None, 512) dtype=int32>]\n"
          ]
        }
      ]
    },
    {
      "cell_type": "code",
      "metadata": {
        "colab": {
          "base_uri": "https://localhost:8080/"
        },
        "id": "nFwwmhncOB9Q",
        "outputId": "c48f4dd0-2ed0-4c26-cc4f-aede4591d689"
      },
      "source": [
        "checkStatistic(myQAModel, [x_val1, x_val2, x_val3], y_val)"
      ],
      "execution_count": null,
      "outputs": [
        {
          "output_type": "stream",
          "name": "stderr",
          "text": [
            "INFO:absl:TPU has inputs with dynamic shapes: [<tf.Tensor 'Const:0' shape=() dtype=int32>, <tf.Tensor 'cond_8/Identity:0' shape=(None, 512) dtype=int32>, <tf.Tensor 'cond_8/Identity_1:0' shape=(None, 512) dtype=int32>, <tf.Tensor 'cond_8/Identity_2:0' shape=(None, 512) dtype=int32>]\n"
          ]
        },
        {
          "output_type": "stream",
          "name": "stdout",
          "text": [
            "START:\n",
            "TP:  1098\n",
            "TN:  2784\n",
            "FP:  404\n",
            "FN:  4794\n",
            "STOP:\n",
            "TP:  1069\n",
            "TN:  2780\n",
            "FP:  389\n",
            "FN:  4842\n",
            "TARGET:\n",
            "TP:  9\n",
            "TN:  2780\n",
            "FP:  389\n",
            "FN:  5902\n",
            "POS:  5892\n",
            "NEG:  3188\n"
          ]
        }
      ]
    }
  ]
}